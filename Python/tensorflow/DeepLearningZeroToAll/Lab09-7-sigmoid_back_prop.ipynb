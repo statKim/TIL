{
 "cells": [
  {
   "cell_type": "markdown",
   "metadata": {},
   "source": [
    "# Lab 9 XOR"
   ]
  },
  {
   "cell_type": "markdown",
   "metadata": {},
   "source": [
    "## Lab09-7-sigmoid_back_prop"
   ]
  },
  {
   "cell_type": "markdown",
   "metadata": {},
   "source": [
    "In this file, we will implement back propagations by hands\n",
    "\n",
    "We will use the Sigmoid Cross Entropy loss function.<br>\n",
    "This is equivalent to tf.nn.sigmoid_softmax_with_logits(logits, labels)\n",
    "\n",
    "[References]\n",
    "\n",
    "1) Tensorflow Document (tf.nn.sigmoid_softmax_with_logits)<br>\n",
    "    https://www.tensorflow.org/api_docs/python/tf/nn/sigmoid_cross_entropy_with_logits\n",
    "\n",
    "2) Neural Net Backprop in one slide! by Sung Kim<br>\n",
    "    https://docs.google.com/presentation/d/1_ZmtfEjLmhbuM_PqbDYMXXLAqeWN0HwuhcSKnUQZ6MM/edit#slide=id.g1ec1d04b5a_1_83\n",
    "\n",
    "3) Back Propagation with Tensorflow by Dan Aloni<br>\n",
    "    http://blog.aloni.org/posts/backprop-with-tensorflow/\n",
    "\n",
    "4) Yes you should understand backprop by Andrej Karpathy<br>\n",
    "    https://medium.com/@karpathy/yes-you-should-understand-backprop-e2f06eab496b#.cockptkn7\n",
    "\n",
    "\n",
    "[Network Architecture]\n",
    "\n",
    "Input: x<br>\n",
    "Layer1: x * W + b<br>\n",
    "Output layer = σ(Layer1)\n",
    "\n",
    "Loss_i = - y * log(σ(Layer1)) - (1 - y) * log(1 - σ(Layer1))<br>\n",
    "Loss = tf.reduce_sum(Loss_i)\n",
    "\n",
    "We want to compute that\n",
    "\n",
    "dLoss/dW = ???<br>\n",
    "dLoss/db = ???\n",
    "\n",
    "please read \"Neural Net Backprop in one slide!\" for deriving formulas"
   ]
  },
  {
   "cell_type": "code",
   "execution_count": 1,
   "metadata": {},
   "outputs": [],
   "source": [
    "import tensorflow as tf\n",
    "import numpy as np"
   ]
  },
  {
   "cell_type": "code",
   "execution_count": 2,
   "metadata": {},
   "outputs": [],
   "source": [
    "tf.set_random_seed(777)  # for reproducibility"
   ]
  },
  {
   "cell_type": "code",
   "execution_count": 3,
   "metadata": {},
   "outputs": [],
   "source": [
    "# Predicting animal type based on various features\n",
    "xy = np.loadtxt('data-04-zoo.csv', delimiter=',', dtype=np.float32)\n",
    "X_data = xy[:, 0:-1]\n",
    "N = X_data.shape[0]\n",
    "y_data = xy[:, [-1]]"
   ]
  },
  {
   "cell_type": "code",
   "execution_count": 4,
   "metadata": {},
   "outputs": [
    {
     "name": "stdout",
     "output_type": "stream",
     "text": [
      "y has one of the following values\n",
      "[ 0.  1.  2.  3.  4.  5.  6.]\n"
     ]
    }
   ],
   "source": [
    "# y_data has labels from 0 ~ 6\n",
    "print(\"y has one of the following values\")\n",
    "print(np.unique(y_data))    # np.unique() : 중복 제거한 배열의 데이터만 보여줌"
   ]
  },
  {
   "cell_type": "code",
   "execution_count": 5,
   "metadata": {},
   "outputs": [
    {
     "name": "stdout",
     "output_type": "stream",
     "text": [
      "Shape of X data:  (101, 16)\n",
      "Shape of y data:  (101, 1)\n"
     ]
    }
   ],
   "source": [
    "# X_data.shape = (101, 16) => 101 samples, 16 features\n",
    "# y_data.shape = (101, 1)  => 101 samples, 1 label\n",
    "print(\"Shape of X data: \", X_data.shape)\n",
    "print(\"Shape of y data: \", y_data.shape)"
   ]
  },
  {
   "cell_type": "code",
   "execution_count": 6,
   "metadata": {},
   "outputs": [],
   "source": [
    "nb_classes = 7  # 0 ~ 6"
   ]
  },
  {
   "cell_type": "code",
   "execution_count": 7,
   "metadata": {},
   "outputs": [],
   "source": [
    "X = tf.placeholder(tf.float32, [None, 16])  # 16개의 predictor\n",
    "y = tf.placeholder(tf.int32, [None, 1])  # 0 ~ 6"
   ]
  },
  {
   "cell_type": "code",
   "execution_count": 8,
   "metadata": {},
   "outputs": [],
   "source": [
    "target = tf.one_hot(y, nb_classes)  # one hot\n",
    "target = tf.reshape(target, [-1, nb_classes])\n",
    "target = tf.cast(target, tf.float32)    # float로 변환"
   ]
  },
  {
   "cell_type": "code",
   "execution_count": 9,
   "metadata": {},
   "outputs": [],
   "source": [
    "W = tf.Variable(tf.random_normal([16, nb_classes]), name='weight')\n",
    "b = tf.Variable(tf.random_normal([nb_classes]), name='bias')"
   ]
  },
  {
   "cell_type": "code",
   "execution_count": 10,
   "metadata": {},
   "outputs": [],
   "source": [
    "def sigma(x):\n",
    "    # sigmoid function\n",
    "    # σ(x) = 1 / (1 + exp(-x))\n",
    "    return 1. / (1. + tf.exp(-x))"
   ]
  },
  {
   "cell_type": "code",
   "execution_count": 11,
   "metadata": {},
   "outputs": [],
   "source": [
    "def sigma_prime(x):\n",
    "    # derivative of the sigmoid function\n",
    "    # σ'(x) = σ(x) * (1 - σ(x))\n",
    "    return sigma(x) * (1. - sigma(x))"
   ]
  },
  {
   "cell_type": "code",
   "execution_count": 12,
   "metadata": {},
   "outputs": [],
   "source": [
    "# Forward propagtion\n",
    "layer_1 = tf.matmul(X, W) + b\n",
    "y_pred = sigma(layer_1)"
   ]
  },
  {
   "cell_type": "code",
   "execution_count": 13,
   "metadata": {},
   "outputs": [],
   "source": [
    "# Loss Function (end of forwad propagation)\n",
    "loss_i = - target * tf.log(y_pred) - (1. - target) * tf.log(1. - y_pred)\n",
    "loss = tf.reduce_sum(loss_i)"
   ]
  },
  {
   "cell_type": "code",
   "execution_count": 14,
   "metadata": {},
   "outputs": [],
   "source": [
    "# 예외처리\n",
    "# Dimension Check\n",
    "assert y_pred.shape.as_list() == target.shape.as_list()"
   ]
  },
  {
   "cell_type": "code",
   "execution_count": 15,
   "metadata": {},
   "outputs": [],
   "source": [
    "# Back prop (chain rule)\n",
    "# How to derive? please read \"Neural Net Backprop in one slide!\"\n",
    "d_loss = (y_pred - target) / (y_pred * (1. - y_pred) + 1e-7)\n",
    "d_sigma = sigma_prime(layer_1)\n",
    "d_layer = d_loss * d_sigma\n",
    "d_b = d_layer\n",
    "d_W = tf.matmul(tf.transpose(X), d_layer)"
   ]
  },
  {
   "cell_type": "code",
   "execution_count": 16,
   "metadata": {},
   "outputs": [],
   "source": [
    "# Updating network using gradients\n",
    "learning_rate = 0.01\n",
    "train_step = [\n",
    "    tf.assign(W, W - learning_rate * d_W),\n",
    "    tf.assign(b, b - learning_rate * tf.reduce_sum(d_b)),\n",
    "]"
   ]
  },
  {
   "cell_type": "code",
   "execution_count": 17,
   "metadata": {},
   "outputs": [],
   "source": [
    "# Prediction and Accuracy\n",
    "prediction = tf.argmax(y_pred, 1)\n",
    "acct_mat = tf.equal(tf.argmax(y_pred, 1), tf.argmax(target, 1))\n",
    "acct_res = tf.reduce_mean(tf.cast(acct_mat, tf.float32))"
   ]
  },
  {
   "cell_type": "code",
   "execution_count": 18,
   "metadata": {},
   "outputs": [
    {
     "name": "stdout",
     "output_type": "stream",
     "text": [
      "Step:     0\t Loss:  453.74811\t Acc: 38.61%\n",
      "Step:    10\t Loss:  135.79250\t Acc: 83.17%\n",
      "Step:    20\t Loss:   95.05665\t Acc: 88.12%\n",
      "Step:    30\t Loss:   77.29308\t Acc: 91.09%\n",
      "Step:    40\t Loss:   66.43569\t Acc: 93.07%\n",
      "Step:    50\t Loss:   58.81989\t Acc: 94.06%\n",
      "Step:    60\t Loss:   53.09288\t Acc: 94.06%\n",
      "Step:    70\t Loss:   48.58739\t Acc: 96.04%\n",
      "Step:    80\t Loss:   44.92377\t Acc: 96.04%\n",
      "Step:    90\t Loss:   41.86682\t Acc: 97.03%\n",
      "Step:   100\t Loss:   39.26265\t Acc: 97.03%\n",
      "Step:   110\t Loss:   37.00650\t Acc: 97.03%\n",
      "Step:   120\t Loss:   35.02472\t Acc: 97.03%\n",
      "Step:   130\t Loss:   33.26402\t Acc: 97.03%\n",
      "Step:   140\t Loss:   31.68491\t Acc: 97.03%\n",
      "Step:   150\t Loss:   30.25749\t Acc: 97.03%\n",
      "Step:   160\t Loss:   28.95874\t Acc: 97.03%\n",
      "Step:   170\t Loss:   27.77062\t Acc: 97.03%\n",
      "Step:   180\t Loss:   26.67879\t Acc: 97.03%\n",
      "Step:   190\t Loss:   25.67166\t Acc: 97.03%\n",
      "Step:   200\t Loss:   24.73972\t Acc: 98.02%\n",
      "Step:   210\t Loss:   23.87506\t Acc: 98.02%\n",
      "Step:   220\t Loss:   23.07096\t Acc: 98.02%\n",
      "Step:   230\t Loss:   22.32165\t Acc: 98.02%\n",
      "Step:   240\t Loss:   21.62208\t Acc: 100.00%\n",
      "Step:   250\t Loss:   20.96780\t Acc: 100.00%\n",
      "Step:   260\t Loss:   20.35482\t Acc: 100.00%\n",
      "Step:   270\t Loss:   19.77959\t Acc: 100.00%\n",
      "Step:   280\t Loss:   19.23886\t Acc: 100.00%\n",
      "Step:   290\t Loss:   18.72972\t Acc: 100.00%\n",
      "Step:   300\t Loss:   18.24954\t Acc: 100.00%\n",
      "Step:   310\t Loss:   17.79592\t Acc: 100.00%\n",
      "Step:   320\t Loss:   17.36671\t Acc: 100.00%\n",
      "Step:   330\t Loss:   16.95997\t Acc: 100.00%\n",
      "Step:   340\t Loss:   16.57392\t Acc: 100.00%\n",
      "Step:   350\t Loss:   16.20698\t Acc: 100.00%\n",
      "Step:   360\t Loss:   15.85770\t Acc: 100.00%\n",
      "Step:   370\t Loss:   15.52480\t Acc: 100.00%\n",
      "Step:   380\t Loss:   15.20708\t Acc: 100.00%\n",
      "Step:   390\t Loss:   14.90350\t Acc: 100.00%\n",
      "Step:   400\t Loss:   14.61307\t Acc: 100.00%\n",
      "Step:   410\t Loss:   14.33491\t Acc: 100.00%\n",
      "Step:   420\t Loss:   14.06823\t Acc: 100.00%\n",
      "Step:   430\t Loss:   13.81229\t Acc: 100.00%\n",
      "Step:   440\t Loss:   13.56642\t Acc: 100.00%\n",
      "Step:   450\t Loss:   13.33002\t Acc: 100.00%\n",
      "Step:   460\t Loss:   13.10251\t Acc: 100.00%\n",
      "Step:   470\t Loss:   12.88337\t Acc: 100.00%\n",
      "Step:   480\t Loss:   12.67214\t Acc: 100.00%\n",
      "Step:   490\t Loss:   12.46836\t Acc: 100.00%\n",
      "[True]\t Prediction: 0\t True y: 0\n",
      "[True]\t Prediction: 0\t True y: 0\n",
      "[True]\t Prediction: 3\t True y: 3\n",
      "[True]\t Prediction: 0\t True y: 0\n",
      "[True]\t Prediction: 0\t True y: 0\n",
      "[True]\t Prediction: 0\t True y: 0\n",
      "[True]\t Prediction: 0\t True y: 0\n",
      "[True]\t Prediction: 3\t True y: 3\n",
      "[True]\t Prediction: 3\t True y: 3\n",
      "[True]\t Prediction: 0\t True y: 0\n",
      "[True]\t Prediction: 0\t True y: 0\n",
      "[True]\t Prediction: 1\t True y: 1\n",
      "[True]\t Prediction: 3\t True y: 3\n",
      "[True]\t Prediction: 6\t True y: 6\n",
      "[True]\t Prediction: 6\t True y: 6\n",
      "[True]\t Prediction: 6\t True y: 6\n",
      "[True]\t Prediction: 1\t True y: 1\n",
      "[True]\t Prediction: 0\t True y: 0\n",
      "[True]\t Prediction: 3\t True y: 3\n",
      "[True]\t Prediction: 0\t True y: 0\n",
      "[True]\t Prediction: 1\t True y: 1\n",
      "[True]\t Prediction: 1\t True y: 1\n",
      "[True]\t Prediction: 0\t True y: 0\n",
      "[True]\t Prediction: 1\t True y: 1\n",
      "[True]\t Prediction: 5\t True y: 5\n",
      "[True]\t Prediction: 4\t True y: 4\n",
      "[True]\t Prediction: 4\t True y: 4\n",
      "[True]\t Prediction: 0\t True y: 0\n",
      "[True]\t Prediction: 0\t True y: 0\n",
      "[True]\t Prediction: 0\t True y: 0\n",
      "[True]\t Prediction: 5\t True y: 5\n",
      "[True]\t Prediction: 0\t True y: 0\n",
      "[True]\t Prediction: 0\t True y: 0\n",
      "[True]\t Prediction: 1\t True y: 1\n",
      "[True]\t Prediction: 3\t True y: 3\n",
      "[True]\t Prediction: 0\t True y: 0\n",
      "[True]\t Prediction: 0\t True y: 0\n",
      "[True]\t Prediction: 1\t True y: 1\n",
      "[True]\t Prediction: 3\t True y: 3\n",
      "[True]\t Prediction: 5\t True y: 5\n",
      "[True]\t Prediction: 5\t True y: 5\n",
      "[True]\t Prediction: 1\t True y: 1\n",
      "[True]\t Prediction: 5\t True y: 5\n",
      "[True]\t Prediction: 1\t True y: 1\n",
      "[True]\t Prediction: 0\t True y: 0\n",
      "[True]\t Prediction: 0\t True y: 0\n",
      "[True]\t Prediction: 6\t True y: 6\n",
      "[True]\t Prediction: 0\t True y: 0\n",
      "[True]\t Prediction: 0\t True y: 0\n",
      "[True]\t Prediction: 0\t True y: 0\n",
      "[True]\t Prediction: 0\t True y: 0\n",
      "[True]\t Prediction: 5\t True y: 5\n",
      "[True]\t Prediction: 4\t True y: 4\n",
      "[True]\t Prediction: 6\t True y: 6\n",
      "[True]\t Prediction: 0\t True y: 0\n",
      "[True]\t Prediction: 0\t True y: 0\n",
      "[True]\t Prediction: 1\t True y: 1\n",
      "[True]\t Prediction: 1\t True y: 1\n",
      "[True]\t Prediction: 1\t True y: 1\n",
      "[True]\t Prediction: 1\t True y: 1\n",
      "[True]\t Prediction: 3\t True y: 3\n",
      "[True]\t Prediction: 3\t True y: 3\n",
      "[True]\t Prediction: 2\t True y: 2\n",
      "[True]\t Prediction: 0\t True y: 0\n",
      "[True]\t Prediction: 0\t True y: 0\n",
      "[True]\t Prediction: 0\t True y: 0\n",
      "[True]\t Prediction: 0\t True y: 0\n",
      "[True]\t Prediction: 0\t True y: 0\n",
      "[True]\t Prediction: 0\t True y: 0\n",
      "[True]\t Prediction: 0\t True y: 0\n",
      "[True]\t Prediction: 0\t True y: 0\n",
      "[True]\t Prediction: 1\t True y: 1\n",
      "[True]\t Prediction: 6\t True y: 6\n",
      "[True]\t Prediction: 3\t True y: 3\n",
      "[True]\t Prediction: 0\t True y: 0\n",
      "[True]\t Prediction: 0\t True y: 0\n",
      "[True]\t Prediction: 2\t True y: 2\n",
      "[True]\t Prediction: 6\t True y: 6\n",
      "[True]\t Prediction: 1\t True y: 1\n",
      "[True]\t Prediction: 1\t True y: 1\n",
      "[True]\t Prediction: 2\t True y: 2\n",
      "[True]\t Prediction: 6\t True y: 6\n",
      "[True]\t Prediction: 3\t True y: 3\n",
      "[True]\t Prediction: 1\t True y: 1\n",
      "[True]\t Prediction: 0\t True y: 0\n",
      "[True]\t Prediction: 6\t True y: 6\n",
      "[True]\t Prediction: 3\t True y: 3\n",
      "[True]\t Prediction: 1\t True y: 1\n",
      "[True]\t Prediction: 5\t True y: 5\n",
      "[True]\t Prediction: 4\t True y: 4\n",
      "[True]\t Prediction: 2\t True y: 2\n",
      "[True]\t Prediction: 2\t True y: 2\n",
      "[True]\t Prediction: 3\t True y: 3\n",
      "[True]\t Prediction: 0\t True y: 0\n",
      "[True]\t Prediction: 0\t True y: 0\n",
      "[True]\t Prediction: 1\t True y: 1\n",
      "[True]\t Prediction: 0\t True y: 0\n",
      "[True]\t Prediction: 5\t True y: 5\n",
      "[True]\t Prediction: 0\t True y: 0\n",
      "[True]\t Prediction: 6\t True y: 6\n",
      "[True]\t Prediction: 1\t True y: 1\n"
     ]
    },
    {
     "data": {
      "text/plain": [
       "'\\nOutput Example\\n\\nStep:     0      Loss:  453.74799        Acc: 38.61%\\nStep:    20      Loss:   95.05664        Acc: 88.12%\\nStep:    40      Loss:   66.43570        Acc: 93.07%\\nStep:    60      Loss:   53.09288        Acc: 94.06%\\n...\\nStep:   290      Loss:   18.72972        Acc: 100.00%\\nStep:   300      Loss:   18.24953        Acc: 100.00%\\nStep:   310      Loss:   17.79592        Acc: 100.00%\\n...\\n[True]   Prediction: 0   True y: 0\\n[True]   Prediction: 0   True y: 0\\n[True]   Prediction: 3   True y: 3\\n[True]   Prediction: 0   True y: 0\\n...\\n'"
      ]
     },
     "execution_count": 18,
     "metadata": {},
     "output_type": "execute_result"
    }
   ],
   "source": [
    "# Launch graph\n",
    "with tf.Session() as sess:\n",
    "    sess.run(tf.global_variables_initializer())\n",
    "\n",
    "    for step in range(500):\n",
    "        sess.run(train_step, feed_dict={X: X_data, y: y_data})\n",
    "\n",
    "        if step % 10 == 0:\n",
    "            # Within 300 steps, you should see an accuracy of 100%\n",
    "            step_loss, acc = sess.run([loss, acct_res], feed_dict={\n",
    "                                      X: X_data, y: y_data})\n",
    "            print(\"Step: {:5}\\t Loss: {:10.5f}\\t Acc: {:.2%}\" .format(\n",
    "                step, step_loss, acc))\n",
    "\n",
    "    # Let's see if we can predict\n",
    "    pred = sess.run(prediction, feed_dict={X: X_data})\n",
    "    for p, y in zip(pred, y_data):\n",
    "        msg = \"[{}]\\t Prediction: {:d}\\t True y: {:d}\"\n",
    "        print(msg.format(p == int(y[0]), p, int(y[0])))\n",
    "\n",
    "\"\"\"\n",
    "Output Example\n",
    "\n",
    "Step:     0      Loss:  453.74799        Acc: 38.61%\n",
    "Step:    20      Loss:   95.05664        Acc: 88.12%\n",
    "Step:    40      Loss:   66.43570        Acc: 93.07%\n",
    "Step:    60      Loss:   53.09288        Acc: 94.06%\n",
    "...\n",
    "Step:   290      Loss:   18.72972        Acc: 100.00%\n",
    "Step:   300      Loss:   18.24953        Acc: 100.00%\n",
    "Step:   310      Loss:   17.79592        Acc: 100.00%\n",
    "...\n",
    "[True]   Prediction: 0   True y: 0\n",
    "[True]   Prediction: 0   True y: 0\n",
    "[True]   Prediction: 3   True y: 3\n",
    "[True]   Prediction: 0   True y: 0\n",
    "...\n",
    "\"\"\"\n"
   ]
  }
 ],
 "metadata": {
  "kernelspec": {
   "display_name": "Python 3",
   "language": "python",
   "name": "python3"
  },
  "language_info": {
   "codemirror_mode": {
    "name": "ipython",
    "version": 3
   },
   "file_extension": ".py",
   "mimetype": "text/x-python",
   "name": "python",
   "nbconvert_exporter": "python",
   "pygments_lexer": "ipython3",
   "version": "3.6.3"
  }
 },
 "nbformat": 4,
 "nbformat_minor": 2
}
