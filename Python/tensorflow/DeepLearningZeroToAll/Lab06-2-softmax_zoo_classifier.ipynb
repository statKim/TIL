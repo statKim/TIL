{
 "cells": [
  {
   "cell_type": "markdown",
   "metadata": {},
   "source": [
    "# Lab 6 Softmax Classifier"
   ]
  },
  {
   "cell_type": "markdown",
   "metadata": {},
   "source": [
    "## Lab06-2-softmax_zoo_classifier\n",
    "> \"data-04-zoo.csv\"를 이용하여 softmax classifier 만들기"
   ]
  },
  {
   "cell_type": "code",
   "execution_count": 1,
   "metadata": {},
   "outputs": [],
   "source": [
    "import tensorflow as tf\n",
    "import numpy as np"
   ]
  },
  {
   "cell_type": "code",
   "execution_count": 2,
   "metadata": {},
   "outputs": [],
   "source": [
    "tf.set_random_seed(777)  # seed 지정"
   ]
  },
  {
   "cell_type": "code",
   "execution_count": 3,
   "metadata": {},
   "outputs": [
    {
     "name": "stdout",
     "output_type": "stream",
     "text": [
      "(101, 16) (101, 1)\n"
     ]
    }
   ],
   "source": [
    "# Predicting animal type based on various features\n",
    "xy = np.loadtxt('data-04-zoo.csv', delimiter=',', dtype=np.float32)\n",
    "x_data = xy[:, 0:-1]\n",
    "y_data = xy[:, [-1]]\n",
    "\n",
    "print(x_data.shape, y_data.shape)   # (101, 16) (101, 1)"
   ]
  },
  {
   "cell_type": "code",
   "execution_count": 4,
   "metadata": {},
   "outputs": [],
   "source": [
    "nb_classes = 7  # class 개수(0 ~ 6)"
   ]
  },
  {
   "cell_type": "code",
   "execution_count": 5,
   "metadata": {},
   "outputs": [],
   "source": [
    "X = tf.placeholder(tf.float32, [None, 16])  # predictor 16개\n",
    "Y = tf.placeholder(tf.int32, [None, 1])  # 0 ~ 6"
   ]
  },
  {
   "cell_type": "code",
   "execution_count": 6,
   "metadata": {},
   "outputs": [
    {
     "name": "stdout",
     "output_type": "stream",
     "text": [
      "one_hot Tensor(\"one_hot:0\", shape=(?, 1, 7), dtype=float32)\n",
      "reshape Tensor(\"Reshape:0\", shape=(?, 7), dtype=float32)\n"
     ]
    }
   ],
   "source": [
    "# one hot 이용하여 Y 변수 바꿔주기\n",
    "Y_one_hot = tf.one_hot(Y, nb_classes)  # shape=(?, 1, 7) : tf.one_hot()의 경우 rank가 N인 데이터를 N+1로 바꿔버림\n",
    "print(\"one_hot\", Y_one_hot)     # one_hot Tensor(\"one_hot:0\", shape=(?, 1, 7), dtype=float32)\n",
    "\n",
    "Y_one_hot = tf.reshape(Y_one_hot, [-1, nb_classes])     # shape=(?, 7) : tf.reshape()로 우리가 원하는 shape으로 바꿔줌\n",
    "print(\"reshape\", Y_one_hot)     # reshape Tensor(\"Reshape:0\", shape=(?, 7), dtype=float32)"
   ]
  },
  {
   "cell_type": "code",
   "execution_count": 7,
   "metadata": {},
   "outputs": [],
   "source": [
    "W = tf.Variable(tf.random_normal([16, nb_classes]), name='weight')\n",
    "b = tf.Variable(tf.random_normal([nb_classes]), name='bias')"
   ]
  },
  {
   "cell_type": "code",
   "execution_count": 8,
   "metadata": {},
   "outputs": [],
   "source": [
    "# tf.nn.softmax computes softmax activations\n",
    "# softmax = exp(logits) / reduce_sum(exp(logits), dim)\n",
    "logits = tf.matmul(X, W) + b\n",
    "hypothesis = tf.nn.softmax(logits)"
   ]
  },
  {
   "cell_type": "code",
   "execution_count": 9,
   "metadata": {},
   "outputs": [
    {
     "name": "stdout",
     "output_type": "stream",
     "text": [
      "WARNING:tensorflow:From <ipython-input-9-e36068492c91>:2: softmax_cross_entropy_with_logits (from tensorflow.python.ops.nn_ops) is deprecated and will be removed in a future version.\n",
      "Instructions for updating:\n",
      "\n",
      "Future major versions of TensorFlow will allow gradients to flow\n",
      "into the labels input on backprop by default.\n",
      "\n",
      "See @{tf.nn.softmax_cross_entropy_with_logits_v2}.\n",
      "\n",
      "cost_i :  (?,)\n"
     ]
    }
   ],
   "source": [
    "# Cross entropy cost/loss\n",
    "cost_i = tf.nn.softmax_cross_entropy_with_logits(logits=logits, labels=Y_one_hot)\n",
    "\n",
    "print(\"cost_i : \", cost_i.shape)   # (?,) : 즉, vector형태"
   ]
  },
  {
   "cell_type": "code",
   "execution_count": 10,
   "metadata": {},
   "outputs": [],
   "source": [
    "# Optimize\n",
    "cost = tf.reduce_mean(cost_i)   # 따라서 cost_i의 mean이 최종 cost!!\n",
    "optimizer = tf.train.GradientDescentOptimizer(learning_rate=0.1).minimize(cost)"
   ]
  },
  {
   "cell_type": "code",
   "execution_count": 11,
   "metadata": {},
   "outputs": [],
   "source": [
    "prediction = tf.argmax(hypothesis, 1)   # hypothesis를 행 기준으로 max 값의 index(class)를 구한다\n",
    "correct_prediction = tf.equal(prediction, tf.argmax(Y_one_hot, 1))\n",
    "accuracy = tf.reduce_mean(tf.cast(correct_prediction, tf.float32))  # accuracy 계산"
   ]
  },
  {
   "cell_type": "code",
   "execution_count": 12,
   "metadata": {},
   "outputs": [
    {
     "name": "stdout",
     "output_type": "stream",
     "text": [
      "Step:     0\tLoss: 5.106\tAcc: 37.62%\n",
      "Step:   100\tLoss: 0.800\tAcc: 79.21%\n",
      "Step:   200\tLoss: 0.486\tAcc: 88.12%\n",
      "Step:   300\tLoss: 0.349\tAcc: 90.10%\n",
      "Step:   400\tLoss: 0.272\tAcc: 94.06%\n",
      "Step:   500\tLoss: 0.222\tAcc: 95.05%\n",
      "Step:   600\tLoss: 0.187\tAcc: 97.03%\n",
      "Step:   700\tLoss: 0.161\tAcc: 97.03%\n",
      "Step:   800\tLoss: 0.140\tAcc: 97.03%\n",
      "Step:   900\tLoss: 0.124\tAcc: 97.03%\n",
      "Step:  1000\tLoss: 0.111\tAcc: 97.03%\n",
      "Step:  1100\tLoss: 0.101\tAcc: 99.01%\n",
      "Step:  1200\tLoss: 0.092\tAcc: 100.00%\n",
      "Step:  1300\tLoss: 0.084\tAcc: 100.00%\n",
      "Step:  1400\tLoss: 0.078\tAcc: 100.00%\n",
      "Step:  1500\tLoss: 0.072\tAcc: 100.00%\n",
      "Step:  1600\tLoss: 0.068\tAcc: 100.00%\n",
      "Step:  1700\tLoss: 0.064\tAcc: 100.00%\n",
      "Step:  1800\tLoss: 0.060\tAcc: 100.00%\n",
      "Step:  1900\tLoss: 0.057\tAcc: 100.00%\n",
      "[True] Prediction: 0 True Y: 0\n",
      "[True] Prediction: 0 True Y: 0\n",
      "[True] Prediction: 3 True Y: 3\n",
      "[True] Prediction: 0 True Y: 0\n",
      "[True] Prediction: 0 True Y: 0\n",
      "[True] Prediction: 0 True Y: 0\n",
      "[True] Prediction: 0 True Y: 0\n",
      "[True] Prediction: 3 True Y: 3\n",
      "[True] Prediction: 3 True Y: 3\n",
      "[True] Prediction: 0 True Y: 0\n",
      "[True] Prediction: 0 True Y: 0\n",
      "[True] Prediction: 1 True Y: 1\n",
      "[True] Prediction: 3 True Y: 3\n",
      "[True] Prediction: 6 True Y: 6\n",
      "[True] Prediction: 6 True Y: 6\n",
      "[True] Prediction: 6 True Y: 6\n",
      "[True] Prediction: 1 True Y: 1\n",
      "[True] Prediction: 0 True Y: 0\n",
      "[True] Prediction: 3 True Y: 3\n",
      "[True] Prediction: 0 True Y: 0\n",
      "[True] Prediction: 1 True Y: 1\n",
      "[True] Prediction: 1 True Y: 1\n",
      "[True] Prediction: 0 True Y: 0\n",
      "[True] Prediction: 1 True Y: 1\n",
      "[True] Prediction: 5 True Y: 5\n",
      "[True] Prediction: 4 True Y: 4\n",
      "[True] Prediction: 4 True Y: 4\n",
      "[True] Prediction: 0 True Y: 0\n",
      "[True] Prediction: 0 True Y: 0\n",
      "[True] Prediction: 0 True Y: 0\n",
      "[True] Prediction: 5 True Y: 5\n",
      "[True] Prediction: 0 True Y: 0\n",
      "[True] Prediction: 0 True Y: 0\n",
      "[True] Prediction: 1 True Y: 1\n",
      "[True] Prediction: 3 True Y: 3\n",
      "[True] Prediction: 0 True Y: 0\n",
      "[True] Prediction: 0 True Y: 0\n",
      "[True] Prediction: 1 True Y: 1\n",
      "[True] Prediction: 3 True Y: 3\n",
      "[True] Prediction: 5 True Y: 5\n",
      "[True] Prediction: 5 True Y: 5\n",
      "[True] Prediction: 1 True Y: 1\n",
      "[True] Prediction: 5 True Y: 5\n",
      "[True] Prediction: 1 True Y: 1\n",
      "[True] Prediction: 0 True Y: 0\n",
      "[True] Prediction: 0 True Y: 0\n",
      "[True] Prediction: 6 True Y: 6\n",
      "[True] Prediction: 0 True Y: 0\n",
      "[True] Prediction: 0 True Y: 0\n",
      "[True] Prediction: 0 True Y: 0\n",
      "[True] Prediction: 0 True Y: 0\n",
      "[True] Prediction: 5 True Y: 5\n",
      "[True] Prediction: 4 True Y: 4\n",
      "[True] Prediction: 6 True Y: 6\n",
      "[True] Prediction: 0 True Y: 0\n",
      "[True] Prediction: 0 True Y: 0\n",
      "[True] Prediction: 1 True Y: 1\n",
      "[True] Prediction: 1 True Y: 1\n",
      "[True] Prediction: 1 True Y: 1\n",
      "[True] Prediction: 1 True Y: 1\n",
      "[True] Prediction: 3 True Y: 3\n",
      "[True] Prediction: 3 True Y: 3\n",
      "[True] Prediction: 2 True Y: 2\n",
      "[True] Prediction: 0 True Y: 0\n",
      "[True] Prediction: 0 True Y: 0\n",
      "[True] Prediction: 0 True Y: 0\n",
      "[True] Prediction: 0 True Y: 0\n",
      "[True] Prediction: 0 True Y: 0\n",
      "[True] Prediction: 0 True Y: 0\n",
      "[True] Prediction: 0 True Y: 0\n",
      "[True] Prediction: 0 True Y: 0\n",
      "[True] Prediction: 1 True Y: 1\n",
      "[True] Prediction: 6 True Y: 6\n",
      "[True] Prediction: 3 True Y: 3\n",
      "[True] Prediction: 0 True Y: 0\n",
      "[True] Prediction: 0 True Y: 0\n",
      "[True] Prediction: 2 True Y: 2\n",
      "[True] Prediction: 6 True Y: 6\n",
      "[True] Prediction: 1 True Y: 1\n",
      "[True] Prediction: 1 True Y: 1\n",
      "[True] Prediction: 2 True Y: 2\n",
      "[True] Prediction: 6 True Y: 6\n",
      "[True] Prediction: 3 True Y: 3\n",
      "[True] Prediction: 1 True Y: 1\n",
      "[True] Prediction: 0 True Y: 0\n",
      "[True] Prediction: 6 True Y: 6\n",
      "[True] Prediction: 3 True Y: 3\n",
      "[True] Prediction: 1 True Y: 1\n",
      "[True] Prediction: 5 True Y: 5\n",
      "[True] Prediction: 4 True Y: 4\n",
      "[True] Prediction: 2 True Y: 2\n",
      "[True] Prediction: 2 True Y: 2\n",
      "[True] Prediction: 3 True Y: 3\n",
      "[True] Prediction: 0 True Y: 0\n",
      "[True] Prediction: 0 True Y: 0\n",
      "[True] Prediction: 1 True Y: 1\n",
      "[True] Prediction: 0 True Y: 0\n",
      "[True] Prediction: 5 True Y: 5\n",
      "[True] Prediction: 0 True Y: 0\n",
      "[True] Prediction: 6 True Y: 6\n",
      "[True] Prediction: 1 True Y: 1\n"
     ]
    },
    {
     "data": {
      "text/plain": [
       "'\\nStep:     0 Loss: 5.106 Acc: 37.62%\\nStep:   100 Loss: 0.800 Acc: 79.21%\\nStep:   200 Loss: 0.486 Acc: 88.12%\\nStep:   300 Loss: 0.349 Acc: 90.10%\\nStep:   400 Loss: 0.272 Acc: 94.06%\\nStep:   500 Loss: 0.222 Acc: 95.05%\\nStep:   600 Loss: 0.187 Acc: 97.03%\\nStep:   700 Loss: 0.161 Acc: 97.03%\\nStep:   800 Loss: 0.140 Acc: 97.03%\\nStep:   900 Loss: 0.124 Acc: 97.03%\\nStep:  1000 Loss: 0.111 Acc: 97.03%\\nStep:  1100 Loss: 0.101 Acc: 99.01%\\nStep:  1200 Loss: 0.092 Acc: 100.00%\\nStep:  1300 Loss: 0.084 Acc: 100.00%\\n...\\n[True] Prediction: 0 True Y: 0\\n[True] Prediction: 0 True Y: 0\\n[True] Prediction: 3 True Y: 3\\n[True] Prediction: 0 True Y: 0\\n[True] Prediction: 0 True Y: 0\\n[True] Prediction: 0 True Y: 0\\n[True] Prediction: 0 True Y: 0\\n[True] Prediction: 3 True Y: 3\\n[True] Prediction: 3 True Y: 3\\n[True] Prediction: 0 True Y: 0\\n'"
      ]
     },
     "execution_count": 12,
     "metadata": {},
     "output_type": "execute_result"
    }
   ],
   "source": [
    "# Session 실행\n",
    "with tf.Session() as sess:\n",
    "    sess.run(tf.global_variables_initializer())\n",
    "\n",
    "    for step in range(2000):\n",
    "        sess.run(optimizer, feed_dict={X: x_data, Y: y_data})\n",
    "        if step % 100 == 0:\n",
    "            loss, acc = sess.run([cost, accuracy], feed_dict={X: x_data, Y: y_data})\n",
    "            print(\"Step: {:5}\\tLoss: {:.3f}\\tAcc: {:.2%}\".format(step, loss, acc))\n",
    "\n",
    "    # predict\n",
    "    pred = sess.run(prediction, feed_dict={X: x_data})\n",
    "    # y_data: (N,1) = flatten => (N, ) matches pred.shape\n",
    "    # 즉, flatten() : [[1,2],[3,4]] => [1,2,3,4] 로 바꿔줌(차원 하나 낮춰줌)!!\n",
    "    # but 그냥 list는 안되고 ndarray(numpy)는 가능\n",
    "    # zip() : 각 대응되는 원소 하나씩 묶어서 리스트로 만들어줌\n",
    "    # 즉, zip([1,2,3],[4,5,6]) => [(1,4),(2,5),(3,6)]\n",
    "    for p, y in zip(pred, y_data.flatten()):\n",
    "        print(\"[{}] Prediction: {} True Y: {}\".format(p == int(p), p, int(y)))\n",
    "\n",
    "'''\n",
    "Step:     0 Loss: 5.106 Acc: 37.62%\n",
    "Step:   100 Loss: 0.800 Acc: 79.21%\n",
    "Step:   200 Loss: 0.486 Acc: 88.12%\n",
    "Step:   300 Loss: 0.349 Acc: 90.10%\n",
    "Step:   400 Loss: 0.272 Acc: 94.06%\n",
    "Step:   500 Loss: 0.222 Acc: 95.05%\n",
    "Step:   600 Loss: 0.187 Acc: 97.03%\n",
    "Step:   700 Loss: 0.161 Acc: 97.03%\n",
    "Step:   800 Loss: 0.140 Acc: 97.03%\n",
    "Step:   900 Loss: 0.124 Acc: 97.03%\n",
    "Step:  1000 Loss: 0.111 Acc: 97.03%\n",
    "Step:  1100 Loss: 0.101 Acc: 99.01%\n",
    "Step:  1200 Loss: 0.092 Acc: 100.00%\n",
    "Step:  1300 Loss: 0.084 Acc: 100.00%\n",
    "...\n",
    "[True] Prediction: 0 True Y: 0\n",
    "[True] Prediction: 0 True Y: 0\n",
    "[True] Prediction: 3 True Y: 3\n",
    "[True] Prediction: 0 True Y: 0\n",
    "[True] Prediction: 0 True Y: 0\n",
    "[True] Prediction: 0 True Y: 0\n",
    "[True] Prediction: 0 True Y: 0\n",
    "[True] Prediction: 3 True Y: 3\n",
    "[True] Prediction: 3 True Y: 3\n",
    "[True] Prediction: 0 True Y: 0\n",
    "'''\n"
   ]
  }
 ],
 "metadata": {
  "kernelspec": {
   "display_name": "Python 3",
   "language": "python",
   "name": "python3"
  },
  "language_info": {
   "codemirror_mode": {
    "name": "ipython",
    "version": 3
   },
   "file_extension": ".py",
   "mimetype": "text/x-python",
   "name": "python",
   "nbconvert_exporter": "python",
   "pygments_lexer": "ipython3",
   "version": "3.6.3"
  }
 },
 "nbformat": 4,
 "nbformat_minor": 2
}
