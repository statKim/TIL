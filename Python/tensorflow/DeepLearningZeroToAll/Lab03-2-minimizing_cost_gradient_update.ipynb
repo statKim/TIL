{
 "cells": [
  {
   "cell_type": "markdown",
   "metadata": {},
   "source": [
    "# Lab 3 Minimizing Cost"
   ]
  },
  {
   "cell_type": "markdown",
   "metadata": {},
   "source": [
    "## Lab03-2-minimizing_cost_gradient_update"
   ]
  },
  {
   "cell_type": "code",
   "execution_count": 1,
   "metadata": {},
   "outputs": [],
   "source": [
    "import tensorflow as tf"
   ]
  },
  {
   "cell_type": "code",
   "execution_count": 2,
   "metadata": {},
   "outputs": [],
   "source": [
    "tf.set_random_seed(777)  # for reproducibility"
   ]
  },
  {
   "cell_type": "code",
   "execution_count": 3,
   "metadata": {},
   "outputs": [],
   "source": [
    "# training data\n",
    "x_data = [1, 2, 3]\n",
    "y_data = [1, 2, 3]"
   ]
  },
  {
   "cell_type": "code",
   "execution_count": 4,
   "metadata": {},
   "outputs": [],
   "source": [
    "# W의 initial value 지정\n",
    "W = tf.Variable(tf.random_normal([1]), name='weight')"
   ]
  },
  {
   "cell_type": "code",
   "execution_count": 5,
   "metadata": {},
   "outputs": [],
   "source": [
    "# training 변수 지정(placeholder)\n",
    "X = tf.placeholder(tf.float32)\n",
    "Y = tf.placeholder(tf.float32)"
   ]
  },
  {
   "cell_type": "code",
   "execution_count": 6,
   "metadata": {},
   "outputs": [],
   "source": [
    "# 기울기 없는 regression model 가정\n",
    "hypothesis = X * W"
   ]
  },
  {
   "cell_type": "code",
   "execution_count": 7,
   "metadata": {},
   "outputs": [],
   "source": [
    "# cost/loss function (MSE)\n",
    "cost = tf.reduce_mean(tf.square(hypothesis - Y))"
   ]
  },
  {
   "cell_type": "code",
   "execution_count": 8,
   "metadata": {},
   "outputs": [],
   "source": [
    "# Gradient Descent 알고리즘을 이용하여 minimize하는 방법!!!\n",
    "# => 앞서 써왔던 tensorflow 기본 내장 optimize 함수를 풀어쓴 것임!!\n",
    "# Minimize: Gradient Descent using derivative: W -= learning_rate * derivative\n",
    "learning_rate = 0.1\n",
    "gradient = tf.reduce_mean((W * X - Y) * X)\n",
    "descent = W - learning_rate * gradient\n",
    "update = W.assign(descent)  # 새로 계산된 descent를 W 변수에 저장하고(assign)하고 이 과정을 update 객체에 저장"
   ]
  },
  {
   "cell_type": "code",
   "execution_count": 9,
   "metadata": {},
   "outputs": [],
   "source": [
    "# session 객체 생성 및 초기화\n",
    "sess = tf.Session()\n",
    "sess.run(tf.global_variables_initializer())"
   ]
  },
  {
   "cell_type": "code",
   "execution_count": 10,
   "metadata": {},
   "outputs": [
    {
     "name": "stdout",
     "output_type": "stream",
     "text": [
      "0 1.93919 [ 1.64462376]\n",
      "1 0.551591 [ 1.34379935]\n",
      "2 0.156897 [ 1.18335962]\n",
      "3 0.0446285 [ 1.09779179]\n",
      "4 0.0126943 [ 1.05215561]\n",
      "5 0.00361082 [ 1.0278163]\n",
      "6 0.00102708 [ 1.01483536]\n",
      "7 0.000292144 [ 1.00791216]\n",
      "8 8.30968e-05 [ 1.00421977]\n",
      "9 2.36361e-05 [ 1.00225055]\n",
      "10 6.72385e-06 [ 1.00120032]\n",
      "11 1.91239e-06 [ 1.00064015]\n",
      "12 5.43968e-07 [ 1.00034142]\n",
      "13 1.54591e-07 [ 1.00018203]\n",
      "14 4.39416e-08 [ 1.00009704]\n",
      "15 1.24913e-08 [ 1.00005174]\n",
      "16 3.5322e-09 [ 1.00002754]\n",
      "17 9.99824e-10 [ 1.00001466]\n",
      "18 2.88878e-10 [ 1.00000787]\n",
      "19 8.02487e-11 [ 1.00000417]\n",
      "20 2.34053e-11 [ 1.00000226]\n"
     ]
    }
   ],
   "source": [
    "for step in range(21):\n",
    "    sess.run(update, feed_dict={X: x_data, Y: y_data})  # update 객체(tf graph)를 실행하면 전 과정들이 모두 실행됨\n",
    "    print(step, sess.run(cost, feed_dict={X: x_data, Y: y_data}), sess.run(W)) \n",
    "    # sess.run(W)는 바로 위에서 initialize를 했기 때문에 맨 처음에 저장한 값이 아닌 fitting된 값의 W(weight)가 출력됨"
   ]
  }
 ],
 "metadata": {
  "kernelspec": {
   "display_name": "Python 3",
   "language": "python",
   "name": "python3"
  },
  "language_info": {
   "codemirror_mode": {
    "name": "ipython",
    "version": 3
   },
   "file_extension": ".py",
   "mimetype": "text/x-python",
   "name": "python",
   "nbconvert_exporter": "python",
   "pygments_lexer": "ipython3",
   "version": "3.6.3"
  }
 },
 "nbformat": 4,
 "nbformat_minor": 2
}
