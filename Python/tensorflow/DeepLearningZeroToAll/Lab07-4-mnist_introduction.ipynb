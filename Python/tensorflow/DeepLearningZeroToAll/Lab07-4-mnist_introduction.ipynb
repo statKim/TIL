{
 "cells": [
  {
   "cell_type": "markdown",
   "metadata": {},
   "source": [
    "# Lab 7 Learning rate and Evaluation"
   ]
  },
  {
   "cell_type": "markdown",
   "metadata": {},
   "source": [
    "## Lab07-4-mnist_introduction"
   ]
  },
  {
   "cell_type": "code",
   "execution_count": 1,
   "metadata": {},
   "outputs": [],
   "source": [
    "import tensorflow as tf\n",
    "import random\n",
    "import matplotlib.pyplot as plt"
   ]
  },
  {
   "cell_type": "code",
   "execution_count": 2,
   "metadata": {},
   "outputs": [],
   "source": [
    "tf.set_random_seed(777)  # for reproducibility"
   ]
  },
  {
   "cell_type": "code",
   "execution_count": 3,
   "metadata": {},
   "outputs": [
    {
     "name": "stdout",
     "output_type": "stream",
     "text": [
      "WARNING:tensorflow:From <ipython-input-3-e41c0039f745>:11: read_data_sets (from tensorflow.contrib.learn.python.learn.datasets.mnist) is deprecated and will be removed in a future version.\n",
      "Instructions for updating:\n",
      "Please use alternatives such as official/mnist/dataset.py from tensorflow/models.\n",
      "WARNING:tensorflow:From C:\\Anaconda3\\lib\\site-packages\\tensorflow\\contrib\\learn\\python\\learn\\datasets\\mnist.py:260: maybe_download (from tensorflow.contrib.learn.python.learn.datasets.base) is deprecated and will be removed in a future version.\n",
      "Instructions for updating:\n",
      "Please write your own downloading logic.\n",
      "WARNING:tensorflow:From C:\\Anaconda3\\lib\\site-packages\\tensorflow\\contrib\\learn\\python\\learn\\datasets\\mnist.py:262: extract_images (from tensorflow.contrib.learn.python.learn.datasets.mnist) is deprecated and will be removed in a future version.\n",
      "Instructions for updating:\n",
      "Please use tf.data to implement this functionality.\n",
      "Extracting MNIST_data/train-images-idx3-ubyte.gz\n",
      "WARNING:tensorflow:From C:\\Anaconda3\\lib\\site-packages\\tensorflow\\contrib\\learn\\python\\learn\\datasets\\mnist.py:267: extract_labels (from tensorflow.contrib.learn.python.learn.datasets.mnist) is deprecated and will be removed in a future version.\n",
      "Instructions for updating:\n",
      "Please use tf.data to implement this functionality.\n",
      "Extracting MNIST_data/train-labels-idx1-ubyte.gz\n",
      "WARNING:tensorflow:From C:\\Anaconda3\\lib\\site-packages\\tensorflow\\contrib\\learn\\python\\learn\\datasets\\mnist.py:110: dense_to_one_hot (from tensorflow.contrib.learn.python.learn.datasets.mnist) is deprecated and will be removed in a future version.\n",
      "Instructions for updating:\n",
      "Please use tf.one_hot on tensors.\n",
      "Extracting MNIST_data/t10k-images-idx3-ubyte.gz\n",
      "Extracting MNIST_data/t10k-labels-idx1-ubyte.gz\n",
      "WARNING:tensorflow:From C:\\Anaconda3\\lib\\site-packages\\tensorflow\\contrib\\learn\\python\\learn\\datasets\\mnist.py:290: DataSet.__init__ (from tensorflow.contrib.learn.python.learn.datasets.mnist) is deprecated and will be removed in a future version.\n",
      "Instructions for updating:\n",
      "Please use alternatives such as official/mnist/dataset.py from tensorflow/models.\n"
     ]
    }
   ],
   "source": [
    "# tensorflow 홈페이지에서 mnist 데이터 다운\n",
    "from tensorflow.examples.tutorials.mnist import input_data\n",
    "# Check out https://www.tensorflow.org/get_started/mnist/beginners for\n",
    "# more information about the mnist dataset\n",
    "''' DataSets 클래스(tf 객체)\n",
    "        train, validation, test의 멤버변수 가지고 있음!!\n",
    "        images : 이미지 데이터셋\n",
    "        labels : label 데이터셋\n",
    "        num_examples : 데이터 갯수\n",
    "        next_batch : 데이터셋으로부터 필요한 만큼의 데이터를 반환하는 함수'''\n",
    "mnist = input_data.read_data_sets(\"MNIST_data/\", one_hot=True)  # one_hot=True : 자동으로 y(response)를 one hot 변환해줌"
   ]
  },
  {
   "cell_type": "code",
   "execution_count": 4,
   "metadata": {},
   "outputs": [],
   "source": [
    "# class 개수 : 10개 (0 ~ 9)\n",
    "nb_classes = 10"
   ]
  },
  {
   "cell_type": "code",
   "execution_count": 5,
   "metadata": {},
   "outputs": [],
   "source": [
    "# MNIST data image of shape 28 * 28 = 784\n",
    "X = tf.placeholder(tf.float32, [None, 784])\n",
    "# 0 - 9 digits recognition = 10 classes\n",
    "Y = tf.placeholder(tf.float32, [None, nb_classes])\n",
    "\n",
    "W = tf.Variable(tf.random_normal([784, nb_classes]))\n",
    "b = tf.Variable(tf.random_normal([nb_classes]))"
   ]
  },
  {
   "cell_type": "code",
   "execution_count": 6,
   "metadata": {},
   "outputs": [],
   "source": [
    "# Hypothesis (using softmax)\n",
    "hypothesis = tf.nn.softmax(tf.matmul(X, W) + b)"
   ]
  },
  {
   "cell_type": "code",
   "execution_count": 7,
   "metadata": {},
   "outputs": [],
   "source": [
    "# cost function\n",
    "cost = tf.reduce_mean(-tf.reduce_sum(Y * tf.log(hypothesis), axis=1))\n",
    "optimizer = tf.train.GradientDescentOptimizer(learning_rate=0.1).minimize(cost)"
   ]
  },
  {
   "cell_type": "code",
   "execution_count": 8,
   "metadata": {},
   "outputs": [],
   "source": [
    "# Test model\n",
    "is_correct = tf.equal(tf.argmax(hypothesis, 1), tf.argmax(Y, 1))\n",
    "# Calculate accuracy\n",
    "accuracy = tf.reduce_mean(tf.cast(is_correct, tf.float32))"
   ]
  },
  {
   "cell_type": "code",
   "execution_count": 9,
   "metadata": {},
   "outputs": [],
   "source": [
    "# parameters\n",
    "training_epochs = 15    # epoch : 같은 데이터를 몇 번 재사용(반복) 할지?\n",
    "batch_size = 100        # batch_size : 한 번 알고리즘을 처리할 때 몇개의 데이터를 처리할지?"
   ]
  },
  {
   "cell_type": "code",
   "execution_count": 10,
   "metadata": {},
   "outputs": [
    {
     "name": "stdout",
     "output_type": "stream",
     "text": [
      "Epoch: 0001 cost = 2.826302771\n",
      "Epoch: 0002 cost = 1.061668980\n",
      "Epoch: 0003 cost = 0.838061328\n",
      "Epoch: 0004 cost = 0.733232760\n",
      "Epoch: 0005 cost = 0.669279898\n",
      "Epoch: 0006 cost = 0.624611845\n",
      "Epoch: 0007 cost = 0.591160350\n",
      "Epoch: 0008 cost = 0.563868995\n",
      "Epoch: 0009 cost = 0.541745175\n",
      "Epoch: 0010 cost = 0.522673585\n",
      "Epoch: 0011 cost = 0.506782337\n",
      "Epoch: 0012 cost = 0.492447652\n",
      "Epoch: 0013 cost = 0.479955842\n",
      "Epoch: 0014 cost = 0.468893671\n",
      "Epoch: 0015 cost = 0.458703483\n",
      "Learning finished\n",
      "Accuracy:  0.8951\n",
      "Label:  [3]\n",
      "Prediction:  [8]\n"
     ]
    },
    {
     "data": {
      "image/png": "[encoded data removed]",
      "text/plain": [
       "<matplotlib.figure.Figure at 0x1c1d48b3ba8>"
      ]
     },
     "metadata": {},
     "output_type": "display_data"
    },
    {
     "data": {
      "text/plain": [
       "'\\nEpoch: 0001 cost = 2.868104637\\nEpoch: 0002 cost = 1.134684615\\nEpoch: 0003 cost = 0.908220728\\nEpoch: 0004 cost = 0.794199896\\nEpoch: 0005 cost = 0.721815854\\nEpoch: 0006 cost = 0.670184430\\nEpoch: 0007 cost = 0.630576546\\nEpoch: 0008 cost = 0.598888191\\nEpoch: 0009 cost = 0.573027079\\nEpoch: 0010 cost = 0.550497213\\nEpoch: 0011 cost = 0.532001859\\nEpoch: 0012 cost = 0.515517795\\nEpoch: 0013 cost = 0.501175288\\nEpoch: 0014 cost = 0.488425370\\nEpoch: 0015 cost = 0.476968593\\nLearning finished\\nAccuracy:  0.888\\n'"
      ]
     },
     "execution_count": 10,
     "metadata": {},
     "output_type": "execute_result"
    }
   ],
   "source": [
    "with tf.Session() as sess:\n",
    "    # Initialize TensorFlow variables\n",
    "    sess.run(tf.global_variables_initializer())\n",
    "    # Training cycle\n",
    "    for epoch in range(training_epochs):\n",
    "        avg_cost = 0\n",
    "        # 한 번에 batch_size만큼 처리할 것이기 때문에 전체 data 개수를 batch_size로 나눈 만큼 반복\n",
    "        # batch_size씩 training하고 이를 total_batch 만큼 반복을 하면 1 epoch(1번 epoch 실행됨)\n",
    "        total_batch = int(mnist.train.num_examples / batch_size)\n",
    "         \n",
    "        for i in range(total_batch):\n",
    "            batch_xs, batch_ys = mnist.train.next_batch(batch_size)\n",
    "            c, _ = sess.run([cost, optimizer], feed_dict={X: batch_xs, Y: batch_ys})\n",
    "            avg_cost += c / total_batch     # avg_cost에 각 batch만큼 training한 model의 cost를 더해줌\n",
    "\n",
    "        print('Epoch:', '%04d' % (epoch + 1),\n",
    "              'cost =', '{:.9f}'.format(avg_cost))\n",
    "\n",
    "    print(\"Learning finished\")\n",
    "\n",
    "    # Test using test sets (accuracy 계산)\n",
    "    print(\"Accuracy: \", accuracy.eval(session=sess, feed_dict={\n",
    "          X: mnist.test.images, Y: mnist.test.labels}))\n",
    "\n",
    "    # test set에서 랜덤하게 하나 뽑아서 predict\n",
    "    r = random.randint(0, mnist.test.num_examples - 1)\n",
    "    print(\"Label: \", sess.run(tf.argmax(mnist.test.labels[r:r + 1], 1)))\n",
    "    print(\"Prediction: \", sess.run(\n",
    "        tf.argmax(hypothesis, 1), feed_dict={X: mnist.test.images[r:r + 1]}))\n",
    "    # 랜덤하게 뽐은 데이터를 plot으로 출력시켜봄\n",
    "    plt.imshow(\n",
    "        mnist.test.images[r:r + 1].reshape(28, 28),\n",
    "        cmap='Greys',\n",
    "        interpolation='nearest')\n",
    "    plt.show()\n",
    "\n",
    "\n",
    "'''\n",
    "Epoch: 0001 cost = 2.868104637\n",
    "Epoch: 0002 cost = 1.134684615\n",
    "Epoch: 0003 cost = 0.908220728\n",
    "Epoch: 0004 cost = 0.794199896\n",
    "Epoch: 0005 cost = 0.721815854\n",
    "Epoch: 0006 cost = 0.670184430\n",
    "Epoch: 0007 cost = 0.630576546\n",
    "Epoch: 0008 cost = 0.598888191\n",
    "Epoch: 0009 cost = 0.573027079\n",
    "Epoch: 0010 cost = 0.550497213\n",
    "Epoch: 0011 cost = 0.532001859\n",
    "Epoch: 0012 cost = 0.515517795\n",
    "Epoch: 0013 cost = 0.501175288\n",
    "Epoch: 0014 cost = 0.488425370\n",
    "Epoch: 0015 cost = 0.476968593\n",
    "Learning finished\n",
    "Accuracy:  0.888\n",
    "'''\n"
   ]
  }
 ],
 "metadata": {
  "kernelspec": {
   "display_name": "Python 3",
   "language": "python",
   "name": "python3"
  },
  "language_info": {
   "codemirror_mode": {
    "name": "ipython",
    "version": 3
   },
   "file_extension": ".py",
   "mimetype": "text/x-python",
   "name": "python",
   "nbconvert_exporter": "python",
   "pygments_lexer": "ipython3",
   "version": "3.6.3"
  }
 },
 "nbformat": 4,
 "nbformat_minor": 2
}
