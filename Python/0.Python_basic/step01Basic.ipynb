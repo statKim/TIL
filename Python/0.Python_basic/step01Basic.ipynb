{
 "cells": [
  {
   "cell_type": "markdown",
   "metadata": {},
   "source": [
    "### [1] 함수 문법 연습\n",
    "> 함수 직접 만들어 보기\n",
    "\n",
    "> 로직을 제시해서 함수를 만들어 보기"
   ]
  },
  {
   "cell_type": "code",
   "execution_count": 21,
   "metadata": {},
   "outputs": [],
   "source": [
    "# 반환값도 없고, parameter도 없는 단순 함수\n",
    "def myFun1():\n",
    "    print(\"반장 \", \"안경\")"
   ]
  },
  {
   "cell_type": "code",
   "execution_count": 23,
   "metadata": {},
   "outputs": [
    {
     "name": "stdout",
     "output_type": "stream",
     "text": [
      "반장  안경\n"
     ]
    }
   ],
   "source": [
    "myFun1()"
   ]
  },
  {
   "cell_type": "code",
   "execution_count": 24,
   "metadata": {},
   "outputs": [],
   "source": [
    "# 반환값 X, parameter 0\n",
    "def myFun2(v1):\n",
    "    print(2+v1)"
   ]
  },
  {
   "cell_type": "code",
   "execution_count": 25,
   "metadata": {},
   "outputs": [
    {
     "name": "stdout",
     "output_type": "stream",
     "text": [
      "12\n"
     ]
    }
   ],
   "source": [
    "myFun2(10)"
   ]
  },
  {
   "cell_type": "code",
   "execution_count": 28,
   "metadata": {},
   "outputs": [
    {
     "name": "stdout",
     "output_type": "stream",
     "text": [
      "8\n"
     ]
    }
   ],
   "source": [
    "# 반환값 X, 두 개의 parameter값 받아 더하기 연산 후 결과 출력\n",
    "def myFun3(v1,v2):\n",
    "    print(v1 + v2)\n",
    "\n",
    "myFun3(3,5)"
   ]
  },
  {
   "cell_type": "code",
   "execution_count": 35,
   "metadata": {},
   "outputs": [
    {
     "name": "stdout",
     "output_type": "stream",
     "text": [
      "김현성\n"
     ]
    }
   ],
   "source": [
    "# 반환 있음, para X\n",
    "def myFun4():\n",
    "    return \"김현성\"\n",
    "\n",
    "name = myFun4()\n",
    "print(name)"
   ]
  },
  {
   "cell_type": "code",
   "execution_count": 36,
   "metadata": {},
   "outputs": [
    {
     "name": "stdout",
     "output_type": "stream",
     "text": [
      "0\n",
      "1\n",
      "2\n",
      "3\n",
      "4\n"
     ]
    }
   ],
   "source": [
    "# for 반복문\n",
    "for i in range(5):\n",
    "    print(i)"
   ]
  },
  {
   "cell_type": "code",
   "execution_count": 39,
   "metadata": {},
   "outputs": [
    {
     "name": "stdout",
     "output_type": "stream",
     "text": [
      "0\t1\t2\t3\t4\t"
     ]
    }
   ],
   "source": [
    "for i in range(5):\n",
    "    print(i, end=\"\\t\")"
   ]
  },
  {
   "cell_type": "code",
   "execution_count": 40,
   "metadata": {},
   "outputs": [
    {
     "data": {
      "text/plain": [
       "55"
      ]
     },
     "execution_count": 40,
     "metadata": {},
     "output_type": "execute_result"
    }
   ],
   "source": [
    "# 1~10까지 더하는 함수\n",
    "def getSum(start, end) :\n",
    "    sum=0\n",
    "    for i in range(start, end+1) :\n",
    "        sum += i    #sum=sum+i와 동일\n",
    "    return sum\n",
    "\n",
    "getSum(1,10)"
   ]
  },
  {
   "cell_type": "markdown",
   "metadata": {},
   "source": [
    "### [2] List 학습"
   ]
  },
  {
   "cell_type": "code",
   "execution_count": 41,
   "metadata": {},
   "outputs": [
    {
     "name": "stdout",
     "output_type": "stream",
     "text": [
      "0 1 2 3 4 5 6 7 8 9 "
     ]
    }
   ],
   "source": [
    "# range 함수 이해하기\n",
    "for i in range(10):\n",
    "    print(i, end=\" \")"
   ]
  },
  {
   "cell_type": "code",
   "execution_count": 43,
   "metadata": {},
   "outputs": [
    {
     "name": "stdout",
     "output_type": "stream",
     "text": [
      "1 2 3 4 5 6 7 8 9 "
     ]
    }
   ],
   "source": [
    "for i in range(1,10):\n",
    "    print(i, end=\" \")"
   ]
  },
  {
   "cell_type": "markdown",
   "metadata": {},
   "source": [
    "# list 학습 참조 url\n",
    ">https://docs.python.org/3.6/tutorial/datastructures.html"
   ]
  },
  {
   "cell_type": "code",
   "execution_count": 45,
   "metadata": {},
   "outputs": [],
   "source": [
    "# 각 자료구조 데이터 타입에 데이터들 저장 및 출력해보기\n"
   ]
  },
  {
   "cell_type": "markdown",
   "metadata": {},
   "source": [
    "### [3] for문 학습"
   ]
  },
  {
   "cell_type": "code",
   "execution_count": 49,
   "metadata": {},
   "outputs": [
    {
     "name": "stdout",
     "output_type": "stream",
     "text": [
      "a b c d e f g h i j k l m n \n",
      "군대 14일까지 물리학도 미래 모습 "
     ]
    }
   ],
   "source": [
    "# 정수값만 반복(range) -> 문자열 값 -> list 데이터\n",
    "data = 'abcdefghijklmn'\n",
    "\n",
    "for v in data:\n",
    "    print(v, end=\" \")\n",
    "\n",
    "print()\n",
    "\n",
    "data = ['군대', '14일까지', '물리학도', '미래 모습']\n",
    "for v in data:\n",
    "    print(v, end=\" \")"
   ]
  },
  {
   "cell_type": "markdown",
   "metadata": {},
   "source": [
    "### [4] 조건문"
   ]
  },
  {
   "cell_type": "code",
   "execution_count": 52,
   "metadata": {},
   "outputs": [
    {
     "name": "stdout",
     "output_type": "stream",
     "text": [
      "f\n"
     ]
    }
   ],
   "source": [
    "# 문자열 값 비교시 == 동등비교 연산자\n",
    "if ('ab' != 'ab'):\n",
    "    print(\"t\")\n",
    "else:\n",
    "    print(\"f\")"
   ]
  },
  {
   "cell_type": "markdown",
   "metadata": {},
   "source": [
    "### [5] 실시간 input data 입력"
   ]
  },
  {
   "cell_type": "code",
   "execution_count": null,
   "metadata": {},
   "outputs": [],
   "source": [
    "print(input())"
   ]
  },
  {
   "cell_type": "markdown",
   "metadata": {},
   "source": [
    "### [6] list를 활용한 아이디 검사 문제 - Lab01\n",
    "\n",
    ">아이디를 입력받아서 등록된 아이디인지를 검사하는 프로그램을 작성해보자. \n",
    "등록된 아이디를 리스트(list)에 저장하도록 한다. 아이디가 일치하면 패스워드 물어본다. \n",
    "아이디와 패스워드를 위한 test 데이터는 임의로 구성한다\n",
    "\n",
    ">아이디를 입력하시오 : hong\n",
    "패스워드를 입력하시오 : 1234\n",
    "환영합니다."
   ]
  },
  {
   "cell_type": "code",
   "execution_count": 11,
   "metadata": {},
   "outputs": [
    {
     "name": "stdout",
     "output_type": "stream",
     "text": [
      "김철수\n",
      "비밀번호가 일치하지 않습니다.\n"
     ]
    }
   ],
   "source": [
    "#idList = [\"김현성\",\"황승호\",\"박성민\"]\n",
    "idList = {\"김철수\":12, \"홍길동\":34, \"김영희\":56}\n",
    "\n",
    "id = input(\"아이디를 입력하시오 : \")\n",
    "\n",
    "# idList에 input 받은 id 포함여부 확인\n",
    "if id in idList:\n",
    "    #print(id) # 확인용(key값 출력)\n",
    "    \n",
    "    #input()의 반환값은 문자열\n",
    "    pw = input(\"패스워드를 입력하시오 : \")\n",
    "    \n",
    "    #int() : 문자열을 정수로 변환\n",
    "    if int(pw) == idList[id]:\n",
    "    #if (pw == \"1234\"):\n",
    "        print(\"환영합니다\")\n",
    "    else:\n",
    "        print(\"비밀번호가 일치하지 않습니다.\")\n",
    "else:\n",
    "    print(\"ID가 존재하지 않습니다\")"
   ]
  },
  {
   "cell_type": "code",
   "execution_count": 4,
   "metadata": {},
   "outputs": [
    {
     "name": "stdout",
     "output_type": "stream",
     "text": [
      "3\n"
     ]
    }
   ],
   "source": [
    "print(1+2)"
   ]
  },
  {
   "cell_type": "code",
   "execution_count": 5,
   "metadata": {},
   "outputs": [
    {
     "name": "stdout",
     "output_type": "stream",
     "text": [
      "12\n"
     ]
    }
   ],
   "source": [
    "print(\"1\"+\"2\")"
   ]
  },
  {
   "cell_type": "code",
   "execution_count": 6,
   "metadata": {},
   "outputs": [
    {
     "name": "stdout",
     "output_type": "stream",
     "text": [
      "1 2\n"
     ]
    }
   ],
   "source": [
    "print(\"1\",\"2\")"
   ]
  },
  {
   "cell_type": "code",
   "execution_count": 9,
   "metadata": {},
   "outputs": [
    {
     "name": "stdout",
     "output_type": "stream",
     "text": [
      "12\n"
     ]
    }
   ],
   "source": [
    "print(\"1\" + str(2))"
   ]
  },
  {
   "cell_type": "code",
   "execution_count": 10,
   "metadata": {},
   "outputs": [
    {
     "name": "stdout",
     "output_type": "stream",
     "text": [
      "3\n"
     ]
    }
   ],
   "source": [
    "print(int(\"1\") + 2)"
   ]
  },
  {
   "cell_type": "code",
   "execution_count": 12,
   "metadata": {},
   "outputs": [],
   "source": [
    "# 함수 - * 표기로 가변인자를 적용한 함수의 parameter\n",
    "# 튜플 데이터 타입으로 자동 변환\n",
    "def myFun9(*v):  #튜플로 자동변환해줌\n",
    "    print(v)"
   ]
  },
  {
   "cell_type": "code",
   "execution_count": 13,
   "metadata": {},
   "outputs": [
    {
     "name": "stdout",
     "output_type": "stream",
     "text": [
      "(1,)\n"
     ]
    }
   ],
   "source": [
    "myFun9(1) # 튜플로 변환됨"
   ]
  },
  {
   "cell_type": "code",
   "execution_count": 14,
   "metadata": {},
   "outputs": [
    {
     "name": "stdout",
     "output_type": "stream",
     "text": [
      "((5, 6),)\n"
     ]
    }
   ],
   "source": [
    "myFun9((5,6))"
   ]
  },
  {
   "cell_type": "code",
   "execution_count": 15,
   "metadata": {},
   "outputs": [
    {
     "name": "stdout",
     "output_type": "stream",
     "text": [
      "(7, 8)\n"
     ]
    }
   ],
   "source": [
    "myFun9(7,8)"
   ]
  },
  {
   "cell_type": "code",
   "execution_count": 16,
   "metadata": {},
   "outputs": [
    {
     "name": "stdout",
     "output_type": "stream",
     "text": [
      "(1, 2, 3)\n"
     ]
    }
   ],
   "source": [
    "myFun9(1,2,3)"
   ]
  },
  {
   "cell_type": "code",
   "execution_count": 17,
   "metadata": {},
   "outputs": [
    {
     "name": "stdout",
     "output_type": "stream",
     "text": [
      "((5, 6), (7, 8))\n"
     ]
    }
   ],
   "source": [
    "myFun9((5,6),(7,8))"
   ]
  },
  {
   "cell_type": "code",
   "execution_count": null,
   "metadata": {},
   "outputs": [],
   "source": []
  }
 ],
 "metadata": {
  "kernelspec": {
   "display_name": "Python 3",
   "language": "python",
   "name": "python3"
  },
  "language_info": {
   "codemirror_mode": {
    "name": "ipython",
    "version": 3
   },
   "file_extension": ".py",
   "mimetype": "text/x-python",
   "name": "python",
   "nbconvert_exporter": "python",
   "pygments_lexer": "ipython3",
   "version": "3.6.3"
  }
 },
 "nbformat": 4,
 "nbformat_minor": 2
}
