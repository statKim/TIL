{
 "cells": [
  {
   "cell_type": "markdown",
   "metadata": {},
   "source": [
    "### 1. 논리적인 파일 구조\n",
    "\n",
    ">1. 파일 안에는 바이트들이 순차적으로 저장되어 있고 맨 끝에는 EOF(end-of-file) 마커가 있음\n",
    "\n",
    ">2. 모든 파일은 입출력 동작이 발생하는 위치를 나타내는 위치 표시자(position indicator)를 가지고 있음\n",
    "\n",
    ">3. 텍스트 파일 읽고 쓰기<br>\n",
    "   - open(\"file 이름\", 파일열기모드, 인코딩)<br>\n",
    "   - 파일 열기 모드<br>\n",
    "       1. r : 읽기 모드(파일의 처음부터 read)<br>\n",
    "       2. w : 쓰기 모드(파일의 처음부터 쓰기, 파일이 없으면 생성, 존재하면 기존 내용은 지우고 새로 작성)<br>\n",
    "       3. a : 추가 모드(파일의 끝에 씀, 파일이 없으면 생성)<br>\n",
    "       4. r+ : 읽기 쓰기 모드(파일에 읽고 쓸수 있는 모드)\n",
    "    "
   ]
  },
  {
   "cell_type": "code",
   "execution_count": 2,
   "metadata": {},
   "outputs": [],
   "source": [
    "# 파일쓰기\n",
    "# 이미 존재할 경우 내용이 새로 갱신, 미존재할 경우엔 파일 생성 및 데이터 출력\n",
    "f = open(\"output.txt\", mode=\"w\", encoding=\"utf-8\")\n",
    "\n",
    "f.write(\"#1.open()으로 파일 객체얻기\\n\")\n",
    "f.write(\"#2.read(), write()\\n\")\n",
    "f.write(\"#3.close()\\n\")\n",
    "f.write(\"추가 데이터\")\n",
    "\n",
    "f.close()"
   ]
  },
  {
   "cell_type": "code",
   "execution_count": 3,
   "metadata": {},
   "outputs": [],
   "source": [
    "#with문 이용....with를 빠지면서 자동으로 close()\n",
    "with open(\"output2.txt\", \"w\" , encoding='utf-8') as f:\n",
    "    \n",
    "    f.write(\"#1.open()으로 파일 객체얻기\\n\")\n",
    "    f.write(\"#2.read(), write()\\n\")\n",
    "    f.write(\"#3.close()\\n\")"
   ]
  },
  {
   "cell_type": "code",
   "execution_count": 4,
   "metadata": {},
   "outputs": [
    {
     "name": "stdout",
     "output_type": "stream",
     "text": [
      "#1.open()으로 파일 객체얻기\n",
      "#2.read(), write()\n",
      "#3.close()\n",
      "\n"
     ]
    }
   ],
   "source": [
    "#파일읽기\n",
    "with open(\"output2.txt\", \"r\", encoding='utf-8') as f:\n",
    "    print(f.read())"
   ]
  },
  {
   "cell_type": "code",
   "execution_count": 16,
   "metadata": {},
   "outputs": [],
   "source": [
    "#줄단위로 파일을 쓰기\n",
    "# line 단위로 쓰여지는지에 대한 확인은 어떻게? writelines를 써야 문자열 내에 \"\\n\"이 인식됨\n",
    "# 리스트가 아닌 튜플이나 셋이 인자로 들어 갈 수 있음\n",
    "# 결론 : writelines()는 list데이터 출력\n",
    "#       단, list 각각의 요소에는 \\n 표기해야 줄이 바뀜\n",
    "lines = [\"first line\\n\", \"second line\\n\", \"third line\\n\"]\n",
    "\n",
    "with open(\"output3.txt\",\"w\", encoding=\"utf-8\") as f:\n",
    "    f.writelines(lines)"
   ]
  },
  {
   "cell_type": "code",
   "execution_count": null,
   "metadata": {},
   "outputs": [],
   "source": [
    "lines = [\"first line\", \"second line\", \"third line\"]\n",
    "\n",
    "with open(\"output4.txt\",\"w\") as f:\n",
    "    f.write(\"\\n\".join(lines))  #join으로 줄 바꾸기를 추가하고 write"
   ]
  },
  {
   "cell_type": "code",
   "execution_count": 17,
   "metadata": {},
   "outputs": [
    {
     "name": "stdout",
     "output_type": "stream",
     "text": [
      "first line\n",
      "second line\n",
      "third line\n",
      "\n"
     ]
    }
   ],
   "source": [
    "with open(\"output3.txt\",\"r\") as f:\n",
    "    print(f.read())"
   ]
  },
  {
   "cell_type": "code",
   "execution_count": 21,
   "metadata": {},
   "outputs": [
    {
     "name": "stdout",
     "output_type": "stream",
     "text": [
      "['first line\\n', 'second line\\n', 'third line\\n']\n"
     ]
    }
   ],
   "source": [
    "#줄단위로 읽기\n",
    "#readline()  : 파일을 한번에 한 줄씩 읽음\n",
    "#readlines() : 파일 전체를 줄 단위로 끊어서 리스트에 저장 \n",
    "\n",
    "with open(\"output3.txt\",\"r\") as f:\n",
    "    #print(f.read())#한꺼번에 읽기\n",
    "    #print(f.readline())#한 라인 읽기\n",
    "    print(f.readlines())#파일 전체를 줄 단위로 끊어서 리스트에 저장\n"
   ]
  },
  {
   "cell_type": "code",
   "execution_count": 27,
   "metadata": {},
   "outputs": [
    {
     "name": "stdout",
     "output_type": "stream",
     "text": [
      "first line\n",
      "second line\n",
      "third line\n"
     ]
    }
   ],
   "source": [
    "# 파이썬의 특징 : 파일 객체에 반복문을 사용해서 read도 가능\n",
    "with open(\"output3.txt\",\"r\") as f:\n",
    "    for line in f:   #한 라인씩 읽음\n",
    "        print(line, end='') "
   ]
  },
  {
   "cell_type": "code",
   "execution_count": 28,
   "metadata": {},
   "outputs": [
    {
     "name": "stdout",
     "output_type": "stream",
     "text": [
      "first line\n",
      "second line\n",
      "third line\n"
     ]
    }
   ],
   "source": [
    "with open(\"output3.txt\", \"r\") as f:\n",
    "    line = f.readline()\n",
    "    while line: #line이 ''이면 파일의 끝을 의미 \n",
    "        print(line, end='')\n",
    "        line = f.readline()"
   ]
  },
  {
   "cell_type": "code",
   "execution_count": 29,
   "metadata": {},
   "outputs": [
    {
     "name": "stdout",
     "output_type": "stream",
     "text": [
      "first line\n",
      "\n",
      "second line\n",
      "\n",
      "third line\n",
      "\n"
     ]
    }
   ],
   "source": [
    "with open(\"output3.txt\",\"r\") as f:\n",
    "    for line in f.readlines(): #줄단위인데\n",
    "        print(line) #출력시 줄바꿈이 되고있음 end=''"
   ]
  },
  {
   "cell_type": "code",
   "execution_count": 33,
   "metadata": {},
   "outputs": [
    {
     "name": "stdout",
     "output_type": "stream",
     "text": [
      "first line\n",
      "second li\n",
      "ne\n"
     ]
    }
   ],
   "source": [
    "# 파일에서 원하는 만큼의 문자 읽기\n",
    "f=open(\"output3.txt\")\n",
    "print(f.read(20))\n",
    "print(f.read(2))\n",
    "f.close()"
   ]
  },
  {
   "cell_type": "markdown",
   "metadata": {},
   "source": [
    "#### Lab 1 - dataSet.txt 파일을 만들고 #으로 시작하는 문장만 출력해 보기\n",
    "> 힌트 : startwith() "
   ]
  },
  {
   "cell_type": "code",
   "execution_count": 34,
   "metadata": {},
   "outputs": [
    {
     "name": "stdout",
     "output_type": "stream",
     "text": [
      "Writing dataSet.txt\n"
     ]
    }
   ],
   "source": [
    "%%file dataSet.txt\n",
    "\n",
    "NumPy is the fundamental package for scientific computing with Python. It contains among other things:\n",
    "\n",
    "# comment1..\n",
    "\n",
    "  * a powerful N-dimensional array object\n",
    "  * sophisticated (broadcasting) functions\n",
    "  * tools for integrating C/C++ and Fortran code\n",
    "  * useful linear algebra, Fourier transform, and random number capabilities\n",
    "\n",
    "# comment2..\n",
    "\n",
    "Besides its obvious scientific uses, NumPy can also be used as an efficient multi-dimensional container of generic data. Arbitrary data-types can be defined. This allows NumPy to seamlessly and speedily integrate with a wide variety of databases.\n",
    "\n",
    "Numpy is licensed under the BSD license, enabling reuse with few restrictions.\n"
   ]
  },
  {
   "cell_type": "code",
   "execution_count": 42,
   "metadata": {},
   "outputs": [
    {
     "name": "stdout",
     "output_type": "stream",
     "text": [
      "# comment1..\n",
      "\n",
      "# comment2..\n",
      "\n"
     ]
    }
   ],
   "source": [
    "with open(\"dataSet.txt\",\"r\") as f:\n",
    "    for line in f.readlines(): #줄단위인데\n",
    "        if line.startswith(\"#\")==True: # 한 줄에 \"#\"이 있으면 그 line 출력\n",
    "            print(line) "
   ]
  },
  {
   "cell_type": "code",
   "execution_count": 44,
   "metadata": {},
   "outputs": [
    {
     "name": "stdout",
     "output_type": "stream",
     "text": [
      "# comment1..\n",
      "\n",
      "# comment2..\n",
      "\n"
     ]
    }
   ],
   "source": [
    "# 이렇게 해도 됨\n",
    "for line in open(\"dataSet.txt\",\"r\"):\n",
    "    if line.startswith(\"#\"):\n",
    "        print(line) "
   ]
  },
  {
   "cell_type": "code",
   "execution_count": 45,
   "metadata": {},
   "outputs": [],
   "source": [
    "# 0~9까지 라인을 변경해 가면서 출력하는 파일 생성해 보기\n",
    "#방법1\n",
    "f = open(\"number.txt\", \"w\")\n",
    "for k in range(10):\n",
    "    f.write(\"{}\\n\".format(k)) # .format(k) : k를 {}안에 값 넣어좀\n",
    "f.close()"
   ]
  },
  {
   "cell_type": "code",
   "execution_count": 50,
   "metadata": {},
   "outputs": [
    {
     "data": {
      "text/plain": [
       "'\\n[str(k) for k in range(10)]\\n\\nfor k in range(10):\\n    str(k)\\n'"
      ]
     },
     "execution_count": 50,
     "metadata": {},
     "output_type": "execute_result"
    }
   ],
   "source": [
    "#방법2\n",
    "f = open(\"number2.txt\", \"w\")\n",
    "s = \"\\n\".join([str(k) for k in range(10)])\n",
    "f.write(s)\n",
    "f.close()\n",
    "\n",
    "'''\n",
    "[str(k) for k in range(10)]\n",
    "\n",
    "for k in range(10):\n",
    "    str(k)\n",
    "'''"
   ]
  },
  {
   "cell_type": "code",
   "execution_count": 47,
   "metadata": {},
   "outputs": [],
   "source": [
    "#방법3\n",
    "with open(\"number3.txt\", \"w\") as f:\n",
    "    s = \"\\n\".join([str(k) for k in range(10)])\n",
    "    f.write(s)                           "
   ]
  },
  {
   "cell_type": "code",
   "execution_count": 52,
   "metadata": {},
   "outputs": [],
   "source": [
    "#방법4\n",
    "with open(\"number4.txt\", \"w\") as f:\n",
    "    s = [str(k)+\"\\n\" for k in range(10)]\n",
    "    f.writelines(s)"
   ]
  },
  {
   "cell_type": "code",
   "execution_count": 57,
   "metadata": {},
   "outputs": [],
   "source": [
    "#방법4 - 함축된 표현식 안쓰고 만들것!\n",
    "with open(\"number4.txt\", \"w\") as f:\n",
    "    for k in range(10):\n",
    "        f.writelines(str(k)+\"\\n\") # \\n 인식을 위해 writelines() 함수 사용"
   ]
  },
  {
   "cell_type": "code",
   "execution_count": 55,
   "metadata": {},
   "outputs": [
    {
     "name": "stdout",
     "output_type": "stream",
     "text": [
      "0\n",
      "1\n",
      "2\n",
      "3\n",
      "4\n",
      "5\n",
      "6\n",
      "7\n",
      "8\n",
      "9\n",
      "\n",
      "-------------------------\n",
      "0\n",
      "1\n",
      "2\n",
      "3\n",
      "4\n",
      "5\n",
      "6\n",
      "7\n",
      "8\n",
      "9\n",
      "-------------------------\n",
      "0\n",
      "1\n",
      "2\n",
      "3\n",
      "4\n",
      "5\n",
      "6\n",
      "7\n",
      "8\n",
      "9\n",
      "-------------------------\n",
      "0\n",
      "1\n",
      "2\n",
      "3\n",
      "4\n",
      "5\n",
      "6\n",
      "7\n",
      "8\n",
      "9\n",
      "\n"
     ]
    }
   ],
   "source": [
    "print(open(\"number.txt\").read())\n",
    "print(\"-------------------------\")\n",
    "print(open(\"number2.txt\").read())\n",
    "print(\"-------------------------\")\n",
    "print(open(\"number3.txt\").read())\n",
    "print(\"-------------------------\")\n",
    "print(open(\"number4.txt\").read())"
   ]
  },
  {
   "cell_type": "code",
   "execution_count": null,
   "metadata": {},
   "outputs": [],
   "source": [
    "%%file s.txt\n",
    "pig ham\n",
    "cat dog\n",
    "ham bird\n",
    "dog pig"
   ]
  },
  {
   "cell_type": "code",
   "execution_count": null,
   "metadata": {},
   "outputs": [],
   "source": [
    "ws = open(\"s.txt\").read().split()\n",
    "ws"
   ]
  },
  {
   "cell_type": "code",
   "execution_count": null,
   "metadata": {},
   "outputs": [],
   "source": [
    "for k in range(0,len(ws), 3):\n",
    "    print(\" \".join(ws[k:k+3]))"
   ]
  },
  {
   "cell_type": "markdown",
   "metadata": {},
   "source": [
    "### Lab 2 ? - 줄 앞에 번호붙이기 \n",
    "\n",
    "> 텍스트 파일을 열어서 각 줄의 앞에 번호를 매겨서 다시 파일에 쓰는 프로그램을 작성해보자<br>\n",
    "> 참조 파일명 : lineInsert.txt (dataSet 폴더에 있음)\n",
    "> output 파일명 : lineInsertout.txt 생성, 위치는 dataSet 폴더에 하기\n",
    "\n",
    "> 힌트 : 존재하는 파일 read해서 새로운 파일 생성 및 출력(라인 + 내용)"
   ]
  },
  {
   "cell_type": "code",
   "execution_count": 71,
   "metadata": {},
   "outputs": [
    {
     "name": "stdout",
     "output_type": "stream",
     "text": [
      "All's well that ends well.\n",
      "\n",
      "Bad news travels fast.\n",
      "\n",
      "Well begun is half done.\n",
      "\n",
      "Birds of a feather flock together.\n"
     ]
    }
   ],
   "source": [
    "# 기존 파일 내용 확인\n",
    "with open(\"dataSet/lineInsert.txt\", \"r\") as f:\n",
    "    for line in f:\n",
    "        print(line)"
   ]
  },
  {
   "cell_type": "code",
   "execution_count": 78,
   "metadata": {},
   "outputs": [],
   "source": [
    "# 내가 한거!!\n",
    "i = 1\n",
    "\n",
    "with open(\"dataSet/lineInsertout.txt\", \"w\") as f:\n",
    "    for line in open(\"dataSet/lineInsert.txt\", \"r\"):\n",
    "        f.writelines(str(i) + \". \" + line)\n",
    "        i = i + 1"
   ]
  },
  {
   "cell_type": "code",
   "execution_count": 76,
   "metadata": {},
   "outputs": [],
   "source": [
    "# 선생님이 하신 코드\n",
    "inFile = open(\"dataSet/lineInsert.txt\", \"r\")\n",
    "outFile = open(\"dataSet/lineInsertout.txt\", \"w\")\n",
    "\n",
    "# 번호 표기를 위한 변수\n",
    "i = 1\n",
    "for line in inFile:\n",
    "    outFile.writelines(str(i) + \". \" + line)\n",
    "    i = i + 1\n",
    "\n",
    "# 입출력 API들은 자원 반환 필수\n",
    "inFile.close()\n",
    "outFile.close()"
   ]
  },
  {
   "cell_type": "code",
   "execution_count": 79,
   "metadata": {},
   "outputs": [
    {
     "name": "stdout",
     "output_type": "stream",
     "text": [
      "1. All's well that ends well.\n",
      "2. Bad news travels fast.\n",
      "3. Well begun is half done.\n",
      "4. Birds of a feather flock together."
     ]
    }
   ],
   "source": [
    "# 저장된 데이터 확인\n",
    "for line in open(\"dataSet/lineInsertout.txt\",\"r\"):\n",
    "    print(line, end=\"\") "
   ]
  },
  {
   "cell_type": "markdown",
   "metadata": {},
   "source": [
    "### Lab 3 ? - 매출 파일 처리\n",
    "> 텍스트 파일(sales.txt)에 상점의 매출이 저장되어 있다. read해서 평균 매출과 총 매출을 계산한 후에 다른 파일(salesTotal.txt)에 출력하는 프로그램 작성해 보기"
   ]
  },
  {
   "cell_type": "code",
   "execution_count": 82,
   "metadata": {},
   "outputs": [
    {
     "name": "stdout",
     "output_type": "stream",
     "text": [
      "1000000\n",
      "1000000\n",
      "1000000\n",
      "500000\n",
      "1500000\n"
     ]
    }
   ],
   "source": [
    "# 기존 파일 내용 확인\n",
    "with open(\"dataSet/sales.txt\", \"r\") as f:\n",
    "    for line in f:\n",
    "        print(line, end=\"\")"
   ]
  },
  {
   "cell_type": "code",
   "execution_count": 112,
   "metadata": {},
   "outputs": [],
   "source": [
    "# 내가 한거\n",
    "with open(\"dataSet/salesTotal.txt\", \"w\", encoding=\"utf-8\") as f:\n",
    "\n",
    "    total = 0\n",
    "    count = 0\n",
    "    for line in open(\"dataSet/sales.txt\", \"r\"):\n",
    "        total = total + int(line)\n",
    "        count = count + 1\n",
    "    avg = total / count\n",
    "\n",
    "    f.write(\"평균 매출 : \" + str(avg) + \"\\n\")\n",
    "    f.write(\"총 매출 : \" + str(total))\n",
    "    #f.writelines(\"평균 매출 : \" + str(avg) + \"\\n총 매출 : \" + str(total))"
   ]
  },
  {
   "cell_type": "code",
   "execution_count": 125,
   "metadata": {},
   "outputs": [],
   "source": [
    "# 다른 방법\n",
    "inFile = open(\"dataSet/sales.txt\", \"r\")\n",
    "outFile = open(\"dataSet/salesTotal.txt\", \"w\", encoding=\"utf-8\")\n",
    "\n",
    "total = 0\n",
    "count = 0\n",
    "\n",
    "for line in inFile:\n",
    "    total = total + int(line)\n",
    "    count = count + 1\n",
    "    \n",
    "avg = total / count\n",
    "\n",
    "outFile.writelines(\"평균 매출 : \" + str(avg) + \"\\n총 매출 : \" + str(total))\n",
    "\n",
    "# 입출력 API들은 자원 반환 필수\n",
    "inFile.close()\n",
    "outFile.close()"
   ]
  },
  {
   "cell_type": "code",
   "execution_count": 128,
   "metadata": {},
   "outputs": [
    {
     "name": "stdout",
     "output_type": "stream",
     "text": [
      "평균 매출 : 1000000.0\n",
      "총 매출 : 5000000"
     ]
    }
   ],
   "source": [
    "# 기존 파일 내용 확인\n",
    "with open(\"dataSet/salesTotal.txt\", \"r\", encoding=\"utf-8\") as f:\n",
    "    for line in f:\n",
    "        print(line, end=\"\")"
   ]
  },
  {
   "cell_type": "code",
   "execution_count": null,
   "metadata": {},
   "outputs": [],
   "source": []
  }
 ],
 "metadata": {
  "kernelspec": {
   "display_name": "Python 3",
   "language": "python",
   "name": "python3"
  },
  "language_info": {
   "codemirror_mode": {
    "name": "ipython",
    "version": 3
   },
   "file_extension": ".py",
   "mimetype": "text/x-python",
   "name": "python",
   "nbconvert_exporter": "python",
   "pygments_lexer": "ipython3",
   "version": "3.6.6"
  }
 },
 "nbformat": 4,
 "nbformat_minor": 2
}
