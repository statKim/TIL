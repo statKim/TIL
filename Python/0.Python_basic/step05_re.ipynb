{
 "cells": [
  {
   "cell_type": "markdown",
   "metadata": {},
   "source": [
    "## 학습 내용\n",
    "\n",
    "> 정규화 - 크롤링 등 데이터 수집함에 있어 필수 기술<br>\n",
    "> 학습 완료 후 - 파이썬 library(모듈, 패키지)를 활용한 크롤링<br>\n",
    "> 크롤링 필수 기술 - css 분석(css selector), html 문서의 구조<br>\n",
    "\n",
    "> css 참고 사이트<br>\n",
    "> https://www.w3schools.com/cssref/css_selectors.asp\n",
    "\n",
    "> 정규화 학습용 참고 사이트<br>\n",
    "> https://www.w3schools.com/js/js_regexp.asp<br>\n",
    "> https://www.w3schools.com/jsref/jsref_obj_regexp.asp"
   ]
  },
  {
   "cell_type": "code",
   "execution_count": 69,
   "metadata": {},
   "outputs": [
    {
     "data": {
      "text/plain": [
       "[{1: 'Java'},\n",
       " {2: 'DB'},\n",
       " {3: 'html'},\n",
       " {4: 'css'},\n",
       " {5: 'javascript'},\n",
       " {6: 'jsp'},\n",
       " {7: 'python'},\n",
       " {8: 'R'}]"
      ]
     },
     "execution_count": 69,
     "metadata": {},
     "output_type": "execute_result"
    }
   ],
   "source": [
    "import re\n",
    "\n",
    "data = \"1.Java, 2.DB, 3.html, 4.css, 5.javascript, 6.jsp, 7.python, 8.R\"\n",
    "\n",
    "# d_list = []\n",
    "# for i in re.findall(\"\\d+\",data):\n",
    "#     d_list.append({int(i):re.findall(\"[a-zA-Z]+\",data)[int(i)-1]})\n",
    "\n",
    "# 함축된 표현식\n",
    "d_list = [{int(i):re.findall(\"[a-zA-Z]+\",data)[int(i)-1]} for i in re.findall(\"\\d+\",data)]\n",
    "\n",
    "d_list"
   ]
  },
  {
   "cell_type": "code",
   "execution_count": 24,
   "metadata": {},
   "outputs": [
    {
     "data": {
      "text/plain": [
       "['Java', 'DB', 'html', 'css', 'javascript', 'jsp', 'python', 'R']"
      ]
     },
     "execution_count": 24,
     "metadata": {},
     "output_type": "execute_result"
    }
   ],
   "source": [
    "re.findall(\"[a-zA-Z]+\",data)"
   ]
  },
  {
   "cell_type": "code",
   "execution_count": 108,
   "metadata": {},
   "outputs": [
    {
     "data": {
      "text/plain": [
       "[{'시군구코드': '11110',\n",
       "  '법정동코드': '1111010100',\n",
       "  '시': '서울특별시',\n",
       "  '구': '종로구',\n",
       "  '동': '청운동',\n",
       "  '도로명코드': '1.11E+11',\n",
       "  '도로명': '자하문로',\n",
       "  '관할행정동': '청운효자동'},\n",
       " {'시군구코드': '11111',\n",
       "  '법정동코드': '1111010101',\n",
       "  '시': '서울특별시',\n",
       "  '구': '강서구',\n",
       "  '동': '가양동',\n",
       "  '도로명코드': '1.1111',\n",
       "  '도로명': '허준로',\n",
       "  '관할행정동': '가양동'}]"
      ]
     },
     "execution_count": 108,
     "metadata": {},
     "output_type": "execute_result"
    }
   ],
   "source": [
    "# 파일 읽어들이기(?)\n",
    "import re\n",
    "\n",
    "col_list = [\"시군구코드\",\"법정동코드\",\"시\",\"구\",\"동\",\"도로명코드\",\"도로명\",\"관할행정동\"]\n",
    "\n",
    "data = \"11110,1111010100,서울특별시,종로구,청운동,1.11E+11,자하문로,청운효자동\\n11111,1111010101,서울특별시,강서구,가양동,1.1111,허준로,가양동\"\n",
    "\n",
    "total = []\n",
    "dic = {}\n",
    "\n",
    "line = re.split(\"[\\n]\",data)\n",
    "\n",
    "for j in range(len(line)):\n",
    "    for i in range(len(re.split(\"[,]\",line[j]))):\n",
    "        dic[col_list[i]] = re.split(\"[,]\",line[j])[i]\n",
    "    total.append(dic)\n",
    "    dic={}\n",
    "\n",
    "# 함축된 표현식\n",
    "\n",
    "\n",
    "total"
   ]
  },
  {
   "cell_type": "code",
   "execution_count": 115,
   "metadata": {},
   "outputs": [
    {
     "data": {
      "text/plain": [
       "[{'시군구코드': '11110',\n",
       "  '법정동코드': '1111010100',\n",
       "  '시': '서울특별시',\n",
       "  '구': '종로구',\n",
       "  '동': '청운동',\n",
       "  '도로명코드': '1.11E+11',\n",
       "  '도로명': '자하문로',\n",
       "  '관할행정동': '청운효자동'}]"
      ]
     },
     "execution_count": 115,
     "metadata": {},
     "output_type": "execute_result"
    }
   ],
   "source": [
    "# 구가 \"종로\" 포함될 경우만\n",
    "result = []\n",
    "for i in total:\n",
    "    if len(re.findall(\"종로\", i[\"구\"])) == 1:\n",
    "        result.append(i)\n",
    "result       "
   ]
  },
  {
   "cell_type": "code",
   "execution_count": null,
   "metadata": {},
   "outputs": [],
   "source": []
  },
  {
   "cell_type": "code",
   "execution_count": null,
   "metadata": {},
   "outputs": [],
   "source": []
  },
  {
   "cell_type": "code",
   "execution_count": null,
   "metadata": {},
   "outputs": [],
   "source": []
  }
 ],
 "metadata": {
  "kernelspec": {
   "display_name": "Python 3",
   "language": "python",
   "name": "python3"
  },
  "language_info": {
   "codemirror_mode": {
    "name": "ipython",
    "version": 3
   },
   "file_extension": ".py",
   "mimetype": "text/x-python",
   "name": "python",
   "nbconvert_exporter": "python",
   "pygments_lexer": "ipython3",
   "version": "3.6.5"
  }
 },
 "nbformat": 4,
 "nbformat_minor": 2
}
