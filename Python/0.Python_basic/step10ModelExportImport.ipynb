{
 "cells": [
  {
   "cell_type": "markdown",
   "metadata": {},
   "source": [
    "# Save 예제\n",
    "> - 출처: http://paiai.tistory.com/26 [YOLO :)]"
   ]
  },
  {
   "cell_type": "code",
   "execution_count": 1,
   "metadata": {},
   "outputs": [],
   "source": [
    "import tensorflow as tf"
   ]
  },
  {
   "cell_type": "code",
   "execution_count": 2,
   "metadata": {},
   "outputs": [],
   "source": [
    "input_data = [[ 1, 5, 3, 7, 8, 10, 12],\n",
    "             [5, 8, 10, 3, 9, 7, 1]]\n",
    "label_data = [[ 0, 0, 0, 1, 0], [1, 0, 0, 0, 0]]"
   ]
  },
  {
   "cell_type": "code",
   "execution_count": 3,
   "metadata": {},
   "outputs": [],
   "source": [
    "INPUT_SIZE = 7\n",
    "HIDDEN1_SIZE = 10\n",
    "HIDDEN2_SIZE = 8\n",
    "CLASSES = 5\n",
    "\n",
    "epochs = 1000\n",
    "Learning_Rate = 0.05"
   ]
  },
  {
   "cell_type": "code",
   "execution_count": 4,
   "metadata": {},
   "outputs": [],
   "source": [
    "x = tf.placeholder(tf.float32, shape=[None, INPUT_SIZE], name='x')\n",
    "y_ = tf.placeholder(tf.float32, shape=[None, CLASSES], name='y_')"
   ]
  },
  {
   "cell_type": "code",
   "execution_count": 5,
   "metadata": {},
   "outputs": [
    {
     "data": {
      "text/plain": [
       "{<tf.Tensor 'x:0' shape=(?, 7) dtype=float32>: [[1, 5, 3, 7, 8, 10, 12],\n",
       "  [5, 8, 10, 3, 9, 7, 1]],\n",
       " <tf.Tensor 'y_:0' shape=(?, 5) dtype=float32>: [[0, 0, 0, 1, 0],\n",
       "  [1, 0, 0, 0, 0]]}"
      ]
     },
     "execution_count": 5,
     "metadata": {},
     "output_type": "execute_result"
    }
   ],
   "source": [
    "tensor_map = {x: input_data, y_: label_data}\n",
    "tensor_map"
   ]
  },
  {
   "cell_type": "markdown",
   "metadata": {},
   "source": [
    "### 모델과 weight 초기화 부분은 분리해서 코드를 짜는 것이 좋다.\n",
    "\n"
   ]
  },
  {
   "cell_type": "code",
   "execution_count": 6,
   "metadata": {},
   "outputs": [],
   "source": [
    "W_h1 = tf.Variable(tf.truncated_normal(shape=[INPUT_SIZE, HIDDEN1_SIZE]), dtype=tf.float32, name='W_h1')\n",
    "b_h1 = tf.Variable(tf.zeros(shape=[HIDDEN1_SIZE]), dtype=tf.float32, name='b_h1')\n",
    "\n",
    "W_h2 = tf.Variable(tf.truncated_normal(shape=[HIDDEN1_SIZE, HIDDEN2_SIZE], dtype=tf.float32, name='W_h2'))\n",
    "b_h2 = tf.Variable(tf.zeros(shape=[HIDDEN2_SIZE]), dtype=tf.float32, name='b_h2')\n",
    "\n",
    "W_o = tf.Variable(tf.truncated_normal(shape=[HIDDEN2_SIZE, CLASSES]), dtype=tf.float32, name='W_o')\n",
    "b_o = tf.Variable(tf.zeros(shape=[CLASSES]), dtype=tf.float32, name='b_o')\n",
    "\n",
    "param_list = [W_h1, b_h1, W_h2, b_h2, W_o, b_o]\n",
    "# weight 가 끝나는 시점에서 saver 생성 - 그 이후에 넣으면 필요없는 variable까지 저장한다\n",
    "saver = tf.train.Saver(param_list)"
   ]
  },
  {
   "cell_type": "code",
   "execution_count": 7,
   "metadata": {},
   "outputs": [],
   "source": [
    "hidden1 = tf.sigmoid(tf.matmul(x, W_h1) + b_h1, name='hidden1')\n",
    "hidden2 = tf.sigmoid(tf.matmul(hidden1, W_h2) + b_h2, name='hidden2')\n",
    "y = tf.sigmoid(tf.matmul(hidden2, W_o) + b_o, name='y')"
   ]
  },
  {
   "cell_type": "code",
   "execution_count": 8,
   "metadata": {},
   "outputs": [],
   "source": [
    "# cross entropy\n",
    "cost = tf.reduce_sum(-y_*tf.log(y)-(1-y_)*tf.log(1-y), reduction_indices=1)\n",
    "cost = tf.reduce_mean(cost)\n",
    "train = tf.train.GradientDescentOptimizer(Learning_Rate).minimize(cost)"
   ]
  },
  {
   "cell_type": "code",
   "execution_count": 9,
   "metadata": {},
   "outputs": [],
   "source": [
    "comp_pred = tf.equal(tf.argmax(y, 1), tf.argmax(y_, 1))\n",
    "accuracy = tf.reduce_mean(tf.cast(comp_pred, tf.float32))"
   ]
  },
  {
   "cell_type": "code",
   "execution_count": 10,
   "metadata": {},
   "outputs": [],
   "source": [
    "sess = tf.Session()"
   ]
  },
  {
   "cell_type": "code",
   "execution_count": 11,
   "metadata": {},
   "outputs": [
    {
     "name": "stdout",
     "output_type": "stream",
     "text": [
      "----------------------\n",
      "step       : 0\n",
      "loss       : 5.49891\n",
      "accuracy   : 0.0\n",
      "----------------------\n",
      "step       : 100\n",
      "loss       : 0.83122\n",
      "accuracy   : 1.0\n",
      "----------------------\n",
      "step       : 200\n",
      "loss       : 0.45426\n",
      "accuracy   : 1.0\n",
      "----------------------\n",
      "step       : 300\n",
      "loss       : 0.29933\n",
      "accuracy   : 1.0\n",
      "----------------------\n",
      "step       : 400\n",
      "loss       : 0.21721\n",
      "accuracy   : 1.0\n",
      "----------------------\n",
      "step       : 500\n",
      "loss       : 0.16759\n",
      "accuracy   : 1.0\n",
      "----------------------\n",
      "step       : 600\n",
      "loss       : 0.13495\n",
      "accuracy   : 1.0\n",
      "----------------------\n",
      "step       : 700\n",
      "loss       : 0.11216\n",
      "accuracy   : 1.0\n",
      "----------------------\n",
      "step       : 800\n",
      "loss       : 0.09549\n",
      "accuracy   : 1.0\n",
      "----------------------\n",
      "step       : 900\n",
      "loss       : 0.08285\n",
      "accuracy   : 1.0\n"
     ]
    }
   ],
   "source": [
    "sess.run(tf.global_variables_initializer())\n",
    "\n",
    "# restore는 initialize 대신 하면 된다\n",
    "# saver.restore(sess, './tf_model.ckpt')\n",
    "# result = sess.run(y, tensor_map)\n",
    "\n",
    "for i in range(epochs):\n",
    "    _, loss, acc = sess.run([train, cost, accuracy], tensor_map)\n",
    "    \n",
    "    if i % 100 == 0:\n",
    "\n",
    "\n",
    "        saver.save(sess, 'tf_model/tf_model.ckpt')\n",
    "\n",
    "\n",
    "        print('----------------------')\n",
    "        print(\"step       :\", i)\n",
    "        print(\"loss       : {0:.5f}\".format(loss))\n",
    "        print(\"accuracy   :\", acc)\n"
   ]
  },
  {
   "cell_type": "markdown",
   "metadata": {},
   "source": [
    "# Restore 예제"
   ]
  },
  {
   "cell_type": "markdown",
   "metadata": {},
   "source": [
    "### training 코드 부분은 다시 training 하지 않는 경우 없어도 된다. "
   ]
  },
  {
   "cell_type": "code",
   "execution_count": 12,
   "metadata": {},
   "outputs": [],
   "source": [
    "cost = tf.reduce_sum(-y_*tf.log(y)-(1-y_)*tf.log(1-y), reduction_indices=1)\n",
    "cost = tf.reduce_mean(cost)\n",
    "train = tf.train.GradientDescentOptimizer(Learning_Rate).minimize(cost)"
   ]
  },
  {
   "cell_type": "code",
   "execution_count": 13,
   "metadata": {},
   "outputs": [],
   "source": [
    "comp_pred = tf.equal(tf.argmax(y, 1), tf.argmax(y_, 1))\n",
    "accuracy = tf.reduce_mean(tf.cast(comp_pred, tf.float32))"
   ]
  },
  {
   "cell_type": "code",
   "execution_count": 14,
   "metadata": {},
   "outputs": [],
   "source": [
    "sess = tf.Session()"
   ]
  },
  {
   "cell_type": "code",
   "execution_count": 15,
   "metadata": {},
   "outputs": [
    {
     "name": "stdout",
     "output_type": "stream",
     "text": [
      "INFO:tensorflow:Restoring parameters from tf_model/tf_model.ckpt\n",
      "[[ 0.03673964  0.01228184  0.01713125  0.96912795  0.01401264]\n",
      " [ 0.97715771  0.00291012  0.00238059  0.02147566  0.00282537]]\n"
     ]
    }
   ],
   "source": [
    "#sess.run(tf.global_variables_initializer())\n",
    "saver.restore(sess, 'tf_model/tf_model.ckpt')\n",
    "result = sess.run(y, tensor_map)\n",
    "print(result)"
   ]
  },
  {
   "cell_type": "markdown",
   "metadata": {},
   "source": [
    "### 저장했던 weight 로 다시 트레이닝을 하면 결과 값이 loss가 낮고, accuracy가 높다."
   ]
  },
  {
   "cell_type": "code",
   "execution_count": 16,
   "metadata": {},
   "outputs": [
    {
     "name": "stdout",
     "output_type": "stream",
     "text": [
      "----------------------\n",
      "step       : 0\n",
      "loss       : 0.08274\n",
      "accuracy   : 1.0\n",
      "----------------------\n",
      "step       : 100\n",
      "loss       : 0.07290\n",
      "accuracy   : 1.0\n",
      "----------------------\n",
      "step       : 200\n",
      "loss       : 0.06504\n",
      "accuracy   : 1.0\n",
      "----------------------\n",
      "step       : 300\n",
      "loss       : 0.05862\n",
      "accuracy   : 1.0\n",
      "----------------------\n",
      "step       : 400\n",
      "loss       : 0.05330\n",
      "accuracy   : 1.0\n",
      "----------------------\n",
      "step       : 500\n",
      "loss       : 0.04883\n",
      "accuracy   : 1.0\n",
      "----------------------\n",
      "step       : 600\n",
      "loss       : 0.04501\n",
      "accuracy   : 1.0\n",
      "----------------------\n",
      "step       : 700\n",
      "loss       : 0.04172\n",
      "accuracy   : 1.0\n",
      "----------------------\n",
      "step       : 800\n",
      "loss       : 0.03886\n",
      "accuracy   : 1.0\n",
      "----------------------\n",
      "step       : 900\n",
      "loss       : 0.03635\n",
      "accuracy   : 1.0\n"
     ]
    }
   ],
   "source": [
    "for i in range(epochs):\n",
    "\n",
    "    _, loss, acc = sess.run([train, cost, accuracy], tensor_map)\n",
    "    if i % 100 == 0:\n",
    "        #saver.save(sess, './tf_model/tf_model.ckpt')\n",
    "        print('----------------------')\n",
    "        print(\"step       :\", i)\n",
    "        print(\"loss       : {0:.5f}\".format(loss))\n",
    "        print(\"accuracy   :\", acc)"
   ]
  },
  {
   "cell_type": "markdown",
   "metadata": {},
   "source": [
    "### checkpoint 파일에 있는 weight 보는 방법\n"
   ]
  },
  {
   "cell_type": "code",
   "execution_count": 18,
   "metadata": {},
   "outputs": [
    {
     "name": "stdout",
     "output_type": "stream",
     "text": [
      "tensor_name:  Variable\n",
      "[[ 0.38079959  0.83630204  1.93567228  0.66555643 -0.74033761  0.66069984\n",
      "   0.12239929  0.37367296]\n",
      " [-1.00211251  1.42941451 -1.92600632 -1.07085252  0.13144255 -0.11721206\n",
      "  -0.67877024  0.83177394]\n",
      " [-2.6683948   1.17708826 -1.24111366 -0.23206459 -1.57147813 -0.74702543\n",
      "  -0.81409609 -0.0715283 ]\n",
      " [-0.21670227 -0.21233237  1.38918996  0.61057568 -1.90969586 -0.61162299\n",
      "   0.39615303  0.45776087]\n",
      " [ 0.9065755  -0.35080519  1.47089553 -1.98241258 -0.21401995  0.14934178\n",
      "   1.2331444  -0.40077686]\n",
      " [-0.00332462  0.02434572  0.53586984 -0.68623918 -1.46012354 -0.19449413\n",
      "   0.01564419  0.37834615]\n",
      " [-1.65093923  0.09048604  0.42327902 -0.66795939  0.3204093  -0.45377421\n",
      "   1.71553457  0.52760488]\n",
      " [ 1.16093564 -0.97796839  0.53956938 -1.11420357  1.13341153  1.79293895\n",
      "   0.21121225 -0.21112512]\n",
      " [ 1.20019877  0.84878039  1.37371922  1.6986748  -0.04443777 -0.48825884\n",
      "   0.25883052  1.06390357]\n",
      " [ 1.11508799  0.4229289  -0.35749397 -1.25006342 -1.16844678 -2.46021867\n",
      "   0.18633972  1.04649234]]\n",
      "tensor_name:  W_h1\n",
      "[[ 1.35962045  0.11214647  0.40207332 -0.61102653  0.20829935  0.03035193\n",
      "   0.09193976  1.47353232 -1.44611835  0.41108996]\n",
      " [ 0.46205118 -0.12022282 -0.04482109 -1.04109609 -0.12479681 -1.33765638\n",
      "   0.36846602 -0.55191928  0.58177394 -0.15620697]\n",
      " [-1.52330363  0.85407555 -1.47755229  1.23862207 -0.98194951 -0.13483717\n",
      "   0.84403563 -0.74839902 -1.28921008  0.06038778]\n",
      " [-1.52200782  0.3300772  -1.17304027 -0.10307385 -0.19198546 -1.71969378\n",
      "  -0.88130224  0.06064135 -0.15708552  0.64981633]\n",
      " [-0.99700886 -0.93945181 -0.00445365 -1.13139391  1.98370993 -0.17437144\n",
      "  -1.19689524  1.2067194   1.02276206 -0.2671546 ]\n",
      " [ 1.23317385 -1.10056329  0.72472572  0.67290062 -0.43258375 -0.73143023\n",
      "  -0.80487978  0.07699048 -1.03617811 -1.03973269]\n",
      " [-1.33795249  1.61521745  1.04382825 -1.648947    1.3596828   0.0056767\n",
      "  -0.84655905 -1.08221245 -0.18621731  1.08880508]]\n",
      "tensor_name:  W_o\n",
      "[[ 1.39069974 -0.23290367 -2.03360081 -1.6420449  -0.90622324]\n",
      " [-2.76184058 -2.19561005 -1.92157114  1.46678483 -0.44302124]\n",
      " [ 0.73867685 -0.1326268  -0.74878293 -2.21386766 -0.53116435]\n",
      " [-0.32058868 -0.64889175 -0.3654373  -0.3658939   0.84844911]\n",
      " [ 1.46031857 -1.48212409 -0.71084082 -1.7608676  -1.63867748]\n",
      " [ 3.02206016 -1.55027127 -1.14655912 -1.51103711  0.42050475]\n",
      " [ 0.05939557 -1.09230959  0.41592824 -0.31252021 -1.1463151 ]\n",
      " [ 0.15841131 -0.13788621 -0.21596324  1.5596236  -0.70654994]]\n",
      "tensor_name:  b_h1\n",
      "[  5.06869901e-06   4.97948611e-03   1.70161501e-02  -2.71607991e-02\n",
      "   1.52127650e-02  -7.57933577e-11  -3.01431079e-04   2.70923879e-02\n",
      "  -2.41983900e-04   4.13759658e-03]\n",
      "tensor_name:  b_h2\n",
      "[-0.07521968  0.27592543 -0.25348055 -0.0470048   0.77879041  0.19375883\n",
      "  0.06592704 -0.19211116]\n",
      "tensor_name:  b_o\n",
      "[-1.38926768 -1.3479991  -1.74566352  1.74571145 -2.37072897]\n"
     ]
    }
   ],
   "source": [
    "# checkpoint 파일에 저장된 weight 보는 방법\n",
    "from tensorflow.python.tools import inspect_checkpoint as chkp\n",
    "chkp.print_tensors_in_checkpoint_file('tf_model/tf_model.ckpt', tensor_name='', all_tensors=True)"
   ]
  },
  {
   "cell_type": "code",
   "execution_count": null,
   "metadata": {},
   "outputs": [],
   "source": []
  },
  {
   "cell_type": "code",
   "execution_count": null,
   "metadata": {},
   "outputs": [],
   "source": []
  }
 ],
 "metadata": {
  "kernelspec": {
   "display_name": "Python 3",
   "language": "python",
   "name": "python3"
  },
  "language_info": {
   "codemirror_mode": {
    "name": "ipython",
    "version": 3
   },
   "file_extension": ".py",
   "mimetype": "text/x-python",
   "name": "python",
   "nbconvert_exporter": "python",
   "pygments_lexer": "ipython3",
   "version": "3.6.3"
  }
 },
 "nbformat": 4,
 "nbformat_minor": 2
}
