{
 "cells": [
  {
   "cell_type": "markdown",
   "metadata": {},
   "source": [
    "### 파이썬 클래스 \n",
    "\n",
    "> 사용자 정의 클래스 개발 방법<br>\n",
    "\n",
    ">  주요 키워드 : self가 적용된 변수는 모두 다 instance 변수 <br>\n",
    "\n",
    ">  접근자 : 정보 은닉 및 유효성 검증을 위해 private으로 정의하는 방법 - 변수명 앞단에 __ 선언<br>"
   ]
  },
  {
   "cell_type": "code",
   "execution_count": 14,
   "metadata": {},
   "outputs": [],
   "source": [
    "# 클래스와 무관하게 독립적으로 개발 가능한 함수\n",
    "def get():\n",
    "    print(\"class외부의 get함수\")\n",
    "    return 1000;\n",
    "\n",
    "# 클래스 - 변수, 함수\n",
    "'''\n",
    "    멤버 변수 선언 문법\n",
    "        - 함수 내부에 self.변수 문법이 자동으로 멤버 변수로 선언\n",
    "        - 메소드의 첫번째 parameter로 self를 반영하여야 함\n",
    "'''\n",
    "class MyClss2:\n",
    "    def set(self, v):\n",
    "        self.value = v # value라는 멤버 변수 선언, 값 초기화\n",
    "        \n",
    "    def get(self):\n",
    "        return self.value # value 변수값 반환\n",
    "    \n",
    "    def incr(self):\n",
    "        self.value += 1\n",
    "        return self.get()  #만약에 self를 생략한다면 외부의 get()함수가 호출\n",
    "   \n",
    "    def incr2(self):\n",
    "        self.value += 1\n",
    "        return get()  #만약에 self를 생략한다면 외부의 get()함수가 호출"
   ]
  },
  {
   "cell_type": "code",
   "execution_count": 15,
   "metadata": {},
   "outputs": [
    {
     "name": "stdout",
     "output_type": "stream",
     "text": [
      "--- a.get() ---\n",
      "100\n",
      "--- a.incr() ---\n",
      "101\n",
      "--- a.incr2() ---\n",
      "class외부의 get함수\n",
      "1000\n",
      "--- a.value ---\n",
      "102\n"
     ]
    }
   ],
   "source": [
    "a = MyClss2()\n",
    "\n",
    "a.set(100)\n",
    "print(\"--- a.get() ---\")\n",
    "print(a.get())\n",
    "print(\"--- a.incr() ---\")\n",
    "print(a.incr())\n",
    "print(\"--- a.incr2() ---\")\n",
    "print(a.incr2())\n",
    "print(\"--- a.value ---\")\n",
    "print(a.value)"
   ]
  },
  {
   "cell_type": "code",
   "execution_count": 12,
   "metadata": {},
   "outputs": [],
   "source": [
    "# java의 private 키워드가 python에선 __ 로 표기(은닉성!! - 외부에서 변수값 바로 호출 불가능)\n",
    "class MyClass2:\n",
    "    def set(self, v):\n",
    "        self.__value = v # value는 private변수(외부에서 호출 불가능)\n",
    "        \n",
    "    def get(self):\n",
    "        return self.__value"
   ]
  },
  {
   "cell_type": "code",
   "execution_count": 15,
   "metadata": {},
   "outputs": [
    {
     "name": "stdout",
     "output_type": "stream",
     "text": [
      "1000\n"
     ]
    }
   ],
   "source": [
    "a = MyClass2()\n",
    "a.set(1000)\n",
    "print(a.get())\n",
    "#print(a.value) # private변수라 외부에서 호출 불가능"
   ]
  },
  {
   "cell_type": "markdown",
   "metadata": {},
   "source": [
    "### 2. 생성자와 소멸자\n",
    "\n",
    "> 생성자(constructor)는 객체가 생성될 때 객체를 기본값으로 초기화<br>\n",
    "> 파이썬에서는 생성자의 이름으로 __init__() 사용<br>\n",
    "> 파이썬 자체의 특별한 함수들 존재<br>\n",
    "        - __init__() : 무조건 객체 생성시에 자동 호출되는 함수(생성자)\n",
    "        - __del__() : 객체를 메모리에서 삭제할 때 자동 호출\n",
    "> 기본내장함수를 override할 때에는 __함수명__() 으로 재정의함<br>\n",
    "        - 사용자 정의 함수는 그냥 함수명 써서 재정의"
   ]
  },
  {
   "cell_type": "code",
   "execution_count": 1,
   "metadata": {},
   "outputs": [],
   "source": [
    "#생성자와 소멸자 \n",
    "# __init__() : 인스턴스 객체가 생성되고 나서 자동으로 호출\n",
    "#__del__() : del에 의해 호출\n",
    "\n",
    "class MyClass3():\n",
    "    def __init__(self):  # __init__() : 생성자 -> 호출은 그냥 클래스 이름으로 함\n",
    "        print(\"생성\")\n",
    "        self.value=0     # 멤버 변수 선언\n",
    "        \n",
    "    def set(self, v):\n",
    "        self.value=v\n",
    "        \n",
    "    def get(self):\n",
    "        return self.value  \n",
    "    \n",
    "    def __del__(self):\n",
    "        print(\"소멸\")"
   ]
  },
  {
   "cell_type": "code",
   "execution_count": 12,
   "metadata": {},
   "outputs": [
    {
     "name": "stdout",
     "output_type": "stream",
     "text": [
      "생성\n",
      "0\n",
      "100\n",
      "소멸\n"
     ]
    }
   ],
   "source": [
    "a = MyClass3()  # __init__() 호출(생성자)\n",
    "print(a.get())\n",
    "a.set(100)\n",
    "print(a.get())\n",
    "del a  # __del__() 호출"
   ]
  },
  {
   "cell_type": "markdown",
   "metadata": {},
   "source": [
    "### 3. 특수 메소드\n",
    ">1. \\__init__ <br>\n",
    ">2. \\__str__ <br>\n",
    ">"
   ]
  },
  {
   "cell_type": "code",
   "execution_count": 13,
   "metadata": {},
   "outputs": [
    {
     "name": "stdout",
     "output_type": "stream",
     "text": [
      "제목:Data Structure , 저자:bookMan, 페이지:200 \n",
      "200\n"
     ]
    }
   ],
   "source": [
    "class Book:\n",
    "    def __init__(self, title, author, pages): # 멤버변수 3개\n",
    "        self.title = title\n",
    "        self.author = author\n",
    "        self.pages = pages\n",
    "\n",
    "    def __str__(self): # java의 toString()과 동일\n",
    "        return \"제목:%s , 저자:%s, 페이지:%s \" % (self.title, self.author, self.pages)\n",
    "\n",
    "    def __len__(self):\n",
    "        return self.pages\n",
    "\n",
    "book = Book(\"Data Structure\", \"bookMan\", 200)\n",
    "print(book) # 객체 참조 변수를 print() or println()에서 호출시 __str__() 호출(직접 사용하지는 않지만 객체 자체를 print할 때 자동으로 호출됨)\n",
    "print(len(book))\n"
   ]
  },
  {
   "cell_type": "code",
   "execution_count": null,
   "metadata": {},
   "outputs": [],
   "source": []
  }
 ],
 "metadata": {
  "kernelspec": {
   "display_name": "Python 3",
   "language": "python",
   "name": "python3"
  },
  "language_info": {
   "codemirror_mode": {
    "name": "ipython",
    "version": 3
   },
   "file_extension": ".py",
   "mimetype": "text/x-python",
   "name": "python",
   "nbconvert_exporter": "python",
   "pygments_lexer": "ipython3",
   "version": "3.6.5"
  }
 },
 "nbformat": 4,
 "nbformat_minor": 2
}
