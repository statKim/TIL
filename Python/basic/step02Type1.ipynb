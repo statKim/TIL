{
 "cells": [
  {
   "cell_type": "markdown",
   "metadata": {},
   "source": [
    "### 1. 파이썬 특징\n",
    "\n",
    "> 1. 대화식 인터프리터 - 컴파일 단계 없음<br>\n",
    ">    참고 : html/css/java script도 인터프리터 언어<br>\n",
    "> 2. 부울, 정수, 실수, 문자열, 데이터 구조, 함수가 객체로 구현<br>\n",
    ">    참고 : range() 함수도 객체<br>\n",
    "> 2. 파이썬 철학\n",
    "   명령 프롬프트창에 import this 입력해 보기"
   ]
  },
  {
   "cell_type": "code",
   "execution_count": 1,
   "metadata": {},
   "outputs": [
    {
     "name": "stdout",
     "output_type": "stream",
     "text": [
      "The Zen of Python, by Tim Peters\n",
      "\n",
      "Beautiful is better than ugly.\n",
      "Explicit is better than implicit.\n",
      "Simple is better than complex.\n",
      "Complex is better than complicated.\n",
      "Flat is better than nested.\n",
      "Sparse is better than dense.\n",
      "Readability counts.\n",
      "Special cases aren't special enough to break the rules.\n",
      "Although practicality beats purity.\n",
      "Errors should never pass silently.\n",
      "Unless explicitly silenced.\n",
      "In the face of ambiguity, refuse the temptation to guess.\n",
      "There should be one-- and preferably only one --obvious way to do it.\n",
      "Although that way may not be obvious at first unless you're Dutch.\n",
      "Now is better than never.\n",
      "Although never is often better than *right* now.\n",
      "If the implementation is hard to explain, it's a bad idea.\n",
      "If the implementation is easy to explain, it may be a good idea.\n",
      "Namespaces are one honking great idea -- let's do more of those!\n"
     ]
    }
   ],
   "source": [
    "import this"
   ]
  },
  {
   "cell_type": "markdown",
   "metadata": {},
   "source": [
    "### 2. 숫자\n",
    ">1. 연산자 참고 URL<br>\n",
    "   https://docs.python.org/3.7/reference/lexical_analysis.html#operators  <br>\n",
    "   / 는 부동도수점 포함해서 출력 <br>\n",
    "   //는 부동소수점을 제외한 결과 즉 정수가 출력<br>\n",
    " "
   ]
  },
  {
   "cell_type": "code",
   "execution_count": 2,
   "metadata": {},
   "outputs": [
    {
     "data": {
      "text/plain": [
       "1.8"
      ]
     },
     "execution_count": 2,
     "metadata": {},
     "output_type": "execute_result"
    }
   ],
   "source": [
    "9/5"
   ]
  },
  {
   "cell_type": "code",
   "execution_count": 3,
   "metadata": {},
   "outputs": [
    {
     "data": {
      "text/plain": [
       "1"
      ]
     },
     "execution_count": 3,
     "metadata": {},
     "output_type": "execute_result"
    }
   ],
   "source": [
    "9//5"
   ]
  },
  {
   "cell_type": "markdown",
   "metadata": {},
   "source": [
    "### 3. 형변환\n",
    ">1. int() : 다른 데이터 타입을 정수형으로 변환하려면<br>\n",
    ">2. float() : 부동 소수점으로 변환하기<br>\n",
    ">3. str() : 문자열로 변환하기"
   ]
  },
  {
   "cell_type": "markdown",
   "metadata": {},
   "source": [
    "### 4. Lab1 - 자동 판매기를 시뮬레이션하는 프로그램 만들기\n",
    "> 1. 문제<br>\n",
    "  사용자는 1000원짜리 지폐와 500원짜리 동전, 100원짜리 동전을 사용할 수 있고, 물건값을 입력하고 1000원권, 500원 짜리 동전, 100원짜리 동전을 사용할 수 있다.<br>\n",
    "  물건값을 입력하고 1000원권, 500원짜리 동전, 100원짜리 동전의 개수를 입력하면 거스름돈을 계산하여서 동전으로 변환한다<br>\n",
    "\n",
    ">2. 출력 결과 예시<br>\n",
    "물건값을 입력하시오: 750 <br>\n",
    "1000원 지폐개수: 1<br>\n",
    "500원 동전개수: 0<br>\n",
    "100원 동전개수: 0<br>\n",
    "출력 500원= 0 100원= 2 10원= 5 1원= 0<br>"
   ]
  },
  {
   "cell_type": "code",
   "execution_count": 12,
   "metadata": {},
   "outputs": [
    {
     "name": "stdout",
     "output_type": "stream",
     "text": [
      "출력 500원= 0 100원= 2 10원= 5 1원= 0\n"
     ]
    }
   ],
   "source": [
    "price = int(input(\"물건값을 입력하시오 : \"))\n",
    "n1000 = int(input(\"1000원 지폐개수 : \"))\n",
    "n500 = int(input(\"500원 동전개수 : \"))\n",
    "n100 = int(input(\"100원 동전개수 : \"))\n",
    "\n",
    "total = n1000*1000 + n500*500 + n100*100 # 내가 내는 금액\n",
    "rest = total - price # 거스름돈\n",
    "\n",
    "n1000 = rest // 1000\n",
    "#rest = rest - n1000*1000\n",
    "rest = rest%1000\n",
    "\n",
    "n500 = rest // 500\n",
    "rest = rest%500\n",
    "\n",
    "n100 = rest // 100\n",
    "rest = rest%100\n",
    "\n",
    "n10 = rest // 10\n",
    "rest = rest%10\n",
    "\n",
    "print(\"출력 500원=\",n500, \"100원=\",n100, \"10원=\",n10, \"1원=\",rest) # 1원짜리 동전 개수는 그냥 나머지 금액이 개수가 됨"
   ]
  },
  {
   "cell_type": "markdown",
   "metadata": {},
   "source": [
    "### 5. 문자열\n",
    ">https://docs.python.org/3.6/library/string.html#module-string\n",
    "\n",
    ">1. 문자들의 순서있는 집합(sequence of characters)<br>\n",
    "2. 여러줄로 이뤄진 문자열 표현도 가능 - 단일, 쌍따옴표로 처리<br>\n",
    "3. print 함수 사용시 특수 기호로 처리 가능 : \\r \n",
    "4. str() : 형변환 함수<br>\n",
    "5. 문자열의 반복<br>\n",
    "6. 문자열의 출력<br>\n",
    "7. 문자열 indexing : 문자열에서 한 문자를 얻기 위해서는 문자열 이름 뒤에 대괄호와 오프셋으로 지정<br>\n",
    "8. 문자열 slice : 문자열의 일부를 추출<br>\n",
    "9. 문자열 내장 함수 이해하기 - len(), split(), join(), startwith, find()<br>"
   ]
  },
  {
   "cell_type": "code",
   "execution_count": 15,
   "metadata": {},
   "outputs": [],
   "source": [
    "data = \"abcdefghijklmnopqrstuvwxyz-test\""
   ]
  },
  {
   "cell_type": "code",
   "execution_count": 24,
   "metadata": {},
   "outputs": [
    {
     "data": {
      "text/plain": [
       "['abcdefghijklmnopqrstuvwxyz', 'test']"
      ]
     },
     "execution_count": 24,
     "metadata": {},
     "output_type": "execute_result"
    }
   ],
   "source": [
    "# 특정표기(\"-\")를 기준으로 문자열 나누기 - 반환되는 데이터 타입은 list\n",
    "# index로 관리 가능\n",
    "v1 = data.split(\"-\")\n",
    "v1"
   ]
  },
  {
   "cell_type": "code",
   "execution_count": 26,
   "metadata": {},
   "outputs": [
    {
     "data": {
      "text/plain": [
       "'abcdefghijklmnopqrstuvwxyz-test'"
      ]
     },
     "execution_count": 26,
     "metadata": {},
     "output_type": "execute_result"
    }
   ],
   "source": [
    "data # 원본 데이터는 그대로"
   ]
  },
  {
   "cell_type": "code",
   "execution_count": 31,
   "metadata": {},
   "outputs": [
    {
     "data": {
      "text/plain": [
       "5"
      ]
     },
     "execution_count": 31,
     "metadata": {},
     "output_type": "execute_result"
    }
   ],
   "source": [
    "# find()라는 함수로 fg 포함여부 확인 - 결과값은 index\n",
    "# index는 0부터 시작\n",
    "# 참고 - 성민왈(데이터 없으면? -1 반환)\n",
    "data.find(\"fg\")"
   ]
  },
  {
   "cell_type": "code",
   "execution_count": 33,
   "metadata": {},
   "outputs": [
    {
     "name": "stdout",
     "output_type": "stream",
     "text": [
      "a b c d e f g h i j k l m n o p q r s t u v w x y z - t e s t "
     ]
    }
   ],
   "source": [
    "# 문자열도 for문으로 활용 가능\n",
    "for v2 in data:\n",
    "    print(v2, end=\" \")"
   ]
  },
  {
   "cell_type": "code",
   "execution_count": 38,
   "metadata": {},
   "outputs": [
    {
     "data": {
      "text/plain": [
       "'bc'"
      ]
     },
     "execution_count": 38,
     "metadata": {},
     "output_type": "execute_result"
    }
   ],
   "source": [
    "data[1:3] # abcdefghijklmnopqrstuvwxyz-test"
   ]
  },
  {
   "cell_type": "code",
   "execution_count": 37,
   "metadata": {},
   "outputs": [
    {
     "data": {
      "text/plain": [
       "'abcde'"
      ]
     },
     "execution_count": 37,
     "metadata": {},
     "output_type": "execute_result"
    }
   ],
   "source": [
    "data[0:5]"
   ]
  },
  {
   "cell_type": "code",
   "execution_count": 39,
   "metadata": {},
   "outputs": [
    {
     "data": {
      "text/plain": [
       "'cdefghijklmnopqrstuvwxyz-test'"
      ]
     },
     "execution_count": 39,
     "metadata": {},
     "output_type": "execute_result"
    }
   ],
   "source": [
    "data[2:]"
   ]
  },
  {
   "cell_type": "code",
   "execution_count": 40,
   "metadata": {},
   "outputs": [
    {
     "data": {
      "text/plain": [
       "'abcde'"
      ]
     },
     "execution_count": 40,
     "metadata": {},
     "output_type": "execute_result"
    }
   ],
   "source": [
    "data[:5]"
   ]
  },
  {
   "cell_type": "code",
   "execution_count": 41,
   "metadata": {},
   "outputs": [
    {
     "name": "stdout",
     "output_type": "stream",
     "text": [
      "c:/data\n"
     ]
    }
   ],
   "source": [
    "print(\"c:/data\")"
   ]
  },
  {
   "cell_type": "code",
   "execution_count": 42,
   "metadata": {},
   "outputs": [
    {
     "name": "stdout",
     "output_type": "stream",
     "text": [
      "c://data\n"
     ]
    }
   ],
   "source": [
    "print(\"c://data\")"
   ]
  },
  {
   "cell_type": "code",
   "execution_count": 43,
   "metadata": {},
   "outputs": [
    {
     "name": "stdout",
     "output_type": "stream",
     "text": [
      "c://data\n"
     ]
    }
   ],
   "source": [
    "# 경로 제대로 안나올 때 정확한 표현을 보이게 하려고 r 붙여줌\n",
    "print(r\"c://data\")"
   ]
  }
 ],
 "metadata": {
  "kernelspec": {
   "display_name": "Python 3",
   "language": "python",
   "name": "python3"
  },
  "language_info": {
   "codemirror_mode": {
    "name": "ipython",
    "version": 3
   },
   "file_extension": ".py",
   "mimetype": "text/x-python",
   "name": "python",
   "nbconvert_exporter": "python",
   "pygments_lexer": "ipython3",
   "version": "3.6.5"
  }
 },
 "nbformat": 4,
 "nbformat_minor": 2
}
