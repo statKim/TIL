{
 "cells": [
  {
   "cell_type": "markdown",
   "metadata": {},
   "source": [
    "이 노트북의 코드에 대한 설명은 [다중 평가 지표: cross_validate()](https://tensorflow.blog/2018/03/13/%EB%8B%A4%EC%A4%91-%ED%8F%89%EA%B0%80-%EC%A7%80%ED%91%9C-cross_validate/) 글을 참고하세요."
   ]
  },
  {
   "cell_type": "code",
   "execution_count": 1,
   "metadata": {},
   "outputs": [],
   "source": [
    "import pandas as pd\n",
    "import numpy as np\n",
    "from sklearn.datasets import load_digits\n",
    "from sklearn.model_selection import train_test_split, cross_val_score"
   ]
  },
  {
   "cell_type": "code",
   "execution_count": 2,
   "metadata": {},
   "outputs": [],
   "source": [
    "digits = load_digits()\n",
    "X_train, X_test, y_train, y_test = train_test_split(\n",
    "    digits.data, digits.target == 9, random_state=42)"
   ]
  },
  {
   "cell_type": "code",
   "execution_count": 3,
   "metadata": {},
   "outputs": [],
   "source": [
    "from sklearn.svm import SVC"
   ]
  },
  {
   "cell_type": "code",
   "execution_count": 4,
   "metadata": {},
   "outputs": [
    {
     "data": {
      "text/plain": [
       "array([0.90200445, 0.90200445, 0.90200445])"
      ]
     },
     "execution_count": 4,
     "metadata": {},
     "output_type": "execute_result"
    }
   ],
   "source": [
    "cross_val_score(SVC(gamma='auto'), X_train, y_train, cv=3)"
   ]
  },
  {
   "cell_type": "code",
   "execution_count": 5,
   "metadata": {},
   "outputs": [
    {
     "data": {
      "text/plain": [
       "array([0.90200445, 0.90200445, 0.90200445])"
      ]
     },
     "execution_count": 5,
     "metadata": {},
     "output_type": "execute_result"
    }
   ],
   "source": [
    "cross_val_score(SVC(gamma='auto'), X_train, y_train, scoring='accuracy', cv=3)"
   ]
  },
  {
   "cell_type": "code",
   "execution_count": 6,
   "metadata": {},
   "outputs": [],
   "source": [
    "from sklearn.model_selection import cross_validate"
   ]
  },
  {
   "cell_type": "code",
   "execution_count": 7,
   "metadata": {},
   "outputs": [
    {
     "data": {
      "text/plain": [
       "{'fit_time': array([0.07490873, 0.07496381, 0.07479692]),\n",
       " 'score_time': array([0.06400061, 0.06398821, 0.06391215]),\n",
       " 'test_accuracy': array([0.90200445, 0.90200445, 0.90200445]),\n",
       " 'test_roc_auc': array([0.99657688, 0.99814815, 0.99943883]),\n",
       " 'train_accuracy': array([1., 1., 1.]),\n",
       " 'train_roc_auc': array([1., 1., 1.])}"
      ]
     },
     "execution_count": 7,
     "metadata": {},
     "output_type": "execute_result"
    }
   ],
   "source": [
    "cross_validate(SVC(gamma='auto'), X_train, y_train, \n",
    "               scoring=['accuracy', 'roc_auc'], \n",
    "               return_train_score=True, cv=3)"
   ]
  },
  {
   "cell_type": "code",
   "execution_count": 8,
   "metadata": {},
   "outputs": [
    {
     "data": {
      "text/plain": [
       "array([0.90200445, 0.90200445, 0.90200445])"
      ]
     },
     "execution_count": 8,
     "metadata": {},
     "output_type": "execute_result"
    }
   ],
   "source": [
    "cross_validate(SVC(gamma='auto'), X_train, y_train, \n",
    "               scoring=['accuracy'], cv=3,\n",
    "               return_train_score=False)['test_accuracy']"
   ]
  },
  {
   "cell_type": "code",
   "execution_count": 9,
   "metadata": {},
   "outputs": [
    {
     "data": {
      "text/plain": [
       "{'fit_time': array([0.07550216, 0.07505178, 0.07465935]),\n",
       " 'score_time': array([0.0641892 , 0.06405234, 0.0639658 ]),\n",
       " 'test_acc': array([0.90200445, 0.90200445, 0.90200445]),\n",
       " 'test_ra': array([0.99657688, 0.99814815, 0.99943883])}"
      ]
     },
     "execution_count": 9,
     "metadata": {},
     "output_type": "execute_result"
    }
   ],
   "source": [
    "cross_validate(SVC(gamma='auto'), X_train, y_train, \n",
    "               scoring={'acc':'accuracy', 'ra':'roc_auc'}, \n",
    "               return_train_score=False, cv=3)"
   ]
  },
  {
   "cell_type": "code",
   "execution_count": 10,
   "metadata": {},
   "outputs": [],
   "source": [
    "from sklearn.model_selection import GridSearchCV"
   ]
  },
  {
   "cell_type": "code",
   "execution_count": 11,
   "metadata": {},
   "outputs": [],
   "source": [
    "param_grid = {'gamma': [0.0001, 0.01, 0.1, 1, 10]}"
   ]
  },
  {
   "cell_type": "code",
   "execution_count": 12,
   "metadata": {},
   "outputs": [
    {
     "data": {
      "text/plain": [
       "GridSearchCV(cv=3, error_score='raise-deprecating',\n",
       "       estimator=SVC(C=1.0, cache_size=200, class_weight=None, coef0=0.0,\n",
       "  decision_function_shape='ovr', degree=3, gamma='auto_deprecated',\n",
       "  kernel='rbf', max_iter=-1, probability=False, random_state=None,\n",
       "  shrinking=True, tol=0.001, verbose=False),\n",
       "       fit_params=None, iid='warn', n_jobs=None,\n",
       "       param_grid={'gamma': [0.0001, 0.01, 0.1, 1, 10]},\n",
       "       pre_dispatch='2*n_jobs', refit='accuracy', return_train_score=True,\n",
       "       scoring=['accuracy'], verbose=0)"
      ]
     },
     "execution_count": 12,
     "metadata": {},
     "output_type": "execute_result"
    }
   ],
   "source": [
    "grid = GridSearchCV(SVC(), param_grid=param_grid, \n",
    "                    scoring=['accuracy'], refit='accuracy',\n",
    "                    return_train_score=True, cv=3)\n",
    "grid.fit(X_train, y_train)"
   ]
  },
  {
   "cell_type": "code",
   "execution_count": 13,
   "metadata": {},
   "outputs": [
    {
     "data": {
      "text/plain": [
       "{'gamma': 0.0001}"
      ]
     },
     "execution_count": 13,
     "metadata": {},
     "output_type": "execute_result"
    }
   ],
   "source": [
    "grid.best_params_"
   ]
  },
  {
   "cell_type": "code",
   "execution_count": 14,
   "metadata": {},
   "outputs": [
    {
     "data": {
      "text/plain": [
       "0.9651076466221232"
      ]
     },
     "execution_count": 14,
     "metadata": {},
     "output_type": "execute_result"
    }
   ],
   "source": [
    "grid.best_score_"
   ]
  },
  {
   "cell_type": "code",
   "execution_count": 15,
   "metadata": {},
   "outputs": [
    {
     "data": {
      "text/html": [
       "<div>\n",
       "<style scoped>\n",
       "    .dataframe tbody tr th:only-of-type {\n",
       "        vertical-align: middle;\n",
       "    }\n",
       "\n",
       "    .dataframe tbody tr th {\n",
       "        vertical-align: top;\n",
       "    }\n",
       "\n",
       "    .dataframe thead th {\n",
       "        text-align: right;\n",
       "    }\n",
       "</style>\n",
       "<table border=\"1\" class=\"dataframe\">\n",
       "  <thead>\n",
       "    <tr style=\"text-align: right;\">\n",
       "      <th></th>\n",
       "      <th>0</th>\n",
       "      <th>1</th>\n",
       "      <th>2</th>\n",
       "      <th>3</th>\n",
       "      <th>4</th>\n",
       "    </tr>\n",
       "  </thead>\n",
       "  <tbody>\n",
       "    <tr>\n",
       "      <th>mean_fit_time</th>\n",
       "      <td>0.0146472</td>\n",
       "      <td>0.0740111</td>\n",
       "      <td>0.0753871</td>\n",
       "      <td>0.0645018</td>\n",
       "      <td>0.0635866</td>\n",
       "    </tr>\n",
       "    <tr>\n",
       "      <th>mean_score_time</th>\n",
       "      <td>0.006399</td>\n",
       "      <td>0.031614</td>\n",
       "      <td>0.0316859</td>\n",
       "      <td>0.0278952</td>\n",
       "      <td>0.0275598</td>\n",
       "    </tr>\n",
       "    <tr>\n",
       "      <th>mean_test_accuracy</th>\n",
       "      <td>0.965108</td>\n",
       "      <td>0.902004</td>\n",
       "      <td>0.902004</td>\n",
       "      <td>0.902004</td>\n",
       "      <td>0.902004</td>\n",
       "    </tr>\n",
       "    <tr>\n",
       "      <th>mean_train_accuracy</th>\n",
       "      <td>0.970676</td>\n",
       "      <td>1</td>\n",
       "      <td>1</td>\n",
       "      <td>1</td>\n",
       "      <td>1</td>\n",
       "    </tr>\n",
       "    <tr>\n",
       "      <th>param_gamma</th>\n",
       "      <td>0.0001</td>\n",
       "      <td>0.01</td>\n",
       "      <td>0.1</td>\n",
       "      <td>1</td>\n",
       "      <td>10</td>\n",
       "    </tr>\n",
       "    <tr>\n",
       "      <th>params</th>\n",
       "      <td>{'gamma': 0.0001}</td>\n",
       "      <td>{'gamma': 0.01}</td>\n",
       "      <td>{'gamma': 0.1}</td>\n",
       "      <td>{'gamma': 1}</td>\n",
       "      <td>{'gamma': 10}</td>\n",
       "    </tr>\n",
       "    <tr>\n",
       "      <th>rank_test_accuracy</th>\n",
       "      <td>1</td>\n",
       "      <td>2</td>\n",
       "      <td>2</td>\n",
       "      <td>2</td>\n",
       "      <td>2</td>\n",
       "    </tr>\n",
       "    <tr>\n",
       "      <th>split0_test_accuracy</th>\n",
       "      <td>0.966592</td>\n",
       "      <td>0.902004</td>\n",
       "      <td>0.902004</td>\n",
       "      <td>0.902004</td>\n",
       "      <td>0.902004</td>\n",
       "    </tr>\n",
       "    <tr>\n",
       "      <th>split0_train_accuracy</th>\n",
       "      <td>0.975501</td>\n",
       "      <td>1</td>\n",
       "      <td>1</td>\n",
       "      <td>1</td>\n",
       "      <td>1</td>\n",
       "    </tr>\n",
       "    <tr>\n",
       "      <th>split1_test_accuracy</th>\n",
       "      <td>0.96882</td>\n",
       "      <td>0.902004</td>\n",
       "      <td>0.902004</td>\n",
       "      <td>0.902004</td>\n",
       "      <td>0.902004</td>\n",
       "    </tr>\n",
       "    <tr>\n",
       "      <th>split1_train_accuracy</th>\n",
       "      <td>0.962138</td>\n",
       "      <td>1</td>\n",
       "      <td>1</td>\n",
       "      <td>1</td>\n",
       "      <td>1</td>\n",
       "    </tr>\n",
       "    <tr>\n",
       "      <th>split2_test_accuracy</th>\n",
       "      <td>0.959911</td>\n",
       "      <td>0.902004</td>\n",
       "      <td>0.902004</td>\n",
       "      <td>0.902004</td>\n",
       "      <td>0.902004</td>\n",
       "    </tr>\n",
       "    <tr>\n",
       "      <th>split2_train_accuracy</th>\n",
       "      <td>0.974388</td>\n",
       "      <td>1</td>\n",
       "      <td>1</td>\n",
       "      <td>1</td>\n",
       "      <td>1</td>\n",
       "    </tr>\n",
       "    <tr>\n",
       "      <th>std_fit_time</th>\n",
       "      <td>0.000158089</td>\n",
       "      <td>0.000295893</td>\n",
       "      <td>0.000170602</td>\n",
       "      <td>0.000433614</td>\n",
       "      <td>8.63058e-05</td>\n",
       "    </tr>\n",
       "    <tr>\n",
       "      <th>std_score_time</th>\n",
       "      <td>6.83965e-05</td>\n",
       "      <td>9.35428e-05</td>\n",
       "      <td>5.16895e-05</td>\n",
       "      <td>1.80601e-05</td>\n",
       "      <td>3.78144e-06</td>\n",
       "    </tr>\n",
       "    <tr>\n",
       "      <th>std_test_accuracy</th>\n",
       "      <td>0.00378546</td>\n",
       "      <td>0</td>\n",
       "      <td>0</td>\n",
       "      <td>0</td>\n",
       "      <td>0</td>\n",
       "    </tr>\n",
       "    <tr>\n",
       "      <th>std_train_accuracy</th>\n",
       "      <td>0.00605401</td>\n",
       "      <td>0</td>\n",
       "      <td>0</td>\n",
       "      <td>0</td>\n",
       "      <td>0</td>\n",
       "    </tr>\n",
       "  </tbody>\n",
       "</table>\n",
       "</div>"
      ],
      "text/plain": [
       "                                       0                1               2  \\\n",
       "mean_fit_time                  0.0146472        0.0740111       0.0753871   \n",
       "mean_score_time                 0.006399         0.031614       0.0316859   \n",
       "mean_test_accuracy              0.965108         0.902004        0.902004   \n",
       "mean_train_accuracy             0.970676                1               1   \n",
       "param_gamma                       0.0001             0.01             0.1   \n",
       "params                 {'gamma': 0.0001}  {'gamma': 0.01}  {'gamma': 0.1}   \n",
       "rank_test_accuracy                     1                2               2   \n",
       "split0_test_accuracy            0.966592         0.902004        0.902004   \n",
       "split0_train_accuracy           0.975501                1               1   \n",
       "split1_test_accuracy             0.96882         0.902004        0.902004   \n",
       "split1_train_accuracy           0.962138                1               1   \n",
       "split2_test_accuracy            0.959911         0.902004        0.902004   \n",
       "split2_train_accuracy           0.974388                1               1   \n",
       "std_fit_time                 0.000158089      0.000295893     0.000170602   \n",
       "std_score_time               6.83965e-05      9.35428e-05     5.16895e-05   \n",
       "std_test_accuracy             0.00378546                0               0   \n",
       "std_train_accuracy            0.00605401                0               0   \n",
       "\n",
       "                                  3              4  \n",
       "mean_fit_time             0.0645018      0.0635866  \n",
       "mean_score_time           0.0278952      0.0275598  \n",
       "mean_test_accuracy         0.902004       0.902004  \n",
       "mean_train_accuracy               1              1  \n",
       "param_gamma                       1             10  \n",
       "params                 {'gamma': 1}  {'gamma': 10}  \n",
       "rank_test_accuracy                2              2  \n",
       "split0_test_accuracy       0.902004       0.902004  \n",
       "split0_train_accuracy             1              1  \n",
       "split1_test_accuracy       0.902004       0.902004  \n",
       "split1_train_accuracy             1              1  \n",
       "split2_test_accuracy       0.902004       0.902004  \n",
       "split2_train_accuracy             1              1  \n",
       "std_fit_time            0.000433614    8.63058e-05  \n",
       "std_score_time          1.80601e-05    3.78144e-06  \n",
       "std_test_accuracy                 0              0  \n",
       "std_train_accuracy                0              0  "
      ]
     },
     "execution_count": 15,
     "metadata": {},
     "output_type": "execute_result"
    }
   ],
   "source": [
    "np.transpose(pd.DataFrame(grid.cv_results_))"
   ]
  },
  {
   "cell_type": "code",
   "execution_count": 16,
   "metadata": {},
   "outputs": [
    {
     "data": {
      "text/plain": [
       "GridSearchCV(cv=3, error_score='raise-deprecating',\n",
       "       estimator=SVC(C=1.0, cache_size=200, class_weight=None, coef0=0.0,\n",
       "  decision_function_shape='ovr', degree=3, gamma='auto_deprecated',\n",
       "  kernel='rbf', max_iter=-1, probability=False, random_state=None,\n",
       "  shrinking=True, tol=0.001, verbose=False),\n",
       "       fit_params=None, iid='warn', n_jobs=None,\n",
       "       param_grid={'gamma': [0.0001, 0.01, 0.1, 1, 10]},\n",
       "       pre_dispatch='2*n_jobs', refit='ra', return_train_score=True,\n",
       "       scoring={'acc': 'accuracy', 'ra': 'roc_auc'}, verbose=0)"
      ]
     },
     "execution_count": 16,
     "metadata": {},
     "output_type": "execute_result"
    }
   ],
   "source": [
    "grid = GridSearchCV(SVC(), param_grid=param_grid, \n",
    "                    scoring={'acc':'accuracy', 'ra':'roc_auc'}, refit='ra',\n",
    "                    return_train_score=True, cv=3)\n",
    "grid.fit(X_train, y_train)"
   ]
  },
  {
   "cell_type": "code",
   "execution_count": 17,
   "metadata": {},
   "outputs": [
    {
     "data": {
      "text/plain": [
       "{'gamma': 0.01}"
      ]
     },
     "execution_count": 17,
     "metadata": {},
     "output_type": "execute_result"
    }
   ],
   "source": [
    "grid.best_params_"
   ]
  },
  {
   "cell_type": "code",
   "execution_count": 18,
   "metadata": {},
   "outputs": [
    {
     "data": {
      "text/plain": [
       "0.9983352038907595"
      ]
     },
     "execution_count": 18,
     "metadata": {},
     "output_type": "execute_result"
    }
   ],
   "source": [
    "grid.best_score_"
   ]
  },
  {
   "cell_type": "code",
   "execution_count": 19,
   "metadata": {},
   "outputs": [
    {
     "data": {
      "text/html": [
       "<div>\n",
       "<style scoped>\n",
       "    .dataframe tbody tr th:only-of-type {\n",
       "        vertical-align: middle;\n",
       "    }\n",
       "\n",
       "    .dataframe tbody tr th {\n",
       "        vertical-align: top;\n",
       "    }\n",
       "\n",
       "    .dataframe thead th {\n",
       "        text-align: right;\n",
       "    }\n",
       "</style>\n",
       "<table border=\"1\" class=\"dataframe\">\n",
       "  <thead>\n",
       "    <tr style=\"text-align: right;\">\n",
       "      <th></th>\n",
       "      <th>0</th>\n",
       "      <th>1</th>\n",
       "      <th>2</th>\n",
       "      <th>3</th>\n",
       "      <th>4</th>\n",
       "    </tr>\n",
       "  </thead>\n",
       "  <tbody>\n",
       "    <tr>\n",
       "      <th>mean_fit_time</th>\n",
       "      <td>0.0147377</td>\n",
       "      <td>0.0735104</td>\n",
       "      <td>0.0751544</td>\n",
       "      <td>0.0647422</td>\n",
       "      <td>0.0634264</td>\n",
       "    </tr>\n",
       "    <tr>\n",
       "      <th>mean_score_time</th>\n",
       "      <td>0.0133429</td>\n",
       "      <td>0.0636703</td>\n",
       "      <td>0.0639271</td>\n",
       "      <td>0.0558018</td>\n",
       "      <td>0.0551547</td>\n",
       "    </tr>\n",
       "    <tr>\n",
       "      <th>mean_test_acc</th>\n",
       "      <td>0.965108</td>\n",
       "      <td>0.902004</td>\n",
       "      <td>0.902004</td>\n",
       "      <td>0.902004</td>\n",
       "      <td>0.902004</td>\n",
       "    </tr>\n",
       "    <tr>\n",
       "      <th>mean_test_ra</th>\n",
       "      <td>0.988403</td>\n",
       "      <td>0.998335</td>\n",
       "      <td>0.918986</td>\n",
       "      <td>0.5</td>\n",
       "      <td>0.5</td>\n",
       "    </tr>\n",
       "    <tr>\n",
       "      <th>mean_train_acc</th>\n",
       "      <td>0.970676</td>\n",
       "      <td>1</td>\n",
       "      <td>1</td>\n",
       "      <td>1</td>\n",
       "      <td>1</td>\n",
       "    </tr>\n",
       "    <tr>\n",
       "      <th>mean_train_ra</th>\n",
       "      <td>0.992134</td>\n",
       "      <td>1</td>\n",
       "      <td>1</td>\n",
       "      <td>1</td>\n",
       "      <td>1</td>\n",
       "    </tr>\n",
       "    <tr>\n",
       "      <th>param_gamma</th>\n",
       "      <td>0.0001</td>\n",
       "      <td>0.01</td>\n",
       "      <td>0.1</td>\n",
       "      <td>1</td>\n",
       "      <td>10</td>\n",
       "    </tr>\n",
       "    <tr>\n",
       "      <th>params</th>\n",
       "      <td>{'gamma': 0.0001}</td>\n",
       "      <td>{'gamma': 0.01}</td>\n",
       "      <td>{'gamma': 0.1}</td>\n",
       "      <td>{'gamma': 1}</td>\n",
       "      <td>{'gamma': 10}</td>\n",
       "    </tr>\n",
       "    <tr>\n",
       "      <th>rank_test_acc</th>\n",
       "      <td>1</td>\n",
       "      <td>2</td>\n",
       "      <td>2</td>\n",
       "      <td>2</td>\n",
       "      <td>2</td>\n",
       "    </tr>\n",
       "    <tr>\n",
       "      <th>rank_test_ra</th>\n",
       "      <td>2</td>\n",
       "      <td>1</td>\n",
       "      <td>3</td>\n",
       "      <td>4</td>\n",
       "      <td>4</td>\n",
       "    </tr>\n",
       "    <tr>\n",
       "      <th>split0_test_acc</th>\n",
       "      <td>0.966592</td>\n",
       "      <td>0.902004</td>\n",
       "      <td>0.902004</td>\n",
       "      <td>0.902004</td>\n",
       "      <td>0.902004</td>\n",
       "    </tr>\n",
       "    <tr>\n",
       "      <th>split0_test_ra</th>\n",
       "      <td>0.98367</td>\n",
       "      <td>0.997419</td>\n",
       "      <td>0.934007</td>\n",
       "      <td>0.5</td>\n",
       "      <td>0.5</td>\n",
       "    </tr>\n",
       "    <tr>\n",
       "      <th>split0_train_acc</th>\n",
       "      <td>0.975501</td>\n",
       "      <td>1</td>\n",
       "      <td>1</td>\n",
       "      <td>1</td>\n",
       "      <td>1</td>\n",
       "    </tr>\n",
       "    <tr>\n",
       "      <th>split0_train_ra</th>\n",
       "      <td>0.992017</td>\n",
       "      <td>1</td>\n",
       "      <td>1</td>\n",
       "      <td>1</td>\n",
       "      <td>1</td>\n",
       "    </tr>\n",
       "    <tr>\n",
       "      <th>split1_test_acc</th>\n",
       "      <td>0.96882</td>\n",
       "      <td>0.902004</td>\n",
       "      <td>0.902004</td>\n",
       "      <td>0.902004</td>\n",
       "      <td>0.902004</td>\n",
       "    </tr>\n",
       "    <tr>\n",
       "      <th>split1_test_ra</th>\n",
       "      <td>0.987149</td>\n",
       "      <td>0.998148</td>\n",
       "      <td>0.912458</td>\n",
       "      <td>0.5</td>\n",
       "      <td>0.5</td>\n",
       "    </tr>\n",
       "    <tr>\n",
       "      <th>split1_train_acc</th>\n",
       "      <td>0.962138</td>\n",
       "      <td>1</td>\n",
       "      <td>1</td>\n",
       "      <td>1</td>\n",
       "      <td>1</td>\n",
       "    </tr>\n",
       "    <tr>\n",
       "      <th>split1_train_ra</th>\n",
       "      <td>0.994935</td>\n",
       "      <td>1</td>\n",
       "      <td>1</td>\n",
       "      <td>1</td>\n",
       "      <td>1</td>\n",
       "    </tr>\n",
       "    <tr>\n",
       "      <th>split2_test_acc</th>\n",
       "      <td>0.959911</td>\n",
       "      <td>0.902004</td>\n",
       "      <td>0.902004</td>\n",
       "      <td>0.902004</td>\n",
       "      <td>0.902004</td>\n",
       "    </tr>\n",
       "    <tr>\n",
       "      <th>split2_test_ra</th>\n",
       "      <td>0.994388</td>\n",
       "      <td>0.999439</td>\n",
       "      <td>0.910494</td>\n",
       "      <td>0.5</td>\n",
       "      <td>0.5</td>\n",
       "    </tr>\n",
       "    <tr>\n",
       "      <th>split2_train_acc</th>\n",
       "      <td>0.974388</td>\n",
       "      <td>1</td>\n",
       "      <td>1</td>\n",
       "      <td>1</td>\n",
       "      <td>1</td>\n",
       "    </tr>\n",
       "    <tr>\n",
       "      <th>split2_train_ra</th>\n",
       "      <td>0.98945</td>\n",
       "      <td>1</td>\n",
       "      <td>1</td>\n",
       "      <td>1</td>\n",
       "      <td>1</td>\n",
       "    </tr>\n",
       "    <tr>\n",
       "      <th>std_fit_time</th>\n",
       "      <td>9.40773e-05</td>\n",
       "      <td>0.00028927</td>\n",
       "      <td>5.43965e-05</td>\n",
       "      <td>0.000951133</td>\n",
       "      <td>0.000134348</td>\n",
       "    </tr>\n",
       "    <tr>\n",
       "      <th>std_score_time</th>\n",
       "      <td>8.14562e-05</td>\n",
       "      <td>0.000135631</td>\n",
       "      <td>0.00015892</td>\n",
       "      <td>0.000172235</td>\n",
       "      <td>7.82513e-05</td>\n",
       "    </tr>\n",
       "    <tr>\n",
       "      <th>std_test_acc</th>\n",
       "      <td>0.00378546</td>\n",
       "      <td>0</td>\n",
       "      <td>0</td>\n",
       "      <td>0</td>\n",
       "      <td>0</td>\n",
       "    </tr>\n",
       "    <tr>\n",
       "      <th>std_test_ra</th>\n",
       "      <td>0.00446456</td>\n",
       "      <td>0.000835283</td>\n",
       "      <td>0.0106514</td>\n",
       "      <td>0</td>\n",
       "      <td>0</td>\n",
       "    </tr>\n",
       "    <tr>\n",
       "      <th>std_train_acc</th>\n",
       "      <td>0.00605401</td>\n",
       "      <td>0</td>\n",
       "      <td>0</td>\n",
       "      <td>0</td>\n",
       "      <td>0</td>\n",
       "    </tr>\n",
       "    <tr>\n",
       "      <th>std_train_ra</th>\n",
       "      <td>0.00224093</td>\n",
       "      <td>0</td>\n",
       "      <td>6.40988e-17</td>\n",
       "      <td>0</td>\n",
       "      <td>0</td>\n",
       "    </tr>\n",
       "  </tbody>\n",
       "</table>\n",
       "</div>"
      ],
      "text/plain": [
       "                                  0                1               2  \\\n",
       "mean_fit_time             0.0147377        0.0735104       0.0751544   \n",
       "mean_score_time           0.0133429        0.0636703       0.0639271   \n",
       "mean_test_acc              0.965108         0.902004        0.902004   \n",
       "mean_test_ra               0.988403         0.998335        0.918986   \n",
       "mean_train_acc             0.970676                1               1   \n",
       "mean_train_ra              0.992134                1               1   \n",
       "param_gamma                  0.0001             0.01             0.1   \n",
       "params            {'gamma': 0.0001}  {'gamma': 0.01}  {'gamma': 0.1}   \n",
       "rank_test_acc                     1                2               2   \n",
       "rank_test_ra                      2                1               3   \n",
       "split0_test_acc            0.966592         0.902004        0.902004   \n",
       "split0_test_ra              0.98367         0.997419        0.934007   \n",
       "split0_train_acc           0.975501                1               1   \n",
       "split0_train_ra            0.992017                1               1   \n",
       "split1_test_acc             0.96882         0.902004        0.902004   \n",
       "split1_test_ra             0.987149         0.998148        0.912458   \n",
       "split1_train_acc           0.962138                1               1   \n",
       "split1_train_ra            0.994935                1               1   \n",
       "split2_test_acc            0.959911         0.902004        0.902004   \n",
       "split2_test_ra             0.994388         0.999439        0.910494   \n",
       "split2_train_acc           0.974388                1               1   \n",
       "split2_train_ra             0.98945                1               1   \n",
       "std_fit_time            9.40773e-05       0.00028927     5.43965e-05   \n",
       "std_score_time          8.14562e-05      0.000135631      0.00015892   \n",
       "std_test_acc             0.00378546                0               0   \n",
       "std_test_ra              0.00446456      0.000835283       0.0106514   \n",
       "std_train_acc            0.00605401                0               0   \n",
       "std_train_ra             0.00224093                0     6.40988e-17   \n",
       "\n",
       "                             3              4  \n",
       "mean_fit_time        0.0647422      0.0634264  \n",
       "mean_score_time      0.0558018      0.0551547  \n",
       "mean_test_acc         0.902004       0.902004  \n",
       "mean_test_ra               0.5            0.5  \n",
       "mean_train_acc               1              1  \n",
       "mean_train_ra                1              1  \n",
       "param_gamma                  1             10  \n",
       "params            {'gamma': 1}  {'gamma': 10}  \n",
       "rank_test_acc                2              2  \n",
       "rank_test_ra                 4              4  \n",
       "split0_test_acc       0.902004       0.902004  \n",
       "split0_test_ra             0.5            0.5  \n",
       "split0_train_acc             1              1  \n",
       "split0_train_ra              1              1  \n",
       "split1_test_acc       0.902004       0.902004  \n",
       "split1_test_ra             0.5            0.5  \n",
       "split1_train_acc             1              1  \n",
       "split1_train_ra              1              1  \n",
       "split2_test_acc       0.902004       0.902004  \n",
       "split2_test_ra             0.5            0.5  \n",
       "split2_train_acc             1              1  \n",
       "split2_train_ra              1              1  \n",
       "std_fit_time       0.000951133    0.000134348  \n",
       "std_score_time     0.000172235    7.82513e-05  \n",
       "std_test_acc                 0              0  \n",
       "std_test_ra                  0              0  \n",
       "std_train_acc                0              0  \n",
       "std_train_ra                 0              0  "
      ]
     },
     "execution_count": 19,
     "metadata": {},
     "output_type": "execute_result"
    }
   ],
   "source": [
    "np.transpose(pd.DataFrame(grid.cv_results_))"
   ]
  },
  {
   "cell_type": "code",
   "execution_count": 20,
   "metadata": {},
   "outputs": [
    {
     "data": {
      "text/plain": [
       "SVC(C=1.0, cache_size=200, class_weight=None, coef0=0.0,\n",
       "  decision_function_shape='ovr', degree=3, gamma=0.01, kernel='rbf',\n",
       "  max_iter=-1, probability=False, random_state=None, shrinking=True,\n",
       "  tol=0.001, verbose=False)"
      ]
     },
     "execution_count": 20,
     "metadata": {},
     "output_type": "execute_result"
    }
   ],
   "source": [
    "grid.best_estimator_"
   ]
  }
 ],
 "metadata": {
  "kernelspec": {
   "display_name": "Python 3",
   "language": "python",
   "name": "python3"
  },
  "language_info": {
   "codemirror_mode": {
    "name": "ipython",
    "version": 3
   },
   "file_extension": ".py",
   "mimetype": "text/x-python",
   "name": "python",
   "nbconvert_exporter": "python",
   "pygments_lexer": "ipython3",
   "version": "3.5.6"
  }
 },
 "nbformat": 4,
 "nbformat_minor": 2
}
