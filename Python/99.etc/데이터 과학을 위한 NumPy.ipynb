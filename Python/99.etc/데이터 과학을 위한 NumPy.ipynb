{
 "cells": [
  {
   "cell_type": "markdown",
   "metadata": {
    "colab_type": "text",
    "id": "XOmhYVEwXIcH"
   },
   "source": [
    "![alt text](https://lh3.googleusercontent.com/jS2nj0Ju7rvJJangnpFrnveoLlMAVc-Ee-k38WW3bRT1rpOooDKa8c3Uh2hZs5j6-XNc1ZFry07GtQTX8sYRpyZGgz8TZuBpGw75pAZqSKQRSfKA0Isy3I-222AHDlZa1WNAvFGmQLfeR4S96qK3agRN-br82Od1243W4uVZbFmbkZPykYy4_qDeE2UrbT1nVr8QZccLXjjtjiJRM8WQ_8eZFSRUBP1BMQg5AG6l7tdGXuWlQDmqFOFcDcEQE5ZX30N7TIcDSOiMWjp0gGZgtMfaR983h4NP8dUp-ej-Vo1D4FSpa_zTpjvKRrpbfnVir1LpIw0yC9OjD7aCMtLcul9Npe-voMkiJgz5XNvFatCgq5WmfcoaDDvkkEQZgp7LQoOqqprzvdItdiyWagMtCVQONtypoZhc2kQQkfav2M0sC9kG4AXDJ6nOlpi8iSbJSVVPKHN9wzGzN1gxo2dDtaua9VfHd5MTOWiRV6ArL6pzwzSzAPSAgUFZZhc4RHGzk5ChHsJBaO3gzvn8GF4Cr7P7GahgXEhw98u1Z0VlNqDmp37B4cUHm5dujBm7jQXGTvPqM5zuDHwiviFId6OMjcjW6xZNckM9_KM8opmUYN_RKP-YPs51qrz9NVksS73JOhHpBHtVQMDCFycT6ZSKv-zdwZN7_FW7=w2160-h856-no)"
   ]
  },
  {
   "cell_type": "markdown",
   "metadata": {
    "colab_type": "text",
    "id": "6cMgoMfCa04s"
   },
   "source": [
    "# 들어가며"
   ]
  },
  {
   "cell_type": "markdown",
   "metadata": {
    "colab_type": "text",
    "id": "RbbfuWbnYG4p"
   },
   "source": [
    "## Google Colab 사용 방법"
   ]
  },
  {
   "cell_type": "markdown",
   "metadata": {
    "colab_type": "text",
    "id": "N-19yBZf9p0X"
   },
   "source": [
    "- 방향키 ↑↓: 셀 간 이동\n",
    "- Enter: 편집모드\n",
    "- Ctrl + Enter: 셀 실행\n",
    "- Shift + Enter: 셀 실행 + 다음 셀 선택\n",
    "\n",
    "---\n",
    "\n",
    "- Ctrl +M D: 셀 삭제\n",
    "- Ctrl + M K: 셀 위로 이동\n",
    "- Ctrl + M J: 셀 아래로 이동"
   ]
  },
  {
   "cell_type": "markdown",
   "metadata": {
    "colab_type": "text",
    "id": "lzIDPJDeUOjE"
   },
   "source": [
    "# NumPy의 존재 이유\n"
   ]
  },
  {
   "cell_type": "markdown",
   "metadata": {
    "colab_type": "text",
    "id": "ph6QEFZ7hH7n"
   },
   "source": [
    "![alt text](https://lh3.googleusercontent.com/AP7oMf3hAk2jjhu_cHRNZ6JHxjOZ9FOtthMkSw_wPoRBgSuroW8s4BhP5vAeOrMoBlc7fTeX79ItwpWn5Wmek4wunewkSVe_emEmmFxJUlFbM-a4mFE06ghc5dmpsa9pIRbXQbadTpnOYw9lY9Ujr-UKp5rqi_-IUEh7SFUoWhcGv2ch60Kz3u1j0TWukwW4xCOXd85gkesdMHsaMo_qllLu1mzWeIrABxeASD3n8RuWyiETGJruH5mpiq0X7PkprxJkbwTmaOfwQTolZp64xW05yvXb2xEN_dJuHaWvhCdX05RVcqjw6JjWrqnmLKSwYKgHUy-l4yXBgsZFSh0Vi-di4-DB4e5LxNJa_9ykJuC9sr_msdeub6EMBJnvwziHIkdqwmfUUEl13EHFpkbt2AsJVeSj-ctJTUIxGCx1kD2OPA0VID_BTNpJDBXH1RtMC8JoRysIClD4NVL0tSh96R0ZownNqE8FZlextg86VQuhP7_CRSFtuEdzD5I0SxHDqPWhHzA9Okb5gmDwBykEf55jla53ta1thdxwKG8uJAm9ksW0lnsmG7HcA0l6UJibRJVhnf4-jEmJ_0CvCQ61rf0lbP_-bJOGOy3HZP5NrqOfVbJvX0Ey9UYURK1H7XuhDdydyTi4JY_V-7htYv7RxKUTED5Bd7R1WiQnCIYwbrDPbTyR6KHZgO7ydMp37hOlr9Fw745ASonaxuyPA2XTdRSCXg=w708-h371-no)\n",
    "\n",
    "NumPy는 Pandas, Scikit-learn, Tensorflow등 데이터 사이언스 분야에서 사용되는 라이브러리들의 토대가 되는 라이브러리입니다. NumPy 그 자체로는 높은 수준의 데이터 분석 기능을 제공하지 않지만 NumPy를 활용해 데이터를 Python상에서 표현하고 다룰 줄 알아야만 데이터 분석이라는 그 이후 단계로 나아갈 수 있습니다.\n",
    "\n",
    "이번 강의에서는 데이터 분석의 토대가 될 NumPy의 기본 기능들과 더 빠르고 효율적인 연산을 위한 NumPy 활용법들을 다룰 예정입니다."
   ]
  },
  {
   "cell_type": "markdown",
   "metadata": {
    "colab_type": "text",
    "id": "-532MytnX9MS"
   },
   "source": [
    "## 데이터 과학에서 다차원 배열의 필요성"
   ]
  },
  {
   "cell_type": "markdown",
   "metadata": {
    "colab_type": "text",
    "id": "-Q-jtnLMzU_E"
   },
   "source": [
    "### 숫자 자료형"
   ]
  },
  {
   "cell_type": "markdown",
   "metadata": {
    "colab_type": "text",
    "id": "3dM8Kpc6ieIl"
   },
   "source": [
    "파이썬에서는 데이터를 숫자형 변수에 저장할 수 있습니다.\n",
    "\n",
    "세명의 학생들로 이루어진 반이 있고 이 학생들의 수학점수를 각각의 **숫자형 변수**에 저장하는 경우 아래처럼 처리할 수 있습니다."
   ]
  },
  {
   "cell_type": "code",
   "execution_count": null,
   "metadata": {
    "colab": {},
    "colab_type": "code",
    "id": "uBPH_VzffLcT"
   },
   "outputs": [],
   "source": [
    "MathScore1 = 11\n",
    "MathScore2 = 12\n",
    "MathScore3 = 13"
   ]
  },
  {
   "cell_type": "markdown",
   "metadata": {
    "colab_type": "text",
    "id": "8S69KSR0k-Ua"
   },
   "source": [
    "점수들의 합과, 평균은 아래처럼 구할 수 있습니다."
   ]
  },
  {
   "cell_type": "code",
   "execution_count": 2,
   "metadata": {
    "colab": {
     "base_uri": "https://localhost:8080/",
     "height": 52
    },
    "colab_type": "code",
    "executionInfo": {
     "elapsed": 697,
     "status": "ok",
     "timestamp": 1550031426771,
     "user": {
      "displayName": "kang sanghun",
      "photoUrl": "",
      "userId": "12450865979153508193"
     },
     "user_tz": -540
    },
    "id": "17qPqrBJfU5o",
    "outputId": "7e7e9cd1-846a-45f6-ac3b-4c22932cf8d5"
   },
   "outputs": [
    {
     "name": "stdout",
     "output_type": "stream",
     "text": [
      "수학점수 합: 36\n",
      "수학점수 평균: 12.0\n"
     ]
    }
   ],
   "source": [
    "MathScoreSum = MathScore1 + MathScore2 + MathScore3\n",
    "MathScoreAverage = MathScoreSum/3\n",
    "\n",
    "print(\"수학점수 합: {}\".format(MathScoreSum))\n",
    "print(\"수학점수 평균: {}\".format(MathScoreAverage))"
   ]
  },
  {
   "cell_type": "markdown",
   "metadata": {
    "colab_type": "text",
    "id": "28PfXZzYmkwo"
   },
   "source": [
    "만약 새로운 학생이 전학을 와서 시험을 쳤고 이 학생의 성적을 추가한 점수들의 합과 평균을 구하려면 어떻게 해야 할까요?\n",
    "\n",
    "새로운 변수를 추가해야 합니다."
   ]
  },
  {
   "cell_type": "code",
   "execution_count": null,
   "metadata": {
    "colab": {},
    "colab_type": "code",
    "id": "qdzLb2iPm41S"
   },
   "outputs": [],
   "source": [
    "MathScore4 = 14"
   ]
  },
  {
   "cell_type": "markdown",
   "metadata": {
    "colab_type": "text",
    "id": "xS6-rRa7m83D"
   },
   "source": [
    "그리고 합과 평균을 구하는 코드 역시 수정해야합니다."
   ]
  },
  {
   "cell_type": "code",
   "execution_count": 4,
   "metadata": {
    "colab": {
     "base_uri": "https://localhost:8080/",
     "height": 52
    },
    "colab_type": "code",
    "executionInfo": {
     "elapsed": 711,
     "status": "ok",
     "timestamp": 1550031483242,
     "user": {
      "displayName": "kang sanghun",
      "photoUrl": "",
      "userId": "12450865979153508193"
     },
     "user_tz": -540
    },
    "id": "LLsJ9qawm7vA",
    "outputId": "f16bc4f6-e46d-45d4-a875-4edbb656eb81"
   },
   "outputs": [
    {
     "name": "stdout",
     "output_type": "stream",
     "text": [
      "수학점수 합: 50\n",
      "수학점수 평균: 12.5\n"
     ]
    }
   ],
   "source": [
    "MathScoreSum = MathScore1 + MathScore2 + MathScore3 + MathScore4  # 추가된 MathScore4를 합 구할때 고려\n",
    "MathScoreAverage = MathScoreSum/4                                 # 수정: 분모를 3에서 4로 수정\n",
    "\n",
    "print(\"수학점수 합: {}\".format(MathScoreSum))\n",
    "print(\"수학점수 평균: {}\".format(MathScoreAverage))"
   ]
  },
  {
   "cell_type": "markdown",
   "metadata": {
    "colab_type": "text",
    "id": "ojfCyAcWzZvz"
   },
   "source": [
    "### 리스트 자료형"
   ]
  },
  {
   "cell_type": "markdown",
   "metadata": {
    "colab_type": "text",
    "id": "G5_DhNL4o3Fs"
   },
   "source": [
    "추가된 데이터를 새로 선언해 주는것은 어쩔수 없다 하더라도 합과 평균을 구하는 코드를 매번 변경하는건 비효율적인 일입니다."
   ]
  },
  {
   "cell_type": "markdown",
   "metadata": {
    "colab_type": "text",
    "id": "YndLMp1Zznur"
   },
   "source": [
    "리스트 자료형에 데이터를 저장하면 이 문제를 해결할 수 있습니다.\n",
    "\n",
    "다섯명의 학생들로 이루어진 반이 있고 이 학생들의 수학점수를 **리스트**에 저장하는 경우 아래처럼 처리할 수 있습니다."
   ]
  },
  {
   "cell_type": "code",
   "execution_count": 5,
   "metadata": {
    "colab": {
     "base_uri": "https://localhost:8080/",
     "height": 34
    },
    "colab_type": "code",
    "executionInfo": {
     "elapsed": 786,
     "status": "ok",
     "timestamp": 1550031561358,
     "user": {
      "displayName": "kang sanghun",
      "photoUrl": "",
      "userId": "12450865979153508193"
     },
     "user_tz": -540
    },
    "id": "RkZXCTbMyvDz",
    "outputId": "5cd9247d-59bc-4b67-aded-ad3d7c11d6f0"
   },
   "outputs": [
    {
     "name": "stdout",
     "output_type": "stream",
     "text": [
      "[11, 12, 13]\n"
     ]
    }
   ],
   "source": [
    "MathScoreList = [11, 12, 13]\n",
    "\n",
    "print(MathScoreList)"
   ]
  },
  {
   "cell_type": "markdown",
   "metadata": {
    "colab_type": "text",
    "id": "arCJlQ3J0RY5"
   },
   "source": [
    "점수들의 합과, 평균은 아래처럼 구할 수 있습니다."
   ]
  },
  {
   "cell_type": "code",
   "execution_count": 7,
   "metadata": {
    "colab": {
     "base_uri": "https://localhost:8080/",
     "height": 52
    },
    "colab_type": "code",
    "executionInfo": {
     "elapsed": 668,
     "status": "ok",
     "timestamp": 1550031589427,
     "user": {
      "displayName": "kang sanghun",
      "photoUrl": "",
      "userId": "12450865979153508193"
     },
     "user_tz": -540
    },
    "id": "0nfV0KGFfU3a",
    "outputId": "52aa2bf3-cd2b-4f49-9a18-2558060d25ef"
   },
   "outputs": [
    {
     "name": "stdout",
     "output_type": "stream",
     "text": [
      "수학점수 합: 36\n",
      "수학점수 평균: 12.0\n"
     ]
    }
   ],
   "source": [
    "listMathScoreSum = 0      # 변수 선언&초기화\n",
    "listMathScoreAverage = 0  # 변수 선언&초기화\n",
    "\n",
    "for e in MathScoreList:\n",
    "  listMathScoreSum += e   # listMathScoreSum = listMathScoreSum + e 와 동일한 코드\n",
    "  \n",
    "listMathScoreAverage = listMathScoreSum / len(MathScoreList)\n",
    "\n",
    "print(\"수학점수 합: {}\".format(listMathScoreSum))\n",
    "print(\"수학점수 평균: {}\".format(listMathScoreAverage))"
   ]
  },
  {
   "cell_type": "markdown",
   "metadata": {
    "colab_type": "text",
    "id": "iyULeL49s1o3"
   },
   "source": [
    "만약 새로운 학생이 전학을 와서 시험을 쳤고 이 학생의 성적을 추가한 점수들의 합과 평균을 구하려면 어떻게 해야 할까요?\n",
    "\n",
    "~~새로운 변수를 추가해야 합니다.~~\n",
    "\n",
    "기존의 리스트에 새로운 데이터를 추가하면 됩니다."
   ]
  },
  {
   "cell_type": "code",
   "execution_count": null,
   "metadata": {
    "colab": {},
    "colab_type": "code",
    "id": "XLU6-OJO02Pq"
   },
   "outputs": [],
   "source": [
    "# append: list의 끝에 요소를 추가할 때 사용하는 메서드\n",
    "MathScoreList.append(14)  # 데이터 추가"
   ]
  },
  {
   "cell_type": "markdown",
   "metadata": {
    "colab_type": "text",
    "id": "WwlsHrpO06-B"
   },
   "source": [
    "~~그리고 합과 평균을 구하는 코드 역시 수정해야합니다.~~\n",
    "\n",
    "새로운 데이터가 추가되더라도 평균과 합을 구하는 **코드는 수정 없이 그대로 사용할 수 있습니다**."
   ]
  },
  {
   "cell_type": "code",
   "execution_count": 9,
   "metadata": {
    "colab": {
     "base_uri": "https://localhost:8080/",
     "height": 52
    },
    "colab_type": "code",
    "executionInfo": {
     "elapsed": 1154,
     "status": "ok",
     "timestamp": 1550031640787,
     "user": {
      "displayName": "kang sanghun",
      "photoUrl": "",
      "userId": "12450865979153508193"
     },
     "user_tz": -540
    },
    "id": "hZ9b6Es8fU1Q",
    "outputId": "8a03a1ad-3cfe-4aed-ba72-b286efb51085"
   },
   "outputs": [
    {
     "name": "stdout",
     "output_type": "stream",
     "text": [
      "수학점수 합: 50\n",
      "수학점수 평균: 12.5\n"
     ]
    }
   ],
   "source": [
    "listMathScoreSum = 0      # 변수 선언&초기화\n",
    "listMathScoreAverage = 0  # 변수 선언&초기화\n",
    "\n",
    "for e in MathScoreList:\n",
    "  listMathScoreSum += e   # listMathScoreSum = listMathScoreSum + e 와 동일한 코드\n",
    "  \n",
    "listMathScoreAverage = listMathScoreSum / len(MathScoreList)\n",
    "\n",
    "print(\"수학점수 합: {}\".format(listMathScoreSum))\n",
    "print(\"수학점수 평균: {}\".format(listMathScoreAverage))"
   ]
  },
  {
   "cell_type": "markdown",
   "metadata": {
    "colab_type": "text",
    "id": "HaiPjaN4lgr0"
   },
   "source": [
    "만약 시험문제의 오류가 발견되어 모두 정답처리를 해 모든 학생의 점수를 1점씩 올려줘야 하는 상황에서는 어떻게 해야할까요?\n",
    "\n",
    "반복문이나 List comprehension같은 방법이 있습니다."
   ]
  },
  {
   "cell_type": "markdown",
   "metadata": {
    "colab_type": "text",
    "id": "gwRCBixOvF4R"
   },
   "source": [
    "**반복문**"
   ]
  },
  {
   "cell_type": "code",
   "execution_count": 10,
   "metadata": {
    "colab": {
     "base_uri": "https://localhost:8080/",
     "height": 34
    },
    "colab_type": "code",
    "executionInfo": {
     "elapsed": 686,
     "status": "ok",
     "timestamp": 1550031681180,
     "user": {
      "displayName": "kang sanghun",
      "photoUrl": "",
      "userId": "12450865979153508193"
     },
     "user_tz": -540
    },
    "id": "DWLrwbYJvF4J",
    "outputId": "f68208a3-9ee9-4e87-e426-d1d6eded091b"
   },
   "outputs": [
    {
     "name": "stdout",
     "output_type": "stream",
     "text": [
      "[12, 13, 14, 15]\n"
     ]
    }
   ],
   "source": [
    "MathScoreList2 = []\n",
    "for e in MathScoreList:\n",
    "  MathScoreList2.append(e+1)\n",
    "  \n",
    "\n",
    "print(MathScoreList2)"
   ]
  },
  {
   "cell_type": "markdown",
   "metadata": {
    "colab_type": "text",
    "id": "JhKvljj4nxEh"
   },
   "source": [
    "**List Comprehension**"
   ]
  },
  {
   "cell_type": "code",
   "execution_count": 11,
   "metadata": {
    "colab": {
     "base_uri": "https://localhost:8080/",
     "height": 34
    },
    "colab_type": "code",
    "executionInfo": {
     "elapsed": 689,
     "status": "ok",
     "timestamp": 1550031695135,
     "user": {
      "displayName": "kang sanghun",
      "photoUrl": "",
      "userId": "12450865979153508193"
     },
     "user_tz": -540
    },
    "id": "5eViBzeRjmxp",
    "outputId": "c2844215-660a-469a-fa7d-14b670592bdf"
   },
   "outputs": [
    {
     "name": "stdout",
     "output_type": "stream",
     "text": [
      "[12, 13, 14, 15]\n"
     ]
    }
   ],
   "source": [
    "MathScoreList3 = [e +1 for e in MathScoreList]\n",
    "\n",
    "print(MathScoreList3)"
   ]
  },
  {
   "cell_type": "markdown",
   "metadata": {
    "colab_type": "text",
    "id": "fx6d-Cq8X9HP"
   },
   "source": [
    "## 파이썬 기본 자료형으로 구현한 다차원 배열"
   ]
  },
  {
   "cell_type": "markdown",
   "metadata": {
    "colab_type": "text",
    "id": "z-7ZLOVbu798"
   },
   "source": [
    "#### Nested List (중첩 리스트)"
   ]
  },
  {
   "cell_type": "markdown",
   "metadata": {
    "colab_type": "text",
    "id": "C-611O6VyZek"
   },
   "source": [
    "1반의 점수가 11, 12, 13\n",
    "\n",
    "2반의 점수가 21, 22, 23\n",
    "\n",
    "3반의 점수가 31, 32, 33점이라고 한다면,\n",
    "\n",
    "리스트 안에 리스트를 넣어 위 데이터를 아래처럼 나타낼 수 있습니다."
   ]
  },
  {
   "cell_type": "code",
   "execution_count": 12,
   "metadata": {
    "colab": {
     "base_uri": "https://localhost:8080/",
     "height": 34
    },
    "colab_type": "code",
    "executionInfo": {
     "elapsed": 661,
     "status": "ok",
     "timestamp": 1550031731042,
     "user": {
      "displayName": "kang sanghun",
      "photoUrl": "",
      "userId": "12450865979153508193"
     },
     "user_tz": -540
    },
    "id": "MZU0pOw4u48h",
    "outputId": "8517dfae-3f3a-4397-bfeb-969db686a086"
   },
   "outputs": [
    {
     "name": "stdout",
     "output_type": "stream",
     "text": [
      "[[11, 12, 13], [21, 22, 23], [31, 32, 33]]\n"
     ]
    }
   ],
   "source": [
    "MathScoreNestedList = [[11, 12, 13], [21, 22, 23], [31, 32, 33]]\n",
    "\n",
    "print(MathScoreNestedList)"
   ]
  },
  {
   "cell_type": "markdown",
   "metadata": {
    "colab_type": "text",
    "id": "Lc76UfCXvO06"
   },
   "source": [
    "![alt text](https://lh3.googleusercontent.com/pQw2wvQVpsV40t7Uk6O-iNMwVX0GUesvvA-snrEVl1lGWeRsrDjU-2YlkO0jlW7XFMmQNVQchD1XM4sbWVSPtTWjvSc50mY2iuFKNYc72N-rSvymejq4dCpuG4WeheZ2M4tqkJzO37xcujHDe4MJNc0URISUgTXt2452rMh2wDrCVKOa0Ywh85x3cqL9IRYJxjUm0yKmjtCTJhDSXZVEXvnc1RtQoLJzviQsSp6yDdHrA7UwZNBzgMQc3_ol7PUREYY3tLXTXs0_eA-XaJ_J0ONIk2xUnW4B_erXbjeA-UDXFg76BXSmq0CHmcmIewz__z7QI8W7XMS-p087h2mvgxHQFC9tOE2SKQl8oLHFKPm5QrViTs1vrH6sHSYfVoEnJ4XHtV4GPEU0gRco2aYF6x7lfM6I_FGDG0Xm1lncuZUxJ6ger9CF5KB0t881bJbnAvx3WdpPNPw23uG2CqqcadZ5phhvLhh7UDT_kmvq9p04w2E1OTRGxnpljA0qppfFIAAB9wcKdD7cJW48cYjoFTnxKxRaIJYATgquEQ7uzLXsmMu_JeWQpe7gjPlc0lTzguOYp5Rn0vLRxeYZhsN2rwO-g_9XBgZ5_smxUuVYLQeujJvJL41NwOkLtWHWe-r1B449P7Y2Y1uktbd0v5xDRPsde4MynOh3TJWUVw8S2bTP82giPHRryz3l3NRfMaxAJ-fgEggmJV7RNelOAnKYIXnNLA=w1124-h422-no =400x)\n",
    "\n",
    "> (source: https://cognitiveclass.ai/blog/nested-lists-multidimensional-numpy-arrays/)"
   ]
  },
  {
   "cell_type": "markdown",
   "metadata": {
    "colab_type": "text",
    "id": "bJJJv6tHz0FA"
   },
   "source": [
    "각 원소에 1을 더하는 코드는 아래와 같습니다."
   ]
  },
  {
   "cell_type": "code",
   "execution_count": 13,
   "metadata": {
    "colab": {
     "base_uri": "https://localhost:8080/",
     "height": 34
    },
    "colab_type": "code",
    "executionInfo": {
     "elapsed": 791,
     "status": "ok",
     "timestamp": 1550031762915,
     "user": {
      "displayName": "kang sanghun",
      "photoUrl": "",
      "userId": "12450865979153508193"
     },
     "user_tz": -540
    },
    "id": "NuyFbrDWyzRH",
    "outputId": "14a8e04c-afd8-4d94-ea73-5a94d99c9968"
   },
   "outputs": [
    {
     "name": "stdout",
     "output_type": "stream",
     "text": [
      "[[12, 13, 14], [22, 23, 24], [32, 33, 34]]\n"
     ]
    }
   ],
   "source": [
    "MathScoreNestedList2 = []\n",
    "\n",
    "for list in MathScoreNestedList:\n",
    "  tempList = []\n",
    "  \n",
    "  for e in list:\n",
    "    tempList.append(e+1)\n",
    "  \n",
    "  MathScoreNestedList2.append(tempList)\n",
    "  \n",
    "\n",
    "print(MathScoreNestedList2)"
   ]
  },
  {
   "cell_type": "markdown",
   "metadata": {
    "colab_type": "text",
    "id": "Ggk9YaVCEeQk"
   },
   "source": [
    "#### 문제점\n",
    "\n",
    "1차원에서 2차원으로 데이터의 차원이 증가하니 반복문도 하나 더 사용해야 합니다.\n",
    "\n",
    "데이터의 차원이 증가할수록 코드는 복잡해질 수밖에 없습니다."
   ]
  },
  {
   "cell_type": "markdown",
   "metadata": {
    "colab_type": "text",
    "id": "KyRVZiGsX8-d"
   },
   "source": [
    "## NumPy로 구현한 다차원 배열"
   ]
  },
  {
   "cell_type": "markdown",
   "metadata": {
    "colab_type": "text",
    "id": "VAJJqz6Gx-LD"
   },
   "source": [
    "**NumPy**를 사용하면 다차원배열을 효율적으로 다룰 수 있습니다.\n",
    "\n",
    "`import numpy as np` 형태로 import하는게 일반적입니다."
   ]
  },
  {
   "cell_type": "code",
   "execution_count": 14,
   "metadata": {
    "colab": {
     "base_uri": "https://localhost:8080/",
     "height": 70
    },
    "colab_type": "code",
    "executionInfo": {
     "elapsed": 816,
     "status": "ok",
     "timestamp": 1550031916396,
     "user": {
      "displayName": "kang sanghun",
      "photoUrl": "",
      "userId": "12450865979153508193"
     },
     "user_tz": -540
    },
    "id": "oWA0-ULoyHe2",
    "outputId": "3a8a9cf0-827c-4f15-90a5-265eb2af1fa9"
   },
   "outputs": [
    {
     "name": "stdout",
     "output_type": "stream",
     "text": [
      "[[11 12 13]\n",
      " [21 22 23]\n",
      " [31 32 33]]\n"
     ]
    }
   ],
   "source": [
    "import numpy as np\n",
    "\n",
    "mathScoreNdarray = np.array(MathScoreNestedList)\n",
    "# mathScoreNdarray = np.array([[11, 12, 13], [21, 22, 23], [31, 32, 33]])\n",
    "\n",
    "print(mathScoreNdarray)"
   ]
  },
  {
   "cell_type": "code",
   "execution_count": 15,
   "metadata": {
    "colab": {
     "base_uri": "https://localhost:8080/",
     "height": 70
    },
    "colab_type": "code",
    "executionInfo": {
     "elapsed": 667,
     "status": "ok",
     "timestamp": 1550031944964,
     "user": {
      "displayName": "kang sanghun",
      "photoUrl": "",
      "userId": "12450865979153508193"
     },
     "user_tz": -540
    },
    "id": "eBOJNzZzci-R",
    "outputId": "65bbd755-9f1c-4f42-aef8-798e650fa0f6"
   },
   "outputs": [
    {
     "data": {
      "text/plain": [
       "array([[11, 12, 13],\n",
       "       [21, 22, 23],\n",
       "       [31, 32, 33]])"
      ]
     },
     "execution_count": 15,
     "metadata": {
      "tags": []
     },
     "output_type": "execute_result"
    }
   ],
   "source": [
    "mathScoreNdarray"
   ]
  },
  {
   "cell_type": "markdown",
   "metadata": {
    "colab_type": "text",
    "id": "lgl_tzgkC7Zt"
   },
   "source": [
    "각 원소에 1을 더하려면"
   ]
  },
  {
   "cell_type": "code",
   "execution_count": 16,
   "metadata": {
    "colab": {
     "base_uri": "https://localhost:8080/",
     "height": 70
    },
    "colab_type": "code",
    "executionInfo": {
     "elapsed": 679,
     "status": "ok",
     "timestamp": 1550031960543,
     "user": {
      "displayName": "kang sanghun",
      "photoUrl": "",
      "userId": "12450865979153508193"
     },
     "user_tz": -540
    },
    "id": "d3fecKmbyjVJ",
    "outputId": "366dfdb1-6a18-4ac3-87ca-943fc1b14e79"
   },
   "outputs": [
    {
     "data": {
      "text/plain": [
       "array([[12, 13, 14],\n",
       "       [22, 23, 24],\n",
       "       [32, 33, 34]])"
      ]
     },
     "execution_count": 16,
     "metadata": {
      "tags": []
     },
     "output_type": "execute_result"
    }
   ],
   "source": [
    "mathScoreNdarray + 1 # 이것이 바로 브로드캐스팅! 후반부에 다룰 예정입니다."
   ]
  },
  {
   "cell_type": "markdown",
   "metadata": {
    "colab_type": "text",
    "id": "0tvgQrXOC-U9"
   },
   "source": [
    "NumPy에 구현된 메서드를 활용해 합이나 평균도 쉽게 구할 수 있습니다."
   ]
  },
  {
   "cell_type": "code",
   "execution_count": 17,
   "metadata": {
    "colab": {
     "base_uri": "https://localhost:8080/",
     "height": 34
    },
    "colab_type": "code",
    "executionInfo": {
     "elapsed": 857,
     "status": "ok",
     "timestamp": 1550032016600,
     "user": {
      "displayName": "kang sanghun",
      "photoUrl": "",
      "userId": "12450865979153508193"
     },
     "user_tz": -540
    },
    "id": "ZSoke9ZuGTO9",
    "outputId": "3f4ad8f0-5ba2-43be-d44c-4a2de4cbbc4c"
   },
   "outputs": [
    {
     "data": {
      "text/plain": [
       "198"
      ]
     },
     "execution_count": 17,
     "metadata": {
      "tags": []
     },
     "output_type": "execute_result"
    }
   ],
   "source": [
    "# 전체 합 구하기\n",
    "np.sum(mathScoreNdarray)"
   ]
  },
  {
   "cell_type": "code",
   "execution_count": 21,
   "metadata": {
    "colab": {
     "base_uri": "https://localhost:8080/",
     "height": 34
    },
    "colab_type": "code",
    "executionInfo": {
     "elapsed": 570,
     "status": "ok",
     "timestamp": 1550032069436,
     "user": {
      "displayName": "kang sanghun",
      "photoUrl": "",
      "userId": "12450865979153508193"
     },
     "user_tz": -540
    },
    "id": "io9nIHuLDAYn",
    "outputId": "bec89d05-cb1d-4691-afe6-7791b9e933f4"
   },
   "outputs": [
    {
     "data": {
      "text/plain": [
       "22.0"
      ]
     },
     "execution_count": 21,
     "metadata": {
      "tags": []
     },
     "output_type": "execute_result"
    }
   ],
   "source": [
    "# 전체 평균 구하기\n",
    "np.mean(mathScoreNdarray)"
   ]
  },
  {
   "cell_type": "code",
   "execution_count": 22,
   "metadata": {
    "colab": {
     "base_uri": "https://localhost:8080/",
     "height": 34
    },
    "colab_type": "code",
    "executionInfo": {
     "elapsed": 540,
     "status": "ok",
     "timestamp": 1550032072870,
     "user": {
      "displayName": "kang sanghun",
      "photoUrl": "",
      "userId": "12450865979153508193"
     },
     "user_tz": -540
    },
    "id": "rmXOPrigDJQN",
    "outputId": "5d4eda07-3f6e-4b91-c043-13d6d9bd03c6"
   },
   "outputs": [
    {
     "data": {
      "text/plain": [
       "array([21., 22., 23.])"
      ]
     },
     "execution_count": 22,
     "metadata": {
      "tags": []
     },
     "output_type": "execute_result"
    }
   ],
   "source": [
    "# 열의 평균 구하기\n",
    "np.mean(mathScoreNdarray, axis=0)"
   ]
  },
  {
   "cell_type": "code",
   "execution_count": 23,
   "metadata": {
    "colab": {
     "base_uri": "https://localhost:8080/",
     "height": 34
    },
    "colab_type": "code",
    "executionInfo": {
     "elapsed": 591,
     "status": "ok",
     "timestamp": 1550032077272,
     "user": {
      "displayName": "kang sanghun",
      "photoUrl": "",
      "userId": "12450865979153508193"
     },
     "user_tz": -540
    },
    "id": "oi3vpqc9DJEL",
    "outputId": "0cfe7988-ac4e-4c37-b2d4-8cb2123de099"
   },
   "outputs": [
    {
     "data": {
      "text/plain": [
       "array([12., 22., 32.])"
      ]
     },
     "execution_count": 23,
     "metadata": {
      "tags": []
     },
     "output_type": "execute_result"
    }
   ],
   "source": [
    "# 행의 평균 구하기\n",
    "np.mean(mathScoreNdarray, axis=1)"
   ]
  },
  {
   "cell_type": "markdown",
   "metadata": {
    "colab_type": "text",
    "id": "WO1oIiOgX83Z"
   },
   "source": [
    "## 파이썬 기본 자료형과 넘파이 비교 "
   ]
  },
  {
   "cell_type": "markdown",
   "metadata": {
    "colab_type": "text",
    "id": "ZsvICvfxa3vR"
   },
   "source": [
    "### Helper class"
   ]
  },
  {
   "cell_type": "markdown",
   "metadata": {
    "colab_type": "text",
    "id": "JPq9Zh8Ekg9n"
   },
   "source": [
    "#### 정의\n",
    "\n"
   ]
  },
  {
   "cell_type": "code",
   "execution_count": null,
   "metadata": {
    "cellView": "code",
    "colab": {},
    "colab_type": "code",
    "id": "cxDX7HUYZ3GC"
   },
   "outputs": [],
   "source": [
    "import time\n",
    "class Timer(object):\n",
    "    def __init__(self, name=None):\n",
    "        self.name = name\n",
    "\n",
    "    def __enter__(self):\n",
    "        self.tstart = time.time()\n",
    "\n",
    "    def __exit__(self, type, value, traceback):\n",
    "        if self.name:\n",
    "            print('[%s]' % self.name)\n",
    "        print('Elapsed: %s' % (time.time() - self.tstart))\n"
   ]
  },
  {
   "cell_type": "markdown",
   "metadata": {
    "colab_type": "text",
    "id": "bCgr99-nklgF"
   },
   "source": [
    "#### 사용법"
   ]
  },
  {
   "cell_type": "code",
   "execution_count": 25,
   "metadata": {
    "colab": {
     "base_uri": "https://localhost:8080/",
     "height": 52
    },
    "colab_type": "code",
    "executionInfo": {
     "elapsed": 1679,
     "status": "ok",
     "timestamp": 1550032139409,
     "user": {
      "displayName": "kang sanghun",
      "photoUrl": "",
      "userId": "12450865979153508193"
     },
     "user_tz": -540
    },
    "id": "8gt-EEnbaKPh",
    "outputId": "76ce597c-3652-41a9-fe60-b61a63ea40dd"
   },
   "outputs": [
    {
     "name": "stdout",
     "output_type": "stream",
     "text": [
      "[여기에 이름을 입력하세요]\n",
      "Elapsed: 1.0016570091247559\n"
     ]
    }
   ],
   "source": [
    "with Timer('여기에 이름을 입력하세요'):\n",
    "   # 아래에 시간측정을 하고자 하는 코드를 입력하세요.\n",
    "  time.sleep(1)"
   ]
  },
  {
   "cell_type": "markdown",
   "metadata": {
    "colab_type": "text",
    "id": "hF_Smb1tbYoU"
   },
   "source": [
    "### 비교"
   ]
  },
  {
   "cell_type": "code",
   "execution_count": null,
   "metadata": {
    "cellView": "both",
    "colab": {},
    "colab_type": "code",
    "id": "gTrzJCePGKG2"
   },
   "outputs": [],
   "source": [
    "# 크기가 100개 이내인 경우 NumPy는 순수 파이썬 구현 보다도 오히려 낮은 성능을 보이는 경향이 있습니다.\n",
    "rows = 1000  # 행\n",
    "cols = 1000  # 열\n",
    "sampleRand2Darray = np.random.rand(rows, cols)  # ndarry 선언\n",
    "sampleRand2Dlist = sampleRand2Darray.tolist()   # nested list 선언"
   ]
  },
  {
   "cell_type": "code",
   "execution_count": 27,
   "metadata": {
    "colab": {
     "base_uri": "https://localhost:8080/",
     "height": 52
    },
    "colab_type": "code",
    "executionInfo": {
     "elapsed": 668,
     "status": "ok",
     "timestamp": 1550032159726,
     "user": {
      "displayName": "kang sanghun",
      "photoUrl": "",
      "userId": "12450865979153508193"
     },
     "user_tz": -540
    },
    "id": "O0q9eIhjGn7f",
    "outputId": "a6052466-ab59-465b-f2b2-1c9491b36df8"
   },
   "outputs": [
    {
     "data": {
      "text/plain": [
       "array([[0.57212041, 0.32237015],\n",
       "       [0.71123446, 0.93372187]])"
      ]
     },
     "execution_count": 27,
     "metadata": {
      "tags": []
     },
     "output_type": "execute_result"
    }
   ],
   "source": [
    "sampleRand2Darray"
   ]
  },
  {
   "cell_type": "code",
   "execution_count": 30,
   "metadata": {
    "colab": {
     "base_uri": "https://localhost:8080/",
     "height": 52
    },
    "colab_type": "code",
    "executionInfo": {
     "elapsed": 627,
     "status": "ok",
     "timestamp": 1550032170508,
     "user": {
      "displayName": "kang sanghun",
      "photoUrl": "",
      "userId": "12450865979153508193"
     },
     "user_tz": -540
    },
    "id": "34YB4XnRGnj2",
    "outputId": "13932d7c-2c1a-4cf6-faa2-531b249988a6"
   },
   "outputs": [
    {
     "data": {
      "text/plain": [
       "[[0.5721204060088088, 0.32237015026605054],\n",
       " [0.7112344585119659, 0.9337218724846424]]"
      ]
     },
     "execution_count": 30,
     "metadata": {
      "tags": []
     },
     "output_type": "execute_result"
    }
   ],
   "source": [
    "sampleRand2Dlist"
   ]
  },
  {
   "cell_type": "code",
   "execution_count": 35,
   "metadata": {
    "colab": {
     "base_uri": "https://localhost:8080/",
     "height": 175
    },
    "colab_type": "code",
    "executionInfo": {
     "elapsed": 906,
     "status": "ok",
     "timestamp": 1550032341440,
     "user": {
      "displayName": "kang sanghun",
      "photoUrl": "",
      "userId": "12450865979153508193"
     },
     "user_tz": -540
    },
    "id": "JvAxm8IdFrx9",
    "outputId": "cb7f0d7c-0d49-4e60-d316-bdd6881d2fd3"
   },
   "outputs": [
    {
     "name": "stdout",
     "output_type": "stream",
     "text": [
      "[파이썬 기본 자료형 사용 - 모든 원소의 합 구하기]\n",
      "Elapsed: 0.10851836204528809\n",
      "[파이썬 기본 자료형 사용 - 모든 원소에 1 더하기]\n",
      "Elapsed: 0.2188549041748047\n",
      "----------------------------------------------\n",
      "[NumPy사용 - 모든 원소의 합 구하기]\n",
      "Elapsed: 0.0009086132049560547\n",
      "[NumPy사용 - 모든 원소에 1 더하기]\n",
      "Elapsed: 0.00666499137878418\n"
     ]
    }
   ],
   "source": [
    "with Timer('파이썬 기본 자료형 사용 - 모든 원소의 합 구하기'):\n",
    "  sum = 0\n",
    "\n",
    "  for list in sampleRand2Dlist:\n",
    "    for e in list:\n",
    "      sum += e\n",
    "\n",
    "with Timer('파이썬 기본 자료형 사용 - 모든 원소에 1 더하기'):\n",
    "  sampleRand2Dlist2 = []\n",
    "\n",
    "  for list in sampleRand2Dlist:\n",
    "    tempList = []\n",
    "\n",
    "    for e in list:\n",
    "      tempList.append(e+1)\n",
    "\n",
    "    sampleRand2Dlist2.append(tempList)\n",
    "\n",
    "print(\"----------------------------------------------\")\n",
    "\n",
    "with Timer('NumPy사용 - 모든 원소의 합 구하기'):\n",
    "  sum = np.sum(sampleRand2Darray)\n",
    "\n",
    "with Timer('NumPy사용 - 모든 원소에 1 더하기'):\n",
    "  sampleRand2Darray2 = sampleRand2Darray + 1       "
   ]
  },
  {
   "cell_type": "markdown",
   "metadata": {
    "colab_type": "text",
    "id": "C5afV1nFfowk"
   },
   "source": [
    "#### NumPy 장점\n",
    "\n",
    "- 코어 부분이 C로 구현되어 동일한 연산을 하더라도 Python에 비해 속도가 빠름\n",
    "- 라이브러리에 구현되어있는 함수들을 활용해 짧고 간결한 코드 작성 가능\n",
    "- (효율적인 메모리 사용이 가능하도록 구현됨)"
   ]
  },
  {
   "cell_type": "markdown",
   "metadata": {
    "colab_type": "text",
    "id": "UzwJlSsmPtTq"
   },
   "source": [
    "### (참고) ndarray가 list보다 빠른 이유"
   ]
  },
  {
   "cell_type": "markdown",
   "metadata": {
    "colab_type": "text",
    "id": "gEqzxKWIMXSv"
   },
   "source": [
    "![alt text](https://lh3.googleusercontent.com/JD1ljKEm4S_4hvIu8XqTLUw75AjB6K-ElhXY6oMqBiPVEPIkNpHjlMLKsTbpWMIXOZ1X3Ompb-v3lI5FHqlyWWOFR0Pg3vLsio9_8OSgFoAywjGAC6oY85kCahlx-rJtSqW9M3szyXBVjrnlUYIo3opwX7ch7BYaV6sLReXAOwcJThS4f-E-PQWOzwSsCerL_-QEi_wcEV_4Aef_q0u9lrcjvZX-OwW-AcSILKPIB3yoZar4zTTOPHz-miQ4yq2gOktHY1wR4izuJ5SmIT2feKEdP6sD5So8I24vdt1mKKjro3fQenb9ExtH-zAxlJQarxaDnklts7801rG56sa6sE69ZJBp3ZzJ8qr59SM1xf2t9dU1WHcIvMWM5g39B85aIYHRCFmqfwaAx6Gl8x7To_33nyLpc8hA6gIbPQ46O6N_I3-s2G_t5E1dt9mEr0v9fgnco5ib53RP7myVnH6prsSOP4n0hzSvf_gBvKsYIJ2TJA-631XcIR5K7VgE6kycjbVGtTlfDn5fTbVbjgJyIR2xhjPFQ85rxpLnPD0NLE8LzGzjA7bo3CJiBjd0CUHbjbUbUINtLHm8H8lT9U7vZIEzLSIA4dvO3SujTC8R8F7dPBO5Bc91VTWF1mqUftGeWmIdJ61E-KlKb6lRYnRdNq55scpLa3sX2Y2v3tCFq4uHvUM2VO4gkyi_9WNZciyoq1gQD8e9_Ig3aUsWdU87JJMQNw=w638-h479-no)\n",
    "\n",
    "> (source: https://image.slidesharecdn.com/numpy20160519-160516164831/95/numpy-8-638.jpg)"
   ]
  },
  {
   "cell_type": "markdown",
   "metadata": {
    "colab_type": "text",
    "id": "H-w7yLTNSuMM"
   },
   "source": [
    "**파이썬 list가 느린 이유**\n",
    "\n",
    "- 파이썬 리스트는 결국 포인터의 배열\n",
    "- 경우에 따라서 각각 객체가 메모리 여기저기 흩어져 있음\n",
    "- 그러므로 캐시 활용이 어려움\n",
    "\n",
    "**NumPy ndarray가 빠른 이유**\n",
    "\n",
    "- ndarray는 타입을 명시하여 원소의 배열로 데이터를 유지\n",
    "- 다차원 데이터도 연속된 메모리 공간이 할당됨\n",
    "- 많은 연산이 dimensions과 strides를 잘 활용하면 효율적으로 가능\n",
    "  - 가령 transpose는 strides를 바꾸는 것으로 거의 공짜\n",
    "- ndarray 구현 방식을 떠올리면 어떻게 성능을 낼 수 있는지 상상 가능\n",
    "\n"
   ]
  },
  {
   "cell_type": "markdown",
   "metadata": {
    "colab_type": "text",
    "id": "lZvri5rGa9ky"
   },
   "source": [
    "- 예) NumPy에서 Transpose 구현"
   ]
  },
  {
   "cell_type": "markdown",
   "metadata": {
    "colab_type": "text",
    "id": "tHcsagXmaore"
   },
   "source": [
    "![alt text](https://lh3.googleusercontent.com/-cTovEUtM3SZj9_Pd12Sf_hkJpwr9hvvlOTQVC80Q697w8bsSV7I4sAru5fHmgxU7FmxZtq9ZqgvOAqZg41oFjXaEwAtLMLVmN75BIk6HClFMfC6jecLYB6sKDWQUNcLDb2Pt5Vbi8jUVb6VLyWbZGvCVYobh1ev1aNvPoCrqBtR8uv1P8E99xSoaIvzp4dvVG14b_eLBGKuTnak0P305F8OgJgQq2M0Q8_unVPygZOo-vdA9fPx8z_LpOqB0ZIqIXEhf7NmsRWk0cuuUkgJlqJselVnHnTSIVCIohQaOLAU1U_Acufab3szF4BGP-D3DUUQaPcsN-HhxIkSEaFgxuylaRbEUOdYWeXwvuYe9tzNkIzndFtWaQ0MfeBbwlEscaIRVjxsICdCdT0xvX8vpgBegnNQUSo0kT2e3JjY3VLO8YQZ28W457BMyz_2NA_hKuwcGeFWotVoN0AlUTNNQSlpwQzitwSAsi_IlVfNDRYTTTFb-9dTjD9rdgQid3khyHmelE6k1VYayHnwJsJPiD_hcNGYpUChhC5WD-05Qg-R6vrOWXCvkB0tG4Q7fxMIh1_-fhOwEyEOsH91byk4afqJx559LeHldNiDVeU6I-rJRPtkG5mrBYPr0jD2uSIDvpX0ATVesWlunIKD7kvctEidPx8I7yhbKaI96L81K5cbGg49To2OpUaNZ3ttvZiztErvTbkLhruKXIj253HWAI2Jdg=w720-h405-no)"
   ]
  },
  {
   "cell_type": "code",
   "execution_count": null,
   "metadata": {
    "colab": {},
    "colab_type": "code",
    "id": "bo2JDzn3X5LZ"
   },
   "outputs": [],
   "source": [
    "x = np.array([[1,2],[3,4]], dtype=np.int8)\n",
    "\n",
    "y = x.T"
   ]
  },
  {
   "cell_type": "code",
   "execution_count": 47,
   "metadata": {
    "colab": {
     "base_uri": "https://localhost:8080/",
     "height": 52
    },
    "colab_type": "code",
    "executionInfo": {
     "elapsed": 906,
     "status": "ok",
     "timestamp": 1550034475125,
     "user": {
      "displayName": "kang sanghun",
      "photoUrl": "",
      "userId": "12450865979153508193"
     },
     "user_tz": -540
    },
    "id": "LZpAtMh_X-Xd",
    "outputId": "175c3777-fb73-438a-da55-786ff75317d1"
   },
   "outputs": [
    {
     "data": {
      "text/plain": [
       "array([[1, 2],\n",
       "       [3, 4]], dtype=int8)"
      ]
     },
     "execution_count": 47,
     "metadata": {
      "tags": []
     },
     "output_type": "execute_result"
    }
   ],
   "source": [
    "x"
   ]
  },
  {
   "cell_type": "code",
   "execution_count": 48,
   "metadata": {
    "colab": {
     "base_uri": "https://localhost:8080/",
     "height": 52
    },
    "colab_type": "code",
    "executionInfo": {
     "elapsed": 607,
     "status": "ok",
     "timestamp": 1550034475127,
     "user": {
      "displayName": "kang sanghun",
      "photoUrl": "",
      "userId": "12450865979153508193"
     },
     "user_tz": -540
    },
    "id": "5JU0K-K2X95g",
    "outputId": "bc889d3f-e40a-4944-b6c7-d333b36d29e8"
   },
   "outputs": [
    {
     "data": {
      "text/plain": [
       "array([[1, 3],\n",
       "       [2, 4]], dtype=int8)"
      ]
     },
     "execution_count": 48,
     "metadata": {
      "tags": []
     },
     "output_type": "execute_result"
    }
   ],
   "source": [
    "y"
   ]
  },
  {
   "cell_type": "code",
   "execution_count": 49,
   "metadata": {
    "colab": {
     "base_uri": "https://localhost:8080/",
     "height": 52
    },
    "colab_type": "code",
    "executionInfo": {
     "elapsed": 622,
     "status": "ok",
     "timestamp": 1550034475564,
     "user": {
      "displayName": "kang sanghun",
      "photoUrl": "",
      "userId": "12450865979153508193"
     },
     "user_tz": -540
    },
    "id": "46HZuKvGgCAE",
    "outputId": "e180aba2-f12f-4809-ca49-7eacfc6d9d0a"
   },
   "outputs": [
    {
     "name": "stdout",
     "output_type": "stream",
     "text": [
      "(2, 1)\n",
      "(1, 2)\n"
     ]
    }
   ],
   "source": [
    "print(x.strides)\n",
    "print(y.strides)"
   ]
  },
  {
   "cell_type": "code",
   "execution_count": 40,
   "metadata": {
    "colab": {
     "base_uri": "https://localhost:8080/",
     "height": 34
    },
    "colab_type": "code",
    "executionInfo": {
     "elapsed": 584,
     "status": "ok",
     "timestamp": 1550034085100,
     "user": {
      "displayName": "kang sanghun",
      "photoUrl": "",
      "userId": "12450865979153508193"
     },
     "user_tz": -540
    },
    "id": "jZONT3ocOvPT",
    "outputId": "df43dc15-82b2-403a-f892-cac5f95e5b86"
   },
   "outputs": [
    {
     "data": {
      "text/plain": [
       "5.5"
      ]
     },
     "execution_count": 40,
     "metadata": {
      "tags": []
     },
     "output_type": "execute_result"
    }
   ],
   "source": [
    "# 산술평균\n",
    "np.mean(range(1,11))"
   ]
  },
  {
   "cell_type": "code",
   "execution_count": 41,
   "metadata": {
    "colab": {
     "base_uri": "https://localhost:8080/",
     "height": 34
    },
    "colab_type": "code",
    "executionInfo": {
     "elapsed": 553,
     "status": "ok",
     "timestamp": 1550034113543,
     "user": {
      "displayName": "kang sanghun",
      "photoUrl": "",
      "userId": "12450865979153508193"
     },
     "user_tz": -540
    },
    "id": "ufwo3P__O3Ol",
    "outputId": "3b5935a2-a887-42af-ffa1-3c369f0a067d"
   },
   "outputs": [
    {
     "data": {
      "text/plain": [
       "5.5"
      ]
     },
     "execution_count": 41,
     "metadata": {
      "tags": []
     },
     "output_type": "execute_result"
    }
   ],
   "source": [
    "# 가중평균\n",
    "np.average(range(1,11))"
   ]
  },
  {
   "cell_type": "code",
   "execution_count": 42,
   "metadata": {
    "colab": {
     "base_uri": "https://localhost:8080/",
     "height": 34
    },
    "colab_type": "code",
    "executionInfo": {
     "elapsed": 557,
     "status": "ok",
     "timestamp": 1550034175857,
     "user": {
      "displayName": "kang sanghun",
      "photoUrl": "",
      "userId": "12450865979153508193"
     },
     "user_tz": -540
    },
    "id": "97GERf9-O_-R",
    "outputId": "bd106b6e-73af-4d22-9737-be323a10dd98"
   },
   "outputs": [
    {
     "data": {
      "text/plain": [
       "4.0"
      ]
     },
     "execution_count": 42,
     "metadata": {
      "tags": []
     },
     "output_type": "execute_result"
    }
   ],
   "source": [
    "# 가중평균\n",
    "np.average(range(1,11), weights=range(10,0,-1))"
   ]
  },
  {
   "cell_type": "markdown",
   "metadata": {
    "colab_type": "text",
    "id": "LdbiXqEKX8yr"
   },
   "source": [
    "# 다차원 배열 생성 1"
   ]
  },
  {
   "cell_type": "markdown",
   "metadata": {
    "colab_type": "text",
    "id": "YqF37G0_hJn1"
   },
   "source": [
    "명시적으로 값을 입력해 다차원 배열을 만드는 방법을 알아봅니다."
   ]
  },
  {
   "cell_type": "markdown",
   "metadata": {
    "colab_type": "text",
    "id": "h7VbFRMGYTU3"
   },
   "source": [
    "## 다차원 배열의 자료형"
   ]
  },
  {
   "cell_type": "markdown",
   "metadata": {
    "colab_type": "text",
    "id": "csIZ1CsL73Vj"
   },
   "source": [
    "![alt text](https://lh3.googleusercontent.com/ZhC-hkgaa_zQggBdbQ8J33aW8b6Ubbccwr4dLOiVlXAuJYgBiZzRR0jcrAe9C6h26h_3xfd1UbMt6vwIpLfDffABXNKDkUT6RUZre4-j7DtYt7CFsQ1b4RdNZwfCQoSkr_BWKACQQ42krqB0Jkri4CDHGMhKgALRRiJJaQCsR0frysFtltqxiX0ScqZleBxMkADkJr8FtFKh34ERS4w3lwIqddpWd9ctgu9bJsDA19yNEmLouiwapSV7NwAXgDko3fqxo_W4CY6NU_vXxx8xoyFtaXxdXRCs2yketYJ66IP8Rv_mADUSnXfcCfgHOPlU_PzkT-cLdnfLftHgitAPrDHOqiH7EpLmgg4bO_HWIhpDwfG7iu2upN_rw-sFl64aGj4XhhbPYfmDZpnIEyrvKE4DjycH6rITqxTbhMSWfkeeUBENLusqELkVnPRikaaxYiDVPRuedOp6hNXo7R4A-TghyLn-k61kV3Ruwc14ytOWhZ0BngaDXVo-KF_ZxJUr5GuaFOZbi4UKhXbvnObRZAb0QgKaCdvkYysxU31oryDHpx526hG6SW6b99CxOWbT0lBTy0RoynGz_WVV_ua_umNcmkBNMkt3u04uCUWk8a-BqMG_oVpyqNmqetASSOhCZNbisBzkEgmo4sDbdqsNlFcY3fa-Og8mB1UNmC2uWl5RefSArRAoKn6KxZpcr6qJdl8YWT98ncW6behEO1wLoNsdBg=w526-h413-no)\n",
    "\n",
    "(source: https://docs.scipy.org/doc/numpy/reference/arrays.scalars.html)"
   ]
  },
  {
   "cell_type": "markdown",
   "metadata": {
    "colab_type": "text",
    "id": "klF_e3KW9Vpx"
   },
   "source": [
    "다차원 배열의 원소는 위와 같은 데이터 타입을 가질 수 있습니다.\n",
    "\n",
    "다차원 배열의 원소는 동일한 데이터 타입을 가져야 합니다."
   ]
  },
  {
   "cell_type": "markdown",
   "metadata": {
    "colab_type": "text",
    "id": "T0lV8kuGYTkg"
   },
   "source": [
    "## 직접 원소를 입력해서 다차원 배열 생성하기"
   ]
  },
  {
   "cell_type": "markdown",
   "metadata": {
    "colab_type": "text",
    "id": "8NpxbG2gDGnA"
   },
   "source": [
    "**np.array()**를 사용해 다차원 배열을 생성할 수 있습니다."
   ]
  },
  {
   "cell_type": "markdown",
   "metadata": {
    "colab_type": "text",
    "id": "MWPPYiNFBuJa"
   },
   "source": [
    "### bool"
   ]
  },
  {
   "cell_type": "markdown",
   "metadata": {
    "colab_type": "text",
    "id": "ppE0ijaUC6x5"
   },
   "source": [
    "boolean 데이터를 입력해서 다차원 배열을 생성해봅시다."
   ]
  },
  {
   "cell_type": "code",
   "execution_count": null,
   "metadata": {
    "colab": {},
    "colab_type": "code",
    "id": "_a7cfM8aBiaf"
   },
   "outputs": [],
   "source": [
    "boolArray = np.array([True, False, True, True, False])"
   ]
  },
  {
   "cell_type": "code",
   "execution_count": 51,
   "metadata": {
    "colab": {
     "base_uri": "https://localhost:8080/",
     "height": 34
    },
    "colab_type": "code",
    "executionInfo": {
     "elapsed": 676,
     "status": "ok",
     "timestamp": 1550034701288,
     "user": {
      "displayName": "kang sanghun",
      "photoUrl": "",
      "userId": "12450865979153508193"
     },
     "user_tz": -540
    },
    "id": "o8vfhrvL8o4l",
    "outputId": "b217ded0-aecb-4ca6-8f4d-41ded770aa23"
   },
   "outputs": [
    {
     "data": {
      "text/plain": [
       "array([ True, False,  True,  True, False])"
      ]
     },
     "execution_count": 51,
     "metadata": {
      "tags": []
     },
     "output_type": "execute_result"
    }
   ],
   "source": [
    "boolArray"
   ]
  },
  {
   "cell_type": "code",
   "execution_count": 52,
   "metadata": {
    "colab": {
     "base_uri": "https://localhost:8080/",
     "height": 34
    },
    "colab_type": "code",
    "executionInfo": {
     "elapsed": 1304,
     "status": "ok",
     "timestamp": 1550034726858,
     "user": {
      "displayName": "kang sanghun",
      "photoUrl": "",
      "userId": "12450865979153508193"
     },
     "user_tz": -540
    },
    "id": "cakQ3-2HBp54",
    "outputId": "12ddb9f7-5bfb-4cd1-90d9-82294a772b96"
   },
   "outputs": [
    {
     "data": {
      "text/plain": [
       "dtype('bool')"
      ]
     },
     "execution_count": 52,
     "metadata": {
      "tags": []
     },
     "output_type": "execute_result"
    }
   ],
   "source": [
    "boolArray.dtype"
   ]
  },
  {
   "cell_type": "markdown",
   "metadata": {
    "colab_type": "text",
    "id": "SPopJWaXBxOP"
   },
   "source": [
    "### number"
   ]
  },
  {
   "cell_type": "markdown",
   "metadata": {
    "colab_type": "text",
    "id": "W1vU7-rxDqZi"
   },
   "source": [
    "number 데이터를 입력해서 다차원 배열을 생성해봅시다.\n",
    "\n",
    "정수형, 부호없는 정수형, 실수형, 복소수형이 있습니다."
   ]
  },
  {
   "cell_type": "markdown",
   "metadata": {
    "colab_type": "text",
    "id": "VCNgKGDuCJSM"
   },
   "source": [
    "#### 정수형"
   ]
  },
  {
   "cell_type": "markdown",
   "metadata": {
    "colab_type": "text",
    "id": "riYQenZzEUt_"
   },
   "source": [
    "정수형의 default data type은 'int64'입니다.\n",
    "\n",
    "<font color=\"red\">(진실: default data type은 운영체제에 따라 다릅니다.)</font>"
   ]
  },
  {
   "cell_type": "code",
   "execution_count": null,
   "metadata": {
    "colab": {},
    "colab_type": "code",
    "id": "QPVhK1XvB6sH"
   },
   "outputs": [],
   "source": [
    "intArray = np.array([[1, 2], [3, 4]])"
   ]
  },
  {
   "cell_type": "code",
   "execution_count": 54,
   "metadata": {
    "colab": {
     "base_uri": "https://localhost:8080/",
     "height": 52
    },
    "colab_type": "code",
    "executionInfo": {
     "elapsed": 705,
     "status": "ok",
     "timestamp": 1550034787476,
     "user": {
      "displayName": "kang sanghun",
      "photoUrl": "",
      "userId": "12450865979153508193"
     },
     "user_tz": -540
    },
    "id": "_0m-Jv15B_ha",
    "outputId": "6b31d803-d2c6-400d-87f9-5adac097aa61"
   },
   "outputs": [
    {
     "data": {
      "text/plain": [
       "array([[1, 2],\n",
       "       [3, 4]])"
      ]
     },
     "execution_count": 54,
     "metadata": {
      "tags": []
     },
     "output_type": "execute_result"
    }
   ],
   "source": [
    "intArray"
   ]
  },
  {
   "cell_type": "code",
   "execution_count": 55,
   "metadata": {
    "colab": {
     "base_uri": "https://localhost:8080/",
     "height": 34
    },
    "colab_type": "code",
    "executionInfo": {
     "elapsed": 689,
     "status": "ok",
     "timestamp": 1550034804526,
     "user": {
      "displayName": "kang sanghun",
      "photoUrl": "",
      "userId": "12450865979153508193"
     },
     "user_tz": -540
    },
    "id": "XynD9eUOB_Zf",
    "outputId": "bfb0024d-57de-42e2-a3a6-5c219cd3fb53"
   },
   "outputs": [
    {
     "data": {
      "text/plain": [
       "dtype('int64')"
      ]
     },
     "execution_count": 55,
     "metadata": {
      "tags": []
     },
     "output_type": "execute_result"
    }
   ],
   "source": [
    "intArray.dtype"
   ]
  },
  {
   "cell_type": "markdown",
   "metadata": {
    "colab_type": "text",
    "id": "6ZENZr82D1jh"
   },
   "source": [
    "#### 부호없는 정수형"
   ]
  },
  {
   "cell_type": "markdown",
   "metadata": {
    "colab_type": "text",
    "id": "9-eWQM6JEY48"
   },
   "source": [
    "부호없는 정수형의 default data type은 'uint64'입니다."
   ]
  },
  {
   "cell_type": "code",
   "execution_count": null,
   "metadata": {
    "colab": {},
    "colab_type": "code",
    "id": "9xYaFEmMD39n"
   },
   "outputs": [],
   "source": [
    "uintArray = np.array([[1, 2], [3, 4]], dtype='uint')\n",
    "# uintArray = np.array([[1, 2], [3, 4]], dtype='uint64')"
   ]
  },
  {
   "cell_type": "code",
   "execution_count": 57,
   "metadata": {
    "colab": {
     "base_uri": "https://localhost:8080/",
     "height": 52
    },
    "colab_type": "code",
    "executionInfo": {
     "elapsed": 726,
     "status": "ok",
     "timestamp": 1550034902374,
     "user": {
      "displayName": "kang sanghun",
      "photoUrl": "",
      "userId": "12450865979153508193"
     },
     "user_tz": -540
    },
    "id": "COosTXN_EBiR",
    "outputId": "952e201e-e832-48f5-ea50-10a423dbfb99"
   },
   "outputs": [
    {
     "data": {
      "text/plain": [
       "array([[1, 2],\n",
       "       [3, 4]], dtype=uint64)"
      ]
     },
     "execution_count": 57,
     "metadata": {
      "tags": []
     },
     "output_type": "execute_result"
    }
   ],
   "source": [
    "uintArray"
   ]
  },
  {
   "cell_type": "code",
   "execution_count": 58,
   "metadata": {
    "colab": {
     "base_uri": "https://localhost:8080/",
     "height": 34
    },
    "colab_type": "code",
    "executionInfo": {
     "elapsed": 656,
     "status": "ok",
     "timestamp": 1550034912246,
     "user": {
      "displayName": "kang sanghun",
      "photoUrl": "",
      "userId": "12450865979153508193"
     },
     "user_tz": -540
    },
    "id": "_y00GptXEBOm",
    "outputId": "e2318950-2c88-46e4-8f79-1fdee2e17fc5"
   },
   "outputs": [
    {
     "data": {
      "text/plain": [
       "dtype('uint64')"
      ]
     },
     "execution_count": 58,
     "metadata": {
      "tags": []
     },
     "output_type": "execute_result"
    }
   ],
   "source": [
    "uintArray.dtype"
   ]
  },
  {
   "cell_type": "markdown",
   "metadata": {
    "colab_type": "text",
    "id": "9H0yDDqMB0fu"
   },
   "source": [
    "#### 실수형"
   ]
  },
  {
   "cell_type": "markdown",
   "metadata": {
    "colab_type": "text",
    "id": "efVd88hfEjFr"
   },
   "source": [
    "실수형의 default data type은 'float64'입니다."
   ]
  },
  {
   "cell_type": "code",
   "execution_count": null,
   "metadata": {
    "colab": {},
    "colab_type": "code",
    "id": "ZlMmubOcCQbV"
   },
   "outputs": [],
   "source": [
    "floatArray = np.array([[1.1, 2.2], [3.3, 4.4]], dtype='float64')"
   ]
  },
  {
   "cell_type": "code",
   "execution_count": 64,
   "metadata": {
    "colab": {
     "base_uri": "https://localhost:8080/",
     "height": 52
    },
    "colab_type": "code",
    "executionInfo": {
     "elapsed": 865,
     "status": "ok",
     "timestamp": 1550035055299,
     "user": {
      "displayName": "kang sanghun",
      "photoUrl": "",
      "userId": "12450865979153508193"
     },
     "user_tz": -540
    },
    "id": "9Yi94xAtCQYJ",
    "outputId": "69d3b29e-f795-4ddb-c55e-d65fa14b4f19"
   },
   "outputs": [
    {
     "data": {
      "text/plain": [
       "array([[1.1, 2.2],\n",
       "       [3.3, 4.4]], dtype=float16)"
      ]
     },
     "execution_count": 64,
     "metadata": {
      "tags": []
     },
     "output_type": "execute_result"
    }
   ],
   "source": [
    "floatArray"
   ]
  },
  {
   "cell_type": "code",
   "execution_count": 65,
   "metadata": {
    "colab": {
     "base_uri": "https://localhost:8080/",
     "height": 34
    },
    "colab_type": "code",
    "executionInfo": {
     "elapsed": 668,
     "status": "ok",
     "timestamp": 1550035076048,
     "user": {
      "displayName": "kang sanghun",
      "photoUrl": "",
      "userId": "12450865979153508193"
     },
     "user_tz": -540
    },
    "id": "IME-bubKCQTA",
    "outputId": "b5a8bab6-17e4-46b9-d25c-a39445af36a9"
   },
   "outputs": [
    {
     "data": {
      "text/plain": [
       "dtype('float16')"
      ]
     },
     "execution_count": 65,
     "metadata": {
      "tags": []
     },
     "output_type": "execute_result"
    }
   ],
   "source": [
    "floatArray.dtype"
   ]
  },
  {
   "cell_type": "markdown",
   "metadata": {
    "colab_type": "text",
    "id": "DWSVrft6IXv_"
   },
   "source": [
    "##### 형변환"
   ]
  },
  {
   "cell_type": "markdown",
   "metadata": {
    "colab_type": "text",
    "id": "WLO7UIQGEras"
   },
   "source": [
    "데이터가 정수로 입력되더라도 data type을 실수형으로 명시한다면 실수형으로 자동 형변환이 일어납니다."
   ]
  },
  {
   "cell_type": "code",
   "execution_count": null,
   "metadata": {
    "colab": {},
    "colab_type": "code",
    "id": "HIOBnBfECg_h"
   },
   "outputs": [],
   "source": [
    "floatArray2 = np.array([[1, 2], [3, 4]], dtype='float64')"
   ]
  },
  {
   "cell_type": "code",
   "execution_count": 67,
   "metadata": {
    "colab": {
     "base_uri": "https://localhost:8080/",
     "height": 52
    },
    "colab_type": "code",
    "executionInfo": {
     "elapsed": 693,
     "status": "ok",
     "timestamp": 1550035115531,
     "user": {
      "displayName": "kang sanghun",
      "photoUrl": "",
      "userId": "12450865979153508193"
     },
     "user_tz": -540
    },
    "id": "TIs7n0qTCg8o",
    "outputId": "c59f19c3-8b87-4a27-e20f-b73aa51a557e"
   },
   "outputs": [
    {
     "data": {
      "text/plain": [
       "array([[1., 2.],\n",
       "       [3., 4.]])"
      ]
     },
     "execution_count": 67,
     "metadata": {
      "tags": []
     },
     "output_type": "execute_result"
    }
   ],
   "source": [
    "floatArray2"
   ]
  },
  {
   "cell_type": "code",
   "execution_count": 68,
   "metadata": {
    "colab": {
     "base_uri": "https://localhost:8080/",
     "height": 34
    },
    "colab_type": "code",
    "executionInfo": {
     "elapsed": 669,
     "status": "ok",
     "timestamp": 1550035117585,
     "user": {
      "displayName": "kang sanghun",
      "photoUrl": "",
      "userId": "12450865979153508193"
     },
     "user_tz": -540
    },
    "id": "5R-yc4IHCg4K",
    "outputId": "dcea3531-9cc9-4152-ecce-c3e5b14ae4f8"
   },
   "outputs": [
    {
     "data": {
      "text/plain": [
       "dtype('float64')"
      ]
     },
     "execution_count": 68,
     "metadata": {
      "tags": []
     },
     "output_type": "execute_result"
    }
   ],
   "source": [
    "floatArray2.dtype"
   ]
  },
  {
   "cell_type": "markdown",
   "metadata": {
    "colab_type": "text",
    "id": "ac-kL0GrIJXT"
   },
   "source": [
    "##### 더 나은 방법"
   ]
  },
  {
   "cell_type": "markdown",
   "metadata": {
    "colab_type": "text",
    "id": "YOXJ-BHNI0WF"
   },
   "source": [
    "1.0, 2.0, 3.0, 4.0이라는 실수형 데이터를 가지는 다차원배열을 만들고 싶었다면, 아래 방법이 더 나은 코딩표준입니다."
   ]
  },
  {
   "cell_type": "code",
   "execution_count": null,
   "metadata": {
    "colab": {},
    "colab_type": "code",
    "id": "4TRVN90hH-Q0"
   },
   "outputs": [],
   "source": [
    "floatArray3 = np.array([[1., 2.], [3., 4.]])"
   ]
  },
  {
   "cell_type": "code",
   "execution_count": 72,
   "metadata": {
    "colab": {
     "base_uri": "https://localhost:8080/",
     "height": 52
    },
    "colab_type": "code",
    "executionInfo": {
     "elapsed": 676,
     "status": "ok",
     "timestamp": 1550035181493,
     "user": {
      "displayName": "kang sanghun",
      "photoUrl": "",
      "userId": "12450865979153508193"
     },
     "user_tz": -540
    },
    "id": "t_EosM17IDgy",
    "outputId": "25ae10b3-0271-4e1b-92a0-b700f7e88b95"
   },
   "outputs": [
    {
     "data": {
      "text/plain": [
       "array([[1., 2.],\n",
       "       [3., 4.]])"
      ]
     },
     "execution_count": 72,
     "metadata": {
      "tags": []
     },
     "output_type": "execute_result"
    }
   ],
   "source": [
    "floatArray3"
   ]
  },
  {
   "cell_type": "code",
   "execution_count": 73,
   "metadata": {
    "colab": {
     "base_uri": "https://localhost:8080/",
     "height": 34
    },
    "colab_type": "code",
    "executionInfo": {
     "elapsed": 475,
     "status": "ok",
     "timestamp": 1550035182484,
     "user": {
      "displayName": "kang sanghun",
      "photoUrl": "",
      "userId": "12450865979153508193"
     },
     "user_tz": -540
    },
    "id": "Sfln3jgRIDWI",
    "outputId": "ac40a26b-e9fa-4a1f-99c2-f06a41c231fa"
   },
   "outputs": [
    {
     "data": {
      "text/plain": [
       "dtype('float64')"
      ]
     },
     "execution_count": 73,
     "metadata": {
      "tags": []
     },
     "output_type": "execute_result"
    }
   ],
   "source": [
    "floatArray3.dtype"
   ]
  },
  {
   "cell_type": "markdown",
   "metadata": {
    "colab_type": "text",
    "id": "dQT7fOIGG0Np"
   },
   "source": [
    "##### 참고"
   ]
  },
  {
   "cell_type": "markdown",
   "metadata": {
    "colab_type": "text",
    "id": "GgSv92NxH0Lp"
   },
   "source": [
    "정수형에서 실수형으로의 형변환 과정은 데이터 손실이 일어나지 않아 문제될 부분이 없지만 반대의 경우에는 문제가 발생할 수 있습니다."
   ]
  },
  {
   "cell_type": "code",
   "execution_count": null,
   "metadata": {
    "colab": {},
    "colab_type": "code",
    "id": "OyI5R0pKHLjG"
   },
   "outputs": [],
   "source": [
    "intArray2 = np.array([[1.1, 2.2], [3.3, 4.4]], dtype='int')"
   ]
  },
  {
   "cell_type": "code",
   "execution_count": 75,
   "metadata": {
    "colab": {
     "base_uri": "https://localhost:8080/",
     "height": 52
    },
    "colab_type": "code",
    "executionInfo": {
     "elapsed": 855,
     "status": "ok",
     "timestamp": 1550035227668,
     "user": {
      "displayName": "kang sanghun",
      "photoUrl": "",
      "userId": "12450865979153508193"
     },
     "user_tz": -540
    },
    "id": "0rqDle1lHSjP",
    "outputId": "54c21479-8dc3-4fd2-a61c-3b494443743c"
   },
   "outputs": [
    {
     "data": {
      "text/plain": [
       "array([[1, 2],\n",
       "       [3, 4]])"
      ]
     },
     "execution_count": 75,
     "metadata": {
      "tags": []
     },
     "output_type": "execute_result"
    }
   ],
   "source": [
    "intArray2"
   ]
  },
  {
   "cell_type": "markdown",
   "metadata": {
    "colab_type": "text",
    "id": "2w0QOfD3Igzv"
   },
   "source": [
    "실수가 정수로 형변환되며 데이터의 손실이 발생했습니다.\n",
    "<font color=\"red\">입력한 데이터와 다차원 배열내의 데이터가 다릅니다.</font>"
   ]
  },
  {
   "cell_type": "code",
   "execution_count": 81,
   "metadata": {
    "colab": {
     "base_uri": "https://localhost:8080/",
     "height": 105
    },
    "colab_type": "code",
    "executionInfo": {
     "elapsed": 589,
     "status": "ok",
     "timestamp": 1550035474305,
     "user": {
      "displayName": "kang sanghun",
      "photoUrl": "",
      "userId": "12450865979153508193"
     },
     "user_tz": -540
    },
    "id": "w5HmkzkaT2Tl",
    "outputId": "b563870a-931e-431d-ea5b-64c93ec73fbc"
   },
   "outputs": [
    {
     "data": {
      "text/plain": [
       "array([[[1, 2, 3],\n",
       "        [4, 5, 6]],\n",
       "\n",
       "       [[1, 2, 3],\n",
       "        [4, 5, 6]]])"
      ]
     },
     "execution_count": 81,
     "metadata": {
      "tags": []
     },
     "output_type": "execute_result"
    }
   ],
   "source": [
    "np.array( [[[1,2,3], [4,5,6]],[[1,2,3], [4,5,6]]])"
   ]
  },
  {
   "cell_type": "markdown",
   "metadata": {
    "colab_type": "text",
    "id": "LbE2qHLjB0O9"
   },
   "source": [
    "#### (참고) 복소수형"
   ]
  },
  {
   "cell_type": "markdown",
   "metadata": {
    "colab_type": "text",
    "id": "wkKPYQREGH40"
   },
   "source": [
    "복소수형의 default data type은 'complex128'입니다."
   ]
  },
  {
   "cell_type": "code",
   "execution_count": null,
   "metadata": {
    "colab": {},
    "colab_type": "code",
    "id": "8YHs9hemF42o"
   },
   "outputs": [],
   "source": [
    "complexArray = np.array([1+1j, 2+2j, 3+3j, 4+4j, 5+5j])"
   ]
  },
  {
   "cell_type": "code",
   "execution_count": 77,
   "metadata": {
    "colab": {
     "base_uri": "https://localhost:8080/",
     "height": 34
    },
    "colab_type": "code",
    "executionInfo": {
     "elapsed": 664,
     "status": "ok",
     "timestamp": 1550035364142,
     "user": {
      "displayName": "kang sanghun",
      "photoUrl": "",
      "userId": "12450865979153508193"
     },
     "user_tz": -540
    },
    "id": "JhWPA4DI53Eq",
    "outputId": "76c67e18-0ed9-4094-d04b-6c4c65ce9336"
   },
   "outputs": [
    {
     "data": {
      "text/plain": [
       "array([1.+1.j, 2.+2.j, 3.+3.j, 4.+4.j, 5.+5.j])"
      ]
     },
     "execution_count": 77,
     "metadata": {
      "tags": []
     },
     "output_type": "execute_result"
    }
   ],
   "source": [
    "complexArray"
   ]
  },
  {
   "cell_type": "code",
   "execution_count": 78,
   "metadata": {
    "colab": {
     "base_uri": "https://localhost:8080/",
     "height": 34
    },
    "colab_type": "code",
    "executionInfo": {
     "elapsed": 661,
     "status": "ok",
     "timestamp": 1550035368002,
     "user": {
      "displayName": "kang sanghun",
      "photoUrl": "",
      "userId": "12450865979153508193"
     },
     "user_tz": -540
    },
    "id": "OfF1aCfQGCw3",
    "outputId": "fc9a2d5e-d08c-4d13-d4c1-58e487f1deb4"
   },
   "outputs": [
    {
     "data": {
      "text/plain": [
       "dtype('complex128')"
      ]
     },
     "execution_count": 78,
     "metadata": {
      "tags": []
     },
     "output_type": "execute_result"
    }
   ],
   "source": [
    "complexArray.dtype"
   ]
  },
  {
   "cell_type": "markdown",
   "metadata": {
    "colab_type": "text",
    "id": "-FJY7VRbYTuR"
   },
   "source": [
    "## 파일에서 데이터를 입력 받아 다차원 배열 생성하기\n"
   ]
  },
  {
   "cell_type": "markdown",
   "metadata": {
    "colab_type": "text",
    "id": "3HdL2XcfTbAO"
   },
   "source": [
    "np.genfromtxt()을 이용하여 파일에 저장된 데이터를 입력받아 다차원 배열을 생성할 수 있습니다.\n",
    "\n",
    "하지만 사용할 일은 많지 않습니다. 그 이유는,\n",
    "\n",
    "- NumPy ndarray는 동일한 데이터타입만을 가질 수 있습니다.\n",
    "- 대부분 데이터 파일에는 하나의 데이터 타입만 있는게 아니라 정수, 실수, 문자열이 섞여 있습니다.\n",
    "\n",
    "파일에서 데이터를 읽어올땐 NumPy의 genfromtxt()보단 **Pandas의 read_csv()나 read_excel()**을 주로 사용합니다."
   ]
  },
  {
   "cell_type": "code",
   "execution_count": 82,
   "metadata": {
    "colab": {
     "base_uri": "https://localhost:8080/",
     "height": 125
    },
    "colab_type": "code",
    "executionInfo": {
     "elapsed": 23782,
     "status": "ok",
     "timestamp": 1550035651489,
     "user": {
      "displayName": "kang sanghun",
      "photoUrl": "",
      "userId": "12450865979153508193"
     },
     "user_tz": -540
    },
    "id": "HXF0Vl0pKNar",
    "outputId": "4fcd9c63-15de-4a25-9082-987733440300"
   },
   "outputs": [
    {
     "name": "stdout",
     "output_type": "stream",
     "text": [
      "Go to this URL in a browser: https://accounts.google.com/o/oauth2/auth?client_id=947318989803-6bn6qk8qdgf4n4g3pfee6491hc0brc4i.apps.googleusercontent.com&redirect_uri=urn%3Aietf%3Awg%3Aoauth%3A2.0%3Aoob&scope=email%20https%3A%2F%2Fwww.googleapis.com%2Fauth%2Fdocs.test%20https%3A%2F%2Fwww.googleapis.com%2Fauth%2Fdrive%20https%3A%2F%2Fwww.googleapis.com%2Fauth%2Fdrive.photos.readonly%20https%3A%2F%2Fwww.googleapis.com%2Fauth%2Fpeopleapi.readonly&response_type=code\n",
      "\n",
      "Enter your authorization code:\n",
      "··········\n",
      "Mounted at /content/drive\n"
     ]
    }
   ],
   "source": [
    "# 구글드라이브의 파일을 가져오고 싶은 경우\n",
    "from google.colab import drive\n",
    "drive.mount('/content/drive')"
   ]
  },
  {
   "cell_type": "code",
   "execution_count": null,
   "metadata": {
    "colab": {},
    "colab_type": "code",
    "id": "c5AgQYcnKjkM"
   },
   "outputs": [],
   "source": [
    "fromCSVArray = np.genfromtxt('/content/drive/My Drive/talk-on-seminar-numpy/resources/mnist_train_super_small.csv', delimiter=',')"
   ]
  },
  {
   "cell_type": "code",
   "execution_count": 84,
   "metadata": {
    "colab": {
     "base_uri": "https://localhost:8080/",
     "height": 1073
    },
    "colab_type": "code",
    "executionInfo": {
     "elapsed": 689,
     "status": "ok",
     "timestamp": 1550035674313,
     "user": {
      "displayName": "kang sanghun",
      "photoUrl": "",
      "userId": "12450865979153508193"
     },
     "user_tz": -540
    },
    "id": "BqJXtoaAvISo",
    "outputId": "a34a51f7-6034-421c-c749-fe2e54c1996f"
   },
   "outputs": [
    {
     "data": {
      "text/plain": [
       "array([[ 21., 248., 246.,  34.,   0.,   0.,   0.,   0.,   5.,  61., 234.,\n",
       "        152.],\n",
       "       [  0.,   0.,   0.,   0.,   0.,   0.,   0.,  92., 254., 196.,   0.,\n",
       "          0.],\n",
       "       [  0.,   0.,   0.,   0.,   0.,  19., 201., 254., 196.,  15.,   0.,\n",
       "          0.],\n",
       "       [  0.,   0.,   0.,   0.,   0.,   0., 169., 254., 254., 222.,  30.,\n",
       "          0.],\n",
       "       [  0.,   0.,   0.,   0.,   0.,   0.,   0.,   0.,  19., 228., 252.,\n",
       "         57.],\n",
       "       [253., 204., 178., 141., 191., 254., 228.,  53.,   4.,   0.,   0.,\n",
       "          0.],\n",
       "       [  0.,   0.,   0.,   0.,   0.,   0.,   0.,   0., 114., 254., 253.,\n",
       "        168.],\n",
       "       [255.,  29.,   0.,   3.,  30.,  79.,   0.,   0.,   0.,   0.,   0.,\n",
       "          0.],\n",
       "       [  0.,   0.,  14., 158., 244., 253., 203.,  12.,   0.,   0.,   0.,\n",
       "          0.],\n",
       "       [253., 191.,  84.,   0.,   0.,   0.,   0.,  73., 253., 253., 145.,\n",
       "          0.],\n",
       "       [253., 253., 253., 253., 253., 253., 114.,   0.,   0.,   0.,   0.,\n",
       "          0.],\n",
       "       [  0.,   0.,   0., 132., 252., 253., 252., 172.,  30.,   0.,   0.,\n",
       "          0.],\n",
       "       [254., 254., 254., 255., 254., 254., 254., 254., 254., 254., 254.,\n",
       "         37.],\n",
       "       [  0.,   0.,   0.,   0.,   0.,   0.,   0.,   0.,   0.,   0.,  48.,\n",
       "        123.],\n",
       "       [ 63., 253., 253.,  93.,   0.,   0.,   0.,   0.,   0.,   0.,   0.,\n",
       "          0.],\n",
       "       [  0.,   0.,  20.,   0.,  82., 253., 151.,   0.,   0.,   0.,   0.,\n",
       "          0.],\n",
       "       [ 57.,   0.,   0.,   0.,   4., 169., 252., 252., 161.,   0.,   0.,\n",
       "          0.],\n",
       "       [  6.,  44., 185., 239., 253., 254., 181.,  57.,   0.,   0.,   0.,\n",
       "          0.],\n",
       "       [  0.,   0.,   0., 101., 250.,  28.,   0.,   0.,   0.,   0.,   0.,\n",
       "          0.],\n",
       "       [236., 222.,   0.,   0.,   0., 174., 249.,  56.,   0.,   0.,   0.,\n",
       "          0.],\n",
       "       [  0.,   0.,   0., 164., 255., 255., 202.,   0.,   0.,   0.,   0.,\n",
       "          0.],\n",
       "       [ 51.,  51., 113., 193., 254., 233., 142., 122., 254., 192.,   0.,\n",
       "          0.],\n",
       "       [139., 139., 140., 139., 139., 139., 140., 165., 252., 252., 101.,\n",
       "          0.],\n",
       "       [252., 252., 253., 252., 252., 252., 253., 252.,  71.,   0.,   0.,\n",
       "          0.],\n",
       "       [ 76.,  76.,  76.,  18.,   0., 231., 253., 106.,   0.,   0.,   0.,\n",
       "          0.],\n",
       "       [114., 236., 252., 252.,  96.,   0.,   0.,   0.,   0.,   0.,   0.,\n",
       "          0.],\n",
       "       [  0.,   0.,   0.,   0.,   0.,   0.,   0., 198., 253., 254., 253.,\n",
       "          0.],\n",
       "       [134., 252., 252., 252., 253., 192.,   0.,   0.,   0.,   0.,   0.,\n",
       "          0.],\n",
       "       [  0.,   0.,   0.,   0.,   0.,   0.,   0.,   0., 254., 233.,   0.,\n",
       "          0.],\n",
       "       [ 89.,   6.,   0.,   6., 200., 254., 249.,  50.,   0.,   0.,   0.,\n",
       "          0.]])"
      ]
     },
     "execution_count": 84,
     "metadata": {
      "tags": []
     },
     "output_type": "execute_result"
    }
   ],
   "source": [
    "fromCSVArray"
   ]
  },
  {
   "cell_type": "markdown",
   "metadata": {
    "colab_type": "text",
    "id": "K6FWAdVaYT1a"
   },
   "source": [
    "# 다차원 배열 생성 2"
   ]
  },
  {
   "cell_type": "markdown",
   "metadata": {
    "colab_type": "text",
    "id": "-nIkZ9IS9AAI"
   },
   "source": [
    "NumPy에 구현되어있는 함수를 활용해 다차원 배열을 만드는 방법을 알아봅니다.\n",
    "\n",
    "https://docs.scipy.org/doc/numpy/reference/routines.array-creation.html"
   ]
  },
  {
   "cell_type": "markdown",
   "metadata": {
    "colab_type": "text",
    "id": "vOPgfIGmYT89"
   },
   "source": [
    "## numpy.empty"
   ]
  },
  {
   "cell_type": "markdown",
   "metadata": {
    "colab_type": "text",
    "id": "cXi-LLekg6pC"
   },
   "source": [
    "Return a new array of given shape and type, without initializing entries."
   ]
  },
  {
   "cell_type": "code",
   "execution_count": 86,
   "metadata": {
    "colab": {
     "base_uri": "https://localhost:8080/",
     "height": 87
    },
    "colab_type": "code",
    "executionInfo": {
     "elapsed": 657,
     "status": "ok",
     "timestamp": 1550037345999,
     "user": {
      "displayName": "kang sanghun",
      "photoUrl": "",
      "userId": "12450865979153508193"
     },
     "user_tz": -540
    },
    "id": "FfORCLsWgd39",
    "outputId": "d2d2ef18-69e8-4374-ba65-3527f8ace641"
   },
   "outputs": [
    {
     "data": {
      "text/plain": [
       "array([[2.92396429e-316, 5.07869445e-317, 2.56914136e-322],\n",
       "       [            nan, 1.80362903e+185, 1.69218094e-052],\n",
       "       [9.20229396e+169, 7.69562964e+169, 9.34059910e+164],\n",
       "       [9.50623918e+169, 2.51914090e+113, 3.25475131e-318]])"
      ]
     },
     "execution_count": 86,
     "metadata": {
      "tags": []
     },
     "output_type": "execute_result"
    }
   ],
   "source": [
    "np.empty((4,3))"
   ]
  },
  {
   "cell_type": "code",
   "execution_count": null,
   "metadata": {
    "colab": {},
    "colab_type": "code",
    "id": "_ZeJainFhFeO"
   },
   "outputs": [],
   "source": [
    "A = np.array([[1, 2, 3], [4, 5, 6], [7, 8, 9]])"
   ]
  },
  {
   "cell_type": "code",
   "execution_count": 88,
   "metadata": {
    "colab": {
     "base_uri": "https://localhost:8080/",
     "height": 70
    },
    "colab_type": "code",
    "executionInfo": {
     "elapsed": 682,
     "status": "ok",
     "timestamp": 1550037371218,
     "user": {
      "displayName": "kang sanghun",
      "photoUrl": "",
      "userId": "12450865979153508193"
     },
     "user_tz": -540
    },
    "id": "ZM3ofgHfd8ie",
    "outputId": "c5bd4881-abc5-43c4-dd9f-3bce9bfc4a96"
   },
   "outputs": [
    {
     "data": {
      "text/plain": [
       "array([[1, 2, 3],\n",
       "       [4, 5, 6],\n",
       "       [7, 8, 9]])"
      ]
     },
     "execution_count": 88,
     "metadata": {
      "tags": []
     },
     "output_type": "execute_result"
    }
   ],
   "source": [
    "A"
   ]
  },
  {
   "cell_type": "code",
   "execution_count": 89,
   "metadata": {
    "colab": {
     "base_uri": "https://localhost:8080/",
     "height": 70
    },
    "colab_type": "code",
    "executionInfo": {
     "elapsed": 882,
     "status": "ok",
     "timestamp": 1550037377706,
     "user": {
      "displayName": "kang sanghun",
      "photoUrl": "",
      "userId": "12450865979153508193"
     },
     "user_tz": -540
    },
    "id": "pv64IqQMhUdi",
    "outputId": "9ec06bc1-5cda-4c70-f629-6dad0165ffb1"
   },
   "outputs": [
    {
     "data": {
      "text/plain": [
       "array([[           46358016,       2291136819317, 8792433847510762099],\n",
       "       [4787455525413936920, 8247625231990992505, 7309471316743511909],\n",
       "       [              90994,     281474976776192, 1185291126932963328]])"
      ]
     },
     "execution_count": 89,
     "metadata": {
      "tags": []
     },
     "output_type": "execute_result"
    }
   ],
   "source": [
    "np.empty_like(A)"
   ]
  },
  {
   "cell_type": "markdown",
   "metadata": {
    "colab_type": "text",
    "id": "3SQd-8BcYT6O"
   },
   "source": [
    "## numpy.zeros"
   ]
  },
  {
   "cell_type": "markdown",
   "metadata": {
    "colab_type": "text",
    "id": "PKH0lUxriSA6"
   },
   "source": [
    "Return a new array of given shape and type, filled with zeros."
   ]
  },
  {
   "cell_type": "code",
   "execution_count": 90,
   "metadata": {
    "colab": {
     "base_uri": "https://localhost:8080/",
     "height": 52
    },
    "colab_type": "code",
    "executionInfo": {
     "elapsed": 693,
     "status": "ok",
     "timestamp": 1550037438165,
     "user": {
      "displayName": "kang sanghun",
      "photoUrl": "",
      "userId": "12450865979153508193"
     },
     "user_tz": -540
    },
    "id": "gJEqvi2tiScc",
    "outputId": "7daedf89-a2aa-48e1-ec2e-035a11f197a4"
   },
   "outputs": [
    {
     "data": {
      "text/plain": [
       "array([[0., 0., 0.],\n",
       "       [0., 0., 0.]])"
      ]
     },
     "execution_count": 90,
     "metadata": {
      "tags": []
     },
     "output_type": "execute_result"
    }
   ],
   "source": [
    "np.zeros((2, 3))"
   ]
  },
  {
   "cell_type": "code",
   "execution_count": 91,
   "metadata": {
    "colab": {
     "base_uri": "https://localhost:8080/",
     "height": 52
    },
    "colab_type": "code",
    "executionInfo": {
     "elapsed": 675,
     "status": "ok",
     "timestamp": 1550037476246,
     "user": {
      "displayName": "kang sanghun",
      "photoUrl": "",
      "userId": "12450865979153508193"
     },
     "user_tz": -540
    },
    "id": "aBAZ2cC9ieG9",
    "outputId": "8e7e72c0-79ae-4563-d89d-5749aba4fd21"
   },
   "outputs": [
    {
     "data": {
      "text/plain": [
       "array([[0, 0, 0],\n",
       "       [0, 0, 0]])"
      ]
     },
     "execution_count": 91,
     "metadata": {
      "tags": []
     },
     "output_type": "execute_result"
    }
   ],
   "source": [
    "np.zeros((2, 3), dtype=int)"
   ]
  },
  {
   "cell_type": "code",
   "execution_count": 92,
   "metadata": {
    "colab": {
     "base_uri": "https://localhost:8080/",
     "height": 70
    },
    "colab_type": "code",
    "executionInfo": {
     "elapsed": 764,
     "status": "ok",
     "timestamp": 1550037493859,
     "user": {
      "displayName": "kang sanghun",
      "photoUrl": "",
      "userId": "12450865979153508193"
     },
     "user_tz": -540
    },
    "id": "bxdxGvAshgGS",
    "outputId": "91e5d1c5-f3af-4d85-e36c-e4a7925d9040"
   },
   "outputs": [
    {
     "data": {
      "text/plain": [
       "array([[0, 0, 0],\n",
       "       [0, 0, 0],\n",
       "       [0, 0, 0]])"
      ]
     },
     "execution_count": 92,
     "metadata": {
      "tags": []
     },
     "output_type": "execute_result"
    }
   ],
   "source": [
    "np.zeros_like(A)"
   ]
  },
  {
   "cell_type": "markdown",
   "metadata": {
    "colab_type": "text",
    "id": "2f6I3TUUYT--"
   },
   "source": [
    "## numpy.ones"
   ]
  },
  {
   "cell_type": "markdown",
   "metadata": {
    "colab_type": "text",
    "id": "2TtCx78Gf_Gu"
   },
   "source": [
    "Return a new array of given shape and type, filled with ones."
   ]
  },
  {
   "cell_type": "code",
   "execution_count": 93,
   "metadata": {
    "colab": {
     "base_uri": "https://localhost:8080/",
     "height": 52
    },
    "colab_type": "code",
    "executionInfo": {
     "elapsed": 676,
     "status": "ok",
     "timestamp": 1550037514008,
     "user": {
      "displayName": "kang sanghun",
      "photoUrl": "",
      "userId": "12450865979153508193"
     },
     "user_tz": -540
    },
    "id": "51_LeiXcfpzR",
    "outputId": "154e8ca2-9e3f-4662-9223-0e5fff8f1ed8"
   },
   "outputs": [
    {
     "data": {
      "text/plain": [
       "array([[1., 1., 1.],\n",
       "       [1., 1., 1.]])"
      ]
     },
     "execution_count": 93,
     "metadata": {
      "tags": []
     },
     "output_type": "execute_result"
    }
   ],
   "source": [
    "np.ones((2,3))"
   ]
  },
  {
   "cell_type": "code",
   "execution_count": 94,
   "metadata": {
    "colab": {
     "base_uri": "https://localhost:8080/",
     "height": 52
    },
    "colab_type": "code",
    "executionInfo": {
     "elapsed": 711,
     "status": "ok",
     "timestamp": 1550037516848,
     "user": {
      "displayName": "kang sanghun",
      "photoUrl": "",
      "userId": "12450865979153508193"
     },
     "user_tz": -540
    },
    "id": "4OqSJJs7hwbQ",
    "outputId": "3948de53-4a5b-429b-fa9e-daa7edb6f3f8"
   },
   "outputs": [
    {
     "data": {
      "text/plain": [
       "array([[1, 1, 1],\n",
       "       [1, 1, 1]])"
      ]
     },
     "execution_count": 94,
     "metadata": {
      "tags": []
     },
     "output_type": "execute_result"
    }
   ],
   "source": [
    "np.ones((2,3), dtype=int)"
   ]
  },
  {
   "cell_type": "code",
   "execution_count": 95,
   "metadata": {
    "colab": {
     "base_uri": "https://localhost:8080/",
     "height": 70
    },
    "colab_type": "code",
    "executionInfo": {
     "elapsed": 718,
     "status": "ok",
     "timestamp": 1550037519119,
     "user": {
      "displayName": "kang sanghun",
      "photoUrl": "",
      "userId": "12450865979153508193"
     },
     "user_tz": -540
    },
    "id": "FFIxgrN9hzSn",
    "outputId": "65bb4910-2052-4d2c-a576-e3ede03e7030"
   },
   "outputs": [
    {
     "data": {
      "text/plain": [
       "array([[1, 1, 1],\n",
       "       [1, 1, 1],\n",
       "       [1, 1, 1]])"
      ]
     },
     "execution_count": 95,
     "metadata": {
      "tags": []
     },
     "output_type": "execute_result"
    }
   ],
   "source": [
    "np.ones_like(A)"
   ]
  },
  {
   "cell_type": "markdown",
   "metadata": {
    "colab_type": "text",
    "id": "iYHi8SL9jHdR"
   },
   "source": [
    "## numpy.identity"
   ]
  },
  {
   "cell_type": "markdown",
   "metadata": {
    "colab_type": "text",
    "id": "wppdmiYnjLVS"
   },
   "source": [
    "Return the identity array."
   ]
  },
  {
   "cell_type": "code",
   "execution_count": 96,
   "metadata": {
    "colab": {
     "base_uri": "https://localhost:8080/",
     "height": 52
    },
    "colab_type": "code",
    "executionInfo": {
     "elapsed": 684,
     "status": "ok",
     "timestamp": 1550037645772,
     "user": {
      "displayName": "kang sanghun",
      "photoUrl": "",
      "userId": "12450865979153508193"
     },
     "user_tz": -540
    },
    "id": "gk5ptfwOjMoM",
    "outputId": "8cbaa1d2-3283-4b80-de5f-2dca2a08ea36"
   },
   "outputs": [
    {
     "data": {
      "text/plain": [
       "array([[1., 0.],\n",
       "       [0., 1.]])"
      ]
     },
     "execution_count": 96,
     "metadata": {
      "tags": []
     },
     "output_type": "execute_result"
    }
   ],
   "source": [
    "np.identity(2)"
   ]
  },
  {
   "cell_type": "code",
   "execution_count": 97,
   "metadata": {
    "colab": {
     "base_uri": "https://localhost:8080/",
     "height": 70
    },
    "colab_type": "code",
    "executionInfo": {
     "elapsed": 816,
     "status": "ok",
     "timestamp": 1550037661003,
     "user": {
      "displayName": "kang sanghun",
      "photoUrl": "",
      "userId": "12450865979153508193"
     },
     "user_tz": -540
    },
    "id": "ufzLDxObjMbQ",
    "outputId": "345e1d4d-5648-4d63-9a38-e3a9c2d69700"
   },
   "outputs": [
    {
     "data": {
      "text/plain": [
       "array([[1, 0, 0],\n",
       "       [0, 1, 0],\n",
       "       [0, 0, 1]])"
      ]
     },
     "execution_count": 97,
     "metadata": {
      "tags": []
     },
     "output_type": "execute_result"
    }
   ],
   "source": [
    "np.identity(3, dtype=int)"
   ]
  },
  {
   "cell_type": "markdown",
   "metadata": {
    "colab_type": "text",
    "id": "EphARzOujW1z"
   },
   "source": [
    "## 참고"
   ]
  },
  {
   "cell_type": "markdown",
   "metadata": {
    "colab_type": "text",
    "id": "i-hkaJr0iG1v"
   },
   "source": [
    "### numpy.eye"
   ]
  },
  {
   "cell_type": "markdown",
   "metadata": {
    "colab_type": "text",
    "id": "AqDYqxoIiU1x"
   },
   "source": [
    "Return a 2-D array with ones on the diagonal and zeros elsewhere."
   ]
  },
  {
   "cell_type": "code",
   "execution_count": 98,
   "metadata": {
    "colab": {
     "base_uri": "https://localhost:8080/",
     "height": 70
    },
    "colab_type": "code",
    "executionInfo": {
     "elapsed": 610,
     "status": "ok",
     "timestamp": 1550037717352,
     "user": {
      "displayName": "kang sanghun",
      "photoUrl": "",
      "userId": "12450865979153508193"
     },
     "user_tz": -540
    },
    "id": "OMBY4vpth2fA",
    "outputId": "8e0f361a-0660-4567-c688-0692ec65e175"
   },
   "outputs": [
    {
     "data": {
      "text/plain": [
       "array([[1., 0., 0.],\n",
       "       [0., 1., 0.],\n",
       "       [0., 0., 1.]])"
      ]
     },
     "execution_count": 98,
     "metadata": {
      "tags": []
     },
     "output_type": "execute_result"
    }
   ],
   "source": [
    "np.eye(3)"
   ]
  },
  {
   "cell_type": "code",
   "execution_count": 99,
   "metadata": {
    "colab": {
     "base_uri": "https://localhost:8080/",
     "height": 70
    },
    "colab_type": "code",
    "executionInfo": {
     "elapsed": 671,
     "status": "ok",
     "timestamp": 1550037732824,
     "user": {
      "displayName": "kang sanghun",
      "photoUrl": "",
      "userId": "12450865979153508193"
     },
     "user_tz": -540
    },
    "id": "RvJUTBkyh2Nr",
    "outputId": "89221c89-7363-4b79-dcfc-e2123ec83204"
   },
   "outputs": [
    {
     "data": {
      "text/plain": [
       "array([[1., 0., 0., 0.],\n",
       "       [0., 1., 0., 0.],\n",
       "       [0., 0., 1., 0.]])"
      ]
     },
     "execution_count": 99,
     "metadata": {
      "tags": []
     },
     "output_type": "execute_result"
    }
   ],
   "source": [
    "np.eye(3, 4)"
   ]
  },
  {
   "cell_type": "code",
   "execution_count": 100,
   "metadata": {
    "colab": {
     "base_uri": "https://localhost:8080/",
     "height": 70
    },
    "colab_type": "code",
    "executionInfo": {
     "elapsed": 664,
     "status": "ok",
     "timestamp": 1550037754769,
     "user": {
      "displayName": "kang sanghun",
      "photoUrl": "",
      "userId": "12450865979153508193"
     },
     "user_tz": -540
    },
    "id": "yoB2BTKOiyvB",
    "outputId": "1cd0f242-cc49-4f1b-a17a-be43643211f2"
   },
   "outputs": [
    {
     "data": {
      "text/plain": [
       "array([[0., 1., 0., 0.],\n",
       "       [0., 0., 1., 0.],\n",
       "       [0., 0., 0., 1.]])"
      ]
     },
     "execution_count": 100,
     "metadata": {
      "tags": []
     },
     "output_type": "execute_result"
    }
   ],
   "source": [
    "np.eye(3, 4, 1)"
   ]
  },
  {
   "cell_type": "code",
   "execution_count": 101,
   "metadata": {
    "colab": {
     "base_uri": "https://localhost:8080/",
     "height": 70
    },
    "colab_type": "code",
    "executionInfo": {
     "elapsed": 674,
     "status": "ok",
     "timestamp": 1550037782004,
     "user": {
      "displayName": "kang sanghun",
      "photoUrl": "",
      "userId": "12450865979153508193"
     },
     "user_tz": -540
    },
    "id": "Q5wD8DWRjuDs",
    "outputId": "4a5e7e32-28ca-40ed-9e81-73ad557231a7"
   },
   "outputs": [
    {
     "data": {
      "text/plain": [
       "array([[0., 0., 0., 0.],\n",
       "       [1., 0., 0., 0.],\n",
       "       [0., 1., 0., 0.]])"
      ]
     },
     "execution_count": 101,
     "metadata": {
      "tags": []
     },
     "output_type": "execute_result"
    }
   ],
   "source": [
    "np.eye(3, 4, -1)"
   ]
  },
  {
   "cell_type": "markdown",
   "metadata": {
    "colab_type": "text",
    "id": "o2-dCEXxkAsq"
   },
   "source": [
    "### numpy.full"
   ]
  },
  {
   "cell_type": "markdown",
   "metadata": {
    "colab_type": "text",
    "id": "HlqXmw0rkHNn"
   },
   "source": [
    "numpy.full(shape, fill_value, dtype=None, order='C')\n",
    "\n",
    "Return a new array of given shape and type, filled with fill_value."
   ]
  },
  {
   "cell_type": "code",
   "execution_count": 102,
   "metadata": {
    "colab": {
     "base_uri": "https://localhost:8080/",
     "height": 52
    },
    "colab_type": "code",
    "executionInfo": {
     "elapsed": 680,
     "status": "ok",
     "timestamp": 1550037800023,
     "user": {
      "displayName": "kang sanghun",
      "photoUrl": "",
      "userId": "12450865979153508193"
     },
     "user_tz": -540
    },
    "id": "geBFyWUEkG25",
    "outputId": "e95fa39f-fbb7-4fb9-f0c5-9ed6ba970907"
   },
   "outputs": [
    {
     "data": {
      "text/plain": [
       "array([[10, 10, 10],\n",
       "       [10, 10, 10]])"
      ]
     },
     "execution_count": 102,
     "metadata": {
      "tags": []
     },
     "output_type": "execute_result"
    }
   ],
   "source": [
    "np.full((2, 3), 10)"
   ]
  },
  {
   "cell_type": "markdown",
   "metadata": {
    "colab_type": "text",
    "id": "CnCSOJICkVjv"
   },
   "source": [
    "위 보다는 아래 방식을 선호합니다."
   ]
  },
  {
   "cell_type": "code",
   "execution_count": 103,
   "metadata": {
    "colab": {
     "base_uri": "https://localhost:8080/",
     "height": 52
    },
    "colab_type": "code",
    "executionInfo": {
     "elapsed": 693,
     "status": "ok",
     "timestamp": 1550037834757,
     "user": {
      "displayName": "kang sanghun",
      "photoUrl": "",
      "userId": "12450865979153508193"
     },
     "user_tz": -540
    },
    "id": "B3n5nkYgkPT3",
    "outputId": "60101f95-22ea-4695-b3b1-273203e280e2"
   },
   "outputs": [
    {
     "data": {
      "text/plain": [
       "array([[10, 10, 10],\n",
       "       [10, 10, 10]])"
      ]
     },
     "execution_count": 103,
     "metadata": {
      "tags": []
     },
     "output_type": "execute_result"
    }
   ],
   "source": [
    "10 * np.ones((2,3), dtype=int)"
   ]
  },
  {
   "cell_type": "markdown",
   "metadata": {
    "colab_type": "text",
    "id": "AdnkzqaLfk7O"
   },
   "source": [
    "### numpy.arange"
   ]
  },
  {
   "cell_type": "markdown",
   "metadata": {
    "colab_type": "text",
    "id": "xgmdzhZPhOZs"
   },
   "source": [
    "Return evenly spaced values within a given interval."
   ]
  },
  {
   "cell_type": "code",
   "execution_count": 106,
   "metadata": {
    "colab": {
     "base_uri": "https://localhost:8080/",
     "height": 34
    },
    "colab_type": "code",
    "executionInfo": {
     "elapsed": 654,
     "status": "ok",
     "timestamp": 1550037948351,
     "user": {
      "displayName": "kang sanghun",
      "photoUrl": "",
      "userId": "12450865979153508193"
     },
     "user_tz": -540
    },
    "id": "5Sr383Cmfkd7",
    "outputId": "6d1711c6-401f-4571-f11f-cdfa896e007f"
   },
   "outputs": [
    {
     "data": {
      "text/plain": [
       "array([0, 1, 2, 3, 4, 5, 6, 7, 8, 9])"
      ]
     },
     "execution_count": 106,
     "metadata": {
      "tags": []
     },
     "output_type": "execute_result"
    }
   ],
   "source": [
    "# default value\n",
    "# start = 0\n",
    "# step = 1\n",
    "np.arange(10)"
   ]
  },
  {
   "cell_type": "code",
   "execution_count": 107,
   "metadata": {
    "colab": {
     "base_uri": "https://localhost:8080/",
     "height": 34
    },
    "colab_type": "code",
    "executionInfo": {
     "elapsed": 676,
     "status": "ok",
     "timestamp": 1550037961766,
     "user": {
      "displayName": "kang sanghun",
      "photoUrl": "",
      "userId": "12450865979153508193"
     },
     "user_tz": -540
    },
    "id": "n0rm-lH7gSmd",
    "outputId": "8b4b7955-eab6-4dd0-b274-721af5f0185a"
   },
   "outputs": [
    {
     "data": {
      "text/plain": [
       "array([1. , 1.5, 2. , 2.5, 3. , 3.5, 4. , 4.5])"
      ]
     },
     "execution_count": 107,
     "metadata": {
      "tags": []
     },
     "output_type": "execute_result"
    }
   ],
   "source": [
    "np.arange(start=1.0, stop=5.0, step=0.5)"
   ]
  },
  {
   "cell_type": "markdown",
   "metadata": {
    "colab_type": "text",
    "id": "vj0WRG9-hbd4"
   },
   "source": [
    "### numpy.linspace"
   ]
  },
  {
   "cell_type": "markdown",
   "metadata": {
    "colab_type": "text",
    "id": "azYRu3ophbRq"
   },
   "source": [
    "Return evenly spaced numbers over a specified interval."
   ]
  },
  {
   "cell_type": "code",
   "execution_count": 108,
   "metadata": {
    "colab": {
     "base_uri": "https://localhost:8080/",
     "height": 34
    },
    "colab_type": "code",
    "executionInfo": {
     "elapsed": 655,
     "status": "ok",
     "timestamp": 1550037992938,
     "user": {
      "displayName": "kang sanghun",
      "photoUrl": "",
      "userId": "12450865979153508193"
     },
     "user_tz": -540
    },
    "id": "AfShQksbhku-",
    "outputId": "c59fd9b0-7dc8-4bbe-db11-2165e90bff59"
   },
   "outputs": [
    {
     "data": {
      "text/plain": [
       "array([2.  , 2.25, 2.5 , 2.75, 3.  ])"
      ]
     },
     "execution_count": 108,
     "metadata": {
      "tags": []
     },
     "output_type": "execute_result"
    }
   ],
   "source": [
    "np.linspace(2.0, 3.0, num=5)"
   ]
  },
  {
   "cell_type": "markdown",
   "metadata": {
    "colab_type": "text",
    "id": "8umKaPA-YT4J"
   },
   "source": [
    "# 다차원 배열 다루기 1"
   ]
  },
  {
   "cell_type": "markdown",
   "metadata": {
    "colab_type": "text",
    "id": "YJamUKL9nK3T"
   },
   "source": [
    "통계값을 구하는 함수에 대해 알아봅니다.\n",
    "\n",
    "<font color=\"red\">이제 반복문은 사용하지 않습니다.</font>\n",
    "\n",
    "https://docs.scipy.org/doc/numpy/reference/routines.statistics.html"
   ]
  },
  {
   "cell_type": "markdown",
   "metadata": {
    "colab_type": "text",
    "id": "k_Ha7m_6oaVw"
   },
   "source": [
    "![alt text](https://lh3.googleusercontent.com/zXC7mbgObMUkQoUnkfMvog5wU8Qh2bvLEwINZo7eilDpq_aun8c3D_qCvaCZhQQLnC-iz7XxFP3iWylf3RZWNsKUaw2MFU0c4Oiu3cbZIPM4AsgSSUVYlDzZKVgG-ldbaEt2vty-cqaHNqrIYNPjsN6n8gT5XbJPqEk5GJjjTfL61t5ugfaDtHjbskwoZm45x8xbWJgkilc8fZ70hWGr8tpskk_5P4G3dI9zy0-ZNTDF9R2nGknAjcmCT3cP5nKhL0YM8mhhbWxS7jTotR1A-hKBPRXbu-5tFa1W54F8k4Do17Wvhz_JNaj0EX-5z0BT8ryE6XPvsJd4vlQAAzwYKdy9oIL7KYzTiIy3vi7MicCg7opIc87ueczPBpZUv2vczrUzzOT-6Yczc9Ay2UPvzyS6SmB2QJI2gGXXvdRFZAElecn83X98psuIHAGx7xii7OplLOQLNaDN3o0tCt4v0e2mgnP8zU87MfUGMCgs-zJwCZYeJz-2rt1EHGGk0IuiiDJQ-R_X91KUE1Z76VOHOjBt_saj-UJ40dTB2w_ITArQa1dH2GhPZCz7wC4_UmwYlr1BHUiohA1ByDBHRB2cA8sBF5MU3s7F1KKWPQUcBQqf2NhQgUJTYWnvWUrgqdmvEKRVRiXwqlJiwGVc1_nCFUAOtzXqLtJAvT0mlKso-GUEPy6NPFjR-Yvv4ci_QFfhtUh87MyVYTEphY7xcNwTaswPqw=w652-h341-no)"
   ]
  },
  {
   "cell_type": "markdown",
   "metadata": {
    "colab_type": "text",
    "id": "WeQkeSp9YTxA"
   },
   "source": [
    "## numpy.amin"
   ]
  },
  {
   "cell_type": "markdown",
   "metadata": {
    "colab_type": "text",
    "id": "tr0WYF7Co1ho"
   },
   "source": [
    "Return the minimum of an array or minimum along an axis."
   ]
  },
  {
   "cell_type": "code",
   "execution_count": 109,
   "metadata": {
    "colab": {
     "base_uri": "https://localhost:8080/",
     "height": 70
    },
    "colab_type": "code",
    "executionInfo": {
     "elapsed": 669,
     "status": "ok",
     "timestamp": 1550039110074,
     "user": {
      "displayName": "kang sanghun",
      "photoUrl": "",
      "userId": "12450865979153508193"
     },
     "user_tz": -540
    },
    "id": "_-Ptumyjo0dT",
    "outputId": "63903bdb-569a-480a-9f8f-470c1b6cbfc3"
   },
   "outputs": [
    {
     "data": {
      "text/plain": [
       "array([[1, 2, 3],\n",
       "       [4, 5, 6],\n",
       "       [7, 8, 9]])"
      ]
     },
     "execution_count": 109,
     "metadata": {
      "tags": []
     },
     "output_type": "execute_result"
    }
   ],
   "source": [
    "A"
   ]
  },
  {
   "cell_type": "code",
   "execution_count": 112,
   "metadata": {
    "colab": {
     "base_uri": "https://localhost:8080/",
     "height": 34
    },
    "colab_type": "code",
    "executionInfo": {
     "elapsed": 732,
     "status": "ok",
     "timestamp": 1550039181095,
     "user": {
      "displayName": "kang sanghun",
      "photoUrl": "",
      "userId": "12450865979153508193"
     },
     "user_tz": -540
    },
    "id": "et4d4RNIocCs",
    "outputId": "c62147a5-330d-4b92-a772-d8f668287efa"
   },
   "outputs": [
    {
     "data": {
      "text/plain": [
       "array([1, 2, 3])"
      ]
     },
     "execution_count": 112,
     "metadata": {
      "tags": []
     },
     "output_type": "execute_result"
    }
   ],
   "source": [
    "#np.amin(A, 0)\n",
    "np.amin(A, axis=0)"
   ]
  },
  {
   "cell_type": "code",
   "execution_count": 113,
   "metadata": {
    "colab": {
     "base_uri": "https://localhost:8080/",
     "height": 34
    },
    "colab_type": "code",
    "executionInfo": {
     "elapsed": 716,
     "status": "ok",
     "timestamp": 1550039206673,
     "user": {
      "displayName": "kang sanghun",
      "photoUrl": "",
      "userId": "12450865979153508193"
     },
     "user_tz": -540
    },
    "id": "0jLWkPjdoyrB",
    "outputId": "5d97992c-10cf-4a94-fafa-c99720d4fb68"
   },
   "outputs": [
    {
     "data": {
      "text/plain": [
       "array([1, 4, 7])"
      ]
     },
     "execution_count": 113,
     "metadata": {
      "tags": []
     },
     "output_type": "execute_result"
    }
   ],
   "source": [
    "np.amin(A, 1)\n",
    "# np.amin(A, axis=1)"
   ]
  },
  {
   "cell_type": "code",
   "execution_count": 114,
   "metadata": {
    "colab": {
     "base_uri": "https://localhost:8080/",
     "height": 34
    },
    "colab_type": "code",
    "executionInfo": {
     "elapsed": 671,
     "status": "ok",
     "timestamp": 1550039249047,
     "user": {
      "displayName": "kang sanghun",
      "photoUrl": "",
      "userId": "12450865979153508193"
     },
     "user_tz": -540
    },
    "id": "QBbjFJ6GpDCn",
    "outputId": "d00bc07d-5485-45b0-f135-ca50761dfee8"
   },
   "outputs": [
    {
     "data": {
      "text/plain": [
       "1"
      ]
     },
     "execution_count": 114,
     "metadata": {
      "tags": []
     },
     "output_type": "execute_result"
    }
   ],
   "source": [
    "np.amin(A)"
   ]
  },
  {
   "cell_type": "markdown",
   "metadata": {
    "colab_type": "text",
    "id": "gMsPpdw1pCWC"
   },
   "source": [
    "## numpy.amax"
   ]
  },
  {
   "cell_type": "markdown",
   "metadata": {
    "colab_type": "text",
    "id": "Fqn9ZjeRpUgO"
   },
   "source": [
    "Return the maximum of an array or maximum along an axis."
   ]
  },
  {
   "cell_type": "code",
   "execution_count": 115,
   "metadata": {
    "colab": {
     "base_uri": "https://localhost:8080/",
     "height": 70
    },
    "colab_type": "code",
    "executionInfo": {
     "elapsed": 686,
     "status": "ok",
     "timestamp": 1550039292340,
     "user": {
      "displayName": "kang sanghun",
      "photoUrl": "",
      "userId": "12450865979153508193"
     },
     "user_tz": -540
    },
    "id": "oAootx86qA5z",
    "outputId": "f9ca027f-2180-4ae7-c001-9841b0a4b029"
   },
   "outputs": [
    {
     "data": {
      "text/plain": [
       "array([[1, 2, 3],\n",
       "       [4, 5, 6],\n",
       "       [7, 8, 9]])"
      ]
     },
     "execution_count": 115,
     "metadata": {
      "tags": []
     },
     "output_type": "execute_result"
    }
   ],
   "source": [
    "A"
   ]
  },
  {
   "cell_type": "code",
   "execution_count": 116,
   "metadata": {
    "colab": {
     "base_uri": "https://localhost:8080/",
     "height": 34
    },
    "colab_type": "code",
    "executionInfo": {
     "elapsed": 679,
     "status": "ok",
     "timestamp": 1550039299748,
     "user": {
      "displayName": "kang sanghun",
      "photoUrl": "",
      "userId": "12450865979153508193"
     },
     "user_tz": -540
    },
    "id": "ej2Se2iXpJpQ",
    "outputId": "8e97a9f7-1479-4fec-8085-51a289c30c10"
   },
   "outputs": [
    {
     "data": {
      "text/plain": [
       "array([7, 8, 9])"
      ]
     },
     "execution_count": 116,
     "metadata": {
      "tags": []
     },
     "output_type": "execute_result"
    }
   ],
   "source": [
    "np.amax(A, 0)\n",
    "# np.amax(A, axis=0)"
   ]
  },
  {
   "cell_type": "code",
   "execution_count": 117,
   "metadata": {
    "colab": {
     "base_uri": "https://localhost:8080/",
     "height": 34
    },
    "colab_type": "code",
    "executionInfo": {
     "elapsed": 662,
     "status": "ok",
     "timestamp": 1550039311125,
     "user": {
      "displayName": "kang sanghun",
      "photoUrl": "",
      "userId": "12450865979153508193"
     },
     "user_tz": -540
    },
    "id": "9sIDnzytpJna",
    "outputId": "0c81e6b5-7c3c-49d1-c254-8e16d42d310c"
   },
   "outputs": [
    {
     "data": {
      "text/plain": [
       "array([3, 6, 9])"
      ]
     },
     "execution_count": 117,
     "metadata": {
      "tags": []
     },
     "output_type": "execute_result"
    }
   ],
   "source": [
    "np.amax(A, 1)\n",
    "# np.amax(A, axis=1)"
   ]
  },
  {
   "cell_type": "code",
   "execution_count": 139,
   "metadata": {
    "colab": {
     "base_uri": "https://localhost:8080/",
     "height": 34
    },
    "colab_type": "code",
    "executionInfo": {
     "elapsed": 530,
     "status": "ok",
     "timestamp": 1550040896742,
     "user": {
      "displayName": "kang sanghun",
      "photoUrl": "",
      "userId": "12450865979153508193"
     },
     "user_tz": -540
    },
    "id": "CL6YZbXSolnf",
    "outputId": "d83f1164-a51a-4f3d-9b28-23e61324dc9c"
   },
   "outputs": [
    {
     "data": {
      "text/plain": [
       "(3,)"
      ]
     },
     "execution_count": 139,
     "metadata": {
      "tags": []
     },
     "output_type": "execute_result"
    }
   ],
   "source": [
    "np.amax(A, 1).shape"
   ]
  },
  {
   "cell_type": "code",
   "execution_count": 118,
   "metadata": {
    "colab": {
     "base_uri": "https://localhost:8080/",
     "height": 34
    },
    "colab_type": "code",
    "executionInfo": {
     "elapsed": 657,
     "status": "ok",
     "timestamp": 1550039321000,
     "user": {
      "displayName": "kang sanghun",
      "photoUrl": "",
      "userId": "12450865979153508193"
     },
     "user_tz": -540
    },
    "id": "XKrEdPH1pJQj",
    "outputId": "a3fb7dde-757c-4bbf-c0ad-5c4b6c2abe2d"
   },
   "outputs": [
    {
     "data": {
      "text/plain": [
       "9"
      ]
     },
     "execution_count": 118,
     "metadata": {
      "tags": []
     },
     "output_type": "execute_result"
    }
   ],
   "source": [
    "np.amax(A)"
   ]
  },
  {
   "cell_type": "markdown",
   "metadata": {
    "colab_type": "text",
    "id": "yVHIj1Iupnhf"
   },
   "source": [
    "## numpy.ptp"
   ]
  },
  {
   "cell_type": "markdown",
   "metadata": {
    "colab_type": "text",
    "id": "EFYuiVX4pxvj"
   },
   "source": [
    "Range of values (maximum - minimum) along an axis.\n",
    "\n",
    "The name of the function comes from the acronym for ‘peak to peak’."
   ]
  },
  {
   "cell_type": "code",
   "execution_count": 119,
   "metadata": {
    "colab": {
     "base_uri": "https://localhost:8080/",
     "height": 70
    },
    "colab_type": "code",
    "executionInfo": {
     "elapsed": 672,
     "status": "ok",
     "timestamp": 1550039351121,
     "user": {
      "displayName": "kang sanghun",
      "photoUrl": "",
      "userId": "12450865979153508193"
     },
     "user_tz": -540
    },
    "id": "8VxGXuinp8kQ",
    "outputId": "544f26ca-e832-43b7-a817-2b469fc48d94"
   },
   "outputs": [
    {
     "data": {
      "text/plain": [
       "array([[1, 2, 3],\n",
       "       [4, 5, 6],\n",
       "       [7, 8, 9]])"
      ]
     },
     "execution_count": 119,
     "metadata": {
      "tags": []
     },
     "output_type": "execute_result"
    }
   ],
   "source": [
    "A"
   ]
  },
  {
   "cell_type": "code",
   "execution_count": 120,
   "metadata": {
    "colab": {
     "base_uri": "https://localhost:8080/",
     "height": 34
    },
    "colab_type": "code",
    "executionInfo": {
     "elapsed": 666,
     "status": "ok",
     "timestamp": 1550039371422,
     "user": {
      "displayName": "kang sanghun",
      "photoUrl": "",
      "userId": "12450865979153508193"
     },
     "user_tz": -540
    },
    "id": "Q6YNHrwOpzuZ",
    "outputId": "c30f9307-0a47-4bd6-f5b2-8728ca3fc6d6"
   },
   "outputs": [
    {
     "data": {
      "text/plain": [
       "array([6, 6, 6])"
      ]
     },
     "execution_count": 120,
     "metadata": {
      "tags": []
     },
     "output_type": "execute_result"
    }
   ],
   "source": [
    "np.ptp(A, 0)"
   ]
  },
  {
   "cell_type": "code",
   "execution_count": 121,
   "metadata": {
    "colab": {
     "base_uri": "https://localhost:8080/",
     "height": 34
    },
    "colab_type": "code",
    "executionInfo": {
     "elapsed": 684,
     "status": "ok",
     "timestamp": 1550039390415,
     "user": {
      "displayName": "kang sanghun",
      "photoUrl": "",
      "userId": "12450865979153508193"
     },
     "user_tz": -540
    },
    "id": "Xm14LIGdp6a3",
    "outputId": "74357ebc-886c-47e3-e7ec-a0e3fbf96fef"
   },
   "outputs": [
    {
     "data": {
      "text/plain": [
       "array([2, 2, 2])"
      ]
     },
     "execution_count": 121,
     "metadata": {
      "tags": []
     },
     "output_type": "execute_result"
    }
   ],
   "source": [
    "np.ptp(A, 1)"
   ]
  },
  {
   "cell_type": "code",
   "execution_count": 122,
   "metadata": {
    "colab": {
     "base_uri": "https://localhost:8080/",
     "height": 34
    },
    "colab_type": "code",
    "executionInfo": {
     "elapsed": 936,
     "status": "ok",
     "timestamp": 1550039396734,
     "user": {
      "displayName": "kang sanghun",
      "photoUrl": "",
      "userId": "12450865979153508193"
     },
     "user_tz": -540
    },
    "id": "Z4QFXCVxp99u",
    "outputId": "60d9f5cb-5958-42c3-d925-43afac928fa7"
   },
   "outputs": [
    {
     "data": {
      "text/plain": [
       "8"
      ]
     },
     "execution_count": 122,
     "metadata": {
      "tags": []
     },
     "output_type": "execute_result"
    }
   ],
   "source": [
    "np.ptp(A)"
   ]
  },
  {
   "cell_type": "markdown",
   "metadata": {
    "colab_type": "text",
    "id": "FoCO6OmSqUhW"
   },
   "source": [
    "## numpy.median"
   ]
  },
  {
   "cell_type": "markdown",
   "metadata": {
    "colab_type": "text",
    "id": "P-Eyf72Urhjz"
   },
   "source": [
    "Compute the median along the specified axis."
   ]
  },
  {
   "cell_type": "code",
   "execution_count": 123,
   "metadata": {
    "colab": {
     "base_uri": "https://localhost:8080/",
     "height": 70
    },
    "colab_type": "code",
    "executionInfo": {
     "elapsed": 663,
     "status": "ok",
     "timestamp": 1550039426922,
     "user": {
      "displayName": "kang sanghun",
      "photoUrl": "",
      "userId": "12450865979153508193"
     },
     "user_tz": -540
    },
    "id": "Bi64JNDerJ7W",
    "outputId": "8c8751b7-77e9-4fb5-b725-3c628bda2e1a"
   },
   "outputs": [
    {
     "data": {
      "text/plain": [
       "array([[1, 2, 3],\n",
       "       [4, 5, 6],\n",
       "       [7, 8, 9]])"
      ]
     },
     "execution_count": 123,
     "metadata": {
      "tags": []
     },
     "output_type": "execute_result"
    }
   ],
   "source": [
    "A"
   ]
  },
  {
   "cell_type": "code",
   "execution_count": 124,
   "metadata": {
    "colab": {
     "base_uri": "https://localhost:8080/",
     "height": 34
    },
    "colab_type": "code",
    "executionInfo": {
     "elapsed": 1145,
     "status": "ok",
     "timestamp": 1550039431513,
     "user": {
      "displayName": "kang sanghun",
      "photoUrl": "",
      "userId": "12450865979153508193"
     },
     "user_tz": -540
    },
    "id": "ps-6IJLxrLTI",
    "outputId": "3838cd7d-e30a-4332-e849-31aff79bb244"
   },
   "outputs": [
    {
     "data": {
      "text/plain": [
       "array([4., 5., 6.])"
      ]
     },
     "execution_count": 124,
     "metadata": {
      "tags": []
     },
     "output_type": "execute_result"
    }
   ],
   "source": [
    "np.median(A, 0)"
   ]
  },
  {
   "cell_type": "code",
   "execution_count": 125,
   "metadata": {
    "colab": {
     "base_uri": "https://localhost:8080/",
     "height": 34
    },
    "colab_type": "code",
    "executionInfo": {
     "elapsed": 1144,
     "status": "ok",
     "timestamp": 1550039433915,
     "user": {
      "displayName": "kang sanghun",
      "photoUrl": "",
      "userId": "12450865979153508193"
     },
     "user_tz": -540
    },
    "id": "hsVht0ByrQN1",
    "outputId": "9ad6ccdf-ebfd-416a-c5cd-c23e1b3da244"
   },
   "outputs": [
    {
     "data": {
      "text/plain": [
       "array([2., 5., 8.])"
      ]
     },
     "execution_count": 125,
     "metadata": {
      "tags": []
     },
     "output_type": "execute_result"
    }
   ],
   "source": [
    "np.median(A, 1)"
   ]
  },
  {
   "cell_type": "code",
   "execution_count": 126,
   "metadata": {
    "colab": {
     "base_uri": "https://localhost:8080/",
     "height": 34
    },
    "colab_type": "code",
    "executionInfo": {
     "elapsed": 675,
     "status": "ok",
     "timestamp": 1550039435699,
     "user": {
      "displayName": "kang sanghun",
      "photoUrl": "",
      "userId": "12450865979153508193"
     },
     "user_tz": -540
    },
    "id": "SsqQsYZ1rU_N",
    "outputId": "0923f42d-25ea-4ab9-a9dd-441e1b9e89cf"
   },
   "outputs": [
    {
     "data": {
      "text/plain": [
       "5.0"
      ]
     },
     "execution_count": 126,
     "metadata": {
      "tags": []
     },
     "output_type": "execute_result"
    }
   ],
   "source": [
    "np.median(A)"
   ]
  },
  {
   "cell_type": "markdown",
   "metadata": {
    "colab_type": "text",
    "id": "OBi1rF4uqYaW"
   },
   "source": [
    "## numpy.mean"
   ]
  },
  {
   "cell_type": "markdown",
   "metadata": {
    "colab_type": "text",
    "id": "fxwp6vDBr0uO"
   },
   "source": [
    "Compute the arithmetic mean along the specified axis.\n",
    "\n",
    "(가중평균을 구하려면 numpy.average를 사용해야 합니다.)"
   ]
  },
  {
   "cell_type": "code",
   "execution_count": 127,
   "metadata": {
    "colab": {
     "base_uri": "https://localhost:8080/",
     "height": 70
    },
    "colab_type": "code",
    "executionInfo": {
     "elapsed": 718,
     "status": "ok",
     "timestamp": 1550039466689,
     "user": {
      "displayName": "kang sanghun",
      "photoUrl": "",
      "userId": "12450865979153508193"
     },
     "user_tz": -540
    },
    "id": "sbY1nmGHseNT",
    "outputId": "893cb509-cf15-41c8-baa2-af5e38785d5b"
   },
   "outputs": [
    {
     "data": {
      "text/plain": [
       "array([[1, 2, 3],\n",
       "       [4, 5, 6],\n",
       "       [7, 8, 9]])"
      ]
     },
     "execution_count": 127,
     "metadata": {
      "tags": []
     },
     "output_type": "execute_result"
    }
   ],
   "source": [
    "A"
   ]
  },
  {
   "cell_type": "code",
   "execution_count": 128,
   "metadata": {
    "colab": {
     "base_uri": "https://localhost:8080/",
     "height": 34
    },
    "colab_type": "code",
    "executionInfo": {
     "elapsed": 741,
     "status": "ok",
     "timestamp": 1550039468872,
     "user": {
      "displayName": "kang sanghun",
      "photoUrl": "",
      "userId": "12450865979153508193"
     },
     "user_tz": -540
    },
    "id": "WnFfddIZrdsT",
    "outputId": "74695e6c-01b3-4564-82d5-220dc66ec614"
   },
   "outputs": [
    {
     "data": {
      "text/plain": [
       "array([4., 5., 6.])"
      ]
     },
     "execution_count": 128,
     "metadata": {
      "tags": []
     },
     "output_type": "execute_result"
    }
   ],
   "source": [
    "np.mean(A, 0)"
   ]
  },
  {
   "cell_type": "code",
   "execution_count": 129,
   "metadata": {
    "colab": {
     "base_uri": "https://localhost:8080/",
     "height": 34
    },
    "colab_type": "code",
    "executionInfo": {
     "elapsed": 635,
     "status": "ok",
     "timestamp": 1550039470811,
     "user": {
      "displayName": "kang sanghun",
      "photoUrl": "",
      "userId": "12450865979153508193"
     },
     "user_tz": -540
    },
    "id": "tNyK0HGXrdNp",
    "outputId": "23874224-1347-497f-a13b-4d997c1429d8"
   },
   "outputs": [
    {
     "data": {
      "text/plain": [
       "array([2., 5., 8.])"
      ]
     },
     "execution_count": 129,
     "metadata": {
      "tags": []
     },
     "output_type": "execute_result"
    }
   ],
   "source": [
    "np.mean(A, 1)"
   ]
  },
  {
   "cell_type": "code",
   "execution_count": 130,
   "metadata": {
    "colab": {
     "base_uri": "https://localhost:8080/",
     "height": 34
    },
    "colab_type": "code",
    "executionInfo": {
     "elapsed": 883,
     "status": "ok",
     "timestamp": 1550039473144,
     "user": {
      "displayName": "kang sanghun",
      "photoUrl": "",
      "userId": "12450865979153508193"
     },
     "user_tz": -540
    },
    "id": "n79iGG5jrc1M",
    "outputId": "7deafa3d-8aba-4063-d955-d70bab3ed5a2"
   },
   "outputs": [
    {
     "data": {
      "text/plain": [
       "5.0"
      ]
     },
     "execution_count": 130,
     "metadata": {
      "tags": []
     },
     "output_type": "execute_result"
    }
   ],
   "source": [
    "np.mean(A)"
   ]
  },
  {
   "cell_type": "markdown",
   "metadata": {
    "colab_type": "text",
    "id": "QtXO6zuuqYVa"
   },
   "source": [
    "## numpy.var"
   ]
  },
  {
   "cell_type": "markdown",
   "metadata": {
    "colab_type": "text",
    "id": "wPXmUNHmsxrp"
   },
   "source": [
    "Compute the variance along the specified axis."
   ]
  },
  {
   "cell_type": "code",
   "execution_count": 131,
   "metadata": {
    "colab": {
     "base_uri": "https://localhost:8080/",
     "height": 34
    },
    "colab_type": "code",
    "executionInfo": {
     "elapsed": 667,
     "status": "ok",
     "timestamp": 1550039505954,
     "user": {
      "displayName": "kang sanghun",
      "photoUrl": "",
      "userId": "12450865979153508193"
     },
     "user_tz": -540
    },
    "id": "dSSXxSv7s_S0",
    "outputId": "34a56d6d-0072-44d0-e9bc-d3ce10c5b4e3"
   },
   "outputs": [
    {
     "data": {
      "text/plain": [
       "array([6., 6., 6.])"
      ]
     },
     "execution_count": 131,
     "metadata": {
      "tags": []
     },
     "output_type": "execute_result"
    }
   ],
   "source": [
    "np.var(A, 0)"
   ]
  },
  {
   "cell_type": "code",
   "execution_count": 132,
   "metadata": {
    "colab": {
     "base_uri": "https://localhost:8080/",
     "height": 34
    },
    "colab_type": "code",
    "executionInfo": {
     "elapsed": 787,
     "status": "ok",
     "timestamp": 1550039508218,
     "user": {
      "displayName": "kang sanghun",
      "photoUrl": "",
      "userId": "12450865979153508193"
     },
     "user_tz": -540
    },
    "id": "0NMEX8w5s-6a",
    "outputId": "54909ef1-e876-4da1-d0c1-25262c14a94d"
   },
   "outputs": [
    {
     "data": {
      "text/plain": [
       "array([0.66666667, 0.66666667, 0.66666667])"
      ]
     },
     "execution_count": 132,
     "metadata": {
      "tags": []
     },
     "output_type": "execute_result"
    }
   ],
   "source": [
    "np.var(A, 1)"
   ]
  },
  {
   "cell_type": "code",
   "execution_count": 133,
   "metadata": {
    "colab": {
     "base_uri": "https://localhost:8080/",
     "height": 34
    },
    "colab_type": "code",
    "executionInfo": {
     "elapsed": 669,
     "status": "ok",
     "timestamp": 1550039510109,
     "user": {
      "displayName": "kang sanghun",
      "photoUrl": "",
      "userId": "12450865979153508193"
     },
     "user_tz": -540
    },
    "id": "LxQSe0JoqX5I",
    "outputId": "afa32da3-1038-4632-eed5-d6b6dadd7a0e"
   },
   "outputs": [
    {
     "data": {
      "text/plain": [
       "6.666666666666667"
      ]
     },
     "execution_count": 133,
     "metadata": {
      "tags": []
     },
     "output_type": "execute_result"
    }
   ],
   "source": [
    "np.var(A)"
   ]
  },
  {
   "cell_type": "markdown",
   "metadata": {
    "colab_type": "text",
    "id": "5s-Mj7H8tEUR"
   },
   "source": [
    "## numpy.std"
   ]
  },
  {
   "cell_type": "markdown",
   "metadata": {
    "colab_type": "text",
    "id": "enWqlt2rtHjV"
   },
   "source": [
    "Compute the standard deviation along the specified axis."
   ]
  },
  {
   "cell_type": "code",
   "execution_count": 134,
   "metadata": {
    "colab": {
     "base_uri": "https://localhost:8080/",
     "height": 34
    },
    "colab_type": "code",
    "executionInfo": {
     "elapsed": 693,
     "status": "ok",
     "timestamp": 1550039519799,
     "user": {
      "displayName": "kang sanghun",
      "photoUrl": "",
      "userId": "12450865979153508193"
     },
     "user_tz": -540
    },
    "id": "kgMKCi3MtKdT",
    "outputId": "0c7b9100-b406-448f-dee7-e9146efdbfec"
   },
   "outputs": [
    {
     "data": {
      "text/plain": [
       "array([2.44948974, 2.44948974, 2.44948974])"
      ]
     },
     "execution_count": 134,
     "metadata": {
      "tags": []
     },
     "output_type": "execute_result"
    }
   ],
   "source": [
    "np.std(A, 0)"
   ]
  },
  {
   "cell_type": "code",
   "execution_count": 135,
   "metadata": {
    "colab": {
     "base_uri": "https://localhost:8080/",
     "height": 34
    },
    "colab_type": "code",
    "executionInfo": {
     "elapsed": 661,
     "status": "ok",
     "timestamp": 1550039523249,
     "user": {
      "displayName": "kang sanghun",
      "photoUrl": "",
      "userId": "12450865979153508193"
     },
     "user_tz": -540
    },
    "id": "3Rm1-Cq0tKKM",
    "outputId": "24044052-6b73-4551-afa0-2f7e9a226e3a"
   },
   "outputs": [
    {
     "data": {
      "text/plain": [
       "array([0.81649658, 0.81649658, 0.81649658])"
      ]
     },
     "execution_count": 135,
     "metadata": {
      "tags": []
     },
     "output_type": "execute_result"
    }
   ],
   "source": [
    "np.std(A, 1)"
   ]
  },
  {
   "cell_type": "code",
   "execution_count": 136,
   "metadata": {
    "colab": {
     "base_uri": "https://localhost:8080/",
     "height": 34
    },
    "colab_type": "code",
    "executionInfo": {
     "elapsed": 677,
     "status": "ok",
     "timestamp": 1550039524891,
     "user": {
      "displayName": "kang sanghun",
      "photoUrl": "",
      "userId": "12450865979153508193"
     },
     "user_tz": -540
    },
    "id": "yIfc_SX2tKEq",
    "outputId": "ef6d0210-a959-4a38-f12d-b9fa70823770"
   },
   "outputs": [
    {
     "data": {
      "text/plain": [
       "2.581988897471611"
      ]
     },
     "execution_count": 136,
     "metadata": {
      "tags": []
     },
     "output_type": "execute_result"
    }
   ],
   "source": [
    "np.std(A)"
   ]
  },
  {
   "cell_type": "markdown",
   "metadata": {
    "colab_type": "text",
    "id": "DAql9fTuYTr_"
   },
   "source": [
    "# 다차원 배열 다루기 2\n",
    "다차원 배열에서 일부분만 가져오거나 다차원 배열의 형태를 바꾸는 방법을 알아봅니다.\n",
    "\n",
    "https://docs.scipy.org/doc/numpy/reference/routines.array-manipulation.html"
   ]
  },
  {
   "cell_type": "markdown",
   "metadata": {
    "colab_type": "text",
    "id": "YJOXeenmYTni"
   },
   "source": [
    "## 슬라이싱"
   ]
  },
  {
   "cell_type": "markdown",
   "metadata": {
    "colab_type": "text",
    "id": "UrUs0eyi12sY"
   },
   "source": [
    "파이썬 리스트와 유사하게, Numpy 배열도 슬라이싱이 가능합니다.\n",
    "\n",
    "Numpy 배열은 다차원인 경우가 많기에, 각 차원별로 어떻게 슬라이스할건지 명확히 해야 합니다:\n",
    "\n",
    "Numpy 배열을 슬라이싱하면, 연속된 값을 가져오기에 결과로 얻어지는 배열은 언제나 원본 배열의 부분 배열입니다."
   ]
  },
  {
   "cell_type": "code",
   "execution_count": null,
   "metadata": {
    "colab": {},
    "colab_type": "code",
    "id": "rSTklt9WuQj5"
   },
   "outputs": [],
   "source": [
    "import numpy as np\n",
    "\n",
    "# shape가 (3, 4)인 2차원 배열 생성\n",
    "# [[ 1  2  3  4]\n",
    "#  [ 5  6  7  8]\n",
    "#  [ 9 10 11 12]]\n",
    "a = np.array([[1,2,3,4], [5,6,7,8], [9,10,11,12]])"
   ]
  },
  {
   "cell_type": "markdown",
   "metadata": {
    "colab_type": "text",
    "id": "gvAMJaf9vPa7"
   },
   "source": [
    "다차원배열은 아래와 같은 방법으로 슬라이싱 합니다."
   ]
  },
  {
   "cell_type": "markdown",
   "metadata": {
    "colab_type": "text",
    "id": "osPEARhNvmFf"
   },
   "source": [
    "`a[ : , : ]`\n",
    "\n",
    "\n",
    "`a[행 슬라이싱 시작:행 슬라이싱 끝, 열 슬라이싱 시작:열 슬라이싱 끝]`\n",
    "\n",
    "\n",
    "**시작값**부터 **끝값** <font color=\"red\">전</font>까지 슬라이싱 됩니다."
   ]
  },
  {
   "cell_type": "code",
   "execution_count": 142,
   "metadata": {
    "colab": {
     "base_uri": "https://localhost:8080/",
     "height": 52
    },
    "colab_type": "code",
    "executionInfo": {
     "elapsed": 652,
     "status": "ok",
     "timestamp": 1550041182955,
     "user": {
      "displayName": "kang sanghun",
      "photoUrl": "",
      "userId": "12450865979153508193"
     },
     "user_tz": -540
    },
    "id": "s6MPTZG2wmRW",
    "outputId": "3476543c-17ac-4688-f331-f9035c1f51e5"
   },
   "outputs": [
    {
     "data": {
      "text/plain": [
       "array([[1, 2, 3, 4],\n",
       "       [5, 6, 7, 8]])"
      ]
     },
     "execution_count": 142,
     "metadata": {
      "tags": []
     },
     "output_type": "execute_result"
    }
   ],
   "source": [
    "a[0:2, 0:4]"
   ]
  },
  {
   "cell_type": "markdown",
   "metadata": {
    "colab_type": "text",
    "id": "1tA0TY58wrjf"
   },
   "source": [
    "0행부터 2행 전까지(= 1행 까지), 0열부터 4열 전까지(= 3열 까지) 슬라이스되었습니다.\n",
    "\n",
    "시작값이 0인 경우 생략 가능하며 끝 값이 shape의 값과 동일한 경우 생략 가능합니다.\n",
    "\n",
    "`a[0:2, 0:4]`은 `a[:2, :]`로 표시할 수 있습니다."
   ]
  },
  {
   "cell_type": "code",
   "execution_count": 143,
   "metadata": {
    "colab": {
     "base_uri": "https://localhost:8080/",
     "height": 52
    },
    "colab_type": "code",
    "executionInfo": {
     "elapsed": 668,
     "status": "ok",
     "timestamp": 1550041276249,
     "user": {
      "displayName": "kang sanghun",
      "photoUrl": "",
      "userId": "12450865979153508193"
     },
     "user_tz": -540
    },
    "id": "sBVcKEPCwmNd",
    "outputId": "c6813824-d2cf-4926-8b9c-c078ff9d4c00"
   },
   "outputs": [
    {
     "data": {
      "text/plain": [
       "array([[1, 2, 3, 4],\n",
       "       [5, 6, 7, 8]])"
      ]
     },
     "execution_count": 143,
     "metadata": {
      "tags": []
     },
     "output_type": "execute_result"
    }
   ],
   "source": [
    "a[:2, :]"
   ]
  },
  {
   "cell_type": "markdown",
   "metadata": {
    "colab_type": "text",
    "id": "He-aVrqQ3eBA"
   },
   "source": [
    "위 코드는 열을 슬라이싱 하지 않는 코드이며 이런 경우 열 부분은 전체 생략 가능합니다.\n",
    "\n",
    "(행을 슬라이싱 하지 않는다고 하더라도, 행부분을 생략할 순 없습니다.)"
   ]
  },
  {
   "cell_type": "code",
   "execution_count": 144,
   "metadata": {
    "colab": {
     "base_uri": "https://localhost:8080/",
     "height": 52
    },
    "colab_type": "code",
    "executionInfo": {
     "elapsed": 681,
     "status": "ok",
     "timestamp": 1550041363995,
     "user": {
      "displayName": "kang sanghun",
      "photoUrl": "",
      "userId": "12450865979153508193"
     },
     "user_tz": -540
    },
    "id": "b7EOJsdkwmKb",
    "outputId": "52b1ac8e-f49f-4de1-f089-89d053220c8d"
   },
   "outputs": [
    {
     "data": {
      "text/plain": [
       "array([[1, 2, 3, 4],\n",
       "       [5, 6, 7, 8]])"
      ]
     },
     "execution_count": 144,
     "metadata": {
      "tags": []
     },
     "output_type": "execute_result"
    }
   ],
   "source": [
    "a[:2]"
   ]
  },
  {
   "cell_type": "markdown",
   "metadata": {
    "colab_type": "text",
    "id": "_DFoCzNO4dRr"
   },
   "source": [
    "**슬라이싱에 익숙해지기 전까진 생략하지말고 명시적으로 코드를 작성해주는것이 실수를 방지하는 방법입니다.**"
   ]
  },
  {
   "cell_type": "markdown",
   "metadata": {
    "colab_type": "text",
    "id": "o1fcIHf654TM"
   },
   "source": [
    "## 인덱싱"
   ]
  },
  {
   "cell_type": "markdown",
   "metadata": {
    "colab_type": "text",
    "id": "WzL4Xo-N6b4k"
   },
   "source": [
    "인덱싱을 통해 원소에 접근할 수 있습니다.\n",
    "\n",
    "두 가지 표현법이 있습니다."
   ]
  },
  {
   "cell_type": "code",
   "execution_count": 145,
   "metadata": {
    "colab": {
     "base_uri": "https://localhost:8080/",
     "height": 34
    },
    "colab_type": "code",
    "executionInfo": {
     "elapsed": 657,
     "status": "ok",
     "timestamp": 1550041466160,
     "user": {
      "displayName": "kang sanghun",
      "photoUrl": "",
      "userId": "12450865979153508193"
     },
     "user_tz": -540
    },
    "id": "6P16QmWU6gLp",
    "outputId": "087a0750-f4e0-47a9-c08d-ef7a87624a1a"
   },
   "outputs": [
    {
     "data": {
      "text/plain": [
       "1"
      ]
     },
     "execution_count": 145,
     "metadata": {
      "tags": []
     },
     "output_type": "execute_result"
    }
   ],
   "source": [
    "# 선호하는 방식\n",
    "a[0, 0]"
   ]
  },
  {
   "cell_type": "code",
   "execution_count": 146,
   "metadata": {
    "colab": {
     "base_uri": "https://localhost:8080/",
     "height": 34
    },
    "colab_type": "code",
    "executionInfo": {
     "elapsed": 674,
     "status": "ok",
     "timestamp": 1550041478208,
     "user": {
      "displayName": "kang sanghun",
      "photoUrl": "",
      "userId": "12450865979153508193"
     },
     "user_tz": -540
    },
    "id": "wTKkLKLS6VTf",
    "outputId": "22b7aeae-2429-4301-eeb0-498bc88a421f"
   },
   "outputs": [
    {
     "data": {
      "text/plain": [
       "1"
      ]
     },
     "execution_count": 146,
     "metadata": {
      "tags": []
     },
     "output_type": "execute_result"
    }
   ],
   "source": [
    "a[0][0]"
   ]
  },
  {
   "cell_type": "markdown",
   "metadata": {
    "colab_type": "text",
    "id": "mO7ZPlga57Yd"
   },
   "source": [
    "Numpy 배열을 슬라이싱하면, 연속된 값을 가져오기에 결과로 얻어지는 배열은 언제나 원본 배열의 부분 배열입니다.\n",
    "\n",
    "그러나 인덱싱을 한다면, 연속하지 않은 값을 가져올 수 있으니 원본과 다른 배열을 만들 수 있습니다."
   ]
  },
  {
   "cell_type": "code",
   "execution_count": 147,
   "metadata": {
    "colab": {
     "base_uri": "https://localhost:8080/",
     "height": 70
    },
    "colab_type": "code",
    "executionInfo": {
     "elapsed": 653,
     "status": "ok",
     "timestamp": 1550041520966,
     "user": {
      "displayName": "kang sanghun",
      "photoUrl": "",
      "userId": "12450865979153508193"
     },
     "user_tz": -540
    },
    "id": "ajcFwt7b9G_Z",
    "outputId": "e772a4d6-007e-460b-9627-fdfb4436eeb8"
   },
   "outputs": [
    {
     "data": {
      "text/plain": [
       "array([[ 1,  2,  3,  4],\n",
       "       [ 5,  6,  7,  8],\n",
       "       [ 9, 10, 11, 12]])"
      ]
     },
     "execution_count": 147,
     "metadata": {
      "tags": []
     },
     "output_type": "execute_result"
    }
   ],
   "source": [
    "a"
   ]
  },
  {
   "cell_type": "code",
   "execution_count": 148,
   "metadata": {
    "colab": {
     "base_uri": "https://localhost:8080/",
     "height": 52
    },
    "colab_type": "code",
    "executionInfo": {
     "elapsed": 698,
     "status": "ok",
     "timestamp": 1550041541679,
     "user": {
      "displayName": "kang sanghun",
      "photoUrl": "",
      "userId": "12450865979153508193"
     },
     "user_tz": -540
    },
    "id": "MX-MxYDl8eWr",
    "outputId": "123762e0-178f-4fd0-c996-873775992cb8"
   },
   "outputs": [
    {
     "data": {
      "text/plain": [
       "array([[ 1,  2,  3,  4],\n",
       "       [ 9, 10, 11, 12]])"
      ]
     },
     "execution_count": 148,
     "metadata": {
      "tags": []
     },
     "output_type": "execute_result"
    }
   ],
   "source": [
    "# 0행, 2행만 인덱싱\n",
    "a[[0, 2], ]"
   ]
  },
  {
   "cell_type": "code",
   "execution_count": 149,
   "metadata": {
    "colab": {
     "base_uri": "https://localhost:8080/",
     "height": 70
    },
    "colab_type": "code",
    "executionInfo": {
     "elapsed": 702,
     "status": "ok",
     "timestamp": 1550041596362,
     "user": {
      "displayName": "kang sanghun",
      "photoUrl": "",
      "userId": "12450865979153508193"
     },
     "user_tz": -540
    },
    "id": "4F_hYGty9Vag",
    "outputId": "bbc0d4e8-b551-4c20-b2cb-4dfc32c9231f"
   },
   "outputs": [
    {
     "data": {
      "text/plain": [
       "array([[ 1,  2,  4],\n",
       "       [ 5,  6,  8],\n",
       "       [ 9, 10, 12]])"
      ]
     },
     "execution_count": 149,
     "metadata": {
      "tags": []
     },
     "output_type": "execute_result"
    }
   ],
   "source": [
    "# 0열, 1열, 3열만 인덱싱\n",
    "a[:, [0,1,3]]"
   ]
  },
  {
   "cell_type": "markdown",
   "metadata": {
    "colab_type": "text",
    "id": "nKciLNy_RLI5"
   },
   "source": [
    "## 인덱싱&슬라이싱 - 차원"
   ]
  },
  {
   "cell_type": "markdown",
   "metadata": {
    "colab_type": "text",
    "id": "QAObDpXdRQPQ"
   },
   "source": [
    "정수 인덱싱과 슬라이싱을 혼합해서 사용하면 낮은 차원의 배열이 생성되지만,\n",
    "\n",
    "슬라이싱만 사용하면 원본 배열과 동일한 차원의 배열이 생성됩니다.\n",
    "\n",
    "0번째 행을 인덱싱하는 경우와 슬라이싱 하는 경우를 비교해보겠습니다."
   ]
  },
  {
   "cell_type": "code",
   "execution_count": 150,
   "metadata": {
    "colab": {
     "base_uri": "https://localhost:8080/",
     "height": 70
    },
    "colab_type": "code",
    "executionInfo": {
     "elapsed": 690,
     "status": "ok",
     "timestamp": 1550041676262,
     "user": {
      "displayName": "kang sanghun",
      "photoUrl": "",
      "userId": "12450865979153508193"
     },
     "user_tz": -540
    },
    "id": "OFo3Mmd4RP3w",
    "outputId": "c1b9f7b0-c4d7-47c8-dbfa-507037233e44"
   },
   "outputs": [
    {
     "name": "stdout",
     "output_type": "stream",
     "text": [
      "[[ 1  2  3  4]\n",
      " [ 5  6  7  8]\n",
      " [ 9 10 11 12]] (3, 4) 2\n"
     ]
    }
   ],
   "source": [
    "print(a, a.shape, a.ndim)"
   ]
  },
  {
   "cell_type": "code",
   "execution_count": 151,
   "metadata": {
    "colab": {
     "base_uri": "https://localhost:8080/",
     "height": 34
    },
    "colab_type": "code",
    "executionInfo": {
     "elapsed": 677,
     "status": "ok",
     "timestamp": 1550041696466,
     "user": {
      "displayName": "kang sanghun",
      "photoUrl": "",
      "userId": "12450865979153508193"
     },
     "user_tz": -540
    },
    "id": "qIZ1PgyySLVK",
    "outputId": "34399b96-1b87-44f1-d04c-ad50bb177f9f"
   },
   "outputs": [
    {
     "name": "stdout",
     "output_type": "stream",
     "text": [
      "[[1 2 3 4]] (1, 4) 2\n"
     ]
    }
   ],
   "source": [
    "# 슬라이싱만 사용\n",
    "slicedRow = a[0:1, :]\n",
    "print(slicedRow, slicedRow.shape, slicedRow.ndim)"
   ]
  },
  {
   "cell_type": "code",
   "execution_count": 152,
   "metadata": {
    "colab": {
     "base_uri": "https://localhost:8080/",
     "height": 52
    },
    "colab_type": "code",
    "executionInfo": {
     "elapsed": 725,
     "status": "ok",
     "timestamp": 1550041737741,
     "user": {
      "displayName": "kang sanghun",
      "photoUrl": "",
      "userId": "12450865979153508193"
     },
     "user_tz": -540
    },
    "id": "ost9l4B1R8tw",
    "outputId": "8ef6eaf6-9f32-4ac2-db4d-1aa6bfa8f093"
   },
   "outputs": [
    {
     "name": "stdout",
     "output_type": "stream",
     "text": [
      "[1 2 3 4] (4,) 1\n",
      "[1 2 3 4] (4,) 1\n"
     ]
    }
   ],
   "source": [
    "# 아래와 동일한 코드\n",
    "# 인덱싱&슬라이싱 혼합 사용\n",
    "indexedRow = a[0]\n",
    "print(indexedRow, indexedRow.shape, indexedRow.ndim)\n",
    "\n",
    "# 위와 동일한 코드\n",
    "# 인덱싱&슬라이싱 혼합 사용\n",
    "indexedRow2 = a[0, :]\n",
    "print(indexedRow2, indexedRow2.shape, indexedRow2.ndim)"
   ]
  },
  {
   "cell_type": "markdown",
   "metadata": {
    "colab_type": "text",
    "id": "OWuj2vu3TK6y"
   },
   "source": [
    "행이 아닌 열의 경우에도 마찬가지 입니다."
   ]
  },
  {
   "cell_type": "code",
   "execution_count": 153,
   "metadata": {
    "colab": {
     "base_uri": "https://localhost:8080/",
     "height": 70
    },
    "colab_type": "code",
    "executionInfo": {
     "elapsed": 682,
     "status": "ok",
     "timestamp": 1550041921894,
     "user": {
      "displayName": "kang sanghun",
      "photoUrl": "",
      "userId": "12450865979153508193"
     },
     "user_tz": -540
    },
    "id": "ZcXhWBMTSERz",
    "outputId": "c775fabb-4fec-4ec5-9433-212de4a9a29d"
   },
   "outputs": [
    {
     "name": "stdout",
     "output_type": "stream",
     "text": [
      "[[1]\n",
      " [5]\n",
      " [9]] (3, 1) 2\n"
     ]
    }
   ],
   "source": [
    "# 슬라이싱만 사용\n",
    "slicedCol = a[:, 0:1]\n",
    "print(slicedCol, slicedCol.shape, slicedCol.ndim)"
   ]
  },
  {
   "cell_type": "code",
   "execution_count": 154,
   "metadata": {
    "colab": {
     "base_uri": "https://localhost:8080/",
     "height": 52
    },
    "colab_type": "code",
    "executionInfo": {
     "elapsed": 699,
     "status": "ok",
     "timestamp": 1550041942333,
     "user": {
      "displayName": "kang sanghun",
      "photoUrl": "",
      "userId": "12450865979153508193"
     },
     "user_tz": -540
    },
    "id": "Y09IJ9mFU4ct",
    "outputId": "ba4ec8f3-b90e-43f7-f754-1ffb7ab41046"
   },
   "outputs": [
    {
     "name": "stdout",
     "output_type": "stream",
     "text": [
      "[1 5 9] (3,) 1\n",
      "[1 5 9] (3,) 1\n"
     ]
    }
   ],
   "source": [
    "# 아래와 동일한 코드\n",
    "# 인덱싱&슬라이싱 혼합 사용\n",
    "indexedCol = a[:, 0]\n",
    "print(indexedCol, indexedCol.shape, indexedCol.ndim)\n",
    "\n",
    "# 위와 동일한 코드\n",
    "# 인덱싱&슬라이싱 혼합 사용\n",
    "indexedCol2 = a[:, 0]\n",
    "print(indexedCol2, indexedCol2.shape, indexedCol2.ndim)"
   ]
  },
  {
   "cell_type": "markdown",
   "metadata": {
    "colab_type": "text",
    "id": "6AFtk8WmVbfc"
   },
   "source": [
    "다차원배열간 연산에서 차원이 달라 문제가 발생하는 경우가 종종 있습니다.\n",
    "\n",
    "**특별히 인덱싱을 써야 하는 상황이 아니라면, 인덱싱보다 슬라이싱을 추천합니다.**"
   ]
  },
  {
   "cell_type": "markdown",
   "metadata": {
    "colab_type": "text",
    "id": "2eLKR9auQK7m"
   },
   "source": [
    "## 인덱싱&슬라이싱 - 값 복사&참조"
   ]
  },
  {
   "cell_type": "markdown",
   "metadata": {
    "colab_type": "text",
    "id": "SQGaAAhFQQLx"
   },
   "source": [
    "인덱싱은 값을 복사해옵니다. 복사된 값을 변경해도 원본의 값은 변하지 않습니다."
   ]
  },
  {
   "cell_type": "code",
   "execution_count": 155,
   "metadata": {
    "colab": {
     "base_uri": "https://localhost:8080/",
     "height": 70
    },
    "colab_type": "code",
    "executionInfo": {
     "elapsed": 664,
     "status": "ok",
     "timestamp": 1550042016930,
     "user": {
      "displayName": "kang sanghun",
      "photoUrl": "",
      "userId": "12450865979153508193"
     },
     "user_tz": -540
    },
    "id": "6__bo0VQQYmY",
    "outputId": "1cb30159-7637-4804-fb6e-cbf0afce4fa7"
   },
   "outputs": [
    {
     "data": {
      "text/plain": [
       "array([[ 1,  2,  3,  4],\n",
       "       [ 5,  6,  7,  8],\n",
       "       [ 9, 10, 11, 12]])"
      ]
     },
     "execution_count": 155,
     "metadata": {
      "tags": []
     },
     "output_type": "execute_result"
    }
   ],
   "source": [
    "a"
   ]
  },
  {
   "cell_type": "code",
   "execution_count": 156,
   "metadata": {
    "colab": {
     "base_uri": "https://localhost:8080/",
     "height": 52
    },
    "colab_type": "code",
    "executionInfo": {
     "elapsed": 686,
     "status": "ok",
     "timestamp": 1550042035219,
     "user": {
      "displayName": "kang sanghun",
      "photoUrl": "",
      "userId": "12450865979153508193"
     },
     "user_tz": -540
    },
    "id": "4xtsM0d7P37t",
    "outputId": "271ed548-6f30-448a-9161-771997c251bd"
   },
   "outputs": [
    {
     "name": "stdout",
     "output_type": "stream",
     "text": [
      "a[0, 0]: 1\n",
      "b: 100\n"
     ]
    }
   ],
   "source": [
    "# 인덱싱해서 b에 대입\n",
    "b = a[0, 0]\n",
    "\n",
    "# b값 수정\n",
    "b = 100\n",
    "\n",
    "print(\"a[0, 0]: {}\".format(a[0, 0]))\n",
    "print(\"b: {}\".format(b))"
   ]
  },
  {
   "cell_type": "markdown",
   "metadata": {
    "colab_type": "text",
    "id": "_JGPVOvtQ0gK"
   },
   "source": [
    "슬라이싱된 배열은 원본 배열과 같은 데이터를 참조합니다.\n",
    "\n",
    "<font color=\"red\">즉 슬라이싱된 배열을 수정하면 원본 배열 역시 수정됩니다.</font>"
   ]
  },
  {
   "cell_type": "code",
   "execution_count": 157,
   "metadata": {
    "colab": {
     "base_uri": "https://localhost:8080/",
     "height": 52
    },
    "colab_type": "code",
    "executionInfo": {
     "elapsed": 673,
     "status": "ok",
     "timestamp": 1550042070571,
     "user": {
      "displayName": "kang sanghun",
      "photoUrl": "",
      "userId": "12450865979153508193"
     },
     "user_tz": -540
    },
    "id": "uqVFNX_zQAha",
    "outputId": "ca0c07a3-aff2-4f70-f42f-acd1e11646a5"
   },
   "outputs": [
    {
     "name": "stdout",
     "output_type": "stream",
     "text": [
      "[[ 6  7]\n",
      " [10 11]]\n"
     ]
    }
   ],
   "source": [
    "# a를 슬라이스하여 c 생성\n",
    "c = a[1:3, 1:3]\n",
    "\n",
    "print(c)"
   ]
  },
  {
   "cell_type": "code",
   "execution_count": 158,
   "metadata": {
    "colab": {
     "base_uri": "https://localhost:8080/",
     "height": 122
    },
    "colab_type": "code",
    "executionInfo": {
     "elapsed": 696,
     "status": "ok",
     "timestamp": 1550042122855,
     "user": {
      "displayName": "kang sanghun",
      "photoUrl": "",
      "userId": "12450865979153508193"
     },
     "user_tz": -540
    },
    "id": "Sn84SoasQEbx",
    "outputId": "3687dc92-1adb-4dd1-ab18-2de48e99d955"
   },
   "outputs": [
    {
     "name": "stdout",
     "output_type": "stream",
     "text": [
      "[[100   7]\n",
      " [ 10  11]]\n",
      "------------------\n",
      "[[  1   2   3   4]\n",
      " [  5 100   7   8]\n",
      " [  9  10  11  12]]\n"
     ]
    }
   ],
   "source": [
    "# c[0, 0]은 a[1, 1]과 같은 데이터입니다.\n",
    "c[0, 0] = 100\n",
    "\n",
    "print(c)\n",
    "print('------------------')\n",
    "print(a)"
   ]
  },
  {
   "cell_type": "markdown",
   "metadata": {
    "colab_type": "text",
    "id": "8HQJpEQA2wj2"
   },
   "source": [
    "## 불리언 배열 인덱싱"
   ]
  },
  {
   "cell_type": "markdown",
   "metadata": {
    "colab_type": "text",
    "id": "ZPR4ewXDaJaT"
   },
   "source": [
    "불리언 배열 인덱싱을 통해 배열 속 요소를 취사선택할 수 있습니다. 불리언 배열 인덱싱은 특정 조건을 만족하게 하는 요소만 선택하고자 할 때 자주 사용됩니다."
   ]
  },
  {
   "cell_type": "code",
   "execution_count": null,
   "metadata": {
    "colab": {},
    "colab_type": "code",
    "id": "w4xl1Vbz2y71"
   },
   "outputs": [],
   "source": [
    "import numpy as np\n",
    "\n",
    "a = np.array([[1,2], [3, 4], [5, 6]])\n",
    "\n",
    "print(a)"
   ]
  },
  {
   "cell_type": "code",
   "execution_count": null,
   "metadata": {
    "colab": {},
    "colab_type": "code",
    "id": "2caKbkRbbzVD"
   },
   "outputs": [],
   "source": [
    "bool_idx = (a > 2)  # 2보다 큰 a의 요소를 찾습니다;\n",
    "                    # 이 코드는 a와 shape가 같고 불리언 자료형을 요소로 하는 numpy 배열을 반환합니다,\n",
    "                    # bool_idx의 각 요소는 동일한 위치에 있는 a의\n",
    "                    # 요소가 2보다 큰지를 말해줍니다.\n",
    "\n",
    "print(bool_idx)      # 출력 \"[[False False]\n",
    "                     #       [ True  True]\n",
    "                     #       [ True  True]]\"\n",
    "\n",
    "# 불리언 배열 인덱싱을 통해 bool_idx에서\n",
    "# 참 값을 가지는 요소로 구성되는\n",
    "# rank 1인 배열을 구성할 수 있습니다.\n",
    "print(a[bool_idx])  # 출력 \"[3 4 5 6]\"\n",
    "\n",
    "# 위에서 한 모든것을 한 문장으로 할 수 있습니다:\n",
    "print(a[a > 2])     # 출력 \"[3 4 5 6]\""
   ]
  },
  {
   "cell_type": "markdown",
   "metadata": {
    "colab_type": "text",
    "id": "orsL9GWLYTpQ"
   },
   "source": [
    "## (참조) 정수 배열 인덱싱"
   ]
  },
  {
   "cell_type": "code",
   "execution_count": null,
   "metadata": {
    "colab": {},
    "colab_type": "code",
    "id": "gmXzZ-IyxESh"
   },
   "outputs": [],
   "source": [
    "import numpy as np\n",
    "\n",
    "a = np.array([[1,2], [3, 4], [5, 6]])\n",
    "\n",
    "print(a)"
   ]
  },
  {
   "cell_type": "code",
   "execution_count": null,
   "metadata": {
    "colab": {},
    "colab_type": "code",
    "id": "OBq04jLFZRGn"
   },
   "outputs": [],
   "source": [
    "# 정수 배열 인덱싱의 예.\n",
    "# 반환되는 배열의 shape는 (3,)\n",
    "print(a[[0, 1, 2], [0, 1, 0]])  # 출력 \"[1 4 5]\"\n",
    "\n",
    "# 위에서 본 정수 배열 인덱싱 예제는 다음과 동일합니다:\n",
    "print(np.array([a[0, 0], a[1, 1], a[2, 0]]))  # 출력 \"[1 4 5]\"\n",
    "\n",
    "# 정수 배열 인덱싱을 사용할 때,\n",
    "# 원본 배열의 같은 요소를 재사용할 수 있습니다:\n",
    "print(a[[0, 0], [1, 1]])  # 출력 \"[2 2]\"\n",
    "\n",
    "# 위 예제는 다음과 동일합니다\n",
    "print(np.array([a[0, 1], a[0, 1]]))  # 출력 \"[2 2]\""
   ]
  },
  {
   "cell_type": "markdown",
   "metadata": {
    "colab_type": "text",
    "id": "p3t9TzIMX5bG"
   },
   "source": [
    "## 전치(transpose)"
   ]
  },
  {
   "cell_type": "markdown",
   "metadata": {
    "colab_type": "text",
    "id": "zFtuErBr3lN0"
   },
   "source": [
    "종종 배열의 모양을 바꾸거나 데이터를 처리해야 할 때가 있습니다. 가장 간단한 예는 행렬의 주 대각선을 기준으로 대칭되는 요소끼리 뒤바꾸는 것입니다; \n",
    "\n",
    "이를 전치라고 하며 행렬을 전치하기 위해선, 간단하게 배열 객체의 ‘T’ 속성을 사용하면 됩니다:"
   ]
  },
  {
   "cell_type": "code",
   "execution_count": null,
   "metadata": {
    "colab": {},
    "colab_type": "code",
    "id": "BpMXJuMb3nti"
   },
   "outputs": [],
   "source": [
    "import numpy as np\n",
    "\n",
    "x = np.array([[1,2], [3,4]])\n",
    "print(x)    # 출력 \"[[1 2]\n",
    "            #       [3 4]]\"\n",
    "print(x.T)  # 출력 \"[[1 3]\n",
    "            #       [2 4]]\"\n",
    "\n",
    "# 차원이 1인 배열을 전치할 경우 아무 일도 일어나지 않습니다:\n",
    "v = np.array([1,2,3])\n",
    "print(v)    # 출력 \"[1 2 3]\"\n",
    "print(v.T)  # 출력 \"[1 2 3]\""
   ]
  },
  {
   "cell_type": "markdown",
   "metadata": {
    "colab_type": "text",
    "id": "PLZ_crwrYmvQ"
   },
   "source": [
    "## Shape 변경"
   ]
  },
  {
   "cell_type": "markdown",
   "metadata": {
    "colab_type": "text",
    "id": "aflbVOpd708-"
   },
   "source": [
    "### numpy.reshape"
   ]
  },
  {
   "cell_type": "markdown",
   "metadata": {
    "colab_type": "text",
    "id": "XCMTsEvP7273"
   },
   "source": [
    "Gives a new shape to an array without changing its data"
   ]
  },
  {
   "cell_type": "code",
   "execution_count": null,
   "metadata": {
    "colab": {},
    "colab_type": "code",
    "id": "C5D6ux9P8ACt"
   },
   "outputs": [],
   "source": [
    "a = np.arange(6).reshape((3, 2))"
   ]
  },
  {
   "cell_type": "code",
   "execution_count": null,
   "metadata": {
    "colab": {},
    "colab_type": "code",
    "id": "DLBAyj0K8Jgk"
   },
   "outputs": [],
   "source": [
    "a"
   ]
  },
  {
   "cell_type": "code",
   "execution_count": null,
   "metadata": {
    "colab": {},
    "colab_type": "code",
    "id": "VCg8dOLG5JC1"
   },
   "outputs": [],
   "source": [
    "np.reshape(a, (2,3))"
   ]
  },
  {
   "cell_type": "code",
   "execution_count": null,
   "metadata": {
    "colab": {},
    "colab_type": "code",
    "id": "Dz_ffZkx5q-_"
   },
   "outputs": [],
   "source": [
    "np.reshape(a, (1,6))"
   ]
  },
  {
   "cell_type": "code",
   "execution_count": null,
   "metadata": {
    "colab": {},
    "colab_type": "code",
    "id": "8lVoSmog5qkf"
   },
   "outputs": [],
   "source": [
    "np.reshape(a, 6)"
   ]
  },
  {
   "cell_type": "markdown",
   "metadata": {
    "colab_type": "text",
    "id": "LWmGFdPN8sHz"
   },
   "source": [
    "### numpy.ravel()"
   ]
  },
  {
   "cell_type": "markdown",
   "metadata": {
    "colab_type": "text",
    "id": "spkzJmkO80L6"
   },
   "source": [
    "Return a contiguous flattened array."
   ]
  },
  {
   "cell_type": "code",
   "execution_count": null,
   "metadata": {
    "colab": {},
    "colab_type": "code",
    "id": "IzmcXTCq5qaH"
   },
   "outputs": [],
   "source": [
    "np.ravel(a)"
   ]
  },
  {
   "cell_type": "code",
   "execution_count": null,
   "metadata": {
    "colab": {},
    "colab_type": "code",
    "id": "qbsqbAJZ53jX"
   },
   "outputs": [],
   "source": [
    "a.ravel()"
   ]
  },
  {
   "cell_type": "markdown",
   "metadata": {
    "colab_type": "text",
    "id": "YZHKRyvk89wK"
   },
   "source": [
    "### numpy.ndarray.flatten()"
   ]
  },
  {
   "cell_type": "markdown",
   "metadata": {
    "colab_type": "text",
    "id": "5aABNEj89ERE"
   },
   "source": [
    "Return a copy of the array collapsed into one dimension."
   ]
  },
  {
   "cell_type": "code",
   "execution_count": null,
   "metadata": {
    "colab": {},
    "colab_type": "code",
    "id": "V3IjMMqZ5Og5"
   },
   "outputs": [],
   "source": [
    "# np.flatten(a) # Numpy 모듈 함수가 아님\n",
    "a.flatten()     # ndarray 객체의 메소드로만 사용 가능"
   ]
  },
  {
   "cell_type": "markdown",
   "metadata": {
    "colab_type": "text",
    "id": "7ZvKr7dS_MxT"
   },
   "source": [
    "**ravel()과 flatten() 차이점**\n",
    "- flatten은 객체의 매소드로만 사용 가능\n",
    "- ravel()은 뷰를 반환, flatten은 복사본을 반환"
   ]
  },
  {
   "cell_type": "markdown",
   "metadata": {
    "colab_type": "text",
    "id": "-e2xFxz9Ym87"
   },
   "source": [
    "## 연결"
   ]
  },
  {
   "cell_type": "markdown",
   "metadata": {
    "colab_type": "text",
    "id": "tHanj3jX37oT"
   },
   "source": [
    "### numpy.concatenate"
   ]
  },
  {
   "cell_type": "code",
   "execution_count": null,
   "metadata": {
    "colab": {},
    "colab_type": "code",
    "id": "O67AqHaB3qqK"
   },
   "outputs": [],
   "source": [
    "a = np.array([[1, 2], [3, 4]])\n",
    "b = np.array([[5, 6]])"
   ]
  },
  {
   "cell_type": "code",
   "execution_count": null,
   "metadata": {
    "colab": {},
    "colab_type": "code",
    "id": "mvr_CL7C4EjK"
   },
   "outputs": [],
   "source": [
    "np.concatenate((a, b), axis=0)"
   ]
  },
  {
   "cell_type": "code",
   "execution_count": null,
   "metadata": {
    "colab": {},
    "colab_type": "code",
    "id": "YwrtBYd54EUw"
   },
   "outputs": [],
   "source": [
    "np.concatenate((a, b.T), axis=1)"
   ]
  },
  {
   "cell_type": "markdown",
   "metadata": {
    "colab_type": "text",
    "id": "rVREocA94NhK"
   },
   "source": [
    "### 참조"
   ]
  },
  {
   "cell_type": "markdown",
   "metadata": {
    "colab_type": "text",
    "id": "d0JgPbk903Pi"
   },
   "source": [
    "https://docs.scipy.org/doc/numpy/reference/routines.array-manipulation.html#joining-arrays"
   ]
  },
  {
   "cell_type": "markdown",
   "metadata": {
    "colab_type": "text",
    "id": "NEfhcSP6Ym6r"
   },
   "source": [
    "# 다차원 배열 연산"
   ]
  },
  {
   "cell_type": "markdown",
   "metadata": {
    "colab_type": "text",
    "id": "QPREx67Z3B9K"
   },
   "source": [
    "기본적인 수학함수는 배열의 각 요소별로 동작하며 연산자를 통해 동작하거나 numpy 함수모듈을 통해 동작합니다.\n",
    "\n",
    "다차원 배열간 연산시, **shape가 맞아야** 연산이 이루어집니다.\n",
    "- 요소별 합, 차, 곱, 나눗셈의 경우 shape가 일치해야 합니다.\n",
    "- dot의 경우 앞 배열의 열과 뒤 배열의 행의 크기가 일치해야 합니다.\n",
    "\n",
    "https://docs.scipy.org/doc/numpy/reference/routines.math.html"
   ]
  },
  {
   "cell_type": "code",
   "execution_count": null,
   "metadata": {
    "colab": {},
    "colab_type": "code",
    "id": "KB6qg3SB3Bde"
   },
   "outputs": [],
   "source": [
    "import numpy as np\n",
    "\n",
    "x = np.array([[1., 2.], [3., 4.]])\n",
    "y = np.array([[5., 6.], [7., 8.]])\n",
    "\n",
    "# 요소별 합; 둘 다 다음의 배열을 만듭니다\n",
    "# [[ 6.0  8.0]\n",
    "#  [10.0 12.0]]\n",
    "print(x + y)\n",
    "print(np.add(x, y))\n",
    "\n",
    "# 요소별 차; 둘 다 다음의 배열을 만듭니다\n",
    "# [[-4.0 -4.0]\n",
    "#  [-4.0 -4.0]]\n",
    "print(x - y)\n",
    "print(np.subtract(x, y))\n",
    "\n",
    "# 요소별 곱; 둘 다 다음의 배열을 만듭니다\n",
    "# [[ 5.0 12.0]\n",
    "#  [21.0 32.0]]\n",
    "print(x * y)\n",
    "print(np.multiply(x, y))\n",
    "\n",
    "# 요소별 나눗셈; 둘 다 다음의 배열을 만듭니다\n",
    "# [[ 0.2         0.33333333]\n",
    "#  [ 0.42857143  0.5       ]]\n",
    "print(x / y)\n",
    "print(np.divide(x, y))\n",
    "\n",
    "# 요소별 제곱근; 다음의 배열을 만듭니다\n",
    "# [[ 1.          1.41421356]\n",
    "#  [ 1.73205081  2.        ]]\n",
    "print(np.sqrt(x))"
   ]
  },
  {
   "cell_type": "markdown",
   "metadata": {
    "colab_type": "text",
    "id": "dB_z-c6e3VOk"
   },
   "source": [
    "Numpy에선 벡터의 내적, 벡터와 행렬의 곱, 행렬곱을 위해 `*`대신 `dot`함수를 사용합니다.\n",
    "\n",
    "`dot`은 Numpy 모듈 함수로서도 배열 객체의 메소드로서도 이용 가능한 합수입니다"
   ]
  },
  {
   "cell_type": "code",
   "execution_count": null,
   "metadata": {
    "colab": {},
    "colab_type": "code",
    "id": "3PFt0rCE3Y_M"
   },
   "outputs": [],
   "source": [
    "import numpy as np\n",
    "\n",
    "x = np.array([[1,2],[3,4]])\n",
    "y = np.array([[5,6],[7,8]])\n",
    "\n",
    "v = np.array([9,10])\n",
    "w = np.array([11, 12])\n",
    "\n",
    "# 벡터의 내적; 둘 다 결과는 219\n",
    "print(v.dot(w))\n",
    "print(np.dot(v, w))\n",
    "\n",
    "# 행렬과 벡터의 곱; 둘 다 결과는 dimension 1인 배열 [29 67]\n",
    "print(x.dot(v))\n",
    "print(np.dot(x, v))\n",
    "\n",
    "# 행렬곱; 둘 다 결과는 dimension 2인 배열\n",
    "# [[19 22]\n",
    "#  [43 50]]\n",
    "print(x.dot(y))\n",
    "print(np.dot(x, y))"
   ]
  },
  {
   "cell_type": "markdown",
   "metadata": {
    "colab_type": "text",
    "id": "FlyVDye2Ymo7"
   },
   "source": [
    "# NumPy 고급 기능"
   ]
  },
  {
   "cell_type": "markdown",
   "metadata": {
    "colab_type": "text",
    "id": "clp8mtKH35Sm"
   },
   "source": [
    "브로트캐스팅은 Numpy에서 shape가 다른 배열 간에도 산술 연산이 가능하게 하는 메커니즘입니다. 종종 작은 배열과 큰 배열이 있을 때, 큰 배열을 대상으로 작은 배열을 여러 번 연산하고자 할 때가 있습니다. 예를 들어, 행렬의 각 행에 상수 벡터를 더하는 걸 생각해보세요. 이는 다음과 같은 방식으로 처리될 수 있습니다:"
   ]
  },
  {
   "cell_type": "code",
   "execution_count": null,
   "metadata": {
    "colab": {},
    "colab_type": "code",
    "id": "Jt-LJxZS365d"
   },
   "outputs": [],
   "source": [
    "import numpy as np\n",
    "\n",
    "# 행렬 x의 각 행에 벡터 v를 더한 뒤,\n",
    "# 그 결과를 행렬 y에 저장하고자 합니다\n",
    "x = np.array([[1,2,3], [4,5,6], [7,8,9], [10, 11, 12]])\n",
    "# x =   \"[[1  2  3]\n",
    "#         [4  5  6]\n",
    "#         [7  8  9]\n",
    "#         [10 11 12]]\"\n",
    "\n",
    "v = np.array([1, 0, 1])\n",
    "y = np.empty_like(x)   # x와 동일한 shape를 가지며 비어있는 행렬 생성\n",
    "\n",
    "# 명시적 반복문을 통해 행렬 x의 각 행에 벡터 v를 더하는 방법\n",
    "for i in range(4):\n",
    "    y[i, :] = x[i, :] + v\n",
    "\n",
    "# 이제 y는 다음과 같습니다\n",
    "# [[ 2  2  4]\n",
    "#  [ 5  5  7]\n",
    "#  [ 8  8 10]\n",
    "#  [11 11 13]]\n",
    "print(y)"
   ]
  },
  {
   "cell_type": "markdown",
   "metadata": {
    "colab_type": "text",
    "id": "TS7aVqJH4AZd"
   },
   "source": [
    "위의 방식대로 하면 됩니다; 그러나 `x`가 매우 큰 행렬이라면, 파이썬의 반복문을 이용한 위 코드는 매우 느려질 수 있습니다.\n",
    "\n",
    "벡터 `v`를 행렬 `x`의 각 행에 더하는 것은 `v`를 여러 개 복사해 수직으로 쌓은 행렬 `vv`를 만들고 이 `vv`를 `x`에 더하는것과 동일합니다.\n",
    "\n",
    "이 과정을 아래처럼 구현할 수 있습니다:"
   ]
  },
  {
   "cell_type": "code",
   "execution_count": null,
   "metadata": {
    "colab": {},
    "colab_type": "code",
    "id": "ALVbwRLD4EU5"
   },
   "outputs": [],
   "source": [
    "import numpy as np\n",
    "\n",
    "# 벡터 v를 행렬 x의 각 행에 더한 뒤,\n",
    "# 그 결과를 행렬 y에 저장하고자 합니다\n",
    "x = np.array([[1,2,3], [4,5,6], [7,8,9], [10, 11, 12]])\n",
    "v = np.array([1, 0, 1])\n",
    "vv = np.tile(v, (4, 1))   # v의 복사본 4개를 위로 차곡차곡 쌓은 것이 vv\n",
    "print(vv)                 # 출력 \"[[1 0 1]\n",
    "                          #       [1 0 1]\n",
    "                          #       [1 0 1]\n",
    "                          #       [1 0 1]]\"\n",
    "y = x + vv  # x와 vv의 요소별 합\n",
    "print(y)    # 출력 \"[[ 2  2  4\n",
    "            #       [ 5  5  7]\n",
    "            #       [ 8  8 10]\n",
    "            #       [11 11 13]]\""
   ]
  },
  {
   "cell_type": "markdown",
   "metadata": {
    "colab_type": "text",
    "id": "Q5fnf7ub4DNk"
   },
   "source": [
    "Numpy 브로드캐스팅을 이용한다면 이렇게 v의 복사본을 여러 개 만들지 않아도 동일한 연산을 할 수 있습니다. 아래는 브로드캐스팅을 이용한 예시 코드입니다:"
   ]
  },
  {
   "cell_type": "code",
   "execution_count": null,
   "metadata": {
    "colab": {},
    "colab_type": "code",
    "id": "bCqCOn4l4NGD"
   },
   "outputs": [],
   "source": [
    "import numpy as np\n",
    "\n",
    "# 벡터 v를 행렬 x의 각 행에 더한 뒤,\n",
    "# 그 결과를 행렬 y에 저장하고자 합니다\n",
    "x = np.array([[1,2,3], [4,5,6], [7,8,9], [10, 11, 12]])\n",
    "v = np.array([1, 0, 1])\n",
    "y = x + v  # 브로드캐스팅을 이용하여 v를 x의 각 행에 더하기\n",
    "print(y)  # 출력 \"[[ 2  2  4]\n",
    "          #       [ 5  5  7]\n",
    "          #       [ 8  8 10]\n",
    "          #       [11 11 13]]\""
   ]
  },
  {
   "cell_type": "markdown",
   "metadata": {
    "colab_type": "text",
    "id": "Xz6ed7rh4TjN"
   },
   "source": [
    "x의 shape가 (4, 3)이고 v의 shape가 (3,)라도 브로드캐스팅으로 인해 y = x + v는 문제없이 수행됩니다.\n",
    "\n",
    "이때 `v`는 `v`의 복사본이 차곡차곡 쌓인 shape (4, 3)처럼 간주되어 `x`와 동일한 shape가 되며 이들 간의 요소별 덧셈연산이 y에 저장됩니다.\n",
    "\n",
    "두 배열의 브로드캐스팅은 아래의 규칙을 따릅니다:\n",
    "\n",
    "1. 두 배열이 동일한 dimension을 가지고 있지 않다면, 낮은 dimension의 1차원 배열이 높은 dimension 배열의 shape로 간주합니다.\n",
    "2. 특정 차원에서 두 배열이 동일한 크기를 갖거나, 두 배열 중 하나의 크기가 1이라면 그 두 배열은 특정 차원에서 compatible하다고 여겨집니다.\n",
    "3. 두 행렬이 모든 차원에서 compatible하다면, 브로드캐스팅이 가능합니다.\n",
    "4. 브로드캐스팅이 이뤄지면, 각 배열 shape의 요소별 최소공배수로 이루어진 shape가 두 배열의 shape로 간주합니다.\n",
    "5. 차원에 상관없이 크기가 1인 배열과 1보다 큰 배열이 있을 때, 크기가 1인 배열은 자신의 차원 수만큼 복사되어 쌓인 것처럼 간주합니다."
   ]
  },
  {
   "cell_type": "markdown",
   "metadata": {
    "colab_type": "text",
    "id": "ngKciAsj4bM-"
   },
   "source": [
    "브로드캐스팅을 지원하는 함수를 universal functions라고 합니다. \n",
    "\n",
    "https://docs.scipy.org/doc/numpy/reference/ufuncs.html\n",
    "\n",
    "브로드캐스팅을 응용한 예시들입니다:"
   ]
  },
  {
   "cell_type": "code",
   "execution_count": null,
   "metadata": {
    "colab": {},
    "colab_type": "code",
    "id": "y3rAVEb34d03"
   },
   "outputs": [],
   "source": [
    "import numpy as np\n",
    "\n",
    "v = np.array([1,2,3])  # v의 shape는 (3,)\n",
    "w = np.array([4,5])    # w의 shape는 (2,)\n",
    "x = np.array([[1,2,3], \n",
    "              [4,5,6]])"
   ]
  },
  {
   "cell_type": "code",
   "execution_count": null,
   "metadata": {
    "colab": {},
    "colab_type": "code",
    "id": "YybmNf-Uynmr"
   },
   "outputs": [],
   "source": [
    "print(x)"
   ]
  },
  {
   "cell_type": "code",
   "execution_count": null,
   "metadata": {
    "colab": {},
    "colab_type": "code",
    "id": "2Nl3kWPTyuha"
   },
   "outputs": [],
   "source": [
    "# 벡터를 행렬의 각 행에 더하기\n",
    "# x는 shape가 (2, 3)이고 v는 shape가 (3,)이므로 이 둘을 브로드캐스팅하면 shape가 (2, 3)인\n",
    "# 아래와 같은 행렬이 나옵니다:\n",
    "# [[2 4 6]\n",
    "#  [5 7 9]]\n",
    "print(x + v)"
   ]
  },
  {
   "cell_type": "code",
   "execution_count": null,
   "metadata": {
    "colab": {},
    "colab_type": "code",
    "id": "R1sGvZNnyyWm"
   },
   "outputs": [],
   "source": [
    "# 벡터를 행렬의 각 행에 더하기\n",
    "# x는 shape가 (2, 3)이고 w는 shape가 (2,)입니다.\n",
    "# x의 전치행렬은 shape가 (3,2)이며 이는 w와 브로드캐스팅이 가능하고 결과로 shape가 (3,2)인 행렬이 생깁니다;\n",
    "# 이 행렬을 전치하면 shape가 (2,3)인 행렬이 나오며\n",
    "# 이는 행렬 x의 각 열에 벡터 w을 더한 결과와 동일합니다.\n",
    "# 아래의 행렬입니다:\n",
    "# [[ 5  6  7]\n",
    "#  [ 9 10 11]]\n",
    "print((x.T + w).T)"
   ]
  },
  {
   "cell_type": "code",
   "execution_count": null,
   "metadata": {
    "colab": {},
    "colab_type": "code",
    "id": "buxpt-e7yx5E"
   },
   "outputs": [],
   "source": [
    "# 다른 방법은 w를 shape가 (2,1)인 열벡터로 변환하는 것입니다;\n",
    "# 그런 다음 이를 바로 x에 브로드캐스팅해 더하면\n",
    "# 동일한 결과가 나옵니다.\n",
    "print(x + np.reshape(w, (2, 1)))"
   ]
  },
  {
   "cell_type": "code",
   "execution_count": null,
   "metadata": {
    "colab": {},
    "colab_type": "code",
    "id": "Dg-XjQ8EyxqD"
   },
   "outputs": [],
   "source": [
    "# 행렬의 스칼라배:\n",
    "# x 의 shape는 (2, 3)입니다. Numpy는 스칼라를 shape가 ()인 배열로 취급합니다;\n",
    "# 그렇기에 스칼라 값은 (2,3) shape로 브로드캐스트 될 수 있고,\n",
    "# 아래와 같은 결과를 만들어 냅니다:\n",
    "# [[ 2  4  6]\n",
    "#  [ 8 10 12]]\n",
    "print(x * 2)"
   ]
  },
  {
   "cell_type": "markdown",
   "metadata": {
    "colab_type": "text",
    "id": "7nq1PTCS4lyk"
   },
   "source": [
    "브로드캐스팅은 보통 코드를 간결하고 빠르게 해줍니다, 그러니 가능한 많이 사용하세요."
   ]
  }
 ],
 "metadata": {
  "colab": {
   "collapsed_sections": [],
   "name": "데이터 과학을 위한 NumPy.ipynb",
   "provenance": [
    {
     "file_id": "1ASRhsZArduVXAIpHUn05yND2FWZk17Zm",
     "timestamp": 1549878177704
    }
   ],
   "version": "0.3.2"
  },
  "kernelspec": {
   "display_name": "Python 3",
   "language": "python",
   "name": "python3"
  },
  "language_info": {
   "codemirror_mode": {
    "name": "ipython",
    "version": 3
   },
   "file_extension": ".py",
   "mimetype": "text/x-python",
   "name": "python",
   "nbconvert_exporter": "python",
   "pygments_lexer": "ipython3",
   "version": "3.7.1"
  }
 },
 "nbformat": 4,
 "nbformat_minor": 2
}
