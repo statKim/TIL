{
 "cells": [
  {
   "cell_type": "code",
   "execution_count": 13,
   "metadata": {},
   "outputs": [],
   "source": [
    "from bs4 import BeautifulSoup\n",
    "import requests\n",
    "import pandas as pd\n",
    "import numpy as np"
   ]
  },
  {
   "cell_type": "code",
   "execution_count": 2,
   "metadata": {},
   "outputs": [
    {
     "data": {
      "text/plain": [
       "'https://search.naver.com/search.naver?query=호환'"
      ]
     },
     "execution_count": 2,
     "metadata": {},
     "output_type": "execute_result"
    }
   ],
   "source": [
    "# 게시판 url 지정\n",
    "base_url = \"https://search.naver.com/search.naver?query=\"\n",
    "\n",
    "# 검색어\n",
    "search = \"호환\"\n",
    "\n",
    "url = base_url + search\n",
    "url"
   ]
  },
  {
   "cell_type": "code",
   "execution_count": 3,
   "metadata": {},
   "outputs": [],
   "source": [
    "# 해당 검색어에 대한 게시글의 html 객체 가져오기\n",
    "req = requests.get(url).content\n",
    "doc = BeautifulSoup(req, \"html.parser\", from_encoding=\"utf-8\")"
   ]
  },
  {
   "cell_type": "code",
   "execution_count": 4,
   "metadata": {},
   "outputs": [
    {
     "data": {
      "text/plain": [
       "{'keyword_1': '호환마마', 'keyword_2': '화환', 'keyword_3': '호환성', 'search': '호환'}"
      ]
     },
     "execution_count": 4,
     "metadata": {},
     "output_type": "execute_result"
    }
   ],
   "source": [
    "# 게시글 url 가져오기\n",
    "keyword = doc.select(\"#nx_related_keywords > dl > dd.lst_relate._related_keyword_list > ul > li > a\")\n",
    "# keyword = [ word.text for word in keyword ]\n",
    "keyword = { \"keyword_{}\".format(ind+1): word.text for ind, word in enumerate(keyword) }\n",
    "keyword[\"search\"] = search\n",
    "keyword"
   ]
  },
  {
   "cell_type": "code",
   "execution_count": 65,
   "metadata": {},
   "outputs": [
    {
     "data": {
      "text/html": [
       "<div>\n",
       "<style scoped>\n",
       "    .dataframe tbody tr th:only-of-type {\n",
       "        vertical-align: middle;\n",
       "    }\n",
       "\n",
       "    .dataframe tbody tr th {\n",
       "        vertical-align: top;\n",
       "    }\n",
       "\n",
       "    .dataframe thead th {\n",
       "        text-align: right;\n",
       "    }\n",
       "</style>\n",
       "<table border=\"1\" class=\"dataframe\">\n",
       "  <thead>\n",
       "    <tr style=\"text-align: right;\">\n",
       "      <th></th>\n",
       "      <th>keyword_1</th>\n",
       "      <th>keyword_2</th>\n",
       "      <th>keyword_3</th>\n",
       "      <th>keyword_4</th>\n",
       "      <th>keyword_5</th>\n",
       "      <th>keyword_6</th>\n",
       "      <th>keyword_7</th>\n",
       "      <th>keyword_8</th>\n",
       "      <th>keyword_9</th>\n",
       "      <th>keyword_10</th>\n",
       "      <th>search</th>\n",
       "    </tr>\n",
       "  </thead>\n",
       "  <tbody>\n",
       "    <tr>\n",
       "      <th>0</th>\n",
       "      <td>경희대학교</td>\n",
       "      <td>중앙대학교 안성캠퍼스</td>\n",
       "      <td>중앙대학교 수시등급</td>\n",
       "      <td>중앙대학교병원</td>\n",
       "      <td>건국대학교</td>\n",
       "      <td>연세대학교</td>\n",
       "      <td>중앙대 수시</td>\n",
       "      <td>공인회계사 1차 발표</td>\n",
       "      <td>서울시립대학교</td>\n",
       "      <td>동국대학교</td>\n",
       "      <td>중앙대학교</td>\n",
       "    </tr>\n",
       "  </tbody>\n",
       "</table>\n",
       "</div>"
      ],
      "text/plain": [
       "  keyword_1    keyword_2   keyword_3 keyword_4 keyword_5 keyword_6 keyword_7  \\\n",
       "0     경희대학교  중앙대학교 안성캠퍼스  중앙대학교 수시등급   중앙대학교병원     건국대학교     연세대학교    중앙대 수시   \n",
       "\n",
       "     keyword_8 keyword_9 keyword_10 search  \n",
       "0  공인회계사 1차 발표   서울시립대학교      동국대학교  중앙대학교  "
      ]
     },
     "execution_count": 65,
     "metadata": {},
     "output_type": "execute_result"
    }
   ],
   "source": [
    "import pandas as pd\n",
    "\n",
    "data = pd.DataFrame(keyword, index=[0])\n",
    "data"
   ]
  },
  {
   "cell_type": "code",
   "execution_count": 77,
   "metadata": {},
   "outputs": [
    {
     "name": "stderr",
     "output_type": "stream",
     "text": [
      "C:\\Anaconda3\\lib\\site-packages\\ipykernel_launcher.py:2: FutureWarning: Sorting because non-concatenation axis is not aligned. A future version\n",
      "of pandas will change to not sort by default.\n",
      "\n",
      "To accept the future behavior, pass 'sort=False'.\n",
      "\n",
      "To retain the current behavior and silence the warning, pass 'sort=True'.\n",
      "\n",
      "  \n"
     ]
    },
    {
     "data": {
      "text/html": [
       "<div>\n",
       "<style scoped>\n",
       "    .dataframe tbody tr th:only-of-type {\n",
       "        vertical-align: middle;\n",
       "    }\n",
       "\n",
       "    .dataframe tbody tr th {\n",
       "        vertical-align: top;\n",
       "    }\n",
       "\n",
       "    .dataframe thead th {\n",
       "        text-align: right;\n",
       "    }\n",
       "</style>\n",
       "<table border=\"1\" class=\"dataframe\">\n",
       "  <thead>\n",
       "    <tr style=\"text-align: right;\">\n",
       "      <th></th>\n",
       "      <th>keyword_1</th>\n",
       "      <th>keyword_10</th>\n",
       "      <th>keyword_2</th>\n",
       "      <th>keyword_3</th>\n",
       "      <th>keyword_4</th>\n",
       "      <th>keyword_5</th>\n",
       "      <th>keyword_6</th>\n",
       "      <th>keyword_7</th>\n",
       "      <th>keyword_8</th>\n",
       "      <th>keyword_9</th>\n",
       "      <th>search</th>\n",
       "    </tr>\n",
       "  </thead>\n",
       "  <tbody>\n",
       "    <tr>\n",
       "      <th>0</th>\n",
       "      <td>경희대학교</td>\n",
       "      <td>동국대학교</td>\n",
       "      <td>중앙대학교 안성캠퍼스</td>\n",
       "      <td>중앙대학교 수시등급</td>\n",
       "      <td>중앙대학교병원</td>\n",
       "      <td>건국대학교</td>\n",
       "      <td>연세대학교</td>\n",
       "      <td>중앙대 수시</td>\n",
       "      <td>공인회계사 1차 발표</td>\n",
       "      <td>서울시립대학교</td>\n",
       "      <td>중앙대학교</td>\n",
       "    </tr>\n",
       "    <tr>\n",
       "      <th>0</th>\n",
       "      <td>연세대학교</td>\n",
       "      <td>서울대 손편지</td>\n",
       "      <td>고려대학교</td>\n",
       "      <td>서울대학교병원</td>\n",
       "      <td>서울대 나무위키</td>\n",
       "      <td>서울대 창업동아리</td>\n",
       "      <td>성균관대학교</td>\n",
       "      <td>대학교 전형</td>\n",
       "      <td>한양대학교</td>\n",
       "      <td>서울대학교 학과</td>\n",
       "      <td>서울대학교</td>\n",
       "    </tr>\n",
       "    <tr>\n",
       "      <th>0</th>\n",
       "      <td>서울대공원 옥수수</td>\n",
       "      <td>오토바이사이트</td>\n",
       "      <td>서울대공원 음식</td>\n",
       "      <td>sk엔카</td>\n",
       "      <td>엔카</td>\n",
       "      <td>서울대공원 쓰레기</td>\n",
       "      <td>서울대공원 위생</td>\n",
       "      <td>중고차</td>\n",
       "      <td>뽐뿌</td>\n",
       "      <td>어린이대공원</td>\n",
       "      <td>보배드림</td>\n",
       "    </tr>\n",
       "    <tr>\n",
       "      <th>0</th>\n",
       "      <td>화환</td>\n",
       "      <td>NaN</td>\n",
       "      <td>호환마마</td>\n",
       "      <td>호환되다</td>\n",
       "      <td>호환성</td>\n",
       "      <td>NaN</td>\n",
       "      <td>NaN</td>\n",
       "      <td>NaN</td>\n",
       "      <td>NaN</td>\n",
       "      <td>NaN</td>\n",
       "      <td>호환</td>\n",
       "    </tr>\n",
       "  </tbody>\n",
       "</table>\n",
       "</div>"
      ],
      "text/plain": [
       "   keyword_1 keyword_10    keyword_2   keyword_3 keyword_4  keyword_5  \\\n",
       "0      경희대학교      동국대학교  중앙대학교 안성캠퍼스  중앙대학교 수시등급   중앙대학교병원      건국대학교   \n",
       "0      연세대학교    서울대 손편지        고려대학교     서울대학교병원  서울대 나무위키  서울대 창업동아리   \n",
       "0  서울대공원 옥수수    오토바이사이트     서울대공원 음식        sk엔카        엔카  서울대공원 쓰레기   \n",
       "0         화환        NaN         호환마마        호환되다       호환성        NaN   \n",
       "\n",
       "  keyword_6 keyword_7    keyword_8 keyword_9 search  \n",
       "0     연세대학교    중앙대 수시  공인회계사 1차 발표   서울시립대학교  중앙대학교  \n",
       "0    성균관대학교    대학교 전형        한양대학교  서울대학교 학과  서울대학교  \n",
       "0  서울대공원 위생       중고차           뽐뿌    어린이대공원   보배드림  \n",
       "0       NaN       NaN          NaN       NaN     호환  "
      ]
     },
     "execution_count": 77,
     "metadata": {},
     "output_type": "execute_result"
    }
   ],
   "source": [
    "data2 = pd.DataFrame(keyword, index=[0])\n",
    "data = pd.concat([data, data2], axis=0)\n",
    "data"
   ]
  },
  {
   "cell_type": "code",
   "execution_count": 97,
   "metadata": {},
   "outputs": [
    {
     "data": {
      "text/html": [
       "<div>\n",
       "<style scoped>\n",
       "    .dataframe tbody tr th:only-of-type {\n",
       "        vertical-align: middle;\n",
       "    }\n",
       "\n",
       "    .dataframe tbody tr th {\n",
       "        vertical-align: top;\n",
       "    }\n",
       "\n",
       "    .dataframe thead th {\n",
       "        text-align: right;\n",
       "    }\n",
       "</style>\n",
       "<table border=\"1\" class=\"dataframe\">\n",
       "  <thead>\n",
       "    <tr style=\"text-align: right;\">\n",
       "      <th></th>\n",
       "      <th>search</th>\n",
       "      <th>keyword_1</th>\n",
       "      <th>keyword_2</th>\n",
       "      <th>keyword_3</th>\n",
       "      <th>keyword_4</th>\n",
       "      <th>keyword_5</th>\n",
       "      <th>keyword_6</th>\n",
       "      <th>keyword_7</th>\n",
       "      <th>keyword_8</th>\n",
       "      <th>keyword_9</th>\n",
       "      <th>keyword_10</th>\n",
       "    </tr>\n",
       "  </thead>\n",
       "  <tbody>\n",
       "    <tr>\n",
       "      <th>0</th>\n",
       "      <td>경희대학교</td>\n",
       "      <td>동국대학교</td>\n",
       "      <td>중앙대학교 안성캠퍼스</td>\n",
       "      <td>중앙대학교 수시등급</td>\n",
       "      <td>중앙대학교병원</td>\n",
       "      <td>건국대학교</td>\n",
       "      <td>연세대학교</td>\n",
       "      <td>중앙대 수시</td>\n",
       "      <td>공인회계사 1차 발표</td>\n",
       "      <td>서울시립대학교</td>\n",
       "      <td>중앙대학교</td>\n",
       "    </tr>\n",
       "    <tr>\n",
       "      <th>0</th>\n",
       "      <td>연세대학교</td>\n",
       "      <td>서울대 손편지</td>\n",
       "      <td>고려대학교</td>\n",
       "      <td>서울대학교병원</td>\n",
       "      <td>서울대 나무위키</td>\n",
       "      <td>서울대 창업동아리</td>\n",
       "      <td>성균관대학교</td>\n",
       "      <td>대학교 전형</td>\n",
       "      <td>한양대학교</td>\n",
       "      <td>서울대학교 학과</td>\n",
       "      <td>서울대학교</td>\n",
       "    </tr>\n",
       "    <tr>\n",
       "      <th>0</th>\n",
       "      <td>서울대공원 옥수수</td>\n",
       "      <td>오토바이사이트</td>\n",
       "      <td>서울대공원 음식</td>\n",
       "      <td>sk엔카</td>\n",
       "      <td>엔카</td>\n",
       "      <td>서울대공원 쓰레기</td>\n",
       "      <td>서울대공원 위생</td>\n",
       "      <td>중고차</td>\n",
       "      <td>뽐뿌</td>\n",
       "      <td>어린이대공원</td>\n",
       "      <td>보배드림</td>\n",
       "    </tr>\n",
       "    <tr>\n",
       "      <th>0</th>\n",
       "      <td>화환</td>\n",
       "      <td>NaN</td>\n",
       "      <td>호환마마</td>\n",
       "      <td>호환되다</td>\n",
       "      <td>호환성</td>\n",
       "      <td>NaN</td>\n",
       "      <td>NaN</td>\n",
       "      <td>NaN</td>\n",
       "      <td>NaN</td>\n",
       "      <td>NaN</td>\n",
       "      <td>호환</td>\n",
       "    </tr>\n",
       "  </tbody>\n",
       "</table>\n",
       "</div>"
      ],
      "text/plain": [
       "      search keyword_1    keyword_2   keyword_3 keyword_4  keyword_5  \\\n",
       "0      경희대학교     동국대학교  중앙대학교 안성캠퍼스  중앙대학교 수시등급   중앙대학교병원      건국대학교   \n",
       "0      연세대학교   서울대 손편지        고려대학교     서울대학교병원  서울대 나무위키  서울대 창업동아리   \n",
       "0  서울대공원 옥수수   오토바이사이트     서울대공원 음식        sk엔카        엔카  서울대공원 쓰레기   \n",
       "0         화환       NaN         호환마마        호환되다       호환성        NaN   \n",
       "\n",
       "  keyword_6 keyword_7    keyword_8 keyword_9 keyword_10  \n",
       "0     연세대학교    중앙대 수시  공인회계사 1차 발표   서울시립대학교      중앙대학교  \n",
       "0    성균관대학교    대학교 전형        한양대학교  서울대학교 학과      서울대학교  \n",
       "0  서울대공원 위생       중고차           뽐뿌    어린이대공원       보배드림  \n",
       "0       NaN       NaN          NaN       NaN         호환  "
      ]
     },
     "execution_count": 97,
     "metadata": {},
     "output_type": "execute_result"
    }
   ],
   "source": [
    "data.columns = [ data.columns[-1], data.columns[0], *data.columns[2:10], data.columns[1] ]\n",
    "data"
   ]
  },
  {
   "cell_type": "markdown",
   "metadata": {},
   "source": [
    "### for문으로 여러 검색어 한번에 검색하기"
   ]
  },
  {
   "cell_type": "code",
   "execution_count": 117,
   "metadata": {},
   "outputs": [
    {
     "name": "stderr",
     "output_type": "stream",
     "text": [
      "C:\\Anaconda3\\lib\\site-packages\\ipykernel_launcher.py:21: FutureWarning: Sorting because non-concatenation axis is not aligned. A future version\n",
      "of pandas will change to not sort by default.\n",
      "\n",
      "To accept the future behavior, pass 'sort=False'.\n",
      "\n",
      "To retain the current behavior and silence the warning, pass 'sort=True'.\n",
      "\n"
     ]
    },
    {
     "data": {
      "text/html": [
       "<div>\n",
       "<style scoped>\n",
       "    .dataframe tbody tr th:only-of-type {\n",
       "        vertical-align: middle;\n",
       "    }\n",
       "\n",
       "    .dataframe tbody tr th {\n",
       "        vertical-align: top;\n",
       "    }\n",
       "\n",
       "    .dataframe thead th {\n",
       "        text-align: right;\n",
       "    }\n",
       "</style>\n",
       "<table border=\"1\" class=\"dataframe\">\n",
       "  <thead>\n",
       "    <tr style=\"text-align: right;\">\n",
       "      <th></th>\n",
       "      <th>search</th>\n",
       "      <th>keyword_1</th>\n",
       "      <th>keyword_2</th>\n",
       "      <th>keyword_3</th>\n",
       "      <th>keyword_4</th>\n",
       "      <th>keyword_5</th>\n",
       "      <th>keyword_6</th>\n",
       "      <th>keyword_7</th>\n",
       "      <th>keyword_8</th>\n",
       "      <th>keyword_9</th>\n",
       "      <th>keyword_10</th>\n",
       "    </tr>\n",
       "  </thead>\n",
       "  <tbody>\n",
       "    <tr>\n",
       "      <th>0</th>\n",
       "      <td>김현성</td>\n",
       "      <td>하선호 김현성</td>\n",
       "      <td>하선호 변신</td>\n",
       "      <td>하선호 탈락</td>\n",
       "      <td>고등래퍼3 탈락</td>\n",
       "      <td>고등래퍼 김현성</td>\n",
       "      <td>제시 고등래퍼</td>\n",
       "      <td>고등래퍼 이영지</td>\n",
       "      <td>고등래퍼3 변신</td>\n",
       "      <td>양승호 오동환</td>\n",
       "      <td>고등래퍼 송민재</td>\n",
       "    </tr>\n",
       "    <tr>\n",
       "      <th>0</th>\n",
       "      <td>통계</td>\n",
       "      <td>경찰청 통계</td>\n",
       "      <td>통계청 채용</td>\n",
       "      <td>한국통계</td>\n",
       "      <td>인구 통계청</td>\n",
       "      <td>응용통계학과</td>\n",
       "      <td>출생인구</td>\n",
       "      <td>연세대학교</td>\n",
       "      <td>통계청 산업분류</td>\n",
       "      <td>통계 사이트</td>\n",
       "      <td>통계청 자료</td>\n",
       "    </tr>\n",
       "  </tbody>\n",
       "</table>\n",
       "</div>"
      ],
      "text/plain": [
       "  search keyword_1 keyword_2 keyword_3 keyword_4 keyword_5 keyword_6  \\\n",
       "0    김현성   하선호 김현성    하선호 변신    하선호 탈락  고등래퍼3 탈락  고등래퍼 김현성   제시 고등래퍼   \n",
       "0     통계    경찰청 통계    통계청 채용      한국통계    인구 통계청    응용통계학과      출생인구   \n",
       "\n",
       "  keyword_7 keyword_8 keyword_9 keyword_10  \n",
       "0  고등래퍼 이영지  고등래퍼3 변신   양승호 오동환   고등래퍼 송민재  \n",
       "0     연세대학교  통계청 산업분류    통계 사이트     통계청 자료  "
      ]
     },
     "execution_count": 117,
     "metadata": {},
     "output_type": "execute_result"
    }
   ],
   "source": [
    "search_list = [\"김현성\", \"통계\"]\n",
    "for search in search_list:\n",
    "    # 검색할 url 지정\n",
    "    base_url = \"https://search.naver.com/search.naver?query=\"\n",
    "    url = base_url + search\n",
    "\n",
    "    # 해당 검색어에 대한 검색창의 html 객체 가져오기\n",
    "    req = requests.get(url).content\n",
    "    doc = BeautifulSoup(req, \"html.parser\", from_encoding=\"utf-8\")\n",
    "    \n",
    "    # 연관검색어 가져오기\n",
    "    keyword = doc.select(\"#nx_related_keywords > dl > dd.lst_relate._related_keyword_list > ul > li > a\")\n",
    "    keyword = { \"keyword_{}\".format(ind+1): word.text for ind, word in enumerate(keyword) }\n",
    "    keyword[\"search\"] = search\n",
    "\n",
    "    # 검색어와 연관검색어를 한 행의 데이터프레임으로 생성\n",
    "    if search == search_list[0]:\n",
    "        result = pd.DataFrame(keyword, index=[0])\n",
    "    else:\n",
    "        row = pd.DataFrame(keyword, index=[0])\n",
    "        result = pd.concat([result, row])\n",
    "        \n",
    "    # 변수 순서 변경\n",
    "#     result.columns = [ result.columns[-1], *result.columns[0:10]]\n",
    "    result = result.loc[:,[ result.columns[-1], result.columns[0], *result.columns[2:10], result.columns[1] ]]\n",
    "    \n",
    "result"
   ]
  },
  {
   "cell_type": "markdown",
   "metadata": {},
   "source": [
    "### 모듈화!!\n",
    "> 문제점 : 처음에 검색한 연관검색어가 10개가 안될경우에는??"
   ]
  },
  {
   "cell_type": "code",
   "execution_count": 14,
   "metadata": {},
   "outputs": [],
   "source": [
    "# 검색어에 해당하는 연관검색어를 가져오는 함수 => input값은 문자열, 문자열 여러개, 리스트 모두 가능\n",
    "def naver_search(*search_list):\n",
    "    if type(search_list[0]) != str:\n",
    "        search_list = search_list[0]\n",
    "    for search in search_list:\n",
    "        # 검색할 url 지정\n",
    "        base_url = \"https://search.naver.com/search.naver?query=\"\n",
    "        url = base_url + search\n",
    "\n",
    "        # 해당 검색어에 대한 검색창의 html 객체 가져오기\n",
    "        req = requests.get(url).content\n",
    "        doc = BeautifulSoup(req, \"html.parser\", from_encoding=\"utf-8\")\n",
    "\n",
    "        # 연관검색어 가져오기\n",
    "        keyword = doc.select(\"#nx_related_keywords > dl > dd.lst_relate._related_keyword_list > ul > li > a\")\n",
    "        keyword = { \"keyword_{}\".format(ind+1): word.text for ind, word in enumerate(keyword) }\n",
    "        if len(keyword) < 10:   # 연관검색어 개수가 10개 미만이면 나머지 변수에는 NaN으로 채우기\n",
    "            ind = 10 - len(keyword) + 1\n",
    "            for i in range(11-len(keyword), 11, 1):\n",
    "                keyword[\"keyword_{}\".format(i)] = np.nan\n",
    "        keyword[\"search\"] = search\n",
    "\n",
    "        # 검색어와 연관검색어를 한 행의 데이터프레임으로 생성\n",
    "        if search == search_list[0]:\n",
    "            result = pd.DataFrame(keyword, index=[0])\n",
    "        else:\n",
    "            row = pd.DataFrame(keyword, index=[0])\n",
    "            result = pd.concat([result, row])\n",
    "\n",
    "        # 변수 순서 변경\n",
    "        result = result.loc[:,[ result.columns[-1], result.columns[0], *result.columns[2:10], result.columns[1] ]]\n",
    "    return result"
   ]
  },
  {
   "cell_type": "code",
   "execution_count": 16,
   "metadata": {},
   "outputs": [
    {
     "data": {
      "text/html": [
       "<div>\n",
       "<style scoped>\n",
       "    .dataframe tbody tr th:only-of-type {\n",
       "        vertical-align: middle;\n",
       "    }\n",
       "\n",
       "    .dataframe tbody tr th {\n",
       "        vertical-align: top;\n",
       "    }\n",
       "\n",
       "    .dataframe thead th {\n",
       "        text-align: right;\n",
       "    }\n",
       "</style>\n",
       "<table border=\"1\" class=\"dataframe\">\n",
       "  <thead>\n",
       "    <tr style=\"text-align: right;\">\n",
       "      <th></th>\n",
       "      <th>PART_NAME</th>\n",
       "      <th>PART_NAME_KOR</th>\n",
       "    </tr>\n",
       "  </thead>\n",
       "  <tbody>\n",
       "    <tr>\n",
       "      <th>0</th>\n",
       "      <td>ASSY</td>\n",
       "      <td>어셈블리</td>\n",
       "    </tr>\n",
       "    <tr>\n",
       "      <th>1</th>\n",
       "      <td>HD GITA</td>\n",
       "      <td>기타품목</td>\n",
       "    </tr>\n",
       "    <tr>\n",
       "      <th>2</th>\n",
       "      <td>RADIAC SET</td>\n",
       "      <td>래디얼 셋</td>\n",
       "    </tr>\n",
       "    <tr>\n",
       "      <th>3</th>\n",
       "      <td>RADIAC CALIBRATOR</td>\n",
       "      <td>래디얼 캘리브레이터</td>\n",
       "    </tr>\n",
       "    <tr>\n",
       "      <th>4</th>\n",
       "      <td>R2 TX ASSY</td>\n",
       "      <td>Ｒ２ ＴＸ 앗세이</td>\n",
       "    </tr>\n",
       "  </tbody>\n",
       "</table>\n",
       "</div>"
      ],
      "text/plain": [
       "           PART_NAME PART_NAME_KOR\n",
       "0               ASSY          어셈블리\n",
       "1            HD GITA          기타품목\n",
       "2         RADIAC SET         래디얼 셋\n",
       "3  RADIAC CALIBRATOR    래디얼 캘리브레이터\n",
       "4         R2 TX ASSY     Ｒ２ ＴＸ 앗세이"
      ]
     },
     "execution_count": 16,
     "metadata": {},
     "output_type": "execute_result"
    }
   ],
   "source": [
    "x = pd.read_csv(\"../한글부품명.csv\", engine=\"python\")\n",
    "x.head()"
   ]
  },
  {
   "cell_type": "code",
   "execution_count": 17,
   "metadata": {},
   "outputs": [
    {
     "name": "stdout",
     "output_type": "stream",
     "text": [
      "어셈블리\n",
      "기타품목\n",
      "래디얼 셋\n",
      "래디얼 캘리브레이터\n",
      "Ｒ２ ＴＸ 앗세이\n"
     ]
    }
   ],
   "source": [
    "for i in x.iloc[0:5,1]:\n",
    "    print(i)"
   ]
  },
  {
   "cell_type": "code",
   "execution_count": 170,
   "metadata": {},
   "outputs": [
    {
     "data": {
      "text/plain": [
       "False"
      ]
     },
     "execution_count": 170,
     "metadata": {},
     "output_type": "execute_result"
    }
   ],
   "source": [
    "type(x.iloc[0:5,1]) == \"pandas.core.series.Series\""
   ]
  },
  {
   "cell_type": "code",
   "execution_count": 18,
   "metadata": {},
   "outputs": [
    {
     "name": "stderr",
     "output_type": "stream",
     "text": [
      "C:\\Anaconda3\\lib\\site-packages\\ipykernel_launcher.py:28: FutureWarning: Sorting because non-concatenation axis is not aligned. A future version\n",
      "of pandas will change to not sort by default.\n",
      "\n",
      "To accept the future behavior, pass 'sort=False'.\n",
      "\n",
      "To retain the current behavior and silence the warning, pass 'sort=True'.\n",
      "\n"
     ]
    },
    {
     "data": {
      "text/html": [
       "<div>\n",
       "<style scoped>\n",
       "    .dataframe tbody tr th:only-of-type {\n",
       "        vertical-align: middle;\n",
       "    }\n",
       "\n",
       "    .dataframe tbody tr th {\n",
       "        vertical-align: top;\n",
       "    }\n",
       "\n",
       "    .dataframe thead th {\n",
       "        text-align: right;\n",
       "    }\n",
       "</style>\n",
       "<table border=\"1\" class=\"dataframe\">\n",
       "  <thead>\n",
       "    <tr style=\"text-align: right;\">\n",
       "      <th></th>\n",
       "      <th>search</th>\n",
       "      <th>keyword_1</th>\n",
       "      <th>keyword_2</th>\n",
       "      <th>keyword_3</th>\n",
       "      <th>keyword_4</th>\n",
       "      <th>keyword_5</th>\n",
       "      <th>keyword_6</th>\n",
       "      <th>keyword_7</th>\n",
       "      <th>keyword_8</th>\n",
       "      <th>keyword_9</th>\n",
       "      <th>keyword_10</th>\n",
       "    </tr>\n",
       "  </thead>\n",
       "  <tbody>\n",
       "    <tr>\n",
       "      <th>0</th>\n",
       "      <td>어셈블리</td>\n",
       "      <td>어셈블리어</td>\n",
       "      <td>어셈블리 뜻</td>\n",
       "      <td>연료필터 어셈블리</td>\n",
       "      <td>NaN</td>\n",
       "      <td>NaN</td>\n",
       "      <td>NaN</td>\n",
       "      <td>NaN</td>\n",
       "      <td>NaN</td>\n",
       "      <td>NaN</td>\n",
       "      <td>NaN</td>\n",
       "    </tr>\n",
       "    <tr>\n",
       "      <th>0</th>\n",
       "      <td>기타품목</td>\n",
       "      <td>NaN</td>\n",
       "      <td>NaN</td>\n",
       "      <td>NaN</td>\n",
       "      <td>NaN</td>\n",
       "      <td>NaN</td>\n",
       "      <td>NaN</td>\n",
       "      <td>NaN</td>\n",
       "      <td>NaN</td>\n",
       "      <td>NaN</td>\n",
       "      <td>NaN</td>\n",
       "    </tr>\n",
       "    <tr>\n",
       "      <th>0</th>\n",
       "      <td>래디얼 셋</td>\n",
       "      <td>NaN</td>\n",
       "      <td>NaN</td>\n",
       "      <td>NaN</td>\n",
       "      <td>NaN</td>\n",
       "      <td>NaN</td>\n",
       "      <td>NaN</td>\n",
       "      <td>NaN</td>\n",
       "      <td>NaN</td>\n",
       "      <td>NaN</td>\n",
       "      <td>NaN</td>\n",
       "    </tr>\n",
       "    <tr>\n",
       "      <th>0</th>\n",
       "      <td>래디얼 캘리브레이터</td>\n",
       "      <td>NaN</td>\n",
       "      <td>NaN</td>\n",
       "      <td>NaN</td>\n",
       "      <td>NaN</td>\n",
       "      <td>NaN</td>\n",
       "      <td>NaN</td>\n",
       "      <td>NaN</td>\n",
       "      <td>NaN</td>\n",
       "      <td>NaN</td>\n",
       "      <td>NaN</td>\n",
       "    </tr>\n",
       "    <tr>\n",
       "      <th>0</th>\n",
       "      <td>Ｒ２ ＴＸ 앗세이</td>\n",
       "      <td>NaN</td>\n",
       "      <td>NaN</td>\n",
       "      <td>NaN</td>\n",
       "      <td>NaN</td>\n",
       "      <td>NaN</td>\n",
       "      <td>NaN</td>\n",
       "      <td>NaN</td>\n",
       "      <td>NaN</td>\n",
       "      <td>NaN</td>\n",
       "      <td>NaN</td>\n",
       "    </tr>\n",
       "  </tbody>\n",
       "</table>\n",
       "</div>"
      ],
      "text/plain": [
       "       search keyword_1 keyword_2  keyword_3  keyword_4  keyword_5  keyword_6  \\\n",
       "0        어셈블리     어셈블리어    어셈블리 뜻  연료필터 어셈블리        NaN        NaN        NaN   \n",
       "0        기타품목       NaN       NaN        NaN        NaN        NaN        NaN   \n",
       "0       래디얼 셋       NaN       NaN        NaN        NaN        NaN        NaN   \n",
       "0  래디얼 캘리브레이터       NaN       NaN        NaN        NaN        NaN        NaN   \n",
       "0   Ｒ２ ＴＸ 앗세이       NaN       NaN        NaN        NaN        NaN        NaN   \n",
       "\n",
       "   keyword_7  keyword_8  keyword_9  keyword_10  \n",
       "0        NaN        NaN        NaN         NaN  \n",
       "0        NaN        NaN        NaN         NaN  \n",
       "0        NaN        NaN        NaN         NaN  \n",
       "0        NaN        NaN        NaN         NaN  \n",
       "0        NaN        NaN        NaN         NaN  "
      ]
     },
     "execution_count": 18,
     "metadata": {},
     "output_type": "execute_result"
    }
   ],
   "source": [
    "naver_search(x.iloc[0:5,1])"
   ]
  },
  {
   "cell_type": "code",
   "execution_count": 147,
   "metadata": {},
   "outputs": [
    {
     "ename": "SyntaxError",
     "evalue": "can't use starred expression here (cell_name, line 7)",
     "output_type": "error",
     "traceback": [
      "\u001b[1;36m  File \u001b[1;32m\"cell_name\"\u001b[1;36m, line \u001b[1;32m7\u001b[0m\n\u001b[1;31mSyntaxError\u001b[0m\u001b[1;31m:\u001b[0m can't use starred expression here\n"
     ]
    }
   ],
   "source": [
    "def aa(*x):\n",
    "    return x\n",
    "d = aa([3,3])\n",
    "*d[0]"
   ]
  },
  {
   "cell_type": "code",
   "execution_count": 155,
   "metadata": {},
   "outputs": [
    {
     "data": {
      "text/plain": [
       "True"
      ]
     },
     "execution_count": 155,
     "metadata": {},
     "output_type": "execute_result"
    }
   ],
   "source": [
    "type([1,2]) == list"
   ]
  }
 ],
 "metadata": {
  "kernelspec": {
   "display_name": "Python 3",
   "language": "python",
   "name": "python3"
  },
  "language_info": {
   "codemirror_mode": {
    "name": "ipython",
    "version": 3
   },
   "file_extension": ".py",
   "mimetype": "text/x-python",
   "name": "python",
   "nbconvert_exporter": "python",
   "pygments_lexer": "ipython3",
   "version": "3.7.1"
  }
 },
 "nbformat": 4,
 "nbformat_minor": 2
}
