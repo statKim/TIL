{
 "cells": [
  {
   "cell_type": "markdown",
   "metadata": {},
   "source": [
    "# TensorFlow 기초"
   ]
  },
  {
   "cell_type": "markdown",
   "metadata": {},
   "source": [
    "### tensorflow 설치 후 version 확인"
   ]
  },
  {
   "cell_type": "code",
   "execution_count": 3,
   "metadata": {},
   "outputs": [
    {
     "data": {
      "text/plain": [
       "'1.10.0'"
      ]
     },
     "execution_count": 3,
     "metadata": {},
     "output_type": "execute_result"
    }
   ],
   "source": [
    "import tensorflow as tf \n",
    "tf.__version__"
   ]
  },
  {
   "cell_type": "markdown",
   "metadata": {},
   "source": [
    "### tensorflow를 이용하여 hellow 찍어보기!\n",
    ">b : bytestream이라는 뜻"
   ]
  },
  {
   "cell_type": "code",
   "execution_count": 5,
   "metadata": {},
   "outputs": [
    {
     "name": "stdout",
     "output_type": "stream",
     "text": [
      "b'Hello, TensorFlow!'\n"
     ]
    }
   ],
   "source": [
    "# create a constant op\n",
    "# This op is added as a node to the default graph\n",
    "hello = tf.constant(\"Hello, TensorFlow!\")\n",
    "\n",
    "# seart a TF session\n",
    "sess = tf.Session()\n",
    "\n",
    "# run the op and get result\n",
    "print(sess.run(hello))"
   ]
  },
  {
   "cell_type": "code",
   "execution_count": 9,
   "metadata": {},
   "outputs": [],
   "source": [
    "node1 = tf.constant(3.0, tf.float32)\n",
    "node2 = tf.constant(4.0) # also tf.float32 implicitly\n",
    "node3 = tf.add(node1, node2)"
   ]
  },
  {
   "cell_type": "code",
   "execution_count": 11,
   "metadata": {},
   "outputs": [
    {
     "name": "stdout",
     "output_type": "stream",
     "text": [
      "node1 :  Tensor(\"Const_7:0\", shape=(), dtype=float32) node2 :  Tensor(\"Const_8:0\", shape=(), dtype=float32)\n",
      "node3 :  Tensor(\"Add_2:0\", shape=(), dtype=float32)\n"
     ]
    }
   ],
   "source": [
    "# 그냥 print하면 저장된 값이 안나오고 이상하게 나옴\n",
    "# Tebnsor로 묶여있는 형태로 나옴\n",
    "print(\"node1 : \", node1, \"node2 : \", node2)\n",
    "print(\"node3 : \", node3)"
   ]
  },
  {
   "cell_type": "code",
   "execution_count": 15,
   "metadata": {},
   "outputs": [
    {
     "name": "stdout",
     "output_type": "stream",
     "text": [
      "sess.run(node1, node2) :  [3.0, 4.0]\n",
      "sess.run(node3) :  7.0\n"
     ]
    }
   ],
   "source": [
    "# 저장된 값을 출력할 때는 Session 객체를 만들고\n",
    "# sess를 이용해서 값을 뽑을 수 있음\n",
    "sess = tf.Session()\n",
    "print(\"sess.run(node1, node2) : \", sess.run([node1, node2]))\n",
    "print(\"sess.run(node3) : \", sess.run(node3))"
   ]
  },
  {
   "cell_type": "markdown",
   "metadata": {},
   "source": [
    "### tensorflow로 계산하는 순서\n",
    ">(1) Build graph (tensors) using TensorFlow operations\n",
    ">\n",
    ">(2) feed data and run graph (operation)\n",
    ">    sess.run(op)\n",
    ">\n",
    ">(3) update(variables in the graph (and return values)"
   ]
  },
  {
   "cell_type": "code",
   "execution_count": 17,
   "metadata": {},
   "outputs": [
    {
     "name": "stdout",
     "output_type": "stream",
     "text": [
      "7.5\n",
      "[ 3.  7.]\n"
     ]
    }
   ],
   "source": [
    "# tf.placeholder() : 빈 변수(node) 만드는 함수\n",
    "# 이 변수들로 만든 수식을 계산하여 값을 뽑을 때\n",
    "# feed_dict 옵션으로 값을 넣어서 계산 가능\n",
    "# (위 방법보다 훨씬 효율적)\n",
    "a = tf.placeholder(tf.float32)\n",
    "b = tf.placeholder(tf.float32)\n",
    "adder_node = a + b\n",
    "\n",
    "print(sess.run(adder_node, feed_dict={a:3, b:4.5}))\n",
    "print(sess.run(adder_node, feed_dict={a:[1,3], b:[2,4]}))"
   ]
  },
  {
   "cell_type": "markdown",
   "metadata": {},
   "source": [
    "### Tesnor Rank, Shapes, and Types"
   ]
  },
  {
   "cell_type": "code",
   "execution_count": 19,
   "metadata": {},
   "outputs": [],
   "source": [
    "# Rank = 0 (Scalar)\n",
    "s = 483\n",
    "# Rank = 1 (Vector)\n",
    "v = [1, 2, 3]\n",
    "# Rank = 2 (Matrix)\n",
    "m = [[1,2,3], [4,5,6]]\n",
    "# Rank = 3 (3-Tensor)\n",
    "t = [[[2],[4]], [[6],[8]]]\n",
    "# ...\n",
    "# Rank = n (n-Tensor)"
   ]
  },
  {
   "cell_type": "code",
   "execution_count": 20,
   "metadata": {},
   "outputs": [],
   "source": [
    "# Shape : 몇차원인지?\n",
    "\n",
    "# Rank = 0 (Scalar)\n",
    "s = 483 # =>  Shape = [1]\n",
    "# Rank = 1 (Vector)\n",
    "v = [1, 2, 3] # =>  Shape = [3]\n",
    "# Rank = 2 (Matrix)\n",
    "m = [[1,2,3], [4,5,6]] # =>  Shape = [2,3] \n",
    "# Rank = 3 (3-Tensor)\n",
    "t = [[[2],[4]], [[6],[8]]] # =>  Shape = [2,2,1]\n",
    "# ...\n",
    "# Rank = n (n-Tensor) # =>  Shape = [D0, D1, ..., D_n-1]"
   ]
  },
  {
   "cell_type": "code",
   "execution_count": null,
   "metadata": {},
   "outputs": [],
   "source": [
    "# Types\n",
    "# tf.float32, tf.int32를 가장 많이 사용!"
   ]
  }
 ],
 "metadata": {
  "kernelspec": {
   "display_name": "Python 3",
   "language": "python",
   "name": "python3"
  },
  "language_info": {
   "codemirror_mode": {
    "name": "ipython",
    "version": 3
   },
   "file_extension": ".py",
   "mimetype": "text/x-python",
   "name": "python",
   "nbconvert_exporter": "python",
   "pygments_lexer": "ipython3",
   "version": "3.6.3"
  }
 },
 "nbformat": 4,
 "nbformat_minor": 2
}
