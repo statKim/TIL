{
 "cells": [
  {
   "cell_type": "markdown",
   "metadata": {},
   "source": [
    "# Numpy Assignment"
   ]
  },
  {
   "cell_type": "code",
   "execution_count": 1,
   "metadata": {},
   "outputs": [],
   "source": [
    "import numpy as np"
   ]
  },
  {
   "cell_type": "markdown",
   "metadata": {},
   "source": [
    "#### n_size_ndarray_creation\n",
    "\n",
    "- Template\n",
    "\n",
    "```python\n",
    "def n_size_ndarray_creation(n, dtype=np.int):\n",
    "    X = None\n",
    "    return X\n",
    "```\n",
    "\n",
    "- 함수목적\n",
    "  - n의 제곱수로 2 dimentional array를 생성하는 ndarray.\n",
    "- Args\n",
    "  - n: 생성하고자 하는 ndarray의 row와 column의 개수\n",
    "  - dtype: 생성하려는 ndarray의 data type (np.int)\n",
    "- Returns\n",
    "  - row와 column의 길이가 n인 two dimentional ndarray로 X[0,0]은 0으로 순차적으로 X[n-1,n-1]은 n^2-1이 할당됨"
   ]
  },
  {
   "cell_type": "code",
   "execution_count": 5,
   "metadata": {},
   "outputs": [
    {
     "data": {
      "text/plain": [
       "array([[ 0,  1,  2,  3,  4,  5,  6,  7,  8],\n",
       "       [ 9, 10, 11, 12, 13, 14, 15, 16, 17],\n",
       "       [18, 19, 20, 21, 22, 23, 24, 25, 26],\n",
       "       [27, 28, 29, 30, 31, 32, 33, 34, 35],\n",
       "       [36, 37, 38, 39, 40, 41, 42, 43, 44],\n",
       "       [45, 46, 47, 48, 49, 50, 51, 52, 53],\n",
       "       [54, 55, 56, 57, 58, 59, 60, 61, 62],\n",
       "       [63, 64, 65, 66, 67, 68, 69, 70, 71],\n",
       "       [72, 73, 74, 75, 76, 77, 78, 79, 80]])"
      ]
     },
     "execution_count": 5,
     "metadata": {},
     "output_type": "execute_result"
    }
   ],
   "source": [
    "def n_size_ndarray_creation(n, dtype=np.int):\n",
    "    result = np.arange(n**2, dtype=dtype).reshape(n,n)\n",
    "    return result\n",
    "\n",
    "n_size_ndarray_creation(9)"
   ]
  },
  {
   "cell_type": "markdown",
   "metadata": {},
   "source": [
    "#### zero_or_one_or_empty_ndarray\n",
    "\n",
    "- Template\n",
    "\n",
    "```python\n",
    "def zero_or_one_or_empty_ndarray(shape, type=0, dtype=np.int):\n",
    "    X = None\n",
    "  return X\n",
    "```\n",
    "\n",
    "- 함수목적\n",
    "  - shape이 지정된 크기의 ndarray를 생성, 이때 행렬의 element는 type에 따라 0, 1 또는 empty로 생성됨.\n",
    "- Args\n",
    "  - shape: 생성할려는 ndarray의 shape\n",
    "  - type: 생성되는 element들의 값을 지정함0은 0, 1은 1, 99는 empty 타입으로 생성됨\n",
    "  - dtype: 생성하려는 ndarray의 data type (np.int)\n",
    "- Returns\n",
    "  - shape의 크기로 생성된 ndarray로 type에 따라 element의 내용이 변경됨\n",
    "- Examples\n",
    "\n",
    "```python\n",
    ">>> zero_or_one_or_empty_ndarray(shape=(2,2), type=1)\n",
    "array([[ 1,  1],\n",
    "        [ 1,  1]])\n",
    ">>> zero_or_one_or_empty_ndarray(shape=(3,3), type=99)\n",
    "#임의의수 생성\n",
    "array([[1773984320,        487, 1774114944],\n",
    "        [       487, 1947927088,          0],\n",
    "        [1947927088,          0, 1701605485]])\n",
    "```"
   ]
  },
  {
   "cell_type": "code",
   "execution_count": 50,
   "metadata": {},
   "outputs": [
    {
     "data": {
      "text/plain": [
       "array([[1, 1],\n",
       "       [1, 1]])"
      ]
     },
     "execution_count": 50,
     "metadata": {},
     "output_type": "execute_result"
    }
   ],
   "source": [
    "# 내가 짠 코드\n",
    "def zero_or_one_or_empty_ndarray(shape, type=0, dtype=np.int):\n",
    "    if type == 0:\n",
    "        result = np.zeros(shape, dtype=dtype)\n",
    "    elif type == 1:\n",
    "        result = np.ones(shape, dtype=dtype)\n",
    "    elif type == 99:\n",
    "        result = np.empty(shape, dtype=dtype)\n",
    "    return result\n",
    "\n",
    "zero_or_one_or_empty_ndarray(shape=(2,2), type=1)"
   ]
  },
  {
   "cell_type": "code",
   "execution_count": 51,
   "metadata": {},
   "outputs": [
    {
     "data": {
      "text/plain": [
       "array([[-666058536,        413,          0],\n",
       "       [         0,          0,          0],\n",
       "       [         0,          0,          0]])"
      ]
     },
     "execution_count": 51,
     "metadata": {},
     "output_type": "execute_result"
    }
   ],
   "source": [
    "zero_or_one_or_empty_ndarray(shape=(3,3), type=99)"
   ]
  },
  {
   "cell_type": "markdown",
   "metadata": {},
   "source": [
    "#### change_shape_of_ndarray\n",
    "\n",
    "- Template\n",
    "\n",
    "```python\n",
    "def change_shape_of_ndarray(X, n_row):\n",
    "    return X\n",
    "```\n",
    "\n",
    "- 함수목적\n",
    "  - 입력된 ndarray X를 n_row의 값을 row의 개수로 지정한 matrix를 반환함.\n",
    "  - 이때 입력하는 X의 size는 2의 거듭제곱수로 전제함.\n",
    "  - 만약 n_row과 1일 때는 matrix가 아닌 vector로 반환함.\n",
    "- Args\n",
    "  - X: 입력하는 ndarray\n",
    "  - n_row: 생성할려는 matrix의 row의 개수\n",
    "- Returns\n",
    "  - row의 개수가 n_row인 Matrix 또는 Vector\n",
    "  - n_row가 1이면 Vector 값으로 반환함\n",
    "- Examples\n",
    "\n",
    "```python\n",
    ">>> import numpy as np\n",
    ">>> import numpy_lab as testcode\n",
    ">>> X = np.ones((32,32), dtype=np.int)\n",
    ">>> testcode.change_shape_of_ndarray(X, 1)\n",
    "array([1, 1, 1, ..., 1, 1, 1])\n",
    ">>> testcode.change_shape_of_ndarray(X, 512)\n",
    "array([[1, 1],\n",
    "       [1, 1],\n",
    "       [1, 1],\n",
    "       ...,\n",
    "       [1, 1],\n",
    "       [1, 1],\n",
    "       [1, 1]])\n",
    "```"
   ]
  },
  {
   "cell_type": "code",
   "execution_count": 52,
   "metadata": {},
   "outputs": [
    {
     "data": {
      "text/plain": [
       "array([1, 1, 1, ..., 1, 1, 1])"
      ]
     },
     "execution_count": 52,
     "metadata": {},
     "output_type": "execute_result"
    }
   ],
   "source": [
    "# 내가 짠 코드...이상\n",
    "def change_shape_of_ndarray(X, n_row):\n",
    "    result = X.reshape(n_row, -1)\n",
    "    if n_row == 1:\n",
    "        result = result[0]\n",
    "    return result"
   ]
  },
  {
   "cell_type": "code",
   "execution_count": 237,
   "metadata": {},
   "outputs": [],
   "source": [
    "# 정답 코드\n",
    "def change_shape_of_ndarray(X, n_row):\n",
    "    result = X.flatten() if n_row == 1 else X.reshape(n_row, -1)   # flatten으로 1차원 vector로 변환\n",
    "    return result"
   ]
  },
  {
   "cell_type": "code",
   "execution_count": 231,
   "metadata": {},
   "outputs": [
    {
     "data": {
      "text/plain": [
       "array([1, 1, 1, ..., 1, 1, 1])"
      ]
     },
     "execution_count": 231,
     "metadata": {},
     "output_type": "execute_result"
    }
   ],
   "source": [
    "X = np.ones((32,32), dtype=np.int)\n",
    "change_shape_of_ndarray(X, 1)"
   ]
  },
  {
   "cell_type": "code",
   "execution_count": 232,
   "metadata": {},
   "outputs": [
    {
     "data": {
      "text/plain": [
       "array([[1, 1],\n",
       "       [1, 1],\n",
       "       [1, 1],\n",
       "       ..., \n",
       "       [1, 1],\n",
       "       [1, 1],\n",
       "       [1, 1]])"
      ]
     },
     "execution_count": 232,
     "metadata": {},
     "output_type": "execute_result"
    }
   ],
   "source": [
    "change_shape_of_ndarray(X, 512)"
   ]
  },
  {
   "cell_type": "markdown",
   "metadata": {},
   "source": [
    "#### concat_ndarray\n",
    "\n",
    "- Template\n",
    "\n",
    "```python\n",
    "def concat_ndarray(X_1, X_2, axis):\n",
    "    pass\n",
    "```\n",
    "\n",
    "- 함수목적\n",
    "  - 입력된 ndarray X_1과 X_2를 axis로 입력된 축을 기준으로 통합하여 반환하는 함수\n",
    "  - X_1과 X_2는 matrix 또는 vector 임, 그러므로 vector 일 경우도 처리할 수 가 있어야 함\n",
    "  - axis를 기준으로 통합할 때, 통합이 불가능하면 False가 반환됨.\n",
    "  - 단 X_1과 X_2 Matrix, Vector 형태로 들어왔다면, Vector를 row가 1개인 Matrix로 변환하여 통합이 가능한지 확인할 것\n",
    "- Args\n",
    "  - X_1: 입력하는 ndarray\n",
    "  - X_2: 입력하는 ndarray\n",
    "  - axis: 통합의 기준이 되는 축 0 또는 1임\n",
    "- Returns\n",
    "  - X_1과 X_2과 통합된 matrix 타입의 ndarray\n",
    "- Examples\n",
    "\n",
    "```python\n",
    ">>> import numpy as np\n",
    ">>> import numpy_lab as testcode\n",
    ">>> a = np.array([[1, 2], [3, 4]])\n",
    ">>> b = np.array([[5, 6]])\n",
    ">>> testcode.concat_ndarray(a, b, 0)\n",
    "array([[1, 2],\n",
    "       [3, 4],\n",
    "       [5, 6]])\n",
    ">>> testcode.concat_ndarray(a, b, 1)\n",
    "False\n",
    ">>> a = np.array([1, 2])\n",
    ">>> b = np.array([5, 6, 7])\n",
    ">>> testcode.concat_ndarray(a, b, 1)\n",
    "array([[1, 2, 5, 6, 7]])\n",
    ">>> testcode.concat_ndarray(a, b, 0)\n",
    "False\n",
    "```"
   ]
  },
  {
   "cell_type": "code",
   "execution_count": 75,
   "metadata": {},
   "outputs": [],
   "source": [
    "# 내가 짠 코드\n",
    "def concat_ndarray(X_1, X_2, axis):\n",
    "    if len(X_1.shape) == 1:\n",
    "        X_1 = X_1.reshape(1,-1)\n",
    "    if len(X_2.shape) == 1:\n",
    "        X_2 = X_2.reshape(1,-1)\n",
    "    if axis == 0:\n",
    "        if X_1.shape[1] == X_2.shape[1]:\n",
    "           result = np.concatenate((X_1, X_2), axis=axis)\n",
    "        else:\n",
    "            result = False\n",
    "    elif axis == 1:\n",
    "        if X_1.shape[0] == X_2.shape[0]:\n",
    "           result = np.concatenate((X_1, X_2), axis=axis)\n",
    "        else:\n",
    "            result = False\n",
    "    return result"
   ]
  },
  {
   "cell_type": "code",
   "execution_count": 238,
   "metadata": {},
   "outputs": [],
   "source": [
    "# 정답 코드\n",
    "def concat_ndarray(X_1, X_2, axis):\n",
    "    try:\n",
    "        if X_1.ndim == 1:\n",
    "            X_1 = X_1.reshape(1,-1)\n",
    "        if X_2.ndim == 1:\n",
    "            X_2 = X_2.reshape(1,-1)            \n",
    "        return np.concatenate((X_1, X_2), axis=axis)\n",
    "    except ValueError as e:\n",
    "        return False"
   ]
  },
  {
   "cell_type": "code",
   "execution_count": 76,
   "metadata": {},
   "outputs": [
    {
     "data": {
      "text/plain": [
       "array([[1, 2],\n",
       "       [3, 4],\n",
       "       [5, 6]])"
      ]
     },
     "execution_count": 76,
     "metadata": {},
     "output_type": "execute_result"
    }
   ],
   "source": [
    "a = np.array([[1, 2], [3, 4]])\n",
    "b = np.array([[5, 6]])\n",
    "\n",
    "concat_ndarray(a, b, 0)"
   ]
  },
  {
   "cell_type": "code",
   "execution_count": 77,
   "metadata": {},
   "outputs": [
    {
     "data": {
      "text/plain": [
       "False"
      ]
     },
     "execution_count": 77,
     "metadata": {},
     "output_type": "execute_result"
    }
   ],
   "source": [
    "concat_ndarray(a, b, 1)"
   ]
  },
  {
   "cell_type": "code",
   "execution_count": 78,
   "metadata": {},
   "outputs": [
    {
     "data": {
      "text/plain": [
       "array([[1, 2, 5, 6, 7]])"
      ]
     },
     "execution_count": 78,
     "metadata": {},
     "output_type": "execute_result"
    }
   ],
   "source": [
    "a = np.array([1, 2])\n",
    "b = np.array([5, 6, 7])\n",
    "\n",
    "concat_ndarray(a, b, 1)"
   ]
  },
  {
   "cell_type": "code",
   "execution_count": 79,
   "metadata": {},
   "outputs": [
    {
     "data": {
      "text/plain": [
       "False"
      ]
     },
     "execution_count": 79,
     "metadata": {},
     "output_type": "execute_result"
    }
   ],
   "source": [
    "concat_ndarray(a, b, 0)"
   ]
  },
  {
   "cell_type": "markdown",
   "metadata": {},
   "source": [
    "#### normalize_ndarray\n",
    "\n",
    "- Template\n",
    "\n",
    "```python\n",
    "def normalize_ndarray(X, axis=99, dtype=np.float32):\n",
    "    pass\n",
    "```\n",
    "\n",
    "- 함수목적\n",
    "  - 입력된 Matrix 또는 Vector를 ndarray X의 정규화된 값으로 변환하여 반환함\n",
    "  - 이때 정규화 변환 공식 `Z = (X - X의평균) / X의 표준편차`로 구성됨.\n",
    "  - X의 평균과 표준편차는 axis를 기준으로 axis 별로 산출됨.\n",
    "  - Matrix의 경우 axis가 0 또는 1일 경우, row 또는 column별로 Z value를 산출함.\n",
    "  - axis가 99일 경우 전체 값에 대한 normalize 값을 구함.\n",
    "- Args\n",
    "  - X: 입력하는 ndarray,\n",
    "  - axis: normalize를 구하는 기준이 되는 축으로 0, 1 또는 99임, 단 99는 axis 구분 없이 전체값으로 평균과 표준편차를 구함\n",
    "  - dtype: data type으로 np.float32로 구정\n",
    "- Returns\n",
    "  - 정규화된 ndarray\n",
    "- Examples\n",
    "\n",
    "```python\n",
    ">>> import numpy as np\n",
    ">>> import numpy_lab as testcode\n",
    ">>> X = np.arange(12, dtype=np.float32).reshape(6,2)\n",
    ">>> testcode.normalize_ndarray(X)\n",
    "array([[-1.59325504, -1.3035723 ],\n",
    "       [-1.01388955, -0.72420681],\n",
    "       [-0.43452409, -0.14484136],\n",
    "       [ 0.14484136,  0.43452409],\n",
    "       [ 0.72420681,  1.01388955],\n",
    "       [ 1.3035723 ,  1.59325504]], dtype=float32)\n",
    ">>> testcode.normalize_ndarray(X, 1)\n",
    "array([[-1.,  1.],\n",
    "       [-1.,  1.],\n",
    "       [-1.,  1.],\n",
    "       [-1.,  1.],\n",
    "       [-1.,  1.],\n",
    "       [-1.,  1.]], dtype=float32)\n",
    ">>> testcode.normalize_ndarray(X, 0)\n",
    "array([[-1.46385002, -1.46385002],\n",
    "       [-0.87831002, -0.87831002],\n",
    "       [-0.29277   , -0.29277   ],\n",
    "       [ 0.29277   ,  0.29277   ],\n",
    "       [ 0.87831002,  0.87831002],\n",
    "       [ 1.46385002,  1.46385002]], dtype=float32)\n",
    "```"
   ]
  },
  {
   "cell_type": "code",
   "execution_count": 128,
   "metadata": {},
   "outputs": [],
   "source": [
    "# 내가 짠 코드\n",
    "def normalize_ndarray(X, axis=99, dtype=np.float32):\n",
    "    if axis == 0:\n",
    "        mean = np.mean(X, axis=axis, dtype=dtype)\n",
    "        std = np.std(X, axis=axis, dtype=dtype)\n",
    "    elif axis == 1:\n",
    "        mean = np.mean(X, axis=axis, dtype=dtype).reshape(X.shape[0],-1)\n",
    "        std = np.std(X, axis=axis, dtype=dtype).reshape(X.shape[0],-1)    \n",
    "    elif axis == 99:\n",
    "        mean = np.mean(X, dtype=dtype)\n",
    "        std = np.std(X, dtype=dtype)\n",
    "    result = (X - mean) / std\n",
    "    return result"
   ]
  },
  {
   "cell_type": "code",
   "execution_count": 239,
   "metadata": {},
   "outputs": [
    {
     "ename": "SyntaxError",
     "evalue": "invalid syntax (<ipython-input-239-de71a150a552>, line 5)",
     "output_type": "error",
     "traceback": [
      "\u001b[1;36m  File \u001b[1;32m\"<ipython-input-239-de71a150a552>\"\u001b[1;36m, line \u001b[1;32m5\u001b[0m\n\u001b[1;33m    elif axis == 99:\u001b[0m\n\u001b[1;37m       ^\u001b[0m\n\u001b[1;31mSyntaxError\u001b[0m\u001b[1;31m:\u001b[0m invalid syntax\n"
     ]
    }
   ],
   "source": [
    "# 정답 코드\n",
    "def normalize_ndarray(X, axis=99, dtype=np.float32):\n",
    "    X = X.astype(np.float32)\n",
    "    n_row, n_column = X.shape\n",
    "    elif axis == 99:\n",
    "        mean = np.mean(X, dtype=dtype)\n",
    "        std = np.std(X, dtype=dtype)\n",
    "    if axis == 0:\n",
    "        mean = np.mean(X, axis=axis, dtype=dtype)\n",
    "        std = np.std(X, axis=axis, dtype=dtype)\n",
    "    elif axis == 1:\n",
    "        mean = np.mean(X, axis=axis, dtype=dtype).reshape(n_row,-1)\n",
    "        std = np.std(X, axis=axis, dtype=dtype).reshape(n_row,-1)        \n",
    "    Z = (X - mean) / std\n",
    "    return Z"
   ]
  },
  {
   "cell_type": "code",
   "execution_count": 91,
   "metadata": {},
   "outputs": [
    {
     "data": {
      "text/plain": [
       "array([[-1.59325504, -1.3035723 ],\n",
       "       [-1.01388955, -0.72420681],\n",
       "       [-0.43452409, -0.14484136],\n",
       "       [ 0.14484136,  0.43452409],\n",
       "       [ 0.72420681,  1.01388955],\n",
       "       [ 1.3035723 ,  1.59325504]], dtype=float32)"
      ]
     },
     "execution_count": 91,
     "metadata": {},
     "output_type": "execute_result"
    }
   ],
   "source": [
    "X = np.arange(12, dtype=np.float32).reshape(6,2)\n",
    "normalize_ndarray(X)"
   ]
  },
  {
   "cell_type": "code",
   "execution_count": 129,
   "metadata": {},
   "outputs": [
    {
     "data": {
      "text/plain": [
       "array([[-1.,  1.],\n",
       "       [-1.,  1.],\n",
       "       [-1.,  1.],\n",
       "       [-1.,  1.],\n",
       "       [-1.,  1.],\n",
       "       [-1.,  1.]], dtype=float32)"
      ]
     },
     "execution_count": 129,
     "metadata": {},
     "output_type": "execute_result"
    }
   ],
   "source": [
    "normalize_ndarray(X, 1)"
   ]
  },
  {
   "cell_type": "code",
   "execution_count": 108,
   "metadata": {},
   "outputs": [
    {
     "data": {
      "text/plain": [
       "array([[-1.46385002, -1.46385002],\n",
       "       [-0.87831002, -0.87831002],\n",
       "       [-0.29277   , -0.29277   ],\n",
       "       [ 0.29277   ,  0.29277   ],\n",
       "       [ 0.87831002,  0.87831002],\n",
       "       [ 1.46385002,  1.46385002]], dtype=float32)"
      ]
     },
     "execution_count": 108,
     "metadata": {},
     "output_type": "execute_result"
    }
   ],
   "source": [
    "normalize_ndarray(X, 0)"
   ]
  },
  {
   "cell_type": "markdown",
   "metadata": {},
   "source": [
    "#### save_ndarray\n",
    "\n",
    "- Template\n",
    "\n",
    "```python\n",
    "def save_ndarray(X, filename=\"test.npy\"):\n",
    "  pass\n",
    "```\n",
    "\n",
    "- 함수목적\n",
    "  - 입력된 ndarray X를 argument filename으로 저장함\n",
    "- Args\n",
    "  - X: 입력하는 ndarray\n",
    "  - filename: 저장할려는 파일이름\n",
    "- Examples\n",
    "\n",
    "```python\n",
    ">>> import numpy as np\n",
    ">>> import numpy_lab as testcode\n",
    ">>> X = np.arange(32, dtype=np.float32).reshape(4, -1)\n",
    ">>> filename = \"test.npy\"\n",
    ">>> testcode.save_ndarray(X, filename) #test.npy 파일이 생성됨\n",
    "```"
   ]
  },
  {
   "cell_type": "code",
   "execution_count": 131,
   "metadata": {},
   "outputs": [],
   "source": [
    "# 내가 짠 코드\n",
    "def save_ndarray(X, filename=\"test.npy\"):\n",
    "    np.savetxt(filename, X)"
   ]
  },
  {
   "cell_type": "code",
   "execution_count": 240,
   "metadata": {},
   "outputs": [],
   "source": [
    "# 정답 코드\n",
    "def save_ndarray(X, filename=\"test.npy\"):\n",
    "    file_test = open(filename, \"wb\")\n",
    "    np.savetxt(filename, X)"
   ]
  },
  {
   "cell_type": "code",
   "execution_count": 132,
   "metadata": {},
   "outputs": [],
   "source": [
    "X = np.arange(32, dtype=np.float32).reshape(4, -1)\n",
    "filename = \"test.npy\"\n",
    "save_ndarray(X, filename)   # test.npy 파일이 생성됨"
   ]
  },
  {
   "cell_type": "markdown",
   "metadata": {},
   "source": [
    "#### boolean_index\n",
    "\n",
    "- Template\n",
    "\n",
    "```python\n",
    "def boolean_index(X, condition):\n",
    "  pass\n",
    "```\n",
    "\n",
    "- 함수목적\n",
    "  - 입력된 ndarray X를 String type의 condition 정보를 바탕으로 해당 컨디션에 해당하는 ndarray X의 index 번호를 반환함\n",
    "  - 단 이때, str type의 조건인 condition을 코드로 변환하기 위해서는 `eval(str(\"X\") + condition)`를 사용할 수 있음\n",
    "- Args\n",
    "  - X: 입력하는 ndarray\n",
    "  - condition: string type의 조건 (\">3\", \"== 5\", \"< 15\")\n",
    "- Returns\n",
    "  - 조건에 만족하는 ndarray X의 index\n",
    "- Examples\n",
    "\n",
    "```python\n",
    ">>> import numpy as np\n",
    ">>> import numpy_lab as testcode\n",
    ">>> X = np.arange(32, dtype=np.float32).reshape(4, -1)\n",
    ">>> testcode.boolean_index(X, \"== 3\")\n",
    "(array([0]), array([3]))\n",
    ">>> X = np.arange(32, dtype=np.float32)\n",
    ">>> testcode.boolean_index(X, \"> 6\")\n",
    "(array([ 7,  8,  9, 10, 11, 12, 13, 14, 15, 16, 17, 18, 19, 20, 21, 22,\n",
    "        23, 24, 25, 26, 27, 28, 29, 30, 31]),)\n",
    "```"
   ]
  },
  {
   "cell_type": "code",
   "execution_count": 202,
   "metadata": {},
   "outputs": [],
   "source": [
    "# 내가 짠 코드 ...이상\n",
    "def boolean_index(X, condition):\n",
    "    result = np.where(eval(str(\"X\") + condition))\n",
    "    return result"
   ]
  },
  {
   "cell_type": "code",
   "execution_count": 241,
   "metadata": {},
   "outputs": [],
   "source": [
    "# 정답 코드\n",
    "def boolean_index(X, condition):\n",
    "    condition = eval(str(\"X\") + condition)\n",
    "    return np.where(condition)"
   ]
  },
  {
   "cell_type": "code",
   "execution_count": 203,
   "metadata": {},
   "outputs": [
    {
     "data": {
      "text/plain": [
       "(array([0], dtype=int64), array([3], dtype=int64))"
      ]
     },
     "execution_count": 203,
     "metadata": {},
     "output_type": "execute_result"
    }
   ],
   "source": [
    "X = np.arange(32, dtype=np.float32).reshape(4, -1)\n",
    "boolean_index(X, \"== 3\")"
   ]
  },
  {
   "cell_type": "code",
   "execution_count": 204,
   "metadata": {},
   "outputs": [
    {
     "data": {
      "text/plain": [
       "(array([ 7,  8,  9, 10, 11, 12, 13, 14, 15, 16, 17, 18, 19, 20, 21, 22, 23,\n",
       "        24, 25, 26, 27, 28, 29, 30, 31], dtype=int64),)"
      ]
     },
     "execution_count": 204,
     "metadata": {},
     "output_type": "execute_result"
    }
   ],
   "source": [
    "X = np.arange(32, dtype=np.float32)\n",
    "boolean_index(X, \"> 6\")"
   ]
  },
  {
   "cell_type": "markdown",
   "metadata": {},
   "source": [
    "#### find_nearest_value\n",
    "\n",
    "- Template\n",
    "\n",
    "```python\n",
    "def find_nearest_value(X, target_value):\n",
    "    pass\n",
    "```\n",
    "\n",
    "- 함수목적\n",
    "  - 입력된 vector type의 ndarray X에서 target_value와 가장 차이가 작게나는 element를 찾아 리턴함\n",
    "  - 이때 X를 list로 변경하여 처리하는 것은 실패로 간주함.\n",
    "- Args\n",
    "  - X: 입력하는 vector type의 ndarray\n",
    "  - target_value : 가장 유사한 값의 기준값이 되는 값\n",
    "- Returns\n",
    "  - target_value와 가장 유사한 값\n",
    "- Examples\n",
    "\n",
    "```python\n",
    ">>> import numpy as np\n",
    ">>> import numpy_lab as testcode\n",
    ">>> X = np.random.uniform(0, 1, 100)\n",
    ">>> target_value = 0.3\n",
    ">>> testcode.find_nearest_value(X, target_value)\n",
    "0.29260674329282488 # 출력되는 값은 random 하게 바뀜\n",
    "```"
   ]
  },
  {
   "cell_type": "code",
   "execution_count": 233,
   "metadata": {},
   "outputs": [],
   "source": [
    "# 내가 짠 코드\n",
    "def find_nearest_value(X, target_value):\n",
    "    result = X[np.argmin( abs(X - target_value) )]\n",
    "    return result"
   ]
  },
  {
   "cell_type": "code",
   "execution_count": 242,
   "metadata": {},
   "outputs": [],
   "source": [
    "# 정답 코드\n",
    "def find_nearest_value(X, target_value):\n",
    "    return X[np.argmin( np.abs(X - target_value) )]"
   ]
  },
  {
   "cell_type": "code",
   "execution_count": 214,
   "metadata": {},
   "outputs": [
    {
     "data": {
      "text/plain": [
       "0.98623529008842381"
      ]
     },
     "execution_count": 214,
     "metadata": {},
     "output_type": "execute_result"
    }
   ],
   "source": [
    "X = np.random.uniform(0, 1, 100)\n",
    "target_value = 0.3\n",
    "find_nearest_value(X, target_value)   # 출력되는 값은 random하게 바뀜"
   ]
  },
  {
   "cell_type": "markdown",
   "metadata": {},
   "source": [
    "#### get_n_largest_values\n",
    "\n",
    "- Template\n",
    "\n",
    "```python\n",
    "def get_n_largest_values(X, n):\n",
    "    pass\n",
    "```\n",
    "\n",
    "- 함수목적\n",
    "  - 입력된 vector type의 ndarray X에서 큰 숫자 순서대로 n개의 값을 반환함.\n",
    "- Args\n",
    "  - X: vector type의 ndarray\n",
    "  - n: 반환할려는 element의 개수\n",
    "- Returns\n",
    "  - ndarray X의 element중 큰 숫자 순서대로 n개 값이 반환됨 ndarray\n",
    "- Examples\n",
    "\n",
    "```python\n",
    ">>> import numpy as np\n",
    ">>> import numpy_lab_solution as t\n",
    ">>> X = np.random.uniform(0, 1, 100)\n",
    ">>> t.get_n_largest_values(X, 3)\n",
    "array([ 0.98935239,  0.98494578,  0.98317255])\n",
    ">>> t.get_n_largest_values(X, 5)\n",
    "array([ 0.98935239,  0.98494578,  0.98317255,  0.96859596,  0.96485649])\n",
    "# 출력되는 값은 random 하게 바뀜\n",
    "```"
   ]
  },
  {
   "cell_type": "code",
   "execution_count": 227,
   "metadata": {},
   "outputs": [],
   "source": [
    "# 내가 짠 코드\n",
    "def get_n_largest_values(X, n):\n",
    "    X = np.sort(X)[::-1]\n",
    "    result = X[:n]\n",
    "    return result"
   ]
  },
  {
   "cell_type": "code",
   "execution_count": 234,
   "metadata": {},
   "outputs": [],
   "source": [
    "# 정답 코드\n",
    "def get_n_largest_values(X, n):\n",
    "    return X[np.argsort(X[::-1])[:n]]"
   ]
  },
  {
   "cell_type": "code",
   "execution_count": 235,
   "metadata": {},
   "outputs": [
    {
     "data": {
      "text/plain": [
       "array([ 0.43681319,  0.72030877,  0.88486702])"
      ]
     },
     "execution_count": 235,
     "metadata": {},
     "output_type": "execute_result"
    }
   ],
   "source": [
    "X = np.random.uniform(0, 1, 100)\n",
    "get_n_largest_values(X, 3)   # 출력되는 값은 random하게 바뀜"
   ]
  },
  {
   "cell_type": "code",
   "execution_count": 236,
   "metadata": {},
   "outputs": [
    {
     "data": {
      "text/plain": [
       "array([ 0.43681319,  0.72030877,  0.88486702,  0.73058142,  0.55656019])"
      ]
     },
     "execution_count": 236,
     "metadata": {},
     "output_type": "execute_result"
    }
   ],
   "source": [
    "get_n_largest_values(X, 5)   # 출력되는 값은 random하게 바뀜"
   ]
  },
  {
   "cell_type": "code",
   "execution_count": null,
   "metadata": {},
   "outputs": [],
   "source": []
  }
 ],
 "metadata": {
  "kernelspec": {
   "display_name": "Python 3",
   "language": "python",
   "name": "python3"
  },
  "language_info": {
   "codemirror_mode": {
    "name": "ipython",
    "version": 3
   },
   "file_extension": ".py",
   "mimetype": "text/x-python",
   "name": "python",
   "nbconvert_exporter": "python",
   "pygments_lexer": "ipython3",
   "version": "3.6.3"
  }
 },
 "nbformat": 4,
 "nbformat_minor": 2
}
