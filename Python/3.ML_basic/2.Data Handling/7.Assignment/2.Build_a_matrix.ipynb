{
 "cells": [
  {
   "cell_type": "code",
   "execution_count": 1,
   "metadata": {},
   "outputs": [],
   "source": [
    "import numpy as np\n",
    "import pandas as pd"
   ]
  },
  {
   "cell_type": "code",
   "execution_count": 130,
   "metadata": {},
   "outputs": [],
   "source": [
    "def get_rating_matrix(filename, dtype=np.float32):\n",
    "    data = pd.read_csv(filename)\n",
    "    result = data.groupby([\"source\",\"target\"])[\"rating\"].sum().unstack()\n",
    "    result = result.fillna(0).values.astype(dtype)\n",
    "    return result\n",
    "#     return data.groupby([\"source\",\"target\"])[\"rating\"].sum().unstack().fillna(0).values.astype(dtype)"
   ]
  },
  {
   "cell_type": "code",
   "execution_count": 131,
   "metadata": {},
   "outputs": [
    {
     "data": {
      "text/plain": [
       "array([[ 3. ,  0. ,  3.5,  0. ,  4.5,  0. ],\n",
       "       [ 0. ,  3. ,  3.5,  0. ,  3. ,  3.5],\n",
       "       [ 0. ,  3. ,  4. ,  5. ,  3. ,  3.5],\n",
       "       [ 3. ,  2.5,  3.5,  3.5,  3. ,  2.5],\n",
       "       [ 2. ,  3. ,  4. ,  3. ,  3. ,  0. ],\n",
       "       [ 0. ,  0. ,  4.5,  4. ,  0. ,  0. ]], dtype=float32)"
      ]
     },
     "execution_count": 131,
     "metadata": {},
     "output_type": "execute_result"
    }
   ],
   "source": [
    "get_rating_matrix(\"movie_rating.csv\")"
   ]
  },
  {
   "cell_type": "code",
   "execution_count": 126,
   "metadata": {},
   "outputs": [],
   "source": [
    "def get_frequent_matrix(filename, dtype=np.float32):\n",
    "    data = pd.read_csv(filename, dtype=dtype)\n",
    "    data[\"rating\"] = 1\n",
    "    return data.groupby([\"source\", \"target\"]).sum().unstack().values.astype(dtype)"
   ]
  },
  {
   "cell_type": "code",
   "execution_count": 127,
   "metadata": {},
   "outputs": [
    {
     "data": {
      "text/plain": [
       "array([[ 19.,  17.,  14.,  11.,  17.,  25.,   7.,  22.,   5.,  18.,  10.,\n",
       "         13.,  13.,   8.,  20.,  10.,   9.,  10.,  16.,  15.,   9.,  11.,\n",
       "         17.,  15.,  14.,   8.,   6.,  12.,  18.,  12.,   6.,  18.,   9.,\n",
       "         24.,   7.,  19.,  14.,   6.,   4.,  12.,  15.,  14.,  20.,   9.,\n",
       "         12.,  16.,  11.,   9.,  11.,  12.],\n",
       "       [ 20.,  16.,  10.,  15.,  17.,  18.,  10.,  13.,   5.,  19.,   8.,\n",
       "         14.,  14.,   9.,  15.,  14.,  13.,   8.,  12.,   9.,   5.,  10.,\n",
       "         28.,  18.,   7.,   8.,   6.,  19.,  14.,  13.,  11.,  12.,  18.,\n",
       "         15.,   7.,  11.,  17.,   9.,   5.,   5.,  13.,  12.,  15.,   9.,\n",
       "         13.,  16.,  16.,  10.,  16.,   9.],\n",
       "       [ 12.,  16.,  13.,  19.,  23.,  19.,   5.,  14.,   5.,  18.,   7.,\n",
       "          6.,  14.,   8.,  20.,  17.,  14.,  11.,  16.,  12.,   7.,   9.,\n",
       "         23.,  12.,  12.,   8.,   7.,  23.,  26.,  10.,   9.,  20.,  16.,\n",
       "         11.,   4.,  19.,  12.,  12.,   5.,  10.,  10.,  14.,  10.,  17.,\n",
       "         15.,  16.,  11.,  17.,   9.,  11.],\n",
       "       [ 14.,  14.,  19.,  11.,  11.,  18.,   7.,  16.,   7.,  17.,   6.,\n",
       "         19.,  18.,  12.,  13.,  13.,  14.,   9.,  21.,  16.,   6.,   6.,\n",
       "         19.,  14.,  19.,   5.,  12.,  14.,  18.,  11.,  11.,  21.,  15.,\n",
       "         10.,  11.,  14.,  17.,  21.,   6.,  14.,   9.,  16.,  18.,  12.,\n",
       "         16.,  16.,  26.,  16.,  12.,  20.],\n",
       "       [ 13.,   7.,   8.,  15.,  13.,  16.,   3.,  19.,  11.,  12.,   7.,\n",
       "         10.,  13.,  14.,  16.,  14.,  23.,   9.,  13.,  10.,  11.,   3.,\n",
       "         11.,  14.,   9.,   6.,  11.,  16.,  18.,  11.,   5.,  14.,  10.,\n",
       "         16.,  10.,   5.,  14.,  11.,   3.,   9.,  11.,  10.,  16.,   8.,\n",
       "         13.,  20.,  14.,  18.,  21.,   3.]], dtype=float32)"
      ]
     },
     "execution_count": 127,
     "metadata": {},
     "output_type": "execute_result"
    }
   ],
   "source": [
    "get_frequent_matrix(\"1000i.csv\")"
   ]
  },
  {
   "cell_type": "code",
   "execution_count": null,
   "metadata": {},
   "outputs": [],
   "source": []
  }
 ],
 "metadata": {
  "kernelspec": {
   "display_name": "Python 3",
   "language": "python",
   "name": "python3"
  },
  "language_info": {
   "codemirror_mode": {
    "name": "ipython",
    "version": 3
   },
   "file_extension": ".py",
   "mimetype": "text/x-python",
   "name": "python",
   "nbconvert_exporter": "python",
   "pygments_lexer": "ipython3",
   "version": "3.6.3"
  }
 },
 "nbformat": 4,
 "nbformat_minor": 2
}
