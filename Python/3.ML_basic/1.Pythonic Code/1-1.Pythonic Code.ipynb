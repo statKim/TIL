{
 "cells": [
  {
   "cell_type": "markdown",
   "metadata": {},
   "source": [
    "# 1. Pythonic Code\n",
    "- 파이썬 스타일의 코딩 기법\n",
    "- 파이썬 특유의 문법을 활용하여 효율적으로 코드를 표현함\n",
    "- 고급 코드를 작성할 수록 더 많이 필요해짐\n",
    "\n",
    "\n",
    "- **Split & Join**\n",
    "- **List Comprehension**\n",
    "- **Enumerate & Zip**\n",
    "\n",
    "\n",
    "## Why Pythonic Code?\n",
    "- **남 코드에 대한 이해도**<br>\n",
    "많은 개발자들이 python 스타일로 코딩한다<br>\n",
    "\n",
    "- **효율**<br>\n",
    "단순 for loop append보다 list가 조금 더 빠르다<br>\n",
    "익숙해지면 코드도 짧아진다.<br>\n",
    "\n",
    "- **간지**<br>\n",
    "쓰면 왠지 코드 잘 짜는 거처럼 보인다"
   ]
  },
  {
   "cell_type": "markdown",
   "metadata": {},
   "source": [
    "### 일반적인 code와 Pythonic code 비교"
   ]
  },
  {
   "cell_type": "code",
   "execution_count": 21,
   "metadata": {},
   "outputs": [
    {
     "name": "stdout",
     "output_type": "stream",
     "text": [
      "abcde\n"
     ]
    }
   ],
   "source": [
    "# 일반 코드\n",
    "\n",
    "colors = [\"a\", \"b\", \"c\", \"d\", \"e\"]\n",
    "result = \"\"\n",
    "\n",
    "for s in colors:\n",
    "    result += s\n",
    "\n",
    "print(result)"
   ]
  },
  {
   "cell_type": "code",
   "execution_count": 22,
   "metadata": {},
   "outputs": [
    {
     "name": "stdout",
     "output_type": "stream",
     "text": [
      "redbluegreenyellow\n"
     ]
    }
   ],
   "source": [
    "# pythonic code\n",
    "\n",
    "colors = [\"red\", \"blue\", \"green\", \"yellow\"]\n",
    "result = \"\".join(colors)\n",
    "\n",
    "print(result)"
   ]
  },
  {
   "cell_type": "markdown",
   "metadata": {},
   "source": [
    "## Split & Join"
   ]
  },
  {
   "cell_type": "markdown",
   "metadata": {},
   "source": [
    "### Split\n",
    "- String Type의 값을 나눠서 List 형태로 변환"
   ]
  },
  {
   "cell_type": "code",
   "execution_count": 1,
   "metadata": {},
   "outputs": [
    {
     "data": {
      "text/plain": [
       "['zero', 'one', 'two', 'three']"
      ]
     },
     "execution_count": 1,
     "metadata": {},
     "output_type": "execute_result"
    }
   ],
   "source": [
    "items = 'zero one two three'.split() # 빈칸을 기준으로 문자열 나누기\n",
    "items"
   ]
  },
  {
   "cell_type": "code",
   "execution_count": 2,
   "metadata": {},
   "outputs": [
    {
     "data": {
      "text/plain": [
       "['python', 'jquery', 'javascript']"
      ]
     },
     "execution_count": 2,
     "metadata": {},
     "output_type": "execute_result"
    }
   ],
   "source": [
    "example = 'python,jquery,javascript' # \",\"을 기준으로 문자열 나누기\n",
    "example.split(\",\")"
   ]
  },
  {
   "cell_type": "code",
   "execution_count": 3,
   "metadata": {},
   "outputs": [
    {
     "name": "stdout",
     "output_type": "stream",
     "text": [
      "python\n",
      "jquery\n",
      "javascript\n"
     ]
    }
   ],
   "source": [
    "# 리스트에 있는 각 값을 a,b,c 변수로 unpacking\n",
    "a, b, c = example.split(\",\")\n",
    "print(a)\n",
    "print(b)\n",
    "print(c)"
   ]
  },
  {
   "cell_type": "code",
   "execution_count": 5,
   "metadata": {},
   "outputs": [
    {
     "name": "stdout",
     "output_type": "stream",
     "text": [
      "cs50\n",
      "gachon\n",
      "edu\n"
     ]
    }
   ],
   "source": [
    "example = 'cs50.gachon.edu'\n",
    "# \".\"을 기준으로 문자열 나누기 → Unpacking\n",
    "subdomain, domain, tld = example.split('.')\n",
    "print(subdomain)\n",
    "print(domain)\n",
    "print(tld)"
   ]
  },
  {
   "cell_type": "markdown",
   "metadata": {},
   "source": [
    "### Join\n",
    "- String List를 합쳐 하나의 String으로 반환할 때 사용"
   ]
  },
  {
   "cell_type": "code",
   "execution_count": 6,
   "metadata": {},
   "outputs": [
    {
     "data": {
      "text/plain": [
       "'redbluegreenyellow'"
      ]
     },
     "execution_count": 6,
     "metadata": {},
     "output_type": "execute_result"
    }
   ],
   "source": [
    "colors = ['red', 'blue', 'green', 'yellow']\n",
    "result = ''.join(colors)\n",
    "result"
   ]
  },
  {
   "cell_type": "code",
   "execution_count": 7,
   "metadata": {},
   "outputs": [
    {
     "data": {
      "text/plain": [
       "'red blue green yellow'"
      ]
     },
     "execution_count": 7,
     "metadata": {},
     "output_type": "execute_result"
    }
   ],
   "source": [
    "result = ' '.join(colors) # 연결 시 빈칸 1칸으로 연결\n",
    "result"
   ]
  },
  {
   "cell_type": "code",
   "execution_count": 8,
   "metadata": {},
   "outputs": [
    {
     "data": {
      "text/plain": [
       "'red, blue, green, yellow'"
      ]
     },
     "execution_count": 8,
     "metadata": {},
     "output_type": "execute_result"
    }
   ],
   "source": [
    "result = ', '.join(colors) # 연결 시 \", \"으로 연결\n",
    "result"
   ]
  },
  {
   "cell_type": "code",
   "execution_count": 9,
   "metadata": {},
   "outputs": [
    {
     "data": {
      "text/plain": [
       "'red-blue-green-yellow'"
      ]
     },
     "execution_count": 9,
     "metadata": {},
     "output_type": "execute_result"
    }
   ],
   "source": [
    "result = '-'.join(colors) # 연결 시 \"-\"으로 연결\n",
    "result"
   ]
  },
  {
   "cell_type": "markdown",
   "metadata": {},
   "source": [
    "## List Comprehensions\n",
    "- 기존 List 사용하여 간단히 다른 List를 만드는 기법\n",
    "- 포괄적인 List, 포함되는 리스트라는 의미로 사용됨\n",
    "- 파이썬에서 가장 많이 사용되는 기법 중 하나\n",
    "- 일반적으로 for + append 보다 속도가 빠름"
   ]
  },
  {
   "cell_type": "code",
   "execution_count": 1,
   "metadata": {},
   "outputs": [
    {
     "data": {
      "text/plain": [
       "[0, 1, 2, 3, 4, 5, 6, 7, 8, 9]"
      ]
     },
     "execution_count": 1,
     "metadata": {},
     "output_type": "execute_result"
    }
   ],
   "source": [
    "# general style\n",
    "result = []\n",
    "for i in range(10):\n",
    "    result.append(i)\n",
    "result"
   ]
  },
  {
   "cell_type": "code",
   "execution_count": 2,
   "metadata": {},
   "outputs": [
    {
     "data": {
      "text/plain": [
       "[0, 1, 2, 3, 4, 5, 6, 7, 8, 9]"
      ]
     },
     "execution_count": 2,
     "metadata": {},
     "output_type": "execute_result"
    }
   ],
   "source": [
    "# list comprehension\n",
    "result = [i for i in range(10)]\n",
    "result"
   ]
  },
  {
   "cell_type": "code",
   "execution_count": 3,
   "metadata": {},
   "outputs": [
    {
     "data": {
      "text/plain": [
       "[0, 2, 4, 6, 8]"
      ]
     },
     "execution_count": 3,
     "metadata": {},
     "output_type": "execute_result"
    }
   ],
   "source": [
    "# list comprehesnion with filter\n",
    "result = [i for i in range(10) if i % 2 == 0]\n",
    "result"
   ]
  },
  {
   "cell_type": "code",
   "execution_count": 4,
   "metadata": {},
   "outputs": [
    {
     "data": {
      "text/plain": [
       "['HW',\n",
       " 'Ho',\n",
       " 'Hr',\n",
       " 'Hl',\n",
       " 'Hd',\n",
       " 'eW',\n",
       " 'eo',\n",
       " 'er',\n",
       " 'el',\n",
       " 'ed',\n",
       " 'lW',\n",
       " 'lo',\n",
       " 'lr',\n",
       " 'll',\n",
       " 'ld',\n",
       " 'lW',\n",
       " 'lo',\n",
       " 'lr',\n",
       " 'll',\n",
       " 'ld',\n",
       " 'oW',\n",
       " 'oo',\n",
       " 'or',\n",
       " 'ol',\n",
       " 'od']"
      ]
     },
     "execution_count": 4,
     "metadata": {},
     "output_type": "execute_result"
    }
   ],
   "source": [
    "# Nested For loop\n",
    "word_1 = \"Hello\"\n",
    "word_2 = \"World\"\n",
    "\n",
    "result = [i+j for i in word_1 for j in word_2]\n",
    "result"
   ]
  },
  {
   "cell_type": "code",
   "execution_count": 5,
   "metadata": {},
   "outputs": [
    {
     "data": {
      "text/plain": [
       "['AD', 'AE', 'AA', 'BD', 'BE', 'BA', 'CD', 'CE', 'CA']"
      ]
     },
     "execution_count": 5,
     "metadata": {},
     "output_type": "execute_result"
    }
   ],
   "source": [
    "case_1 = [\"A\",\"B\",\"C\"]\n",
    "case_2 = [\"D\",\"E\",\"A\"]\n",
    "result = [i+j for i in case_1 for j in case_2]\n",
    "result"
   ]
  },
  {
   "cell_type": "code",
   "execution_count": 23,
   "metadata": {},
   "outputs": [
    {
     "name": "stdout",
     "output_type": "stream",
     "text": [
      "['AD', 'AE', 'BD', 'BE', 'BA', 'CD', 'CE', 'CA']\n",
      "['AD', 'AE', 'BA', 'BD', 'BE', 'CA', 'CD', 'CE']\n"
     ]
    }
   ],
   "source": [
    "result = [i+j for i in case_1 for j in case_2 if not(i==j)]\n",
    "# Filter: i랑 j과 같다면 List에 추가하지 않음\n",
    "print(result)\n",
    "result.sort()\n",
    "print(result)"
   ]
  },
  {
   "cell_type": "code",
   "execution_count": 11,
   "metadata": {},
   "outputs": [
    {
     "name": "stdout",
     "output_type": "stream",
     "text": [
      "['The', 'quick', 'brown', 'fox', 'jumps', 'over', 'the', 'lazy', 'dog']\n",
      "['THE', 'the', 3]\n",
      "['QUICK', 'quick', 5]\n",
      "['BROWN', 'brown', 5]\n",
      "['FOX', 'fox', 3]\n",
      "['JUMPS', 'jumps', 5]\n",
      "['OVER', 'over', 4]\n",
      "['THE', 'the', 3]\n",
      "['LAZY', 'lazy', 4]\n",
      "['DOG', 'dog', 3]\n"
     ]
    }
   ],
   "source": [
    "words = 'The quick brown fox jumps over the lazy dog'.split()\n",
    "# 문장을 빈칸 기준으로 나눠 list로 변환\n",
    "print(words)\n",
    "\n",
    "# Nested List Comprehension\n",
    "stuff = [[w.upper(), w.lower(), len(w)] for w in words]\n",
    "# list의 각 elemente들을 대문자, 소문자, 길이로 변환하여 two dimensional list로 변환\n",
    "for i in stuff:\n",
    "    print(i)"
   ]
  },
  {
   "cell_type": "code",
   "execution_count": 12,
   "metadata": {},
   "outputs": [
    {
     "data": {
      "text/plain": [
       "['AD', 'AE', 'AA', 'BD', 'BE', 'BA', 'CD', 'CE', 'CA']"
      ]
     },
     "execution_count": 12,
     "metadata": {},
     "output_type": "execute_result"
    }
   ],
   "source": [
    "# Two dimensional VS One dimensional\n",
    "case_1 = [\"A\",\"B\",\"C\"]\n",
    "case_2 = [\"D\",\"E\",\"A\"]\n",
    "result = [i+j for i in case_1 for j in case_2]\n",
    "result"
   ]
  },
  {
   "cell_type": "code",
   "execution_count": 13,
   "metadata": {},
   "outputs": [
    {
     "data": {
      "text/plain": [
       "[['AD', 'BD', 'CD'], ['AE', 'BE', 'CE'], ['AA', 'BA', 'CA']]"
      ]
     },
     "execution_count": 13,
     "metadata": {},
     "output_type": "execute_result"
    }
   ],
   "source": [
    "result = [ [i+j for i in case_1] for j in case_2]\n",
    "result"
   ]
  },
  {
   "cell_type": "markdown",
   "metadata": {},
   "source": [
    "## Enumerate & Zip"
   ]
  },
  {
   "cell_type": "markdown",
   "metadata": {},
   "source": [
    "### Enumerate\n",
    "- List의 element를 추출할 때 번호를 붙여서 추출"
   ]
  },
  {
   "cell_type": "code",
   "execution_count": 14,
   "metadata": {},
   "outputs": [
    {
     "name": "stdout",
     "output_type": "stream",
     "text": [
      "0 tic\n",
      "1 tac\n",
      "2 toe\n"
     ]
    }
   ],
   "source": [
    "for i, v in enumerate(['tic', 'tac', 'toe']):\n",
    "    # list의 있는 index와 값을 unpacking\n",
    "    print(i, v)"
   ]
  },
  {
   "cell_type": "code",
   "execution_count": 15,
   "metadata": {},
   "outputs": [
    {
     "data": {
      "text/plain": [
       "[(0, 'a'), (1, 'b'), (2, 'c'), (3, 'd')]"
      ]
     },
     "execution_count": 15,
     "metadata": {},
     "output_type": "execute_result"
    }
   ],
   "source": [
    "# enumerate한 값의 형태는 tuple\n",
    "mylist = [\"a\",\"b\",\"c\",\"d\"]\n",
    "list(enumerate(mylist)) # list의 있는 index와 값을 unpacking하여 list로 저장"
   ]
  },
  {
   "cell_type": "code",
   "execution_count": 17,
   "metadata": {},
   "outputs": [
    {
     "data": {
      "text/plain": [
       "{0: 'Gachon',\n",
       " 1: 'University',\n",
       " 2: 'is',\n",
       " 3: 'an',\n",
       " 4: 'academic',\n",
       " 5: 'institute',\n",
       " 6: 'located',\n",
       " 7: 'in',\n",
       " 8: 'South',\n",
       " 9: 'Korea.'}"
      ]
     },
     "execution_count": 17,
     "metadata": {},
     "output_type": "execute_result"
    }
   ],
   "source": [
    "# 문장을 list로 만들고 list의 index와 값을 unpacking하여 dict로 저장\n",
    "{i:j for i,j in enumerate('Gachon University is an academic institute located in South Korea.'.split())}"
   ]
  },
  {
   "cell_type": "markdown",
   "metadata": {},
   "source": [
    "### Zip\n",
    "- 두 개의 list의 값을 병렬적으로 추출함"
   ]
  },
  {
   "cell_type": "code",
   "execution_count": 18,
   "metadata": {},
   "outputs": [
    {
     "name": "stdout",
     "output_type": "stream",
     "text": [
      "a1 b1\n",
      "a2 b2\n",
      "a3 b3\n"
     ]
    }
   ],
   "source": [
    "alist = ['a1', 'a2', 'a3']\n",
    "blist = ['b1', 'b2', 'b3']\n",
    "for a, b in zip(alist, blist): # 병렬적으로 값을 추출\n",
    "    print(a,b)"
   ]
  },
  {
   "cell_type": "code",
   "execution_count": 19,
   "metadata": {},
   "outputs": [
    {
     "data": {
      "text/plain": [
       "[111, 222, 333]"
      ]
     },
     "execution_count": 19,
     "metadata": {},
     "output_type": "execute_result"
    }
   ],
   "source": [
    "a, b, c = zip((1,2,3), (10,20,30), (100,200,300)) #각 tuple의 같은 index끼리 묶음\n",
    "\n",
    "# 각 Tuple 같은 index를 묶어 합을 list로 변환\n",
    "[sum(x) for x in zip((1,2,3), (10,20,30), (100,200,300))]"
   ]
  },
  {
   "cell_type": "code",
   "execution_count": 20,
   "metadata": {},
   "outputs": [
    {
     "name": "stdout",
     "output_type": "stream",
     "text": [
      "0 a1 b1\n",
      "1 a2 b2\n",
      "2 a3 b3\n"
     ]
    }
   ],
   "source": [
    "alist = ['a1', 'a2', 'a3']\n",
    "blist = ['b1', 'b2', 'b3']\n",
    "\n",
    "for i, (a, b) in enumerate(zip(alist, blist)):\n",
    "    print(i, a, b) # index alist[index] blist[index] 표시"
   ]
  },
  {
   "cell_type": "markdown",
   "metadata": {},
   "source": [
    "## Lambda & MapReduce"
   ]
  },
  {
   "cell_type": "markdown",
   "metadata": {},
   "source": [
    "### Lambda\n",
    "- 함수 이름 없이, 함수처럼 쓸 수 있는 익명함수\n",
    "- 수학의 람다 대수에서 유래함\n",
    "\n",
    "- Python 3부터는 권장하지는 않으나 여전히 많이 쓰임"
   ]
  },
  {
   "cell_type": "code",
   "execution_count": 24,
   "metadata": {},
   "outputs": [
    {
     "name": "stdout",
     "output_type": "stream",
     "text": [
      "5\n",
      "5\n"
     ]
    }
   ],
   "source": [
    "# general function\n",
    "def f(x, y):\n",
    "    return x + y\n",
    "print(f(1, 4))\n",
    "\n",
    "# lambda function\n",
    "f = lambda x, y: x + y\n",
    "print(f(1, 4))"
   ]
  },
  {
   "cell_type": "code",
   "execution_count": 25,
   "metadata": {},
   "outputs": [
    {
     "name": "stdout",
     "output_type": "stream",
     "text": [
      "9\n",
      "1.5\n",
      "6\n"
     ]
    }
   ],
   "source": [
    "f = lambda x: x ** 2\n",
    "print(f(3))\n",
    "\n",
    "f = lambda x: x / 2\n",
    "print(f(3))\n",
    "\n",
    "print((lambda x: x + 1)(5)) # 만듬과 동시에 함수 적용 가능"
   ]
  },
  {
   "cell_type": "markdown",
   "metadata": {},
   "source": [
    "### Map & Reduce\n",
    "- Lambda, map, reduce는 간단한 코드로 다양한 기능을 제공\n",
    "- 그러나 코드의 직관성이 떨어져서 lambda나 reduce는 python3에서 사용을 권장하지 않음\n",
    "- Legacy library나 다양한 머신러닝 코드에서 여전히 사용중"
   ]
  },
  {
   "cell_type": "markdown",
   "metadata": {},
   "source": [
    "### Map function\n",
    "- Sequence 자료형 각 element에 동일한 function을 적용함\n",
    "- 두 개 이상의 list에도 적용 가능함, if filter도 사용가능\n",
    "- python3는 iteration을 생성 -> list을 붙여줘야 list 사용가능\n",
    "- 실행시점의 값을 생성, 메모리 효율적\n"
   ]
  },
  {
   "cell_type": "code",
   "execution_count": 26,
   "metadata": {},
   "outputs": [
    {
     "name": "stdout",
     "output_type": "stream",
     "text": [
      "5\n",
      "5\n"
     ]
    }
   ],
   "source": [
    "# Map\n",
    "\n",
    "def f(x, y):\n",
    "    return x + y\n",
    "print(f(1, 4))\n",
    "\n",
    "f = lambda x, y: x+y\n",
    "print(f(1, 4))"
   ]
  },
  {
   "cell_type": "code",
   "execution_count": 28,
   "metadata": {},
   "outputs": [
    {
     "name": "stdout",
     "output_type": "stream",
     "text": [
      "[1, 4, 9, 16, 25]\n",
      "<map object at 0x000001972DE12860>\n"
     ]
    }
   ],
   "source": [
    "ex = [1, 2, 3, 4, 5]\n",
    "f = lambda x: x ** 2\n",
    "print(list(map(f, ex)))"
   ]
  },
  {
   "cell_type": "code",
   "execution_count": 29,
   "metadata": {},
   "outputs": [
    {
     "name": "stdout",
     "output_type": "stream",
     "text": [
      "[2, 4, 6, 8, 10]\n"
     ]
    },
    {
     "data": {
      "text/plain": [
       "[1, 4, 3, 16, 5]"
      ]
     },
     "execution_count": 29,
     "metadata": {},
     "output_type": "execute_result"
    }
   ],
   "source": [
    "ex = [1, 2, 3, 4, 5]\n",
    "f = lambda x, y: x + y\n",
    "print(list(map(f, ex, ex)))\n",
    "\n",
    "list(map(\n",
    "    lambda x: x ** 2 if x % 2 == 0 else x, # x가 2의배수이면 제곱, 아니면 원래 값\n",
    "    ex))"
   ]
  },
  {
   "cell_type": "code",
   "execution_count": 30,
   "metadata": {},
   "outputs": [
    {
     "name": "stdout",
     "output_type": "stream",
     "text": [
      "[2, 4, 6, 8, 10]\n",
      "<map object at 0x000001972DE12748>\n"
     ]
    }
   ],
   "source": [
    "# python 3에는 list를 꼭 붙여줘야함\n",
    "ex = [1,2,3,4,5]\n",
    "print(list(map(lambda x: x+x, ex)))\n",
    "print((map(lambda x: x+x, ex)))"
   ]
  },
  {
   "cell_type": "code",
   "execution_count": 31,
   "metadata": {},
   "outputs": [
    {
     "name": "stdout",
     "output_type": "stream",
     "text": [
      "<map object at 0x000001972DE46AC8>\n",
      "1\n",
      "4\n",
      "9\n",
      "16\n",
      "25\n"
     ]
    }
   ],
   "source": [
    "# map의 각 원소를 뽑기 위해서는 for문 이용\n",
    "f = lambda x: x ** 2\n",
    "print(map(f, ex))\n",
    "for i in map(f, ex):\n",
    "    print(i)"
   ]
  },
  {
   "cell_type": "code",
   "execution_count": 40,
   "metadata": {},
   "outputs": [
    {
     "name": "stdout",
     "output_type": "stream",
     "text": [
      "<map object at 0x000001972DE5DC50>\n",
      "1\n"
     ]
    }
   ],
   "source": [
    "result = map(f, ex)\n",
    "print(result)\n",
    "print(next(result))"
   ]
  },
  {
   "cell_type": "code",
   "execution_count": 41,
   "metadata": {},
   "outputs": [
    {
     "name": "stdout",
     "output_type": "stream",
     "text": [
      "104\n",
      "56\n",
      "128\n"
     ]
    }
   ],
   "source": [
    "# sys.getsizeof() : 객체의 메모리 사이즈를 바이트 단위로 반환\n",
    "import sys\n",
    "print( sys.getsizeof(ex) ) # [1, 2, 3, 4, 5]의 메모리 사이즈\n",
    "print( sys.getsizeof(map(lambda x: x+x, ex)) ) # <map at 0x1972de12400>의 메모리 사이즈\n",
    "print( sys.getsizeof(list(map(lambda x: x+x, ex))) ) # [2, 4, 6, 8, 10]의 메모리 사이즈\n",
    "\n",
    "# list보다 map의 메모리가 더 작음!!"
   ]
  },
  {
   "cell_type": "markdown",
   "metadata": {},
   "source": [
    "### Reduce function\n",
    "- map function과 달리 list에 똑같은 함수를 적용해서 통합"
   ]
  },
  {
   "cell_type": "code",
   "execution_count": 33,
   "metadata": {},
   "outputs": [
    {
     "name": "stdout",
     "output_type": "stream",
     "text": [
      "15\n"
     ]
    }
   ],
   "source": [
    "# Reduce\n",
    "from functools import reduce\n",
    "print( reduce(lambda x, y: x+y, [1, 2, 3, 4, 5]) ) # 리스트의 각 원소를 순서대로 적용시킴"
   ]
  },
  {
   "cell_type": "code",
   "execution_count": 34,
   "metadata": {},
   "outputs": [
    {
     "data": {
      "text/plain": [
       "120"
      ]
     },
     "execution_count": 34,
     "metadata": {},
     "output_type": "execute_result"
    }
   ],
   "source": [
    "# Reduce function의 Example(factorial)\n",
    "def factorial(n):\n",
    "    return reduce(\n",
    "            lambda x, y: x*y, range(1, n+1))\n",
    "\n",
    "factorial(5)"
   ]
  },
  {
   "cell_type": "markdown",
   "metadata": {},
   "source": [
    "## Asterisk\n",
    "- 흔히 알고 있는 * 를 의미함\n",
    "- 단순 곱셈, 제곱연산, **가변 인자** 활용 등 다양하게 사용됨"
   ]
  },
  {
   "cell_type": "code",
   "execution_count": 2,
   "metadata": {},
   "outputs": [
    {
     "name": "stdout",
     "output_type": "stream",
     "text": [
      "1 (2, 3, 4, 5, 6)\n",
      "<class 'tuple'>\n"
     ]
    }
   ],
   "source": [
    "# *args: 첫 argument를 제외한 나머지를 한 번에 받음(tuple 형태)\n",
    "def asterisk_test(a, *args):\n",
    "    print(a, args)\n",
    "    print(type(args))\n",
    "    \n",
    "asterisk_test(1,2,3,4,5,6)"
   ]
  },
  {
   "cell_type": "code",
   "execution_count": 3,
   "metadata": {},
   "outputs": [
    {
     "name": "stdout",
     "output_type": "stream",
     "text": [
      "1 {'b': 2, 'c': 3, 'd': 4, 'e': 5, 'f': 6}\n",
      "<class 'dict'>\n"
     ]
    }
   ],
   "source": [
    "# **kargs: 첫 argument를 제외한 나머지를 한 번 에 받음(dict 형태)\n",
    "def asterisk_test(a, **kargs):\n",
    "    print(a, kargs)\n",
    "    print(type(kargs))\n",
    "    \n",
    "asterisk_test(1, b=2, c=3, d=4, e=5, f=6) # key와 value로 지정한 겨우!!"
   ]
  },
  {
   "cell_type": "markdown",
   "metadata": {},
   "source": [
    "### Asterisk – unpacking a container\n",
    "- tuple, dict 등 자료형에 들어가 있는 값을 unpacking\n",
    "- 함수의 입력값, zip 등에 유용하게 사용가능\n",
    "> **unpacking**이란?\n",
    "> - 배열로 묶여있는 값들을 풀어버리는 것\n",
    "> - ex) [1,2,3,4,5] 를 unpacking => 1,2,3,4,5"
   ]
  },
  {
   "cell_type": "code",
   "execution_count": 10,
   "metadata": {},
   "outputs": [
    {
     "name": "stdout",
     "output_type": "stream",
     "text": [
      "1 (2, 3, 4, 5, 6)\n",
      "<class 'tuple'>\n",
      "1 ((2, 3, 4, 5, 6),)\n",
      "<class 'tuple'>\n"
     ]
    }
   ],
   "source": [
    "# unpacking한 값을 받아와서 다시 tuple 형태로 묶음!!\n",
    "def asterisk_test(a, *args):\n",
    "    print(a, args)\n",
    "    print(type(args))\n",
    "    \n",
    "asterisk_test(1, *(2,3,4,5,6))\n",
    "asterisk_test(1, (2,3,4,5,6))  # unpacking하지 않을 경우 (2,3,4,5,6)이 하나의 argument로 적용, two dimensional tuple이 됨"
   ]
  },
  {
   "cell_type": "code",
   "execution_count": 11,
   "metadata": {},
   "outputs": [
    {
     "name": "stdout",
     "output_type": "stream",
     "text": [
      "1 2 3 4 5 6\n",
      "<class 'tuple'>\n"
     ]
    }
   ],
   "source": [
    "def asterisk_test(a, args):\n",
    "    print(a, *args)  # 그대로 들어온 argument인 (2,3,4,5,6)을 unpacking\n",
    "    print(type(args))\n",
    "    \n",
    "asterisk_test(1, (2,3,4,5,6))"
   ]
  },
  {
   "cell_type": "code",
   "execution_count": 12,
   "metadata": {},
   "outputs": [
    {
     "name": "stdout",
     "output_type": "stream",
     "text": [
      "[1, 2] [3, 4] [5, 6]\n",
      "[1, 2] [3, 4] [5, 6]\n"
     ]
    }
   ],
   "source": [
    "# asterisk를 사용하여 간단히 unpacking\n",
    "a, b, c = ([1, 2], [3, 4], [5, 6])\n",
    "print(a, b, c)\n",
    "\n",
    "data = ([1, 2], [3, 4], [5, 6])\n",
    "print(*data)"
   ]
  },
  {
   "cell_type": "code",
   "execution_count": 14,
   "metadata": {},
   "outputs": [
    {
     "name": "stdout",
     "output_type": "stream",
     "text": [
      "10 1 2 3\n"
     ]
    }
   ],
   "source": [
    "def asterisk_test(a, b, c, d):\n",
    "    print(a, b, c, d)\n",
    "\n",
    "data = {\"b\":1 , \"c\":2, \"d\":3}\n",
    "asterisk_test(10, **data)"
   ]
  },
  {
   "cell_type": "code",
   "execution_count": 15,
   "metadata": {},
   "outputs": [
    {
     "name": "stdout",
     "output_type": "stream",
     "text": [
      "(1, 3, 5)\n",
      "(2, 4, 6)\n"
     ]
    }
   ],
   "source": [
    "for data in zip(*([1, 2], [3, 4], [5, 6])):\n",
    "    print(data)"
   ]
  },
  {
   "cell_type": "markdown",
   "metadata": {},
   "source": [
    "## Linear algebra codes\n",
    "\n",
    "### Vector"
   ]
  },
  {
   "cell_type": "code",
   "execution_count": 51,
   "metadata": {},
   "outputs": [
    {
     "name": "stdout",
     "output_type": "stream",
     "text": [
      "[1, 2, 10] (1, 2, 10) {'x': 1, 'y': 1, 'z': 10}\n"
     ]
    }
   ],
   "source": [
    "vector_a = [1, 2, 10] # List로 표현했을 경우\n",
    "vector_b= (1, 2, 10) # Tuple로 표현했을 경우\n",
    "vector_c = {'x': 1, 'y': 1, 'z': 10} # dict 표현했을 경우\n",
    "\n",
    "print(vector_a, vector_b, vector_c) "
   ]
  },
  {
   "cell_type": "code",
   "execution_count": 52,
   "metadata": {},
   "outputs": [
    {
     "name": "stdout",
     "output_type": "stream",
     "text": [
      "[(2, 2, 3), (2, 3, 5)]\n"
     ]
    }
   ],
   "source": [
    "u = [2, 2]\n",
    "v = [2, 3]\n",
    "z = [3, 5]\n",
    "\n",
    "result = [t for t in zip(u, v, z)]\n",
    "print (result)"
   ]
  },
  {
   "cell_type": "code",
   "execution_count": 53,
   "metadata": {},
   "outputs": [
    {
     "name": "stdout",
     "output_type": "stream",
     "text": [
      "[10, 12, 14]\n"
     ]
    }
   ],
   "source": [
    "# Vector의 연산\n",
    "u = [1, 2, 3]\n",
    "v = [4, 4, 4]\n",
    "alpha = 2\n",
    "result = [2*sum(t) for t in zip(u, v)]\n",
    "print(result)"
   ]
  },
  {
   "cell_type": "markdown",
   "metadata": {},
   "source": [
    "### Matrix"
   ]
  },
  {
   "cell_type": "code",
   "execution_count": 54,
   "metadata": {},
   "outputs": [
    {
     "name": "stdout",
     "output_type": "stream",
     "text": [
      "[[8, 14], [10, 12]]\n"
     ]
    }
   ],
   "source": [
    "# matrix의 합\n",
    "matrix_a = [[3, 6], [4, 5]]\n",
    "matrix_b = [[5, 8], [6, 7]]\n",
    "result = [[sum(row) for row in zip(*t)]\n",
    "          for t in zip(matrix_a, matrix_b)]\n",
    "\n",
    "print(result)"
   ]
  },
  {
   "cell_type": "code",
   "execution_count": 55,
   "metadata": {},
   "outputs": [
    {
     "name": "stdout",
     "output_type": "stream",
     "text": [
      "[[12, 24], [16, 20]]\n"
     ]
    }
   ],
   "source": [
    "# matrix의 scalar곱\n",
    "matrix_a = [[3, 6], [4, 5]]\n",
    "alpha = 4\n",
    "result = [[alpha * element for element in t] for t in matrix_a]\n",
    "\n",
    "print(result)"
   ]
  },
  {
   "cell_type": "code",
   "execution_count": 61,
   "metadata": {},
   "outputs": [
    {
     "name": "stdout",
     "output_type": "stream",
     "text": [
      "[(1, 4), (2, 5), (3, 6)]\n",
      "[[1, 4], [2, 5], [3, 6]]\n"
     ]
    }
   ],
   "source": [
    "# transpose\n",
    "matrix_a = [[1, 2, 3], [4, 5, 6]]\n",
    "result = [[element for element in t] for t in zip(*matrix_a)]\n",
    "\n",
    "print( [t for t in zip(*matrix_a)] )\n",
    "print(result)"
   ]
  },
  {
   "cell_type": "code",
   "execution_count": 62,
   "metadata": {},
   "outputs": [
    {
     "name": "stdout",
     "output_type": "stream",
     "text": [
      "[[5, 8], [5, 6]]\n"
     ]
    }
   ],
   "source": [
    "# matrix multiplication\n",
    "matrix_a = [[1, 1, 2], [2, 1, 1]]\n",
    "matrix_b = [[1, 1], [2, 1], [1, 3]]\n",
    "result = [[sum(a * b for a, b in zip(row_a, column_b))\n",
    "          for column_b in zip(*matrix_b)] for row_a in matrix_a]\n",
    "print(result)"
   ]
  },
  {
   "cell_type": "code",
   "execution_count": null,
   "metadata": {},
   "outputs": [],
   "source": []
  }
 ],
 "metadata": {
  "kernelspec": {
   "display_name": "Python 3",
   "language": "python",
   "name": "python3"
  },
  "language_info": {
   "codemirror_mode": {
    "name": "ipython",
    "version": 3
   },
   "file_extension": ".py",
   "mimetype": "text/x-python",
   "name": "python",
   "nbconvert_exporter": "python",
   "pygments_lexer": "ipython3",
   "version": "3.6.3"
  }
 },
 "nbformat": 4,
 "nbformat_minor": 2
}
