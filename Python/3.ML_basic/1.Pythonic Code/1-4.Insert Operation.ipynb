{
 "cells": [
  {
   "cell_type": "markdown",
   "metadata": {},
   "source": [
    "# Insert Operation\n",
    "[**Baekjoon - 연산자 끼워넣기**](https://www.acmicpc.net/problem/14888)"
   ]
  },
  {
   "cell_type": "code",
   "execution_count": 22,
   "metadata": {},
   "outputs": [],
   "source": [
    "import itertools  # permutation(순열) 구하는 함수 포함되어있는 모듈\n",
    "from functools import reduce\n",
    "import sys\n",
    "import time\n",
    "\n",
    "def insert_operation(length, input_num, input_oper):\n",
    "    ops = {\"0\": (lambda x,y: x+y), \"1\": (lambda x,y: x-y), \"2\": (lambda x,y: x*y), \"3\": (lambda x,y: x/y)}\n",
    "    oper_permutation = []\n",
    "    result = []\n",
    "    # list.extend(리스트, 튜플, 딕셔너리 등): 배열 형태를 리스트에 원소만 추가시킬 때 사용\n",
    "    list(oper_permutation.extend([str(index)]*value) for index, value in enumerate(input_oper) if value>0)\n",
    "    permutation = [list(x) for x in set(itertools.permutations(oper_permutation))]\n",
    "    for i in permutation:\n",
    "        result.append(reduce(lambda x,y: ops[i.pop()](x,y), input_num))\n",
    "    \n",
    "    print(str(max(result)) + \"\\n\" + str(min(result)))"
   ]
  },
  {
   "cell_type": "code",
   "execution_count": 17,
   "metadata": {},
   "outputs": [
    {
     "name": "stdout",
     "output_type": "stream",
     "text": [
      "[1, 2, 3, [4, 5]]\n",
      "[1, 2, 3, 4, 5]\n"
     ]
    }
   ],
   "source": [
    "# append VS extend\n",
    "x = [1,2,3]\n",
    "x.append([4,5])\n",
    "print(x)\n",
    "\n",
    "y = [1,2,3]\n",
    "y.extend([4,5])\n",
    "print(y)"
   ]
  },
  {
   "cell_type": "code",
   "execution_count": 18,
   "metadata": {},
   "outputs": [
    {
     "name": "stdout",
     "output_type": "stream",
     "text": [
      "[('A', 'B', 'C', 'D'), ('A', 'B', 'D', 'C'), ('A', 'C', 'B', 'D'), ('A', 'C', 'D', 'B'), ('A', 'D', 'B', 'C'), ('A', 'D', 'C', 'B'), ('B', 'A', 'C', 'D'), ('B', 'A', 'D', 'C'), ('B', 'C', 'A', 'D'), ('B', 'C', 'D', 'A'), ('B', 'D', 'A', 'C'), ('B', 'D', 'C', 'A'), ('C', 'A', 'B', 'D'), ('C', 'A', 'D', 'B'), ('C', 'B', 'A', 'D'), ('C', 'B', 'D', 'A'), ('C', 'D', 'A', 'B'), ('C', 'D', 'B', 'A'), ('D', 'A', 'B', 'C'), ('D', 'A', 'C', 'B'), ('D', 'B', 'A', 'C'), ('D', 'B', 'C', 'A'), ('D', 'C', 'A', 'B'), ('D', 'C', 'B', 'A')]\n"
     ]
    }
   ],
   "source": [
    "# itertools.permutations(문자열) : 문자열의 순열을 모두 구해줌 \n",
    "print(list(itertools.permutations(\"ABCD\")))"
   ]
  },
  {
   "cell_type": "code",
   "execution_count": 23,
   "metadata": {},
   "outputs": [
    {
     "name": "stdout",
     "output_type": "stream",
     "text": [
      "52.0\n",
      "-21.0\n"
     ]
    }
   ],
   "source": [
    "# 최종 실행 결과\n",
    "n = 6\n",
    "numbers = [1,2,3,4,5,6]\n",
    "arithmetics = [2,1,1,1]\n",
    "insert_operation(n, numbers, arithmetics)"
   ]
  },
  {
   "cell_type": "code",
   "execution_count": null,
   "metadata": {},
   "outputs": [],
   "source": []
  }
 ],
 "metadata": {
  "kernelspec": {
   "display_name": "Python 3",
   "language": "python",
   "name": "python3"
  },
  "language_info": {
   "codemirror_mode": {
    "name": "ipython",
    "version": 3
   },
   "file_extension": ".py",
   "mimetype": "text/x-python",
   "name": "python",
   "nbconvert_exporter": "python",
   "pygments_lexer": "ipython3",
   "version": "3.6.3"
  }
 },
 "nbformat": 4,
 "nbformat_minor": 2
}
