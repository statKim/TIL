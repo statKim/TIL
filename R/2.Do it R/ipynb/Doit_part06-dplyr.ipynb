{
 "cells": [
  {
   "cell_type": "markdown",
   "metadata": {},
   "source": [
    "# 6. 자유자재로 데이터 가공하기\n",
    "\n",
    "![](img/06_00.png)\n",
    "\n",
    "\n",
    "\n",
    "\n",
    "## 06-1. 데이터 전처리 - 원하는 형태로 데이터 가공하기\n",
    "\n",
    "#### 데이터 전처리(Preprocessing) - dplyr 패키지\n",
    "\n",
    "함수       |기능\n",
    "-----------|-------\n",
    "filter()   |행 추출\n",
    "select()   |열(변수) 추출\n",
    "arrange()  |정렬\n",
    "mutate()   |변수 추가\n",
    "summarise()|통계치 산출\n",
    "group_by() |집단별로 나누기\n",
    "left_join()|데이터 합치기(열)\n",
    "bind_rows()|데이터 합치기(행)\n",
    "\n",
    "\n",
    "\n",
    "## 06-2. 조건에 맞는 데이터만 추출하기\n",
    "\n",
    "![](img/06_01.png)\n",
    "\n",
    "\n",
    "\n",
    "### 조건에 맞는 데이터만 추출하기"
   ]
  },
  {
   "cell_type": "markdown",
   "metadata": {},
   "source": [
    "#### dplyr 패키지 로드 & 데이터 준비"
   ]
  },
  {
   "cell_type": "code",
   "execution_count": 4,
   "metadata": {},
   "outputs": [
    {
     "data": {
      "text/html": [
       "<table>\n",
       "<thead><tr><th scope=col>id</th><th scope=col>class</th><th scope=col>math</th><th scope=col>english</th><th scope=col>science</th></tr></thead>\n",
       "<tbody>\n",
       "\t<tr><td> 1</td><td>1 </td><td>50</td><td>98</td><td>50</td></tr>\n",
       "\t<tr><td> 2</td><td>1 </td><td>60</td><td>97</td><td>60</td></tr>\n",
       "\t<tr><td> 3</td><td>1 </td><td>45</td><td>86</td><td>78</td></tr>\n",
       "\t<tr><td> 4</td><td>1 </td><td>30</td><td>98</td><td>58</td></tr>\n",
       "\t<tr><td> 5</td><td>2 </td><td>25</td><td>80</td><td>65</td></tr>\n",
       "\t<tr><td> 6</td><td>2 </td><td>50</td><td>89</td><td>98</td></tr>\n",
       "\t<tr><td> 7</td><td>2 </td><td>80</td><td>90</td><td>45</td></tr>\n",
       "\t<tr><td> 8</td><td>2 </td><td>90</td><td>78</td><td>25</td></tr>\n",
       "\t<tr><td> 9</td><td>3 </td><td>20</td><td>98</td><td>15</td></tr>\n",
       "\t<tr><td>10</td><td>3 </td><td>50</td><td>98</td><td>45</td></tr>\n",
       "\t<tr><td>11</td><td>3 </td><td>65</td><td>65</td><td>65</td></tr>\n",
       "\t<tr><td>12</td><td>3 </td><td>45</td><td>85</td><td>32</td></tr>\n",
       "\t<tr><td>13</td><td>4 </td><td>46</td><td>98</td><td>65</td></tr>\n",
       "\t<tr><td>14</td><td>4 </td><td>48</td><td>87</td><td>12</td></tr>\n",
       "\t<tr><td>15</td><td>4 </td><td>75</td><td>56</td><td>78</td></tr>\n",
       "\t<tr><td>16</td><td>4 </td><td>58</td><td>98</td><td>65</td></tr>\n",
       "\t<tr><td>17</td><td>5 </td><td>65</td><td>68</td><td>98</td></tr>\n",
       "\t<tr><td>18</td><td>5 </td><td>80</td><td>78</td><td>90</td></tr>\n",
       "\t<tr><td>19</td><td>5 </td><td>89</td><td>68</td><td>87</td></tr>\n",
       "\t<tr><td>20</td><td>5 </td><td>78</td><td>83</td><td>58</td></tr>\n",
       "</tbody>\n",
       "</table>\n"
      ],
      "text/latex": [
       "\\begin{tabular}{r|lllll}\n",
       " id & class & math & english & science\\\\\n",
       "\\hline\n",
       "\t  1 & 1  & 50 & 98 & 50\\\\\n",
       "\t  2 & 1  & 60 & 97 & 60\\\\\n",
       "\t  3 & 1  & 45 & 86 & 78\\\\\n",
       "\t  4 & 1  & 30 & 98 & 58\\\\\n",
       "\t  5 & 2  & 25 & 80 & 65\\\\\n",
       "\t  6 & 2  & 50 & 89 & 98\\\\\n",
       "\t  7 & 2  & 80 & 90 & 45\\\\\n",
       "\t  8 & 2  & 90 & 78 & 25\\\\\n",
       "\t  9 & 3  & 20 & 98 & 15\\\\\n",
       "\t 10 & 3  & 50 & 98 & 45\\\\\n",
       "\t 11 & 3  & 65 & 65 & 65\\\\\n",
       "\t 12 & 3  & 45 & 85 & 32\\\\\n",
       "\t 13 & 4  & 46 & 98 & 65\\\\\n",
       "\t 14 & 4  & 48 & 87 & 12\\\\\n",
       "\t 15 & 4  & 75 & 56 & 78\\\\\n",
       "\t 16 & 4  & 58 & 98 & 65\\\\\n",
       "\t 17 & 5  & 65 & 68 & 98\\\\\n",
       "\t 18 & 5  & 80 & 78 & 90\\\\\n",
       "\t 19 & 5  & 89 & 68 & 87\\\\\n",
       "\t 20 & 5  & 78 & 83 & 58\\\\\n",
       "\\end{tabular}\n"
      ],
      "text/markdown": [
       "\n",
       "| id | class | math | english | science |\n",
       "|---|---|---|---|---|\n",
       "|  1 | 1  | 50 | 98 | 50 |\n",
       "|  2 | 1  | 60 | 97 | 60 |\n",
       "|  3 | 1  | 45 | 86 | 78 |\n",
       "|  4 | 1  | 30 | 98 | 58 |\n",
       "|  5 | 2  | 25 | 80 | 65 |\n",
       "|  6 | 2  | 50 | 89 | 98 |\n",
       "|  7 | 2  | 80 | 90 | 45 |\n",
       "|  8 | 2  | 90 | 78 | 25 |\n",
       "|  9 | 3  | 20 | 98 | 15 |\n",
       "| 10 | 3  | 50 | 98 | 45 |\n",
       "| 11 | 3  | 65 | 65 | 65 |\n",
       "| 12 | 3  | 45 | 85 | 32 |\n",
       "| 13 | 4  | 46 | 98 | 65 |\n",
       "| 14 | 4  | 48 | 87 | 12 |\n",
       "| 15 | 4  | 75 | 56 | 78 |\n",
       "| 16 | 4  | 58 | 98 | 65 |\n",
       "| 17 | 5  | 65 | 68 | 98 |\n",
       "| 18 | 5  | 80 | 78 | 90 |\n",
       "| 19 | 5  | 89 | 68 | 87 |\n",
       "| 20 | 5  | 78 | 83 | 58 |\n",
       "\n"
      ],
      "text/plain": [
       "   id class math english science\n",
       "1   1 1     50   98      50     \n",
       "2   2 1     60   97      60     \n",
       "3   3 1     45   86      78     \n",
       "4   4 1     30   98      58     \n",
       "5   5 2     25   80      65     \n",
       "6   6 2     50   89      98     \n",
       "7   7 2     80   90      45     \n",
       "8   8 2     90   78      25     \n",
       "9   9 3     20   98      15     \n",
       "10 10 3     50   98      45     \n",
       "11 11 3     65   65      65     \n",
       "12 12 3     45   85      32     \n",
       "13 13 4     46   98      65     \n",
       "14 14 4     48   87      12     \n",
       "15 15 4     75   56      78     \n",
       "16 16 4     58   98      65     \n",
       "17 17 5     65   68      98     \n",
       "18 18 5     80   78      90     \n",
       "19 19 5     89   68      87     \n",
       "20 20 5     78   83      58     "
      ]
     },
     "metadata": {},
     "output_type": "display_data"
    }
   ],
   "source": [
    "library(dplyr)\n",
    "exam <- read.csv(\"data/csv_exam.csv\")\n",
    "exam"
   ]
  },
  {
   "cell_type": "code",
   "execution_count": 5,
   "metadata": {},
   "outputs": [
    {
     "data": {
      "text/html": [
       "<table>\n",
       "<thead><tr><th scope=col>id</th><th scope=col>class</th><th scope=col>math</th><th scope=col>english</th><th scope=col>science</th></tr></thead>\n",
       "<tbody>\n",
       "\t<tr><td>1 </td><td>1 </td><td>50</td><td>98</td><td>50</td></tr>\n",
       "\t<tr><td>2 </td><td>1 </td><td>60</td><td>97</td><td>60</td></tr>\n",
       "\t<tr><td>3 </td><td>1 </td><td>45</td><td>86</td><td>78</td></tr>\n",
       "\t<tr><td>4 </td><td>1 </td><td>30</td><td>98</td><td>58</td></tr>\n",
       "</tbody>\n",
       "</table>\n"
      ],
      "text/latex": [
       "\\begin{tabular}{r|lllll}\n",
       " id & class & math & english & science\\\\\n",
       "\\hline\n",
       "\t 1  & 1  & 50 & 98 & 50\\\\\n",
       "\t 2  & 1  & 60 & 97 & 60\\\\\n",
       "\t 3  & 1  & 45 & 86 & 78\\\\\n",
       "\t 4  & 1  & 30 & 98 & 58\\\\\n",
       "\\end{tabular}\n"
      ],
      "text/markdown": [
       "\n",
       "| id | class | math | english | science |\n",
       "|---|---|---|---|---|\n",
       "| 1  | 1  | 50 | 98 | 50 |\n",
       "| 2  | 1  | 60 | 97 | 60 |\n",
       "| 3  | 1  | 45 | 86 | 78 |\n",
       "| 4  | 1  | 30 | 98 | 58 |\n",
       "\n"
      ],
      "text/plain": [
       "  id class math english science\n",
       "1 1  1     50   98      50     \n",
       "2 2  1     60   97      60     \n",
       "3 3  1     45   86      78     \n",
       "4 4  1     30   98      58     "
      ]
     },
     "metadata": {},
     "output_type": "display_data"
    }
   ],
   "source": [
    "# exam에서 class가 1인 경우만 추출하여 출력\n",
    "exam %>% filter(class == 1)"
   ]
  },
  {
   "cell_type": "markdown",
   "metadata": {},
   "source": [
    "> [참고] 단축키 [Ctrl+Shit+M]으로 %>% 기호 입력"
   ]
  },
  {
   "cell_type": "code",
   "execution_count": 6,
   "metadata": {},
   "outputs": [
    {
     "data": {
      "text/html": [
       "<table>\n",
       "<thead><tr><th scope=col>id</th><th scope=col>class</th><th scope=col>math</th><th scope=col>english</th><th scope=col>science</th></tr></thead>\n",
       "<tbody>\n",
       "\t<tr><td>5 </td><td>2 </td><td>25</td><td>80</td><td>65</td></tr>\n",
       "\t<tr><td>6 </td><td>2 </td><td>50</td><td>89</td><td>98</td></tr>\n",
       "\t<tr><td>7 </td><td>2 </td><td>80</td><td>90</td><td>45</td></tr>\n",
       "\t<tr><td>8 </td><td>2 </td><td>90</td><td>78</td><td>25</td></tr>\n",
       "</tbody>\n",
       "</table>\n"
      ],
      "text/latex": [
       "\\begin{tabular}{r|lllll}\n",
       " id & class & math & english & science\\\\\n",
       "\\hline\n",
       "\t 5  & 2  & 25 & 80 & 65\\\\\n",
       "\t 6  & 2  & 50 & 89 & 98\\\\\n",
       "\t 7  & 2  & 80 & 90 & 45\\\\\n",
       "\t 8  & 2  & 90 & 78 & 25\\\\\n",
       "\\end{tabular}\n"
      ],
      "text/markdown": [
       "\n",
       "| id | class | math | english | science |\n",
       "|---|---|---|---|---|\n",
       "| 5  | 2  | 25 | 80 | 65 |\n",
       "| 6  | 2  | 50 | 89 | 98 |\n",
       "| 7  | 2  | 80 | 90 | 45 |\n",
       "| 8  | 2  | 90 | 78 | 25 |\n",
       "\n"
      ],
      "text/plain": [
       "  id class math english science\n",
       "1 5  2     25   80      65     \n",
       "2 6  2     50   89      98     \n",
       "3 7  2     80   90      45     \n",
       "4 8  2     90   78      25     "
      ]
     },
     "metadata": {},
     "output_type": "display_data"
    }
   ],
   "source": [
    "# 2반인 경우만 추출\n",
    "exam %>% filter(class == 2)"
   ]
  },
  {
   "cell_type": "code",
   "execution_count": 7,
   "metadata": {},
   "outputs": [
    {
     "data": {
      "text/html": [
       "<table>\n",
       "<thead><tr><th scope=col>id</th><th scope=col>class</th><th scope=col>math</th><th scope=col>english</th><th scope=col>science</th></tr></thead>\n",
       "<tbody>\n",
       "\t<tr><td> 5</td><td>2 </td><td>25</td><td>80</td><td>65</td></tr>\n",
       "\t<tr><td> 6</td><td>2 </td><td>50</td><td>89</td><td>98</td></tr>\n",
       "\t<tr><td> 7</td><td>2 </td><td>80</td><td>90</td><td>45</td></tr>\n",
       "\t<tr><td> 8</td><td>2 </td><td>90</td><td>78</td><td>25</td></tr>\n",
       "\t<tr><td> 9</td><td>3 </td><td>20</td><td>98</td><td>15</td></tr>\n",
       "\t<tr><td>10</td><td>3 </td><td>50</td><td>98</td><td>45</td></tr>\n",
       "\t<tr><td>11</td><td>3 </td><td>65</td><td>65</td><td>65</td></tr>\n",
       "\t<tr><td>12</td><td>3 </td><td>45</td><td>85</td><td>32</td></tr>\n",
       "\t<tr><td>13</td><td>4 </td><td>46</td><td>98</td><td>65</td></tr>\n",
       "\t<tr><td>14</td><td>4 </td><td>48</td><td>87</td><td>12</td></tr>\n",
       "\t<tr><td>15</td><td>4 </td><td>75</td><td>56</td><td>78</td></tr>\n",
       "\t<tr><td>16</td><td>4 </td><td>58</td><td>98</td><td>65</td></tr>\n",
       "\t<tr><td>17</td><td>5 </td><td>65</td><td>68</td><td>98</td></tr>\n",
       "\t<tr><td>18</td><td>5 </td><td>80</td><td>78</td><td>90</td></tr>\n",
       "\t<tr><td>19</td><td>5 </td><td>89</td><td>68</td><td>87</td></tr>\n",
       "\t<tr><td>20</td><td>5 </td><td>78</td><td>83</td><td>58</td></tr>\n",
       "</tbody>\n",
       "</table>\n"
      ],
      "text/latex": [
       "\\begin{tabular}{r|lllll}\n",
       " id & class & math & english & science\\\\\n",
       "\\hline\n",
       "\t  5 & 2  & 25 & 80 & 65\\\\\n",
       "\t  6 & 2  & 50 & 89 & 98\\\\\n",
       "\t  7 & 2  & 80 & 90 & 45\\\\\n",
       "\t  8 & 2  & 90 & 78 & 25\\\\\n",
       "\t  9 & 3  & 20 & 98 & 15\\\\\n",
       "\t 10 & 3  & 50 & 98 & 45\\\\\n",
       "\t 11 & 3  & 65 & 65 & 65\\\\\n",
       "\t 12 & 3  & 45 & 85 & 32\\\\\n",
       "\t 13 & 4  & 46 & 98 & 65\\\\\n",
       "\t 14 & 4  & 48 & 87 & 12\\\\\n",
       "\t 15 & 4  & 75 & 56 & 78\\\\\n",
       "\t 16 & 4  & 58 & 98 & 65\\\\\n",
       "\t 17 & 5  & 65 & 68 & 98\\\\\n",
       "\t 18 & 5  & 80 & 78 & 90\\\\\n",
       "\t 19 & 5  & 89 & 68 & 87\\\\\n",
       "\t 20 & 5  & 78 & 83 & 58\\\\\n",
       "\\end{tabular}\n"
      ],
      "text/markdown": [
       "\n",
       "| id | class | math | english | science |\n",
       "|---|---|---|---|---|\n",
       "|  5 | 2  | 25 | 80 | 65 |\n",
       "|  6 | 2  | 50 | 89 | 98 |\n",
       "|  7 | 2  | 80 | 90 | 45 |\n",
       "|  8 | 2  | 90 | 78 | 25 |\n",
       "|  9 | 3  | 20 | 98 | 15 |\n",
       "| 10 | 3  | 50 | 98 | 45 |\n",
       "| 11 | 3  | 65 | 65 | 65 |\n",
       "| 12 | 3  | 45 | 85 | 32 |\n",
       "| 13 | 4  | 46 | 98 | 65 |\n",
       "| 14 | 4  | 48 | 87 | 12 |\n",
       "| 15 | 4  | 75 | 56 | 78 |\n",
       "| 16 | 4  | 58 | 98 | 65 |\n",
       "| 17 | 5  | 65 | 68 | 98 |\n",
       "| 18 | 5  | 80 | 78 | 90 |\n",
       "| 19 | 5  | 89 | 68 | 87 |\n",
       "| 20 | 5  | 78 | 83 | 58 |\n",
       "\n"
      ],
      "text/plain": [
       "   id class math english science\n",
       "1   5 2     25   80      65     \n",
       "2   6 2     50   89      98     \n",
       "3   7 2     80   90      45     \n",
       "4   8 2     90   78      25     \n",
       "5   9 3     20   98      15     \n",
       "6  10 3     50   98      45     \n",
       "7  11 3     65   65      65     \n",
       "8  12 3     45   85      32     \n",
       "9  13 4     46   98      65     \n",
       "10 14 4     48   87      12     \n",
       "11 15 4     75   56      78     \n",
       "12 16 4     58   98      65     \n",
       "13 17 5     65   68      98     \n",
       "14 18 5     80   78      90     \n",
       "15 19 5     89   68      87     \n",
       "16 20 5     78   83      58     "
      ]
     },
     "metadata": {},
     "output_type": "display_data"
    }
   ],
   "source": [
    "# 1반이 아닌 경우\n",
    "exam %>% filter(class != 1)"
   ]
  },
  {
   "cell_type": "code",
   "execution_count": 8,
   "metadata": {},
   "outputs": [
    {
     "data": {
      "text/html": [
       "<table>\n",
       "<thead><tr><th scope=col>id</th><th scope=col>class</th><th scope=col>math</th><th scope=col>english</th><th scope=col>science</th></tr></thead>\n",
       "<tbody>\n",
       "\t<tr><td> 1</td><td>1 </td><td>50</td><td>98</td><td>50</td></tr>\n",
       "\t<tr><td> 2</td><td>1 </td><td>60</td><td>97</td><td>60</td></tr>\n",
       "\t<tr><td> 3</td><td>1 </td><td>45</td><td>86</td><td>78</td></tr>\n",
       "\t<tr><td> 4</td><td>1 </td><td>30</td><td>98</td><td>58</td></tr>\n",
       "\t<tr><td> 5</td><td>2 </td><td>25</td><td>80</td><td>65</td></tr>\n",
       "\t<tr><td> 6</td><td>2 </td><td>50</td><td>89</td><td>98</td></tr>\n",
       "\t<tr><td> 7</td><td>2 </td><td>80</td><td>90</td><td>45</td></tr>\n",
       "\t<tr><td> 8</td><td>2 </td><td>90</td><td>78</td><td>25</td></tr>\n",
       "\t<tr><td>13</td><td>4 </td><td>46</td><td>98</td><td>65</td></tr>\n",
       "\t<tr><td>14</td><td>4 </td><td>48</td><td>87</td><td>12</td></tr>\n",
       "\t<tr><td>15</td><td>4 </td><td>75</td><td>56</td><td>78</td></tr>\n",
       "\t<tr><td>16</td><td>4 </td><td>58</td><td>98</td><td>65</td></tr>\n",
       "\t<tr><td>17</td><td>5 </td><td>65</td><td>68</td><td>98</td></tr>\n",
       "\t<tr><td>18</td><td>5 </td><td>80</td><td>78</td><td>90</td></tr>\n",
       "\t<tr><td>19</td><td>5 </td><td>89</td><td>68</td><td>87</td></tr>\n",
       "\t<tr><td>20</td><td>5 </td><td>78</td><td>83</td><td>58</td></tr>\n",
       "</tbody>\n",
       "</table>\n"
      ],
      "text/latex": [
       "\\begin{tabular}{r|lllll}\n",
       " id & class & math & english & science\\\\\n",
       "\\hline\n",
       "\t  1 & 1  & 50 & 98 & 50\\\\\n",
       "\t  2 & 1  & 60 & 97 & 60\\\\\n",
       "\t  3 & 1  & 45 & 86 & 78\\\\\n",
       "\t  4 & 1  & 30 & 98 & 58\\\\\n",
       "\t  5 & 2  & 25 & 80 & 65\\\\\n",
       "\t  6 & 2  & 50 & 89 & 98\\\\\n",
       "\t  7 & 2  & 80 & 90 & 45\\\\\n",
       "\t  8 & 2  & 90 & 78 & 25\\\\\n",
       "\t 13 & 4  & 46 & 98 & 65\\\\\n",
       "\t 14 & 4  & 48 & 87 & 12\\\\\n",
       "\t 15 & 4  & 75 & 56 & 78\\\\\n",
       "\t 16 & 4  & 58 & 98 & 65\\\\\n",
       "\t 17 & 5  & 65 & 68 & 98\\\\\n",
       "\t 18 & 5  & 80 & 78 & 90\\\\\n",
       "\t 19 & 5  & 89 & 68 & 87\\\\\n",
       "\t 20 & 5  & 78 & 83 & 58\\\\\n",
       "\\end{tabular}\n"
      ],
      "text/markdown": [
       "\n",
       "| id | class | math | english | science |\n",
       "|---|---|---|---|---|\n",
       "|  1 | 1  | 50 | 98 | 50 |\n",
       "|  2 | 1  | 60 | 97 | 60 |\n",
       "|  3 | 1  | 45 | 86 | 78 |\n",
       "|  4 | 1  | 30 | 98 | 58 |\n",
       "|  5 | 2  | 25 | 80 | 65 |\n",
       "|  6 | 2  | 50 | 89 | 98 |\n",
       "|  7 | 2  | 80 | 90 | 45 |\n",
       "|  8 | 2  | 90 | 78 | 25 |\n",
       "| 13 | 4  | 46 | 98 | 65 |\n",
       "| 14 | 4  | 48 | 87 | 12 |\n",
       "| 15 | 4  | 75 | 56 | 78 |\n",
       "| 16 | 4  | 58 | 98 | 65 |\n",
       "| 17 | 5  | 65 | 68 | 98 |\n",
       "| 18 | 5  | 80 | 78 | 90 |\n",
       "| 19 | 5  | 89 | 68 | 87 |\n",
       "| 20 | 5  | 78 | 83 | 58 |\n",
       "\n"
      ],
      "text/plain": [
       "   id class math english science\n",
       "1   1 1     50   98      50     \n",
       "2   2 1     60   97      60     \n",
       "3   3 1     45   86      78     \n",
       "4   4 1     30   98      58     \n",
       "5   5 2     25   80      65     \n",
       "6   6 2     50   89      98     \n",
       "7   7 2     80   90      45     \n",
       "8   8 2     90   78      25     \n",
       "9  13 4     46   98      65     \n",
       "10 14 4     48   87      12     \n",
       "11 15 4     75   56      78     \n",
       "12 16 4     58   98      65     \n",
       "13 17 5     65   68      98     \n",
       "14 18 5     80   78      90     \n",
       "15 19 5     89   68      87     \n",
       "16 20 5     78   83      58     "
      ]
     },
     "metadata": {},
     "output_type": "display_data"
    }
   ],
   "source": [
    "# 3반이 아닌 경우\n",
    "exam %>% filter(class != 3)"
   ]
  },
  {
   "cell_type": "markdown",
   "metadata": {},
   "source": [
    "### 초과, 미만, 이상, 이하 조건 걸기"
   ]
  },
  {
   "cell_type": "code",
   "execution_count": 9,
   "metadata": {},
   "outputs": [
    {
     "data": {
      "text/html": [
       "<table>\n",
       "<thead><tr><th scope=col>id</th><th scope=col>class</th><th scope=col>math</th><th scope=col>english</th><th scope=col>science</th></tr></thead>\n",
       "<tbody>\n",
       "\t<tr><td> 2</td><td>1 </td><td>60</td><td>97</td><td>60</td></tr>\n",
       "\t<tr><td> 7</td><td>2 </td><td>80</td><td>90</td><td>45</td></tr>\n",
       "\t<tr><td> 8</td><td>2 </td><td>90</td><td>78</td><td>25</td></tr>\n",
       "\t<tr><td>11</td><td>3 </td><td>65</td><td>65</td><td>65</td></tr>\n",
       "\t<tr><td>15</td><td>4 </td><td>75</td><td>56</td><td>78</td></tr>\n",
       "\t<tr><td>16</td><td>4 </td><td>58</td><td>98</td><td>65</td></tr>\n",
       "\t<tr><td>17</td><td>5 </td><td>65</td><td>68</td><td>98</td></tr>\n",
       "\t<tr><td>18</td><td>5 </td><td>80</td><td>78</td><td>90</td></tr>\n",
       "\t<tr><td>19</td><td>5 </td><td>89</td><td>68</td><td>87</td></tr>\n",
       "\t<tr><td>20</td><td>5 </td><td>78</td><td>83</td><td>58</td></tr>\n",
       "</tbody>\n",
       "</table>\n"
      ],
      "text/latex": [
       "\\begin{tabular}{r|lllll}\n",
       " id & class & math & english & science\\\\\n",
       "\\hline\n",
       "\t  2 & 1  & 60 & 97 & 60\\\\\n",
       "\t  7 & 2  & 80 & 90 & 45\\\\\n",
       "\t  8 & 2  & 90 & 78 & 25\\\\\n",
       "\t 11 & 3  & 65 & 65 & 65\\\\\n",
       "\t 15 & 4  & 75 & 56 & 78\\\\\n",
       "\t 16 & 4  & 58 & 98 & 65\\\\\n",
       "\t 17 & 5  & 65 & 68 & 98\\\\\n",
       "\t 18 & 5  & 80 & 78 & 90\\\\\n",
       "\t 19 & 5  & 89 & 68 & 87\\\\\n",
       "\t 20 & 5  & 78 & 83 & 58\\\\\n",
       "\\end{tabular}\n"
      ],
      "text/markdown": [
       "\n",
       "| id | class | math | english | science |\n",
       "|---|---|---|---|---|\n",
       "|  2 | 1  | 60 | 97 | 60 |\n",
       "|  7 | 2  | 80 | 90 | 45 |\n",
       "|  8 | 2  | 90 | 78 | 25 |\n",
       "| 11 | 3  | 65 | 65 | 65 |\n",
       "| 15 | 4  | 75 | 56 | 78 |\n",
       "| 16 | 4  | 58 | 98 | 65 |\n",
       "| 17 | 5  | 65 | 68 | 98 |\n",
       "| 18 | 5  | 80 | 78 | 90 |\n",
       "| 19 | 5  | 89 | 68 | 87 |\n",
       "| 20 | 5  | 78 | 83 | 58 |\n",
       "\n"
      ],
      "text/plain": [
       "   id class math english science\n",
       "1   2 1     60   97      60     \n",
       "2   7 2     80   90      45     \n",
       "3   8 2     90   78      25     \n",
       "4  11 3     65   65      65     \n",
       "5  15 4     75   56      78     \n",
       "6  16 4     58   98      65     \n",
       "7  17 5     65   68      98     \n",
       "8  18 5     80   78      90     \n",
       "9  19 5     89   68      87     \n",
       "10 20 5     78   83      58     "
      ]
     },
     "metadata": {},
     "output_type": "display_data"
    }
   ],
   "source": [
    "# 수학 점수가 50점을 초과한 경우\n",
    "exam %>% filter(math > 50)"
   ]
  },
  {
   "cell_type": "code",
   "execution_count": 10,
   "metadata": {},
   "outputs": [
    {
     "data": {
      "text/html": [
       "<table>\n",
       "<thead><tr><th scope=col>id</th><th scope=col>class</th><th scope=col>math</th><th scope=col>english</th><th scope=col>science</th></tr></thead>\n",
       "<tbody>\n",
       "\t<tr><td> 3</td><td>1 </td><td>45</td><td>86</td><td>78</td></tr>\n",
       "\t<tr><td> 4</td><td>1 </td><td>30</td><td>98</td><td>58</td></tr>\n",
       "\t<tr><td> 5</td><td>2 </td><td>25</td><td>80</td><td>65</td></tr>\n",
       "\t<tr><td> 9</td><td>3 </td><td>20</td><td>98</td><td>15</td></tr>\n",
       "\t<tr><td>12</td><td>3 </td><td>45</td><td>85</td><td>32</td></tr>\n",
       "\t<tr><td>13</td><td>4 </td><td>46</td><td>98</td><td>65</td></tr>\n",
       "\t<tr><td>14</td><td>4 </td><td>48</td><td>87</td><td>12</td></tr>\n",
       "</tbody>\n",
       "</table>\n"
      ],
      "text/latex": [
       "\\begin{tabular}{r|lllll}\n",
       " id & class & math & english & science\\\\\n",
       "\\hline\n",
       "\t  3 & 1  & 45 & 86 & 78\\\\\n",
       "\t  4 & 1  & 30 & 98 & 58\\\\\n",
       "\t  5 & 2  & 25 & 80 & 65\\\\\n",
       "\t  9 & 3  & 20 & 98 & 15\\\\\n",
       "\t 12 & 3  & 45 & 85 & 32\\\\\n",
       "\t 13 & 4  & 46 & 98 & 65\\\\\n",
       "\t 14 & 4  & 48 & 87 & 12\\\\\n",
       "\\end{tabular}\n"
      ],
      "text/markdown": [
       "\n",
       "| id | class | math | english | science |\n",
       "|---|---|---|---|---|\n",
       "|  3 | 1  | 45 | 86 | 78 |\n",
       "|  4 | 1  | 30 | 98 | 58 |\n",
       "|  5 | 2  | 25 | 80 | 65 |\n",
       "|  9 | 3  | 20 | 98 | 15 |\n",
       "| 12 | 3  | 45 | 85 | 32 |\n",
       "| 13 | 4  | 46 | 98 | 65 |\n",
       "| 14 | 4  | 48 | 87 | 12 |\n",
       "\n"
      ],
      "text/plain": [
       "  id class math english science\n",
       "1  3 1     45   86      78     \n",
       "2  4 1     30   98      58     \n",
       "3  5 2     25   80      65     \n",
       "4  9 3     20   98      15     \n",
       "5 12 3     45   85      32     \n",
       "6 13 4     46   98      65     \n",
       "7 14 4     48   87      12     "
      ]
     },
     "metadata": {},
     "output_type": "display_data"
    }
   ],
   "source": [
    "# 수학 점수가 50점 미만인 경우\n",
    "exam %>% filter(math < 50)"
   ]
  },
  {
   "cell_type": "code",
   "execution_count": 11,
   "metadata": {},
   "outputs": [
    {
     "data": {
      "text/html": [
       "<table>\n",
       "<thead><tr><th scope=col>id</th><th scope=col>class</th><th scope=col>math</th><th scope=col>english</th><th scope=col>science</th></tr></thead>\n",
       "<tbody>\n",
       "\t<tr><td> 1</td><td>1 </td><td>50</td><td>98</td><td>50</td></tr>\n",
       "\t<tr><td> 2</td><td>1 </td><td>60</td><td>97</td><td>60</td></tr>\n",
       "\t<tr><td> 3</td><td>1 </td><td>45</td><td>86</td><td>78</td></tr>\n",
       "\t<tr><td> 4</td><td>1 </td><td>30</td><td>98</td><td>58</td></tr>\n",
       "\t<tr><td> 5</td><td>2 </td><td>25</td><td>80</td><td>65</td></tr>\n",
       "\t<tr><td> 6</td><td>2 </td><td>50</td><td>89</td><td>98</td></tr>\n",
       "\t<tr><td> 7</td><td>2 </td><td>80</td><td>90</td><td>45</td></tr>\n",
       "\t<tr><td> 9</td><td>3 </td><td>20</td><td>98</td><td>15</td></tr>\n",
       "\t<tr><td>10</td><td>3 </td><td>50</td><td>98</td><td>45</td></tr>\n",
       "\t<tr><td>12</td><td>3 </td><td>45</td><td>85</td><td>32</td></tr>\n",
       "\t<tr><td>13</td><td>4 </td><td>46</td><td>98</td><td>65</td></tr>\n",
       "\t<tr><td>14</td><td>4 </td><td>48</td><td>87</td><td>12</td></tr>\n",
       "\t<tr><td>16</td><td>4 </td><td>58</td><td>98</td><td>65</td></tr>\n",
       "\t<tr><td>20</td><td>5 </td><td>78</td><td>83</td><td>58</td></tr>\n",
       "</tbody>\n",
       "</table>\n"
      ],
      "text/latex": [
       "\\begin{tabular}{r|lllll}\n",
       " id & class & math & english & science\\\\\n",
       "\\hline\n",
       "\t  1 & 1  & 50 & 98 & 50\\\\\n",
       "\t  2 & 1  & 60 & 97 & 60\\\\\n",
       "\t  3 & 1  & 45 & 86 & 78\\\\\n",
       "\t  4 & 1  & 30 & 98 & 58\\\\\n",
       "\t  5 & 2  & 25 & 80 & 65\\\\\n",
       "\t  6 & 2  & 50 & 89 & 98\\\\\n",
       "\t  7 & 2  & 80 & 90 & 45\\\\\n",
       "\t  9 & 3  & 20 & 98 & 15\\\\\n",
       "\t 10 & 3  & 50 & 98 & 45\\\\\n",
       "\t 12 & 3  & 45 & 85 & 32\\\\\n",
       "\t 13 & 4  & 46 & 98 & 65\\\\\n",
       "\t 14 & 4  & 48 & 87 & 12\\\\\n",
       "\t 16 & 4  & 58 & 98 & 65\\\\\n",
       "\t 20 & 5  & 78 & 83 & 58\\\\\n",
       "\\end{tabular}\n"
      ],
      "text/markdown": [
       "\n",
       "| id | class | math | english | science |\n",
       "|---|---|---|---|---|\n",
       "|  1 | 1  | 50 | 98 | 50 |\n",
       "|  2 | 1  | 60 | 97 | 60 |\n",
       "|  3 | 1  | 45 | 86 | 78 |\n",
       "|  4 | 1  | 30 | 98 | 58 |\n",
       "|  5 | 2  | 25 | 80 | 65 |\n",
       "|  6 | 2  | 50 | 89 | 98 |\n",
       "|  7 | 2  | 80 | 90 | 45 |\n",
       "|  9 | 3  | 20 | 98 | 15 |\n",
       "| 10 | 3  | 50 | 98 | 45 |\n",
       "| 12 | 3  | 45 | 85 | 32 |\n",
       "| 13 | 4  | 46 | 98 | 65 |\n",
       "| 14 | 4  | 48 | 87 | 12 |\n",
       "| 16 | 4  | 58 | 98 | 65 |\n",
       "| 20 | 5  | 78 | 83 | 58 |\n",
       "\n"
      ],
      "text/plain": [
       "   id class math english science\n",
       "1   1 1     50   98      50     \n",
       "2   2 1     60   97      60     \n",
       "3   3 1     45   86      78     \n",
       "4   4 1     30   98      58     \n",
       "5   5 2     25   80      65     \n",
       "6   6 2     50   89      98     \n",
       "7   7 2     80   90      45     \n",
       "8   9 3     20   98      15     \n",
       "9  10 3     50   98      45     \n",
       "10 12 3     45   85      32     \n",
       "11 13 4     46   98      65     \n",
       "12 14 4     48   87      12     \n",
       "13 16 4     58   98      65     \n",
       "14 20 5     78   83      58     "
      ]
     },
     "metadata": {},
     "output_type": "display_data"
    }
   ],
   "source": [
    "# 영어점수가 80점 이상인 경우\n",
    "exam %>% filter(english >= 80)"
   ]
  },
  {
   "cell_type": "code",
   "execution_count": 12,
   "metadata": {},
   "outputs": [
    {
     "data": {
      "text/html": [
       "<table>\n",
       "<thead><tr><th scope=col>id</th><th scope=col>class</th><th scope=col>math</th><th scope=col>english</th><th scope=col>science</th></tr></thead>\n",
       "<tbody>\n",
       "\t<tr><td> 5</td><td>2 </td><td>25</td><td>80</td><td>65</td></tr>\n",
       "\t<tr><td> 8</td><td>2 </td><td>90</td><td>78</td><td>25</td></tr>\n",
       "\t<tr><td>11</td><td>3 </td><td>65</td><td>65</td><td>65</td></tr>\n",
       "\t<tr><td>15</td><td>4 </td><td>75</td><td>56</td><td>78</td></tr>\n",
       "\t<tr><td>17</td><td>5 </td><td>65</td><td>68</td><td>98</td></tr>\n",
       "\t<tr><td>18</td><td>5 </td><td>80</td><td>78</td><td>90</td></tr>\n",
       "\t<tr><td>19</td><td>5 </td><td>89</td><td>68</td><td>87</td></tr>\n",
       "</tbody>\n",
       "</table>\n"
      ],
      "text/latex": [
       "\\begin{tabular}{r|lllll}\n",
       " id & class & math & english & science\\\\\n",
       "\\hline\n",
       "\t  5 & 2  & 25 & 80 & 65\\\\\n",
       "\t  8 & 2  & 90 & 78 & 25\\\\\n",
       "\t 11 & 3  & 65 & 65 & 65\\\\\n",
       "\t 15 & 4  & 75 & 56 & 78\\\\\n",
       "\t 17 & 5  & 65 & 68 & 98\\\\\n",
       "\t 18 & 5  & 80 & 78 & 90\\\\\n",
       "\t 19 & 5  & 89 & 68 & 87\\\\\n",
       "\\end{tabular}\n"
      ],
      "text/markdown": [
       "\n",
       "| id | class | math | english | science |\n",
       "|---|---|---|---|---|\n",
       "|  5 | 2  | 25 | 80 | 65 |\n",
       "|  8 | 2  | 90 | 78 | 25 |\n",
       "| 11 | 3  | 65 | 65 | 65 |\n",
       "| 15 | 4  | 75 | 56 | 78 |\n",
       "| 17 | 5  | 65 | 68 | 98 |\n",
       "| 18 | 5  | 80 | 78 | 90 |\n",
       "| 19 | 5  | 89 | 68 | 87 |\n",
       "\n"
      ],
      "text/plain": [
       "  id class math english science\n",
       "1  5 2     25   80      65     \n",
       "2  8 2     90   78      25     \n",
       "3 11 3     65   65      65     \n",
       "4 15 4     75   56      78     \n",
       "5 17 5     65   68      98     \n",
       "6 18 5     80   78      90     \n",
       "7 19 5     89   68      87     "
      ]
     },
     "metadata": {},
     "output_type": "display_data"
    }
   ],
   "source": [
    "# 영어점수가 80점 이하인 경우\n",
    "exam %>% filter(english <= 80)"
   ]
  },
  {
   "cell_type": "markdown",
   "metadata": {},
   "source": [
    "### 여러 조건을 충족하는 행 추출하기"
   ]
  },
  {
   "cell_type": "code",
   "execution_count": 13,
   "metadata": {},
   "outputs": [
    {
     "data": {
      "text/html": [
       "<table>\n",
       "<thead><tr><th scope=col>id</th><th scope=col>class</th><th scope=col>math</th><th scope=col>english</th><th scope=col>science</th></tr></thead>\n",
       "<tbody>\n",
       "\t<tr><td>1 </td><td>1 </td><td>50</td><td>98</td><td>50</td></tr>\n",
       "\t<tr><td>2 </td><td>1 </td><td>60</td><td>97</td><td>60</td></tr>\n",
       "</tbody>\n",
       "</table>\n"
      ],
      "text/latex": [
       "\\begin{tabular}{r|lllll}\n",
       " id & class & math & english & science\\\\\n",
       "\\hline\n",
       "\t 1  & 1  & 50 & 98 & 50\\\\\n",
       "\t 2  & 1  & 60 & 97 & 60\\\\\n",
       "\\end{tabular}\n"
      ],
      "text/markdown": [
       "\n",
       "| id | class | math | english | science |\n",
       "|---|---|---|---|---|\n",
       "| 1  | 1  | 50 | 98 | 50 |\n",
       "| 2  | 1  | 60 | 97 | 60 |\n",
       "\n"
      ],
      "text/plain": [
       "  id class math english science\n",
       "1 1  1     50   98      50     \n",
       "2 2  1     60   97      60     "
      ]
     },
     "metadata": {},
     "output_type": "display_data"
    }
   ],
   "source": [
    "# 1반 이면서 수학 점수가 50점 이상인 경우\n",
    "exam %>% filter(class == 1 & math >= 50)"
   ]
  },
  {
   "cell_type": "code",
   "execution_count": 14,
   "metadata": {},
   "outputs": [
    {
     "data": {
      "text/html": [
       "<table>\n",
       "<thead><tr><th scope=col>id</th><th scope=col>class</th><th scope=col>math</th><th scope=col>english</th><th scope=col>science</th></tr></thead>\n",
       "<tbody>\n",
       "\t<tr><td>5 </td><td>2 </td><td>25</td><td>80</td><td>65</td></tr>\n",
       "\t<tr><td>6 </td><td>2 </td><td>50</td><td>89</td><td>98</td></tr>\n",
       "\t<tr><td>7 </td><td>2 </td><td>80</td><td>90</td><td>45</td></tr>\n",
       "</tbody>\n",
       "</table>\n"
      ],
      "text/latex": [
       "\\begin{tabular}{r|lllll}\n",
       " id & class & math & english & science\\\\\n",
       "\\hline\n",
       "\t 5  & 2  & 25 & 80 & 65\\\\\n",
       "\t 6  & 2  & 50 & 89 & 98\\\\\n",
       "\t 7  & 2  & 80 & 90 & 45\\\\\n",
       "\\end{tabular}\n"
      ],
      "text/markdown": [
       "\n",
       "| id | class | math | english | science |\n",
       "|---|---|---|---|---|\n",
       "| 5  | 2  | 25 | 80 | 65 |\n",
       "| 6  | 2  | 50 | 89 | 98 |\n",
       "| 7  | 2  | 80 | 90 | 45 |\n",
       "\n"
      ],
      "text/plain": [
       "  id class math english science\n",
       "1 5  2     25   80      65     \n",
       "2 6  2     50   89      98     \n",
       "3 7  2     80   90      45     "
      ]
     },
     "metadata": {},
     "output_type": "display_data"
    }
   ],
   "source": [
    "# 2반 이면서 영어점수가 80점 이상인 경우\n",
    "exam %>% filter(class == 2 & english >= 80)"
   ]
  },
  {
   "cell_type": "markdown",
   "metadata": {},
   "source": [
    "### 여러 조건 중 하나 이상 충족하는 행 추출하기"
   ]
  },
  {
   "cell_type": "code",
   "execution_count": 15,
   "metadata": {},
   "outputs": [
    {
     "data": {
      "text/html": [
       "<table>\n",
       "<thead><tr><th scope=col>id</th><th scope=col>class</th><th scope=col>math</th><th scope=col>english</th><th scope=col>science</th></tr></thead>\n",
       "<tbody>\n",
       "\t<tr><td> 1</td><td>1 </td><td>50</td><td>98</td><td>50</td></tr>\n",
       "\t<tr><td> 2</td><td>1 </td><td>60</td><td>97</td><td>60</td></tr>\n",
       "\t<tr><td> 4</td><td>1 </td><td>30</td><td>98</td><td>58</td></tr>\n",
       "\t<tr><td> 7</td><td>2 </td><td>80</td><td>90</td><td>45</td></tr>\n",
       "\t<tr><td> 8</td><td>2 </td><td>90</td><td>78</td><td>25</td></tr>\n",
       "\t<tr><td> 9</td><td>3 </td><td>20</td><td>98</td><td>15</td></tr>\n",
       "\t<tr><td>10</td><td>3 </td><td>50</td><td>98</td><td>45</td></tr>\n",
       "\t<tr><td>13</td><td>4 </td><td>46</td><td>98</td><td>65</td></tr>\n",
       "\t<tr><td>16</td><td>4 </td><td>58</td><td>98</td><td>65</td></tr>\n",
       "</tbody>\n",
       "</table>\n"
      ],
      "text/latex": [
       "\\begin{tabular}{r|lllll}\n",
       " id & class & math & english & science\\\\\n",
       "\\hline\n",
       "\t  1 & 1  & 50 & 98 & 50\\\\\n",
       "\t  2 & 1  & 60 & 97 & 60\\\\\n",
       "\t  4 & 1  & 30 & 98 & 58\\\\\n",
       "\t  7 & 2  & 80 & 90 & 45\\\\\n",
       "\t  8 & 2  & 90 & 78 & 25\\\\\n",
       "\t  9 & 3  & 20 & 98 & 15\\\\\n",
       "\t 10 & 3  & 50 & 98 & 45\\\\\n",
       "\t 13 & 4  & 46 & 98 & 65\\\\\n",
       "\t 16 & 4  & 58 & 98 & 65\\\\\n",
       "\\end{tabular}\n"
      ],
      "text/markdown": [
       "\n",
       "| id | class | math | english | science |\n",
       "|---|---|---|---|---|\n",
       "|  1 | 1  | 50 | 98 | 50 |\n",
       "|  2 | 1  | 60 | 97 | 60 |\n",
       "|  4 | 1  | 30 | 98 | 58 |\n",
       "|  7 | 2  | 80 | 90 | 45 |\n",
       "|  8 | 2  | 90 | 78 | 25 |\n",
       "|  9 | 3  | 20 | 98 | 15 |\n",
       "| 10 | 3  | 50 | 98 | 45 |\n",
       "| 13 | 4  | 46 | 98 | 65 |\n",
       "| 16 | 4  | 58 | 98 | 65 |\n",
       "\n"
      ],
      "text/plain": [
       "  id class math english science\n",
       "1  1 1     50   98      50     \n",
       "2  2 1     60   97      60     \n",
       "3  4 1     30   98      58     \n",
       "4  7 2     80   90      45     \n",
       "5  8 2     90   78      25     \n",
       "6  9 3     20   98      15     \n",
       "7 10 3     50   98      45     \n",
       "8 13 4     46   98      65     \n",
       "9 16 4     58   98      65     "
      ]
     },
     "metadata": {},
     "output_type": "display_data"
    }
   ],
   "source": [
    "# 수학 점수가 90점 이상이거나 영어점수가 90점 이상인 경우\n",
    "exam %>% filter(math >= 90 | english >= 90)"
   ]
  },
  {
   "cell_type": "code",
   "execution_count": 16,
   "metadata": {},
   "outputs": [
    {
     "data": {
      "text/html": [
       "<table>\n",
       "<thead><tr><th scope=col>id</th><th scope=col>class</th><th scope=col>math</th><th scope=col>english</th><th scope=col>science</th></tr></thead>\n",
       "<tbody>\n",
       "\t<tr><td> 3</td><td>1 </td><td>45</td><td>86</td><td>78</td></tr>\n",
       "\t<tr><td> 5</td><td>2 </td><td>25</td><td>80</td><td>65</td></tr>\n",
       "\t<tr><td> 6</td><td>2 </td><td>50</td><td>89</td><td>98</td></tr>\n",
       "\t<tr><td> 7</td><td>2 </td><td>80</td><td>90</td><td>45</td></tr>\n",
       "\t<tr><td> 8</td><td>2 </td><td>90</td><td>78</td><td>25</td></tr>\n",
       "\t<tr><td> 9</td><td>3 </td><td>20</td><td>98</td><td>15</td></tr>\n",
       "\t<tr><td>10</td><td>3 </td><td>50</td><td>98</td><td>45</td></tr>\n",
       "\t<tr><td>11</td><td>3 </td><td>65</td><td>65</td><td>65</td></tr>\n",
       "\t<tr><td>12</td><td>3 </td><td>45</td><td>85</td><td>32</td></tr>\n",
       "\t<tr><td>14</td><td>4 </td><td>48</td><td>87</td><td>12</td></tr>\n",
       "\t<tr><td>15</td><td>4 </td><td>75</td><td>56</td><td>78</td></tr>\n",
       "\t<tr><td>17</td><td>5 </td><td>65</td><td>68</td><td>98</td></tr>\n",
       "\t<tr><td>18</td><td>5 </td><td>80</td><td>78</td><td>90</td></tr>\n",
       "\t<tr><td>19</td><td>5 </td><td>89</td><td>68</td><td>87</td></tr>\n",
       "\t<tr><td>20</td><td>5 </td><td>78</td><td>83</td><td>58</td></tr>\n",
       "</tbody>\n",
       "</table>\n"
      ],
      "text/latex": [
       "\\begin{tabular}{r|lllll}\n",
       " id & class & math & english & science\\\\\n",
       "\\hline\n",
       "\t  3 & 1  & 45 & 86 & 78\\\\\n",
       "\t  5 & 2  & 25 & 80 & 65\\\\\n",
       "\t  6 & 2  & 50 & 89 & 98\\\\\n",
       "\t  7 & 2  & 80 & 90 & 45\\\\\n",
       "\t  8 & 2  & 90 & 78 & 25\\\\\n",
       "\t  9 & 3  & 20 & 98 & 15\\\\\n",
       "\t 10 & 3  & 50 & 98 & 45\\\\\n",
       "\t 11 & 3  & 65 & 65 & 65\\\\\n",
       "\t 12 & 3  & 45 & 85 & 32\\\\\n",
       "\t 14 & 4  & 48 & 87 & 12\\\\\n",
       "\t 15 & 4  & 75 & 56 & 78\\\\\n",
       "\t 17 & 5  & 65 & 68 & 98\\\\\n",
       "\t 18 & 5  & 80 & 78 & 90\\\\\n",
       "\t 19 & 5  & 89 & 68 & 87\\\\\n",
       "\t 20 & 5  & 78 & 83 & 58\\\\\n",
       "\\end{tabular}\n"
      ],
      "text/markdown": [
       "\n",
       "| id | class | math | english | science |\n",
       "|---|---|---|---|---|\n",
       "|  3 | 1  | 45 | 86 | 78 |\n",
       "|  5 | 2  | 25 | 80 | 65 |\n",
       "|  6 | 2  | 50 | 89 | 98 |\n",
       "|  7 | 2  | 80 | 90 | 45 |\n",
       "|  8 | 2  | 90 | 78 | 25 |\n",
       "|  9 | 3  | 20 | 98 | 15 |\n",
       "| 10 | 3  | 50 | 98 | 45 |\n",
       "| 11 | 3  | 65 | 65 | 65 |\n",
       "| 12 | 3  | 45 | 85 | 32 |\n",
       "| 14 | 4  | 48 | 87 | 12 |\n",
       "| 15 | 4  | 75 | 56 | 78 |\n",
       "| 17 | 5  | 65 | 68 | 98 |\n",
       "| 18 | 5  | 80 | 78 | 90 |\n",
       "| 19 | 5  | 89 | 68 | 87 |\n",
       "| 20 | 5  | 78 | 83 | 58 |\n",
       "\n"
      ],
      "text/plain": [
       "   id class math english science\n",
       "1   3 1     45   86      78     \n",
       "2   5 2     25   80      65     \n",
       "3   6 2     50   89      98     \n",
       "4   7 2     80   90      45     \n",
       "5   8 2     90   78      25     \n",
       "6   9 3     20   98      15     \n",
       "7  10 3     50   98      45     \n",
       "8  11 3     65   65      65     \n",
       "9  12 3     45   85      32     \n",
       "10 14 4     48   87      12     \n",
       "11 15 4     75   56      78     \n",
       "12 17 5     65   68      98     \n",
       "13 18 5     80   78      90     \n",
       "14 19 5     89   68      87     \n",
       "15 20 5     78   83      58     "
      ]
     },
     "metadata": {},
     "output_type": "display_data"
    }
   ],
   "source": [
    "# 영어점수가 90점 미만이거나 과학점수가 50점 미만인 경우\n",
    "exam %>% filter(english < 90 | science < 50)"
   ]
  },
  {
   "cell_type": "markdown",
   "metadata": {},
   "source": [
    "### 목록에 해당되는 행 추출하기"
   ]
  },
  {
   "cell_type": "code",
   "execution_count": 17,
   "metadata": {},
   "outputs": [
    {
     "data": {
      "text/html": [
       "<table>\n",
       "<thead><tr><th scope=col>id</th><th scope=col>class</th><th scope=col>math</th><th scope=col>english</th><th scope=col>science</th></tr></thead>\n",
       "<tbody>\n",
       "\t<tr><td> 1</td><td>1 </td><td>50</td><td>98</td><td>50</td></tr>\n",
       "\t<tr><td> 2</td><td>1 </td><td>60</td><td>97</td><td>60</td></tr>\n",
       "\t<tr><td> 3</td><td>1 </td><td>45</td><td>86</td><td>78</td></tr>\n",
       "\t<tr><td> 4</td><td>1 </td><td>30</td><td>98</td><td>58</td></tr>\n",
       "\t<tr><td> 9</td><td>3 </td><td>20</td><td>98</td><td>15</td></tr>\n",
       "\t<tr><td>10</td><td>3 </td><td>50</td><td>98</td><td>45</td></tr>\n",
       "\t<tr><td>11</td><td>3 </td><td>65</td><td>65</td><td>65</td></tr>\n",
       "\t<tr><td>12</td><td>3 </td><td>45</td><td>85</td><td>32</td></tr>\n",
       "\t<tr><td>17</td><td>5 </td><td>65</td><td>68</td><td>98</td></tr>\n",
       "\t<tr><td>18</td><td>5 </td><td>80</td><td>78</td><td>90</td></tr>\n",
       "\t<tr><td>19</td><td>5 </td><td>89</td><td>68</td><td>87</td></tr>\n",
       "\t<tr><td>20</td><td>5 </td><td>78</td><td>83</td><td>58</td></tr>\n",
       "</tbody>\n",
       "</table>\n"
      ],
      "text/latex": [
       "\\begin{tabular}{r|lllll}\n",
       " id & class & math & english & science\\\\\n",
       "\\hline\n",
       "\t  1 & 1  & 50 & 98 & 50\\\\\n",
       "\t  2 & 1  & 60 & 97 & 60\\\\\n",
       "\t  3 & 1  & 45 & 86 & 78\\\\\n",
       "\t  4 & 1  & 30 & 98 & 58\\\\\n",
       "\t  9 & 3  & 20 & 98 & 15\\\\\n",
       "\t 10 & 3  & 50 & 98 & 45\\\\\n",
       "\t 11 & 3  & 65 & 65 & 65\\\\\n",
       "\t 12 & 3  & 45 & 85 & 32\\\\\n",
       "\t 17 & 5  & 65 & 68 & 98\\\\\n",
       "\t 18 & 5  & 80 & 78 & 90\\\\\n",
       "\t 19 & 5  & 89 & 68 & 87\\\\\n",
       "\t 20 & 5  & 78 & 83 & 58\\\\\n",
       "\\end{tabular}\n"
      ],
      "text/markdown": [
       "\n",
       "| id | class | math | english | science |\n",
       "|---|---|---|---|---|\n",
       "|  1 | 1  | 50 | 98 | 50 |\n",
       "|  2 | 1  | 60 | 97 | 60 |\n",
       "|  3 | 1  | 45 | 86 | 78 |\n",
       "|  4 | 1  | 30 | 98 | 58 |\n",
       "|  9 | 3  | 20 | 98 | 15 |\n",
       "| 10 | 3  | 50 | 98 | 45 |\n",
       "| 11 | 3  | 65 | 65 | 65 |\n",
       "| 12 | 3  | 45 | 85 | 32 |\n",
       "| 17 | 5  | 65 | 68 | 98 |\n",
       "| 18 | 5  | 80 | 78 | 90 |\n",
       "| 19 | 5  | 89 | 68 | 87 |\n",
       "| 20 | 5  | 78 | 83 | 58 |\n",
       "\n"
      ],
      "text/plain": [
       "   id class math english science\n",
       "1   1 1     50   98      50     \n",
       "2   2 1     60   97      60     \n",
       "3   3 1     45   86      78     \n",
       "4   4 1     30   98      58     \n",
       "5   9 3     20   98      15     \n",
       "6  10 3     50   98      45     \n",
       "7  11 3     65   65      65     \n",
       "8  12 3     45   85      32     \n",
       "9  17 5     65   68      98     \n",
       "10 18 5     80   78      90     \n",
       "11 19 5     89   68      87     \n",
       "12 20 5     78   83      58     "
      ]
     },
     "metadata": {},
     "output_type": "display_data"
    }
   ],
   "source": [
    "exam %>% filter(class == 1 | class == 3 | class == 5)  # 1, 3, 5 반에 해당되면 추출"
   ]
  },
  {
   "cell_type": "markdown",
   "metadata": {},
   "source": [
    "#### %in% 기호 이용하기"
   ]
  },
  {
   "cell_type": "code",
   "execution_count": 18,
   "metadata": {},
   "outputs": [
    {
     "data": {
      "text/html": [
       "<table>\n",
       "<thead><tr><th scope=col>id</th><th scope=col>class</th><th scope=col>math</th><th scope=col>english</th><th scope=col>science</th></tr></thead>\n",
       "<tbody>\n",
       "\t<tr><td> 1</td><td>1 </td><td>50</td><td>98</td><td>50</td></tr>\n",
       "\t<tr><td> 2</td><td>1 </td><td>60</td><td>97</td><td>60</td></tr>\n",
       "\t<tr><td> 3</td><td>1 </td><td>45</td><td>86</td><td>78</td></tr>\n",
       "\t<tr><td> 4</td><td>1 </td><td>30</td><td>98</td><td>58</td></tr>\n",
       "\t<tr><td> 9</td><td>3 </td><td>20</td><td>98</td><td>15</td></tr>\n",
       "\t<tr><td>10</td><td>3 </td><td>50</td><td>98</td><td>45</td></tr>\n",
       "\t<tr><td>11</td><td>3 </td><td>65</td><td>65</td><td>65</td></tr>\n",
       "\t<tr><td>12</td><td>3 </td><td>45</td><td>85</td><td>32</td></tr>\n",
       "\t<tr><td>17</td><td>5 </td><td>65</td><td>68</td><td>98</td></tr>\n",
       "\t<tr><td>18</td><td>5 </td><td>80</td><td>78</td><td>90</td></tr>\n",
       "\t<tr><td>19</td><td>5 </td><td>89</td><td>68</td><td>87</td></tr>\n",
       "\t<tr><td>20</td><td>5 </td><td>78</td><td>83</td><td>58</td></tr>\n",
       "</tbody>\n",
       "</table>\n"
      ],
      "text/latex": [
       "\\begin{tabular}{r|lllll}\n",
       " id & class & math & english & science\\\\\n",
       "\\hline\n",
       "\t  1 & 1  & 50 & 98 & 50\\\\\n",
       "\t  2 & 1  & 60 & 97 & 60\\\\\n",
       "\t  3 & 1  & 45 & 86 & 78\\\\\n",
       "\t  4 & 1  & 30 & 98 & 58\\\\\n",
       "\t  9 & 3  & 20 & 98 & 15\\\\\n",
       "\t 10 & 3  & 50 & 98 & 45\\\\\n",
       "\t 11 & 3  & 65 & 65 & 65\\\\\n",
       "\t 12 & 3  & 45 & 85 & 32\\\\\n",
       "\t 17 & 5  & 65 & 68 & 98\\\\\n",
       "\t 18 & 5  & 80 & 78 & 90\\\\\n",
       "\t 19 & 5  & 89 & 68 & 87\\\\\n",
       "\t 20 & 5  & 78 & 83 & 58\\\\\n",
       "\\end{tabular}\n"
      ],
      "text/markdown": [
       "\n",
       "| id | class | math | english | science |\n",
       "|---|---|---|---|---|\n",
       "|  1 | 1  | 50 | 98 | 50 |\n",
       "|  2 | 1  | 60 | 97 | 60 |\n",
       "|  3 | 1  | 45 | 86 | 78 |\n",
       "|  4 | 1  | 30 | 98 | 58 |\n",
       "|  9 | 3  | 20 | 98 | 15 |\n",
       "| 10 | 3  | 50 | 98 | 45 |\n",
       "| 11 | 3  | 65 | 65 | 65 |\n",
       "| 12 | 3  | 45 | 85 | 32 |\n",
       "| 17 | 5  | 65 | 68 | 98 |\n",
       "| 18 | 5  | 80 | 78 | 90 |\n",
       "| 19 | 5  | 89 | 68 | 87 |\n",
       "| 20 | 5  | 78 | 83 | 58 |\n",
       "\n"
      ],
      "text/plain": [
       "   id class math english science\n",
       "1   1 1     50   98      50     \n",
       "2   2 1     60   97      60     \n",
       "3   3 1     45   86      78     \n",
       "4   4 1     30   98      58     \n",
       "5   9 3     20   98      15     \n",
       "6  10 3     50   98      45     \n",
       "7  11 3     65   65      65     \n",
       "8  12 3     45   85      32     \n",
       "9  17 5     65   68      98     \n",
       "10 18 5     80   78      90     \n",
       "11 19 5     89   68      87     \n",
       "12 20 5     78   83      58     "
      ]
     },
     "metadata": {},
     "output_type": "display_data"
    }
   ],
   "source": [
    "exam %>% filter(class %in% c(1,3,5))  # 1, 3, 5 반에 해당하면 추출"
   ]
  },
  {
   "cell_type": "markdown",
   "metadata": {},
   "source": [
    "### 추출한 행으로 데이터 만들기"
   ]
  },
  {
   "cell_type": "code",
   "execution_count": 19,
   "metadata": {},
   "outputs": [
    {
     "data": {
      "text/html": [
       "46.25"
      ],
      "text/latex": [
       "46.25"
      ],
      "text/markdown": [
       "46.25"
      ],
      "text/plain": [
       "[1] 46.25"
      ]
     },
     "metadata": {},
     "output_type": "display_data"
    },
    {
     "data": {
      "text/html": [
       "61.25"
      ],
      "text/latex": [
       "61.25"
      ],
      "text/markdown": [
       "61.25"
      ],
      "text/plain": [
       "[1] 61.25"
      ]
     },
     "metadata": {},
     "output_type": "display_data"
    }
   ],
   "source": [
    "class1 <- exam %>% filter(class == 1)  # class가 1인 행 추출, class1에 할당\n",
    "class2 <- exam %>% filter(class == 2)  # class가 2인 행 추출, class2에 할당\n",
    "\n",
    "mean(class1$math)                      # 1반 수학 점수 평균 구하기\n",
    "mean(class2$math)                      # 2반 수학 점수 평균 구하기"
   ]
  },
  {
   "cell_type": "markdown",
   "metadata": {},
   "source": [
    "### R에서 사용하는 기호들\n",
    "\n",
    "논리 연산자  |기능\n",
    ":-----------:|---\n",
    "<            | 작다\n",
    "<=           | 작거나 같다\n",
    ">            | 크다\n",
    ">=           | 크거나 같다\n",
    "==           | 같다\n",
    "!=           | 같지 않다\n",
    "│            | 또는\n",
    "&            | 그리고\n",
    "%in%         | 매칭 확인\n",
    "\n",
    "\n",
    "\n",
    "### R에서 사용하는 기호들\n",
    "\n",
    "산술 연산자|기능\n",
    ":---------:|---\n",
    "+          | 더하기\n",
    "-          | 빼기\n",
    "*          | 곱하기\n",
    "/          | 나누기\n",
    "^ , **     | 제곱\n",
    "%/%        | 나눗셈의 몫\n",
    "%%         | 나눗셈의 나머지"
   ]
  },
  {
   "cell_type": "markdown",
   "metadata": {},
   "source": [
    "### 혼자서 해보기\n",
    "\n",
    "`mpg` 데이터를 이용해 분석 문제를 해결해 보세요.\n",
    "\n",
    "- Q1. 자동차 배기량에 따라 고속도로 연비가 다른지 알아보려고 합니다. `displ`(배기량)이 `4` 이하인 자동차와 `5` 이상인 자동차 중 어떤 자동차의 `hwy`(고속도로 연비)가 평균적으로 더 높은지 알아보세요."
   ]
  },
  {
   "cell_type": "code",
   "execution_count": 20,
   "metadata": {},
   "outputs": [
    {
     "data": {
      "text/html": [
       "25.9631901840491"
      ],
      "text/latex": [
       "25.9631901840491"
      ],
      "text/markdown": [
       "25.9631901840491"
      ],
      "text/plain": [
       "[1] 25.96319"
      ]
     },
     "metadata": {},
     "output_type": "display_data"
    },
    {
     "data": {
      "text/html": [
       "18.1388888888889"
      ],
      "text/latex": [
       "18.1388888888889"
      ],
      "text/markdown": [
       "18.1388888888889"
      ],
      "text/plain": [
       "[1] 18.13889"
      ]
     },
     "metadata": {},
     "output_type": "display_data"
    }
   ],
   "source": [
    "mpg <- as.data.frame(ggplot2::mpg)\n",
    "\n",
    "mean((mpg %>% filter(displ<=4))$hwy)\n",
    "mean((mpg %>% filter(displ>5))$hwy)"
   ]
  },
  {
   "cell_type": "markdown",
   "metadata": {},
   "source": [
    "- Q2. 자동차 제조 회사에 따라 도시 연비가 다른지 알아보려고 합니다. `\"audi\"`와 `\"toyota\"` 중 어느 `manufacturer`(자동차 제조 회사)의 `cty`(도시 연비)가 평균적으로 더 높은지 알아보세요."
   ]
  },
  {
   "cell_type": "code",
   "execution_count": 21,
   "metadata": {},
   "outputs": [
    {
     "data": {
      "text/html": [
       "17.6111111111111"
      ],
      "text/latex": [
       "17.6111111111111"
      ],
      "text/markdown": [
       "17.6111111111111"
      ],
      "text/plain": [
       "[1] 17.61111"
      ]
     },
     "metadata": {},
     "output_type": "display_data"
    },
    {
     "data": {
      "text/html": [
       "18.5294117647059"
      ],
      "text/latex": [
       "18.5294117647059"
      ],
      "text/markdown": [
       "18.5294117647059"
      ],
      "text/plain": [
       "[1] 18.52941"
      ]
     },
     "metadata": {},
     "output_type": "display_data"
    }
   ],
   "source": [
    "mean( (mpg %>% filter(manufacturer==\"audi\"))$cty )\n",
    "mean( (mpg %>% filter(manufacturer==\"toyota\"))$cty )"
   ]
  },
  {
   "cell_type": "markdown",
   "metadata": {},
   "source": [
    "- Q3. `\"chevrolet\"`, `\"ford\"`, `\"honda\"` 자동차의 고속도로 연비 평균을 알아보려고 합니다. 이 회사들의 자동차를 추출한 뒤 `hwy` 전체 평균을 구해보세요."
   ]
  },
  {
   "cell_type": "code",
   "execution_count": 22,
   "metadata": {},
   "outputs": [
    {
     "data": {
      "text/html": [
       "22.5094339622642"
      ],
      "text/latex": [
       "22.5094339622642"
      ],
      "text/markdown": [
       "22.5094339622642"
      ],
      "text/plain": [
       "[1] 22.50943"
      ]
     },
     "metadata": {},
     "output_type": "display_data"
    }
   ],
   "source": [
    "mean( (mpg %>% filter(manufacturer %in% c(\"chevrolet\", \"ford\", \"honda\")))$hwy ) "
   ]
  },
  {
   "cell_type": "markdown",
   "metadata": {},
   "source": [
    "#### 힌트\n",
    "\n",
    "\n",
    "Q1. 특정 조건에 해당하는 데이터를 추출해서 평균을 구하면 해결할 수 있는 문제입니다. `filter()`를 이용해 `displ` 변수가 특정 값을 지닌 행을 추출해 새로운 변수에 할당한 다음 평균을 구해보세요.\n",
    "\n",
    "Q2. 앞 문제와 동일한 절차로 해결하면 됩니다. 단, 변수의 값이 숫자가 아니라 문자라는 점이 다릅니다.\n",
    "\n",
    "Q3. '여러 조건 중 하나 이상 충족'하면 추출하도록 `filter()` 함수를 구성해보세요. 이렇게 추출한 데이터로 평균을 구하면 됩니다. `%in%`를 이용하면 코드를 짧게 만들 수 있습니다.\n",
    "\n",
    "\n",
    "\n",
    "### 정답\n",
    "\n",
    "Q1. 자동차 배기량에 따라 고속도로 연비가 다른지 알아보려고 합니다. `displ`(배기량)이 `4` 이하인 자동차와 `5` 이상인 자동차 중 어떤 자동차의 `hwy`(고속도로 연비)가 평균적으로 더 높은지 알아보세요.\n",
    "\n",
    "```\n",
    "mpg <- as.data.frame(ggplot2::mpg)   # mpg 데이터 불러오기\n",
    "\n",
    "mpg_a <- mpg %>% filter(displ <= 4)  # displ 4 이하 추출\n",
    "mpg_b <- mpg %>% filter(displ >= 5)  # displ 5 이상 추출\n",
    "\n",
    "mean(mpg_a$hwy)  # displ 4 이하 hwy 평균\n",
    "mean(mpg_b$hwy)  # displ 5 이상 hwy 평균\n",
    "```\n",
    "\n",
    "\n",
    "\n",
    "Q2. 자동차 제조 회사에 따라 도시 연비가 다른지 알아보려고 합니다. `\"audi\"`와 `\"toyota\"` 중 어느 `manufacturer`(자동차 제조 회사)의 `cty`(도시 연비)가 평균적으로 더 높은지 알아보세요.\n",
    "\n",
    "```\n",
    "mpg_audi <- mpg %>% filter(manufacturer == \"audi\")      # audi 추출\n",
    "mpg_toyota <- mpg %>% filter(manufacturer == \"toyota\")  # toyota 추출\n",
    "\n",
    "mean(mpg_audi$cty)    # audi의 cty 평균\n",
    "mean(mpg_toyota$cty)  # toyota의 cty 평균\n",
    "```\n",
    "\n",
    "\n",
    "\n",
    "Q3. `\"chevrolet\"`, `\"ford\"`, `\"honda\"` 자동차의 고속도로 연비 평균을 알아보려고 합니다. 이 회사들의 자동차를 추출한 뒤 `hwy` 전체 평균을 구해보세요.\n",
    "\n",
    "```\n",
    "# manufacturer가 chevrolet, ford, honda에 해당하면 추출\n",
    "mpg_new <- mpg %>% filter(manufacturer %in% c(\"chevrolet\", \"ford\", \"honda\"))\n",
    "mean(mpg_new$hwy)\n",
    "```"
   ]
  },
  {
   "cell_type": "markdown",
   "metadata": {},
   "source": [
    "### 06-3. 필요한 변수만 추출하기\n",
    "\n",
    "![](img/06_02.png)"
   ]
  },
  {
   "cell_type": "code",
   "execution_count": 23,
   "metadata": {},
   "outputs": [
    {
     "data": {
      "text/html": [
       "<table>\n",
       "<thead><tr><th scope=col>math</th></tr></thead>\n",
       "<tbody>\n",
       "\t<tr><td>50</td></tr>\n",
       "\t<tr><td>60</td></tr>\n",
       "\t<tr><td>45</td></tr>\n",
       "\t<tr><td>30</td></tr>\n",
       "\t<tr><td>25</td></tr>\n",
       "\t<tr><td>50</td></tr>\n",
       "\t<tr><td>80</td></tr>\n",
       "\t<tr><td>90</td></tr>\n",
       "\t<tr><td>20</td></tr>\n",
       "\t<tr><td>50</td></tr>\n",
       "\t<tr><td>65</td></tr>\n",
       "\t<tr><td>45</td></tr>\n",
       "\t<tr><td>46</td></tr>\n",
       "\t<tr><td>48</td></tr>\n",
       "\t<tr><td>75</td></tr>\n",
       "\t<tr><td>58</td></tr>\n",
       "\t<tr><td>65</td></tr>\n",
       "\t<tr><td>80</td></tr>\n",
       "\t<tr><td>89</td></tr>\n",
       "\t<tr><td>78</td></tr>\n",
       "</tbody>\n",
       "</table>\n"
      ],
      "text/latex": [
       "\\begin{tabular}{r|l}\n",
       " math\\\\\n",
       "\\hline\n",
       "\t 50\\\\\n",
       "\t 60\\\\\n",
       "\t 45\\\\\n",
       "\t 30\\\\\n",
       "\t 25\\\\\n",
       "\t 50\\\\\n",
       "\t 80\\\\\n",
       "\t 90\\\\\n",
       "\t 20\\\\\n",
       "\t 50\\\\\n",
       "\t 65\\\\\n",
       "\t 45\\\\\n",
       "\t 46\\\\\n",
       "\t 48\\\\\n",
       "\t 75\\\\\n",
       "\t 58\\\\\n",
       "\t 65\\\\\n",
       "\t 80\\\\\n",
       "\t 89\\\\\n",
       "\t 78\\\\\n",
       "\\end{tabular}\n"
      ],
      "text/markdown": [
       "\n",
       "| math |\n",
       "|---|\n",
       "| 50 |\n",
       "| 60 |\n",
       "| 45 |\n",
       "| 30 |\n",
       "| 25 |\n",
       "| 50 |\n",
       "| 80 |\n",
       "| 90 |\n",
       "| 20 |\n",
       "| 50 |\n",
       "| 65 |\n",
       "| 45 |\n",
       "| 46 |\n",
       "| 48 |\n",
       "| 75 |\n",
       "| 58 |\n",
       "| 65 |\n",
       "| 80 |\n",
       "| 89 |\n",
       "| 78 |\n",
       "\n"
      ],
      "text/plain": [
       "   math\n",
       "1  50  \n",
       "2  60  \n",
       "3  45  \n",
       "4  30  \n",
       "5  25  \n",
       "6  50  \n",
       "7  80  \n",
       "8  90  \n",
       "9  20  \n",
       "10 50  \n",
       "11 65  \n",
       "12 45  \n",
       "13 46  \n",
       "14 48  \n",
       "15 75  \n",
       "16 58  \n",
       "17 65  \n",
       "18 80  \n",
       "19 89  \n",
       "20 78  "
      ]
     },
     "metadata": {},
     "output_type": "display_data"
    }
   ],
   "source": [
    "exam %>% select(math)  # math 추출"
   ]
  },
  {
   "cell_type": "code",
   "execution_count": 25,
   "metadata": {},
   "outputs": [
    {
     "data": {
      "text/html": [
       "<table>\n",
       "<thead><tr><th scope=col>english</th></tr></thead>\n",
       "<tbody>\n",
       "\t<tr><td>98</td></tr>\n",
       "\t<tr><td>97</td></tr>\n",
       "\t<tr><td>86</td></tr>\n",
       "\t<tr><td>98</td></tr>\n",
       "\t<tr><td>80</td></tr>\n",
       "\t<tr><td>89</td></tr>\n",
       "\t<tr><td>90</td></tr>\n",
       "\t<tr><td>78</td></tr>\n",
       "\t<tr><td>98</td></tr>\n",
       "\t<tr><td>98</td></tr>\n",
       "\t<tr><td>65</td></tr>\n",
       "\t<tr><td>85</td></tr>\n",
       "\t<tr><td>98</td></tr>\n",
       "\t<tr><td>87</td></tr>\n",
       "\t<tr><td>56</td></tr>\n",
       "\t<tr><td>98</td></tr>\n",
       "\t<tr><td>68</td></tr>\n",
       "\t<tr><td>78</td></tr>\n",
       "\t<tr><td>68</td></tr>\n",
       "\t<tr><td>83</td></tr>\n",
       "</tbody>\n",
       "</table>\n"
      ],
      "text/latex": [
       "\\begin{tabular}{r|l}\n",
       " english\\\\\n",
       "\\hline\n",
       "\t 98\\\\\n",
       "\t 97\\\\\n",
       "\t 86\\\\\n",
       "\t 98\\\\\n",
       "\t 80\\\\\n",
       "\t 89\\\\\n",
       "\t 90\\\\\n",
       "\t 78\\\\\n",
       "\t 98\\\\\n",
       "\t 98\\\\\n",
       "\t 65\\\\\n",
       "\t 85\\\\\n",
       "\t 98\\\\\n",
       "\t 87\\\\\n",
       "\t 56\\\\\n",
       "\t 98\\\\\n",
       "\t 68\\\\\n",
       "\t 78\\\\\n",
       "\t 68\\\\\n",
       "\t 83\\\\\n",
       "\\end{tabular}\n"
      ],
      "text/markdown": [
       "\n",
       "| english |\n",
       "|---|\n",
       "| 98 |\n",
       "| 97 |\n",
       "| 86 |\n",
       "| 98 |\n",
       "| 80 |\n",
       "| 89 |\n",
       "| 90 |\n",
       "| 78 |\n",
       "| 98 |\n",
       "| 98 |\n",
       "| 65 |\n",
       "| 85 |\n",
       "| 98 |\n",
       "| 87 |\n",
       "| 56 |\n",
       "| 98 |\n",
       "| 68 |\n",
       "| 78 |\n",
       "| 68 |\n",
       "| 83 |\n",
       "\n"
      ],
      "text/plain": [
       "   english\n",
       "1  98     \n",
       "2  97     \n",
       "3  86     \n",
       "4  98     \n",
       "5  80     \n",
       "6  89     \n",
       "7  90     \n",
       "8  78     \n",
       "9  98     \n",
       "10 98     \n",
       "11 65     \n",
       "12 85     \n",
       "13 98     \n",
       "14 87     \n",
       "15 56     \n",
       "16 98     \n",
       "17 68     \n",
       "18 78     \n",
       "19 68     \n",
       "20 83     "
      ]
     },
     "metadata": {},
     "output_type": "display_data"
    }
   ],
   "source": [
    "exam %>% select(english)  # english 추출"
   ]
  },
  {
   "cell_type": "markdown",
   "metadata": {},
   "source": [
    "#### 여러 변수 추출하기"
   ]
  },
  {
   "cell_type": "code",
   "execution_count": 26,
   "metadata": {},
   "outputs": [
    {
     "data": {
      "text/html": [
       "<table>\n",
       "<thead><tr><th scope=col>class</th><th scope=col>math</th><th scope=col>english</th></tr></thead>\n",
       "<tbody>\n",
       "\t<tr><td>1 </td><td>50</td><td>98</td></tr>\n",
       "\t<tr><td>1 </td><td>60</td><td>97</td></tr>\n",
       "\t<tr><td>1 </td><td>45</td><td>86</td></tr>\n",
       "\t<tr><td>1 </td><td>30</td><td>98</td></tr>\n",
       "\t<tr><td>2 </td><td>25</td><td>80</td></tr>\n",
       "\t<tr><td>2 </td><td>50</td><td>89</td></tr>\n",
       "\t<tr><td>2 </td><td>80</td><td>90</td></tr>\n",
       "\t<tr><td>2 </td><td>90</td><td>78</td></tr>\n",
       "\t<tr><td>3 </td><td>20</td><td>98</td></tr>\n",
       "\t<tr><td>3 </td><td>50</td><td>98</td></tr>\n",
       "\t<tr><td>3 </td><td>65</td><td>65</td></tr>\n",
       "\t<tr><td>3 </td><td>45</td><td>85</td></tr>\n",
       "\t<tr><td>4 </td><td>46</td><td>98</td></tr>\n",
       "\t<tr><td>4 </td><td>48</td><td>87</td></tr>\n",
       "\t<tr><td>4 </td><td>75</td><td>56</td></tr>\n",
       "\t<tr><td>4 </td><td>58</td><td>98</td></tr>\n",
       "\t<tr><td>5 </td><td>65</td><td>68</td></tr>\n",
       "\t<tr><td>5 </td><td>80</td><td>78</td></tr>\n",
       "\t<tr><td>5 </td><td>89</td><td>68</td></tr>\n",
       "\t<tr><td>5 </td><td>78</td><td>83</td></tr>\n",
       "</tbody>\n",
       "</table>\n"
      ],
      "text/latex": [
       "\\begin{tabular}{r|lll}\n",
       " class & math & english\\\\\n",
       "\\hline\n",
       "\t 1  & 50 & 98\\\\\n",
       "\t 1  & 60 & 97\\\\\n",
       "\t 1  & 45 & 86\\\\\n",
       "\t 1  & 30 & 98\\\\\n",
       "\t 2  & 25 & 80\\\\\n",
       "\t 2  & 50 & 89\\\\\n",
       "\t 2  & 80 & 90\\\\\n",
       "\t 2  & 90 & 78\\\\\n",
       "\t 3  & 20 & 98\\\\\n",
       "\t 3  & 50 & 98\\\\\n",
       "\t 3  & 65 & 65\\\\\n",
       "\t 3  & 45 & 85\\\\\n",
       "\t 4  & 46 & 98\\\\\n",
       "\t 4  & 48 & 87\\\\\n",
       "\t 4  & 75 & 56\\\\\n",
       "\t 4  & 58 & 98\\\\\n",
       "\t 5  & 65 & 68\\\\\n",
       "\t 5  & 80 & 78\\\\\n",
       "\t 5  & 89 & 68\\\\\n",
       "\t 5  & 78 & 83\\\\\n",
       "\\end{tabular}\n"
      ],
      "text/markdown": [
       "\n",
       "| class | math | english |\n",
       "|---|---|---|\n",
       "| 1  | 50 | 98 |\n",
       "| 1  | 60 | 97 |\n",
       "| 1  | 45 | 86 |\n",
       "| 1  | 30 | 98 |\n",
       "| 2  | 25 | 80 |\n",
       "| 2  | 50 | 89 |\n",
       "| 2  | 80 | 90 |\n",
       "| 2  | 90 | 78 |\n",
       "| 3  | 20 | 98 |\n",
       "| 3  | 50 | 98 |\n",
       "| 3  | 65 | 65 |\n",
       "| 3  | 45 | 85 |\n",
       "| 4  | 46 | 98 |\n",
       "| 4  | 48 | 87 |\n",
       "| 4  | 75 | 56 |\n",
       "| 4  | 58 | 98 |\n",
       "| 5  | 65 | 68 |\n",
       "| 5  | 80 | 78 |\n",
       "| 5  | 89 | 68 |\n",
       "| 5  | 78 | 83 |\n",
       "\n"
      ],
      "text/plain": [
       "   class math english\n",
       "1  1     50   98     \n",
       "2  1     60   97     \n",
       "3  1     45   86     \n",
       "4  1     30   98     \n",
       "5  2     25   80     \n",
       "6  2     50   89     \n",
       "7  2     80   90     \n",
       "8  2     90   78     \n",
       "9  3     20   98     \n",
       "10 3     50   98     \n",
       "11 3     65   65     \n",
       "12 3     45   85     \n",
       "13 4     46   98     \n",
       "14 4     48   87     \n",
       "15 4     75   56     \n",
       "16 4     58   98     \n",
       "17 5     65   68     \n",
       "18 5     80   78     \n",
       "19 5     89   68     \n",
       "20 5     78   83     "
      ]
     },
     "metadata": {},
     "output_type": "display_data"
    }
   ],
   "source": [
    "exam %>% select(class, math, english)  # class, math, english 변수 추출"
   ]
  },
  {
   "cell_type": "markdown",
   "metadata": {},
   "source": [
    "#### 변수 제외하기"
   ]
  },
  {
   "cell_type": "code",
   "execution_count": 27,
   "metadata": {},
   "outputs": [
    {
     "data": {
      "text/html": [
       "<table>\n",
       "<thead><tr><th scope=col>id</th><th scope=col>class</th><th scope=col>english</th><th scope=col>science</th></tr></thead>\n",
       "<tbody>\n",
       "\t<tr><td> 1</td><td>1 </td><td>98</td><td>50</td></tr>\n",
       "\t<tr><td> 2</td><td>1 </td><td>97</td><td>60</td></tr>\n",
       "\t<tr><td> 3</td><td>1 </td><td>86</td><td>78</td></tr>\n",
       "\t<tr><td> 4</td><td>1 </td><td>98</td><td>58</td></tr>\n",
       "\t<tr><td> 5</td><td>2 </td><td>80</td><td>65</td></tr>\n",
       "\t<tr><td> 6</td><td>2 </td><td>89</td><td>98</td></tr>\n",
       "\t<tr><td> 7</td><td>2 </td><td>90</td><td>45</td></tr>\n",
       "\t<tr><td> 8</td><td>2 </td><td>78</td><td>25</td></tr>\n",
       "\t<tr><td> 9</td><td>3 </td><td>98</td><td>15</td></tr>\n",
       "\t<tr><td>10</td><td>3 </td><td>98</td><td>45</td></tr>\n",
       "\t<tr><td>11</td><td>3 </td><td>65</td><td>65</td></tr>\n",
       "\t<tr><td>12</td><td>3 </td><td>85</td><td>32</td></tr>\n",
       "\t<tr><td>13</td><td>4 </td><td>98</td><td>65</td></tr>\n",
       "\t<tr><td>14</td><td>4 </td><td>87</td><td>12</td></tr>\n",
       "\t<tr><td>15</td><td>4 </td><td>56</td><td>78</td></tr>\n",
       "\t<tr><td>16</td><td>4 </td><td>98</td><td>65</td></tr>\n",
       "\t<tr><td>17</td><td>5 </td><td>68</td><td>98</td></tr>\n",
       "\t<tr><td>18</td><td>5 </td><td>78</td><td>90</td></tr>\n",
       "\t<tr><td>19</td><td>5 </td><td>68</td><td>87</td></tr>\n",
       "\t<tr><td>20</td><td>5 </td><td>83</td><td>58</td></tr>\n",
       "</tbody>\n",
       "</table>\n"
      ],
      "text/latex": [
       "\\begin{tabular}{r|llll}\n",
       " id & class & english & science\\\\\n",
       "\\hline\n",
       "\t  1 & 1  & 98 & 50\\\\\n",
       "\t  2 & 1  & 97 & 60\\\\\n",
       "\t  3 & 1  & 86 & 78\\\\\n",
       "\t  4 & 1  & 98 & 58\\\\\n",
       "\t  5 & 2  & 80 & 65\\\\\n",
       "\t  6 & 2  & 89 & 98\\\\\n",
       "\t  7 & 2  & 90 & 45\\\\\n",
       "\t  8 & 2  & 78 & 25\\\\\n",
       "\t  9 & 3  & 98 & 15\\\\\n",
       "\t 10 & 3  & 98 & 45\\\\\n",
       "\t 11 & 3  & 65 & 65\\\\\n",
       "\t 12 & 3  & 85 & 32\\\\\n",
       "\t 13 & 4  & 98 & 65\\\\\n",
       "\t 14 & 4  & 87 & 12\\\\\n",
       "\t 15 & 4  & 56 & 78\\\\\n",
       "\t 16 & 4  & 98 & 65\\\\\n",
       "\t 17 & 5  & 68 & 98\\\\\n",
       "\t 18 & 5  & 78 & 90\\\\\n",
       "\t 19 & 5  & 68 & 87\\\\\n",
       "\t 20 & 5  & 83 & 58\\\\\n",
       "\\end{tabular}\n"
      ],
      "text/markdown": [
       "\n",
       "| id | class | english | science |\n",
       "|---|---|---|---|\n",
       "|  1 | 1  | 98 | 50 |\n",
       "|  2 | 1  | 97 | 60 |\n",
       "|  3 | 1  | 86 | 78 |\n",
       "|  4 | 1  | 98 | 58 |\n",
       "|  5 | 2  | 80 | 65 |\n",
       "|  6 | 2  | 89 | 98 |\n",
       "|  7 | 2  | 90 | 45 |\n",
       "|  8 | 2  | 78 | 25 |\n",
       "|  9 | 3  | 98 | 15 |\n",
       "| 10 | 3  | 98 | 45 |\n",
       "| 11 | 3  | 65 | 65 |\n",
       "| 12 | 3  | 85 | 32 |\n",
       "| 13 | 4  | 98 | 65 |\n",
       "| 14 | 4  | 87 | 12 |\n",
       "| 15 | 4  | 56 | 78 |\n",
       "| 16 | 4  | 98 | 65 |\n",
       "| 17 | 5  | 68 | 98 |\n",
       "| 18 | 5  | 78 | 90 |\n",
       "| 19 | 5  | 68 | 87 |\n",
       "| 20 | 5  | 83 | 58 |\n",
       "\n"
      ],
      "text/plain": [
       "   id class english science\n",
       "1   1 1     98      50     \n",
       "2   2 1     97      60     \n",
       "3   3 1     86      78     \n",
       "4   4 1     98      58     \n",
       "5   5 2     80      65     \n",
       "6   6 2     89      98     \n",
       "7   7 2     90      45     \n",
       "8   8 2     78      25     \n",
       "9   9 3     98      15     \n",
       "10 10 3     98      45     \n",
       "11 11 3     65      65     \n",
       "12 12 3     85      32     \n",
       "13 13 4     98      65     \n",
       "14 14 4     87      12     \n",
       "15 15 4     56      78     \n",
       "16 16 4     98      65     \n",
       "17 17 5     68      98     \n",
       "18 18 5     78      90     \n",
       "19 19 5     68      87     \n",
       "20 20 5     83      58     "
      ]
     },
     "metadata": {},
     "output_type": "display_data"
    }
   ],
   "source": [
    "exam %>% select(-math)  # math 제외"
   ]
  },
  {
   "cell_type": "code",
   "execution_count": 28,
   "metadata": {},
   "outputs": [
    {
     "data": {
      "text/html": [
       "<table>\n",
       "<thead><tr><th scope=col>id</th><th scope=col>class</th><th scope=col>science</th></tr></thead>\n",
       "<tbody>\n",
       "\t<tr><td> 1</td><td>1 </td><td>50</td></tr>\n",
       "\t<tr><td> 2</td><td>1 </td><td>60</td></tr>\n",
       "\t<tr><td> 3</td><td>1 </td><td>78</td></tr>\n",
       "\t<tr><td> 4</td><td>1 </td><td>58</td></tr>\n",
       "\t<tr><td> 5</td><td>2 </td><td>65</td></tr>\n",
       "\t<tr><td> 6</td><td>2 </td><td>98</td></tr>\n",
       "\t<tr><td> 7</td><td>2 </td><td>45</td></tr>\n",
       "\t<tr><td> 8</td><td>2 </td><td>25</td></tr>\n",
       "\t<tr><td> 9</td><td>3 </td><td>15</td></tr>\n",
       "\t<tr><td>10</td><td>3 </td><td>45</td></tr>\n",
       "\t<tr><td>11</td><td>3 </td><td>65</td></tr>\n",
       "\t<tr><td>12</td><td>3 </td><td>32</td></tr>\n",
       "\t<tr><td>13</td><td>4 </td><td>65</td></tr>\n",
       "\t<tr><td>14</td><td>4 </td><td>12</td></tr>\n",
       "\t<tr><td>15</td><td>4 </td><td>78</td></tr>\n",
       "\t<tr><td>16</td><td>4 </td><td>65</td></tr>\n",
       "\t<tr><td>17</td><td>5 </td><td>98</td></tr>\n",
       "\t<tr><td>18</td><td>5 </td><td>90</td></tr>\n",
       "\t<tr><td>19</td><td>5 </td><td>87</td></tr>\n",
       "\t<tr><td>20</td><td>5 </td><td>58</td></tr>\n",
       "</tbody>\n",
       "</table>\n"
      ],
      "text/latex": [
       "\\begin{tabular}{r|lll}\n",
       " id & class & science\\\\\n",
       "\\hline\n",
       "\t  1 & 1  & 50\\\\\n",
       "\t  2 & 1  & 60\\\\\n",
       "\t  3 & 1  & 78\\\\\n",
       "\t  4 & 1  & 58\\\\\n",
       "\t  5 & 2  & 65\\\\\n",
       "\t  6 & 2  & 98\\\\\n",
       "\t  7 & 2  & 45\\\\\n",
       "\t  8 & 2  & 25\\\\\n",
       "\t  9 & 3  & 15\\\\\n",
       "\t 10 & 3  & 45\\\\\n",
       "\t 11 & 3  & 65\\\\\n",
       "\t 12 & 3  & 32\\\\\n",
       "\t 13 & 4  & 65\\\\\n",
       "\t 14 & 4  & 12\\\\\n",
       "\t 15 & 4  & 78\\\\\n",
       "\t 16 & 4  & 65\\\\\n",
       "\t 17 & 5  & 98\\\\\n",
       "\t 18 & 5  & 90\\\\\n",
       "\t 19 & 5  & 87\\\\\n",
       "\t 20 & 5  & 58\\\\\n",
       "\\end{tabular}\n"
      ],
      "text/markdown": [
       "\n",
       "| id | class | science |\n",
       "|---|---|---|\n",
       "|  1 | 1  | 50 |\n",
       "|  2 | 1  | 60 |\n",
       "|  3 | 1  | 78 |\n",
       "|  4 | 1  | 58 |\n",
       "|  5 | 2  | 65 |\n",
       "|  6 | 2  | 98 |\n",
       "|  7 | 2  | 45 |\n",
       "|  8 | 2  | 25 |\n",
       "|  9 | 3  | 15 |\n",
       "| 10 | 3  | 45 |\n",
       "| 11 | 3  | 65 |\n",
       "| 12 | 3  | 32 |\n",
       "| 13 | 4  | 65 |\n",
       "| 14 | 4  | 12 |\n",
       "| 15 | 4  | 78 |\n",
       "| 16 | 4  | 65 |\n",
       "| 17 | 5  | 98 |\n",
       "| 18 | 5  | 90 |\n",
       "| 19 | 5  | 87 |\n",
       "| 20 | 5  | 58 |\n",
       "\n"
      ],
      "text/plain": [
       "   id class science\n",
       "1   1 1     50     \n",
       "2   2 1     60     \n",
       "3   3 1     78     \n",
       "4   4 1     58     \n",
       "5   5 2     65     \n",
       "6   6 2     98     \n",
       "7   7 2     45     \n",
       "8   8 2     25     \n",
       "9   9 3     15     \n",
       "10 10 3     45     \n",
       "11 11 3     65     \n",
       "12 12 3     32     \n",
       "13 13 4     65     \n",
       "14 14 4     12     \n",
       "15 15 4     78     \n",
       "16 16 4     65     \n",
       "17 17 5     98     \n",
       "18 18 5     90     \n",
       "19 19 5     87     \n",
       "20 20 5     58     "
      ]
     },
     "metadata": {},
     "output_type": "display_data"
    }
   ],
   "source": [
    "exam %>% select(-math, -english)  # math, english 제외"
   ]
  },
  {
   "cell_type": "markdown",
   "metadata": {},
   "source": [
    "### dplyr 함수 조합하기"
   ]
  },
  {
   "cell_type": "code",
   "execution_count": 29,
   "metadata": {},
   "outputs": [
    {
     "data": {
      "text/html": [
       "<table>\n",
       "<thead><tr><th scope=col>english</th></tr></thead>\n",
       "<tbody>\n",
       "\t<tr><td>98</td></tr>\n",
       "\t<tr><td>97</td></tr>\n",
       "\t<tr><td>86</td></tr>\n",
       "\t<tr><td>98</td></tr>\n",
       "</tbody>\n",
       "</table>\n"
      ],
      "text/latex": [
       "\\begin{tabular}{r|l}\n",
       " english\\\\\n",
       "\\hline\n",
       "\t 98\\\\\n",
       "\t 97\\\\\n",
       "\t 86\\\\\n",
       "\t 98\\\\\n",
       "\\end{tabular}\n"
      ],
      "text/markdown": [
       "\n",
       "| english |\n",
       "|---|\n",
       "| 98 |\n",
       "| 97 |\n",
       "| 86 |\n",
       "| 98 |\n",
       "\n"
      ],
      "text/plain": [
       "  english\n",
       "1 98     \n",
       "2 97     \n",
       "3 86     \n",
       "4 98     "
      ]
     },
     "metadata": {},
     "output_type": "display_data"
    }
   ],
   "source": [
    "# class가 1인 행만 추출한 다음 english 추출\n",
    "exam %>% filter(class == 1) %>% select(english)"
   ]
  },
  {
   "cell_type": "markdown",
   "metadata": {},
   "source": [
    "#### 가독성 있게 줄 바꾸기"
   ]
  },
  {
   "cell_type": "code",
   "execution_count": 30,
   "metadata": {},
   "outputs": [
    {
     "data": {
      "text/html": [
       "<table>\n",
       "<thead><tr><th scope=col>english</th></tr></thead>\n",
       "<tbody>\n",
       "\t<tr><td>98</td></tr>\n",
       "\t<tr><td>97</td></tr>\n",
       "\t<tr><td>86</td></tr>\n",
       "\t<tr><td>98</td></tr>\n",
       "</tbody>\n",
       "</table>\n"
      ],
      "text/latex": [
       "\\begin{tabular}{r|l}\n",
       " english\\\\\n",
       "\\hline\n",
       "\t 98\\\\\n",
       "\t 97\\\\\n",
       "\t 86\\\\\n",
       "\t 98\\\\\n",
       "\\end{tabular}\n"
      ],
      "text/markdown": [
       "\n",
       "| english |\n",
       "|---|\n",
       "| 98 |\n",
       "| 97 |\n",
       "| 86 |\n",
       "| 98 |\n",
       "\n"
      ],
      "text/plain": [
       "  english\n",
       "1 98     \n",
       "2 97     \n",
       "3 86     \n",
       "4 98     "
      ]
     },
     "metadata": {},
     "output_type": "display_data"
    }
   ],
   "source": [
    "exam %>%\n",
    "  filter(class == 1) %>%  # class가 1인 행 추출\n",
    "  select(english)         # english 추출"
   ]
  },
  {
   "cell_type": "markdown",
   "metadata": {},
   "source": [
    "#### 일부만 출력하기"
   ]
  },
  {
   "cell_type": "code",
   "execution_count": 31,
   "metadata": {},
   "outputs": [
    {
     "data": {
      "text/html": [
       "<table>\n",
       "<thead><tr><th scope=col>id</th><th scope=col>math</th></tr></thead>\n",
       "<tbody>\n",
       "\t<tr><td>1 </td><td>50</td></tr>\n",
       "\t<tr><td>2 </td><td>60</td></tr>\n",
       "\t<tr><td>3 </td><td>45</td></tr>\n",
       "\t<tr><td>4 </td><td>30</td></tr>\n",
       "\t<tr><td>5 </td><td>25</td></tr>\n",
       "\t<tr><td>6 </td><td>50</td></tr>\n",
       "</tbody>\n",
       "</table>\n"
      ],
      "text/latex": [
       "\\begin{tabular}{r|ll}\n",
       " id & math\\\\\n",
       "\\hline\n",
       "\t 1  & 50\\\\\n",
       "\t 2  & 60\\\\\n",
       "\t 3  & 45\\\\\n",
       "\t 4  & 30\\\\\n",
       "\t 5  & 25\\\\\n",
       "\t 6  & 50\\\\\n",
       "\\end{tabular}\n"
      ],
      "text/markdown": [
       "\n",
       "| id | math |\n",
       "|---|---|\n",
       "| 1  | 50 |\n",
       "| 2  | 60 |\n",
       "| 3  | 45 |\n",
       "| 4  | 30 |\n",
       "| 5  | 25 |\n",
       "| 6  | 50 |\n",
       "\n"
      ],
      "text/plain": [
       "  id math\n",
       "1 1  50  \n",
       "2 2  60  \n",
       "3 3  45  \n",
       "4 4  30  \n",
       "5 5  25  \n",
       "6 6  50  "
      ]
     },
     "metadata": {},
     "output_type": "display_data"
    }
   ],
   "source": [
    "exam %>%\n",
    "  select(id, math) %>%  # id, math 추출\n",
    "  head                  # 앞부분 6행까지 추출"
   ]
  },
  {
   "cell_type": "markdown",
   "metadata": {},
   "source": [
    "#### 일부만 출력하기"
   ]
  },
  {
   "cell_type": "code",
   "execution_count": 32,
   "metadata": {},
   "outputs": [
    {
     "data": {
      "text/html": [
       "<table>\n",
       "<thead><tr><th scope=col>id</th><th scope=col>math</th></tr></thead>\n",
       "<tbody>\n",
       "\t<tr><td> 1</td><td>50</td></tr>\n",
       "\t<tr><td> 2</td><td>60</td></tr>\n",
       "\t<tr><td> 3</td><td>45</td></tr>\n",
       "\t<tr><td> 4</td><td>30</td></tr>\n",
       "\t<tr><td> 5</td><td>25</td></tr>\n",
       "\t<tr><td> 6</td><td>50</td></tr>\n",
       "\t<tr><td> 7</td><td>80</td></tr>\n",
       "\t<tr><td> 8</td><td>90</td></tr>\n",
       "\t<tr><td> 9</td><td>20</td></tr>\n",
       "\t<tr><td>10</td><td>50</td></tr>\n",
       "</tbody>\n",
       "</table>\n"
      ],
      "text/latex": [
       "\\begin{tabular}{r|ll}\n",
       " id & math\\\\\n",
       "\\hline\n",
       "\t  1 & 50\\\\\n",
       "\t  2 & 60\\\\\n",
       "\t  3 & 45\\\\\n",
       "\t  4 & 30\\\\\n",
       "\t  5 & 25\\\\\n",
       "\t  6 & 50\\\\\n",
       "\t  7 & 80\\\\\n",
       "\t  8 & 90\\\\\n",
       "\t  9 & 20\\\\\n",
       "\t 10 & 50\\\\\n",
       "\\end{tabular}\n"
      ],
      "text/markdown": [
       "\n",
       "| id | math |\n",
       "|---|---|\n",
       "|  1 | 50 |\n",
       "|  2 | 60 |\n",
       "|  3 | 45 |\n",
       "|  4 | 30 |\n",
       "|  5 | 25 |\n",
       "|  6 | 50 |\n",
       "|  7 | 80 |\n",
       "|  8 | 90 |\n",
       "|  9 | 20 |\n",
       "| 10 | 50 |\n",
       "\n"
      ],
      "text/plain": [
       "   id math\n",
       "1   1 50  \n",
       "2   2 60  \n",
       "3   3 45  \n",
       "4   4 30  \n",
       "5   5 25  \n",
       "6   6 50  \n",
       "7   7 80  \n",
       "8   8 90  \n",
       "9   9 20  \n",
       "10 10 50  "
      ]
     },
     "metadata": {},
     "output_type": "display_data"
    }
   ],
   "source": [
    "exam %>%\n",
    "  select(id, math) %>%  # id, math 추출\n",
    "  head(10)              # 앞부분 10행까지 추출"
   ]
  },
  {
   "cell_type": "markdown",
   "metadata": {},
   "source": [
    "### 혼자서 해보기\n",
    "\n",
    "`mpg` 데이터를 이용해서 분석 문제를 해결해보세요.\n",
    "\n",
    "- Q1. `mpg` 데이터는 11개 변수로 구성되어 있습니다. 이 중 일부만 추출해서 분석에 활용하려고 합니다. `mpg` 데이터에서 `class`(자동차 종류), `cty`(도시 연비) 변수를 추출해 새로운 데이터를 만드세요. 새로 만든 데이터의 일부를 출력해서 두 변수로만 구성되어 있는지 확인하세요."
   ]
  },
  {
   "cell_type": "code",
   "execution_count": 33,
   "metadata": {},
   "outputs": [
    {
     "data": {
      "text/html": [
       "<table>\n",
       "<thead><tr><th scope=col>class</th><th scope=col>cty</th></tr></thead>\n",
       "<tbody>\n",
       "\t<tr><td>compact</td><td>18     </td></tr>\n",
       "\t<tr><td>compact</td><td>21     </td></tr>\n",
       "\t<tr><td>compact</td><td>20     </td></tr>\n",
       "\t<tr><td>compact</td><td>21     </td></tr>\n",
       "\t<tr><td>compact</td><td>16     </td></tr>\n",
       "\t<tr><td>compact</td><td>18     </td></tr>\n",
       "</tbody>\n",
       "</table>\n"
      ],
      "text/latex": [
       "\\begin{tabular}{r|ll}\n",
       " class & cty\\\\\n",
       "\\hline\n",
       "\t compact & 18     \\\\\n",
       "\t compact & 21     \\\\\n",
       "\t compact & 20     \\\\\n",
       "\t compact & 21     \\\\\n",
       "\t compact & 16     \\\\\n",
       "\t compact & 18     \\\\\n",
       "\\end{tabular}\n"
      ],
      "text/markdown": [
       "\n",
       "| class | cty |\n",
       "|---|---|\n",
       "| compact | 18      |\n",
       "| compact | 21      |\n",
       "| compact | 20      |\n",
       "| compact | 21      |\n",
       "| compact | 16      |\n",
       "| compact | 18      |\n",
       "\n"
      ],
      "text/plain": [
       "  class   cty\n",
       "1 compact 18 \n",
       "2 compact 21 \n",
       "3 compact 20 \n",
       "4 compact 21 \n",
       "5 compact 16 \n",
       "6 compact 18 "
      ]
     },
     "metadata": {},
     "output_type": "display_data"
    }
   ],
   "source": [
    "new_data <- mpg %>% select(class, cty)\n",
    "head(new_data)"
   ]
  },
  {
   "cell_type": "markdown",
   "metadata": {},
   "source": [
    "- Q2. 자동차 종류에 따라 도시 연비가 다른지 알아보려고 합니다. 앞에서 추출한 데이터를 이용해서 `class`(자동차 종류)가 `\"suv\"`인 자동차와 `\"compact\"`인 자동차 중 어떤 자동차의 `cty`(도시 연비)가 더 높은지 알아보세요."
   ]
  },
  {
   "cell_type": "code",
   "execution_count": 34,
   "metadata": {},
   "outputs": [
    {
     "data": {
      "text/html": [
       "13.5"
      ],
      "text/latex": [
       "13.5"
      ],
      "text/markdown": [
       "13.5"
      ],
      "text/plain": [
       "[1] 13.5"
      ]
     },
     "metadata": {},
     "output_type": "display_data"
    },
    {
     "data": {
      "text/html": [
       "20.1276595744681"
      ],
      "text/latex": [
       "20.1276595744681"
      ],
      "text/markdown": [
       "20.1276595744681"
      ],
      "text/plain": [
       "[1] 20.12766"
      ]
     },
     "metadata": {},
     "output_type": "display_data"
    }
   ],
   "source": [
    "mean( (new_data %>% filter(class==\"suv\"))$cty )\n",
    "mean( (new_data %>% filter(class==\"compact\"))$cty )"
   ]
  },
  {
   "cell_type": "markdown",
   "metadata": {},
   "source": [
    "#### 힌트\n",
    "\n",
    "Q1. `select()`로 변수를 추출해서 새로운 데이터를 만들어 보세요.\n",
    "\n",
    "Q2. `filter()`로 조건에 해당하는 데이터를 추출한 뒤 평균을 구하면 해결할 수 있습니다."
   ]
  },
  {
   "cell_type": "markdown",
   "metadata": {},
   "source": [
    "### 정답\n",
    "\n",
    "Q1. `mpg` 데이터는 11개 변수로 구성되어 있습니다. 이 중 일부만 추출해서 분석에 활용하려고 합니다. `mpg` 데이터에서 `class`(자동차 종류), `cty`(도시 연비) 변수를 추출해 새로운 데이터를 만드세요. 새로 만든 데이터의 일부를 출력해서 두 변수로만 구성되어 있는지 확인하세요.\n",
    "\n",
    "```\n",
    "mpg <- as.data.frame(ggplot2::mpg)  # mpg 데이터 불러오기\n",
    "\n",
    "df <- mpg %>% select(class, cty)    # class, cty 변수 추출\n",
    "head(df)                            # df 일부 출력\n",
    "\n",
    "```\n",
    "\n",
    "\n",
    "\n",
    "Q2. 자동차 종류에 따라 도시 연비가 다른지 알아보려고 합니다. 앞에서 추출한 데이터를 이용해서 `class`(자동차 종류)가 `\"suv\"`인 자동차와 `\"compact\"`인 자동차 중 어떤 자동차의 `cty`(도시 연비)가 더 높은지 알아보세요.\n",
    "```\n",
    "df_suv <- df %>% filter(class == \"suv\")          # class가 suv인 행 추출\n",
    "df_compact <- df %>% filter(class == \"compact\")  # class가 compact인 행 추출\n",
    "\n",
    "mean(df_suv$cty)                                 # suv의 cty 평균\n",
    "mean(df_compact$cty)                             # compact의 cty 평균\n",
    "```"
   ]
  },
  {
   "cell_type": "code",
   "execution_count": 24,
   "metadata": {},
   "outputs": [
    {
     "ename": "ERROR",
     "evalue": "Error in parse(text = x, srcfile = src): 길이가 0인 변수명을 사용하려고 시도했습니다\n",
     "output_type": "error",
     "traceback": [
      "Error in parse(text = x, srcfile = src): 길이가 0인 변수명을 사용하려고 시도했습니다\nTraceback:\n"
     ]
    }
   ],
   "source": [
    "## 06-4. 순서대로 정렬하기\n",
    "\n",
    "![](img/06_03.png)\n",
    "\n",
    "\n",
    "\n",
    "### 오름차순으로 정렬하기\n",
    "\n",
    "```{r}\n",
    "exam %>% arrange(math)  # math 오름차순 정렬\n",
    "```\n",
    "\n",
    "\n",
    "\n",
    "### 내림차순으로 정렬하기\n",
    "\n",
    "```{r}\n",
    "exam %>% arrange(desc(math))  # math 내림차순 정렬\n",
    "```\n",
    "\n",
    "\n",
    "\n",
    "#### 정렬 기준 변수 여러개 지정\n",
    "\n",
    "```{r}\n",
    "exam %>% arrange(class, math)  # class 및 math 오름차순 정렬\n",
    "```\n",
    "\n",
    "\n",
    "\n",
    "### 혼자서 해보기\n",
    "\n",
    "`mpg` 데이터를 이용해서 분석 문제를 해결해보세요.\n",
    "\n",
    "- `\"audi\"`에서 생산한 자동차 중에 어떤 자동차 모델의 `hwy`(고속도로 연비)가 높은지 알아보려고 합니다. `\"audi\"`에서 생산한 자동차 중 `hwy`가 1~5위에 해당하는 자동차의 데이터를 출력하세요.\n",
    "```{r}\n",
    "mpg %>% filter(manufacturer==\"audi\") %>% \n",
    "  arrange(desc(hwy)) %>% \n",
    "  head(5)\n",
    "```\n",
    "\n",
    "\n",
    "\n",
    "#### 힌트\n",
    "\n",
    "\n",
    "`filter()`를 이용해 `\"audi\"`에서 생산한 자동차만 추출하고, `arrange()`로 `hwy`를 내림차순 정렬하면 됩니다. `head()`를 이용하면 이 중 특정 순위에 해당하는 자동차만 출력할 수 있습니다.\n",
    "\n",
    "\n",
    "\n",
    "#### 정답\n",
    "```{r}\n",
    "mpg <- as.data.frame(ggplot2::mpg)          # mpg 데이터 불러오기\n",
    "\n",
    "mpg %>% filter(manufacturer == \"audi\") %>%  # audi 추출\n",
    "  arrange(desc(hwy)) %>%                    # hwy 내림차순 정렬\n",
    "  head(5)                                   # 5행까지 출력\n",
    "```\n",
    "\n",
    "\n",
    "\n",
    "\n",
    "\n",
    "## 06-5. 파생변수 추가하기\n",
    "\n",
    "![](img/06_04.png)\n",
    "\n",
    "\n",
    "\n",
    "```{r}\n",
    "exam %>%\n",
    "  mutate(total = math + english + science) %>%  # 총합 변수 추가\n",
    "  head                                          # 일부 추출 => \"total\" 변수가 생성\n",
    "```\n",
    "\n",
    "\n",
    "\n",
    "#### 여러 파생변수 한 번에 추가하기\n",
    "```{r}\n",
    "exam %>%\n",
    "  mutate(total = math + english + science,          # 총합 변수 추가\n",
    "         mean = (math + english + science)/3) %>%   # 총평균 변수 추가\n",
    "  head                                              # 일부 추출\n",
    "```\n",
    "\n",
    "\n",
    "\n",
    "#### `mutate()`에 `ifelse()` 적용하기\n",
    "```{r}\n",
    "exam %>%\n",
    "  mutate(test = ifelse(science >= 60, \"pass\", \"fail\")) %>%\n",
    "  head\n",
    "```\n",
    "\n",
    "\n",
    "\n",
    "#### 추가한 변수를 `dplyr` 코드에 바로 활용하기\n",
    "```{r}\n",
    "exam %>%\n",
    "  mutate(total = math + english + science) %>%  # 총합 변수 추가\n",
    "  arrange(total) %>%                            # 총합 변수 기준 정렬\n",
    "  head                                          # 일부 추출\n",
    "```\n",
    "\n",
    "\n",
    "\n",
    "### 혼자서 해보기\n",
    "\n",
    "`mpg` 데이터를 이용해서 분석 문제를 해결해보세요.\n",
    " \n",
    "`mpg` 데이터는 연비를 나타내는 변수가 `hwy`(고속도로 연비), `cty`(도시 연비) 두 종류로 분리되어 있습니다. 두 변수를 각각 활용하는 대신 하나의 통합 연비 변수를 만들어 분석하려고 합니다.\n",
    "\n",
    "- Q1. `mpg` 데이터 복사본을 만들고, `cty`와 `hwy`를 더한 '합산 연비 변수'를 추가하세요.\n",
    "```{r}\n",
    "mpg_copy <- mpg\n",
    "\n",
    "mpg_copy <- mpg_copy %>% mutate(total_hwy=cty + hwy)\n",
    "```\n",
    "\n",
    "\n",
    "- Q2. 앞에서 만든 '합산 연비 변수'를 2로 나눠 '평균 연비 변수'를 추가세요.\n",
    "```{r}\n",
    "mpg_copy <- mpg_copy %>% mutate(mean_hwy=total_hwy/2)\n",
    "```\n",
    "\n",
    "- Q3. '평균 연비 변수'가 가장 높은 자동차 3종의 데이터를 출력하세요.\n",
    "```{r}\n",
    "mpg_copy %>% arrange(desc(mean_hwy)) %>% \n",
    "  head(3)\n",
    "```\n",
    "\n",
    "\n",
    "- Q4. 1~3번 문제를 해결할 수 있는 하나로 연결된 `dplyr` 구문을 만들어 출력하세요. 데이터는 복사본 대신 `mpg` 원본을 이용하세요.\n",
    "```{r}\n",
    "mpg %>% mutate(mean_hwy = (hwy + cty)/2) %>% \n",
    "  arrange(desc(mean_hwy)) %>% \n",
    "  head(3)\n",
    "```\n",
    "\n",
    "\n",
    "\n",
    "#### 힌트\n",
    "\n",
    "\n",
    "Q1. `mutate()`를 적용한 결과를 `<-`를 이용해 데이터 프레임에 할당하는 형태로 코드를 작성하면 기존 데이터 프레임에 변수가 추가됩니다. \n",
    "\n",
    "Q3. `arrange()`와 `head()`를 조합하면 됩니다.\n",
    "\n",
    "Q4. 앞에서 만든 코드들을 `%>%`를 이용해 연결하면 됩니다. 변수를 추가하는 작업을 하나의 `mutate()` 구성하면 코드를 더 간결하게 만들 수 있습니다.\n",
    "\n",
    "\n",
    "\n",
    "\n",
    "### 정답\n",
    "\n",
    "Q1. `mpg` 데이터 복사본을 만들고, `cty`와 `hwy`를 더한 '합산 연비 변수'를 추가하세요.\n",
    "```{r}\n",
    "mpg <- as.data.frame(ggplot2::mpg)                # mpg 데이터 불러오기\n",
    "mpg_new <- mpg                                    # 복사본 만들기\n",
    "\n",
    "mpg_new <- mpg_new %>% mutate(total = cty + hwy)  # 합산 변수 만들기\n",
    "```\n",
    "\n",
    "\n",
    "\n",
    "Q2. 앞에서 만든 '합산 연비 변수'를 2로 나눠 '평균 연비 변수'를 추가세요.\n",
    "```{r}\n",
    "mpg_new <- mpg_new %>% mutate(mean = total/2)     # 평균 변수 만들기\n",
    "```\n",
    "\n",
    "\n",
    "\n",
    "Q3. '평균 연비 변수'가 가장 높은 자동차 3종의 데이터를 출력하세요.\n",
    "```{r}\n",
    "mpg_new %>%\n",
    "  arrange(desc(mean)) %>%  # 내림차순 정렬\n",
    "  head(3)                  # 상위 3행 출력\n",
    "```\n",
    "\n",
    "\n",
    "\n",
    "Q4. 1~3번 문제를 해결할 수 있는 하나로 연결된 `dplyr` 구문을 만들어 출력하세요. 데이터는 복사본 대신 `mpg` 원본을 이용하세요.\n",
    "```{r}\n",
    "mpg %>%\n",
    "  mutate(total = cty + hwy,   # 합산 변수 만들기\n",
    "         mean = total/2) %>%  # 평균 변수 만들기\n",
    "  arrange(desc(mean)) %>%     # 내림차순 정렬\n",
    "  head(3)                     # 상위 3행 출력\n",
    "```\n",
    "\n",
    "\n",
    "\n",
    "\n",
    "## 06-6. 집단별로 요약하기\n",
    "\n",
    "![](img/06_05.png)\n",
    "\n",
    "\n",
    "\n",
    "### 집단별로 요약하기\n",
    "\n",
    "#### 요약하기 - `summarise()`\n",
    "```{r}\n",
    "exam %>% summarise(mean_math = mean(math))  # math 평균 산출\n",
    "```\n",
    "\n",
    "\n",
    "\n",
    "#### 집단별로 요약하기 - `group_by()`\n",
    "```{r}\n",
    "exam %>%\n",
    "  group_by(class) %>%                # class별로 분리\n",
    "  summarise(mean_math = mean(math))  # math 평균 산출\n",
    "```\n",
    "\n",
    "\n",
    "\n",
    "#### 여러 요약통계량 한 번에 산출하기\n",
    "```{r}\n",
    "exam %>%\n",
    "  group_by(class) %>%                   # class별로 분리\n",
    "  summarise(mean_math = mean(math),     # math 평균\n",
    "            sum_math = sum(math),       # math 합계\n",
    "            median_math = median(math), # math 중앙값\n",
    "            n = n())                    # 학생 수\n",
    "```\n",
    "\n",
    "\n",
    "\n",
    "#### 자주 사용하는 요약통계량 함수\n",
    "\n",
    "함수    |의미\n",
    "--------|-----\n",
    "mean()  |평균\n",
    "sd()    |표준편차\n",
    "sum()   |합계\n",
    "median()|중앙값\n",
    "min()   |최솟값\n",
    "max()   |최댓값\n",
    "n()     |빈도\n",
    "\n",
    "\n",
    "\n",
    "#### 각 집단별로 다시 집단 나누기\n",
    "```{r}\n",
    "mpg %>%\n",
    "  group_by(manufacturer, drv) %>%      # 회사별, 구방방식별 분리\n",
    "  summarise(mean_cty = mean(cty)) %>%  # cty 평균 산출\n",
    "  head(10)                             # 일부 출력\n",
    "```\n",
    "\n",
    "\n",
    "\n",
    "\n",
    "### dplyr 조합하기\n",
    "\n",
    "> 문제) 회사별로 \"suv\" 자동차의 도시 및 고속도로 통합 연비 평균을 구해 내림차순으로 정렬하고, 1~5위까지 출력하기\n",
    "\n",
    "#### 분석 절차 생각해보기\n",
    "\n",
    "절차  |기능                |dplyr 함수\n",
    ":----:|--------------------|---------\n",
    "1     |회사별로 분리       |group_by()\n",
    "2     |suv 추출            |filter()\n",
    "3     |통합 연비 변수 생성 |mutate()\n",
    "4     |통합 연비 평균 산출 |summarise()\n",
    "5     |내림차순 정렬       |arrange()\n",
    "6     |1~5위까지 출력      |head()\n",
    "\n",
    "\n",
    "\n",
    "#### dplyr 조합하기\n",
    "\n",
    "```{r}\n",
    "mpg %>%\n",
    "  group_by(manufacturer) %>%           # 회사별로 분리\n",
    "  filter(class == \"suv\") %>%           # suv 추출\n",
    "  mutate(tot = (cty+hwy)/2) %>%        # 통합 연비 변수 생성\n",
    "  summarise(mean_tot = mean(tot)) %>%  # 통합 연비 평균 산출\n",
    "  arrange(desc(mean_tot)) %>%          # 내림차순 정렬\n",
    "  head(5)                              # 1~5위까지 출력\n",
    "```\n",
    "\n",
    "\n",
    "\n",
    "### 혼자서 해보기\n",
    "\n",
    "`mpg` 데이터를 이용해서 분석 문제를 해결해 보세요.\n",
    "\n",
    "- Q1. `mpg` 데이터의 `class`는 `\"suv\"`, `\"compact\"` 등 자동차를 특징에 따라 일곱 종류로 분류한 변수입니다. 어떤 차종의 연비가 높은지 비교해보려고 합니다. `class`별 `cty` 평균을 구해보세요.\n",
    "```{r}\n",
    "mpg %>%\n",
    "  group_by(class) %>% \n",
    "  summarise(mean = mean(cty))\n",
    "```\n",
    "\n",
    "\n",
    "- Q2. 앞 문제의 출력 결과는 `class` 값 알파벳 순으로 정렬되어 있습니다. 어떤 차종의 도시 연비가 높은지 쉽게 알아볼 수 있도록 `cty` 평균이 높은 순으로 정렬해 출력하세요.\n",
    "```{r}\n",
    "mpg %>% \n",
    "  group_by(class) %>% \n",
    "  summarise(mean = mean(cty)) %>% \n",
    "  arrange(desc(mean))\n",
    "```\n",
    "\n",
    "\n",
    "- Q3. 어떤 회사 자동차의 `hwy`(고속도로 연비)가 가장 높은지 알아보려고 합니다. `hwy` 평균이 가장 높은 회사 세 곳을 출력하세요.\n",
    "```{r}\n",
    "mpg %>% \n",
    "  group_by(manufacturer) %>% \n",
    "  summarise(mean = mean(hwy)) %>% \n",
    "  arrange(desc(mean)) %>% \n",
    "  head(3)\n",
    "```\n",
    "\n",
    "\n",
    "- Q4. 어떤 회사에서 `\"compact\"`(경차) 차종을 가장 많이 생산하는지 알아보려고 합니다. 각 회사별 `\"compact\"` 차종 수를 내림차순으로 정렬해 출력하세요.\n",
    "```{r}\n",
    "mpg %>% \n",
    "  group_by(manufacturer) %>% \n",
    "  filter(class == \"compact\") %>% \n",
    "  summarise(num_car = n()) %>% \n",
    "  arrange(desc(num_car))\n",
    "```\n",
    "\n",
    "\n",
    "\n",
    "\n",
    "#### 힌트\n",
    "\n",
    "\n",
    "Q1. `group_by()`를 이용해 `class` 별로 나눈 뒤 `summarise()`를 이용해 `cty` 평균을 구하면 됩니다.\n",
    "\n",
    "Q2. 앞에서 만든 코드를 `%>%`로 연결하고 내림차순으로 정렬하는 코드를 추가하면 됩니다.\n",
    "\n",
    "Q3. 2번 문제와 같은 절차로 코드를 구성하고, 일부만 출력하도록 `head()`를 추가하면 됩니다.\n",
    "\n",
    "Q4. `filter()`를 이용해 `\"compact\"` 차종만 남긴 후 회사별 자동차 수를 구하면 됩니다. 자동차 수는 데이터가 몇 행으로 구성되는지 빈도를 구하면 알 수 있습니다. 빈도는 `n()`을 이용해 구할 수 있습니다.\n",
    "\n",
    "\n",
    "\n",
    "### 정답\n",
    "\n",
    "\n",
    "Q1. `mpg` 데이터의 `class`는 `\"suv\"`, `\"compact\"` 등 자동차를 특징에 따라 일곱 종류로 분류한 변수입니다. 어떤 차종의 연비가 높은지 비교해보려고 합니다. `class`별 `cty` 평균을 구해보세요.\n",
    "```{r}\n",
    "mpg <- as.data.frame(ggplot2::mpg)  # mpg 데이터 불러오기\n",
    "\n",
    "mpg %>%\n",
    "  group_by(class) %>%               # class별 분리\n",
    "  summarise(mean_cty = mean(cty))   # cty 평균 구하기\n",
    "```\n",
    "\n",
    "\n",
    "\n",
    "Q2. 앞 문제의 출력 결과는 `class` 값 알파벳 순으로 정렬되어 있습니다. 어떤 차종의 도시 연비가 높은지 쉽게 알아볼 수 있도록 `cty` 평균이 높은 순으로 정렬해 출력하세요.\n",
    "```{r}\n",
    "mpg %>%\n",
    "  group_by(class) %>%                  # class별 분리\n",
    "  summarise(mean_cty = mean(cty)) %>%  # cty 평균 구하기\n",
    "  arrange(desc(mean_cty))              # 내림차순 정렬하기\n",
    "```\n",
    "\n",
    "\n",
    "\n",
    "Q3. 어떤 회사 자동차의 `hwy`(고속도로 연비)가 가장 높은지 알아보려고 합니다. `hwy` 평균이 가장 높은 회사 세 곳을 출력하세요.\n",
    "```{r}\n",
    "mpg %>%\n",
    "  group_by(manufacturer) %>%           # manufacturer별 분리\n",
    "  summarise(mean_hwy = mean(hwy)) %>%  # hwy 평균 구하기\n",
    "  arrange(desc(mean_hwy)) %>%          # 내림차순 정렬하기\n",
    "  head(3)                              # 상위 3행 출력\n",
    "```\n",
    "\n",
    "\n",
    "\n",
    "Q4. 어떤 회사에서 `\"compact\"`(경차) 차종을 가장 많이 생산하는지 알아보려고 합니다. 각 회사별 `\"compact\"` 차종 수를 내림차순으로 정렬해 출력하세요.\n",
    "```{r}\n",
    "mpg %>%\n",
    "  filter(class == \"compact\") %>%  # compact 추출\n",
    "  group_by(manufacturer) %>%      # manufacturer별 분리\n",
    "  summarise(count = n()) %>%      # 빈도 구하기\n",
    "  arrange(desc(count))            # 내림차순 정렬\n",
    "```\n",
    "\n",
    "\n",
    "\n",
    "\n",
    "## 06-7. 데이터 합치기\n",
    "\n",
    "#### 가로로 합치기\n",
    "\n",
    "![](img/06_06.png)\n",
    "\n",
    "#### 세로로 합치기\n",
    "\n",
    "![](img/06_07.png)\n",
    "\n",
    "\n",
    "\n",
    "### 가로로 합치기\n",
    "\n",
    "#### 데이터 생성\n",
    "```{r}\n",
    "# 중간고사 데이터 생성\n",
    "test1 <- data.frame(id = c(1, 2, 3, 4, 5),\n",
    "                    midterm = c(60, 80, 70, 90, 85))\n",
    "\n",
    "# 기말고사 데이터 생성\n",
    "test2 <- data.frame(id = c(1, 2, 3, 4, 5),\n",
    "                    final = c(70, 83, 65, 95, 80))\n",
    "\n",
    "```\n",
    "\n",
    "\n",
    "\n",
    "```{r}\n",
    "test1  # test1 출력\n",
    "test2  # test2 출력\n",
    "```\n",
    "\n",
    "\n",
    "\n",
    "#### id 기준으로 합치기\n",
    "```{r}\n",
    "total <- left_join(test1, test2, by=\"id\")    # id 기준으로 합쳐 total에 할당\n",
    "total                                        # total 출력\n",
    "```\n",
    "\n",
    "> [주의] by에 변수명을 지정할 때 변수명 앞 뒤에 겹따옴표 입력\n",
    "\n",
    "\n",
    "\n",
    "### 다른 데이터 활용해 변수 추가하기\n",
    "\n",
    "#### 반별 담임교사 명단 생성\n",
    "```{r}\n",
    "name <- data.frame(class = c(1, 2, 3, 4, 5),\n",
    "                   teacher = c(\"kim\", \"lee\", \"park\", \"choi\", \"jung\"))\n",
    "name\n",
    "```\n",
    "\n",
    "\n",
    "\n",
    "#### class 기준 합치기\n",
    "```{r}\n",
    "exam_new <- left_join(exam, name, by=\"class\")\n",
    "exam_new\n",
    "```\n",
    "\n",
    "\n",
    "\n",
    "### 세로로 합치기\n",
    "\n",
    "#### 데이터 생성\n",
    "```{r}\n",
    "# 학생 1~5번 시험 데이터 생성\n",
    "group_a <- data.frame(id = c(1, 2, 3, 4, 5),\n",
    "                      test = c(60, 80, 70, 90, 85))\n",
    "\n",
    "# 학생 6~10번 시험 데이터 생성\n",
    "group_b <- data.frame(id = c(6, 7, 8, 9, 10),\n",
    "                      test = c(70, 83, 65, 95, 80))\n",
    "```\n",
    "\n",
    "\n",
    "\n",
    "```{r}\n",
    "group_a  # group_a 출력\n",
    "group_b  # group_b 출력\n",
    "```\n",
    "\n",
    "\n",
    "\n",
    "#### 세로로 합치기\n",
    "```{r}\n",
    "group_all <- bind_rows(group_a, group_b)  # 데이터 합쳐서 group_all에 할당\n",
    "group_all                                 # group_all 출력\n",
    "```\n",
    "\n",
    "\n",
    "\n",
    "\n",
    "### 혼자서 해보기\n",
    "\n",
    "`mpg` 데이터를 이용해서 분석 문제를 해결해 보세요.\n",
    "\n",
    "`mpg` 데이터의 `fl` 변수는 자동차에 사용하는 연료(fuel)를 의미합니다. 아래는 자동차 연료별 가격을 나타낸 표입니다.\n",
    "\n",
    "fl  |연료 종류  |가격(갤런당 USD)\n",
    ":--:|:---------:|:---:\n",
    "c   |CNG        |2.35\n",
    "d   |diesel     |2.38\n",
    "e   |ethanol E85|2.11\n",
    "p   |premium    |2.76\n",
    "r   |regular    |2.22\n",
    "\n",
    "우선 이 정보를 이용해서 연료와 가격으로 구성된 데이터 프레임을 만들어 보세요.\n",
    "\n",
    "```{r}\n",
    "fuel <- data.frame(fl = c(\"c\", \"d\", \"e\", \"p\", \"r\"),\n",
    "                   price_fl = c(2.35, 2.38, 2.11, 2.76, 2.22),\n",
    "                   stringsAsFactors = F)\n",
    "fuel  # 출력\n",
    "```\n",
    "\n",
    "- Q1. `mpg` 데이터에는 연료 종류를 나타낸 `fl` 변수는 있지만 연료 가격을 나타낸 변수는 없습니다. 위에서 만든 `fuel` 데이터를 이용해서 `mpg` 데이터에 `price_fl`(연료 가격) 변수를 추가하세요.\n",
    "```{r}\n",
    "left_join(mpg, fuel, by=\"fl\")\n",
    "```\n",
    "\n",
    "\n",
    "- Q2. 연료 가격 변수가 잘 추가됐는지 확인하기 위해서 `model`, `fl`, `price_fl` 변수를 추출해 앞부분 5행을 출력해 보세요.\n",
    "```{r}\n",
    "left_join(mpg, fuel, by=\"fl\") %>% \n",
    "  select(model, fl, price_fl) %>% \n",
    "  head(5)\n",
    "```\n",
    "\n",
    "\n",
    "\n",
    "\n",
    "#### 힌트\n",
    "\n",
    "\n",
    "Q1. `left_join()`을 이용해서 `mpg` 데이터에 `fuel` 데이터를 합치면 됩니다. 두 데이터에 공통으로 들어있는 변수를 기준으로 삼아야 합니다.\n",
    "\n",
    "Q2. `select()`와 `head()`를 조합하면 됩니다.\n",
    "\n",
    "\n",
    "\n",
    "\n",
    "### 정답\n",
    "\n",
    "Q1. `mpg` 데이터에는 연료 종류를 나타낸 `fl` 변수는 있지만 연료 가격을 나타낸 변수는 없습니다. 위에서 만든 `fuel` 데이터를 이용해서 `mpg` 데이터에 `price_fl`(연료 가격) 변수를 추가하세요.\n",
    "```{r}\n",
    "mpg <- as.data.frame(ggplot2::mpg)      # mpg 데이터 불러오기\n",
    "mpg <- left_join(mpg, fuel, by = \"fl\")  # mpg에 연료 가격 변수 추가\n",
    "```\n",
    "\n",
    "\n",
    "\n",
    "Q2. 연료 가격 변수가 잘 추가됐는지 확인하기 위해서 `model`, `fl`, `price_fl` 변수를 추출해 앞부분 5행을 출력해 보세요.\n",
    "```{r}\n",
    "mpg %>%\n",
    "  select(model, fl, price_fl) %>%       # model, fl, price_fl 추출\n",
    "  head(5)     \n",
    "```\n",
    "\n",
    "\n",
    "\n",
    "### 정리하기\n",
    "\n",
    "```{r, eval=F}\n",
    "# 1.조건에 맞는 데이터만 추출하기\n",
    "exam %>% filter(english >= 80)\n",
    "\n",
    "# 여러 조건 동시 충족\n",
    "exam %>% filter(class == 1 & math >= 50)\n",
    "\n",
    "# 여러 조건 중 하나 이상 충족\n",
    "exam %>% filter(math >= 90 | english >= 90)\n",
    "exam %>% filter(class %in% c(1,3,5))\n",
    "\n",
    "\n",
    "# 2.필요한 변수만 추출하기\n",
    "exam %>% select(math)\n",
    "exam %>% select(class, math, english)\n",
    "\n",
    "\n",
    "# 3.함수 조합하기, 일부만 출력하기\n",
    "exam %>%\n",
    "  select(id, math) %>%\n",
    "  head(10)\n",
    "\n",
    "```\n",
    "\n",
    "\n",
    "\n",
    "```{r, eval=F}\n",
    "# 4.순서대로 정렬하기\n",
    "exam %>% arrange(math)         # 오름차순 정렬\n",
    "exam %>% arrange(desc(math))   # 내림차순 정렬\n",
    "exam %>% arrange(class, math)  # 여러 변수 기준 오름차순 정렬\n",
    "\n",
    "# 5.파생변수 추가하기\n",
    "exam %>% mutate(total = math + english + science)\n",
    "\n",
    "# 여러 파생변수 한 번에 추가하기\n",
    "exam %>%\n",
    "  mutate(total = math + english + science,\n",
    "         mean = (math + english + science)/3)\n",
    "\n",
    "# mutate()에 ifelse() 적용하기\n",
    "exam %>% mutate(test = ifelse(science >= 60, \"pass\", \"fail\"))\n",
    "\n",
    "# 추가한 변수를 dplyr 코드에 바로 활용하기\n",
    "exam %>%\n",
    "  mutate(total = math + english + science) %>%\n",
    "  arrange(total)\n",
    "```\n",
    "\n",
    "\n",
    "\n",
    "```{r, eval=F}\n",
    "# 6.집단별로 요약하기\n",
    "exam %>%\n",
    "  group_by(class) %>%\n",
    "  summarise(mean_math = mean(math))\n",
    "\n",
    "# 각 집단별로 다시 집단 나누기\n",
    "mpg %>%\n",
    "  group_by(manufacturer, drv) %>%\n",
    "  summarise(mean_cty = mean(cty))\n",
    "\n",
    "\n",
    "# 7.데이터 합치기\n",
    "# 가로로 합치기\n",
    "total <- left_join(test1, test2, by = \"id\")\n",
    "\n",
    "# 세로로 합치기\n",
    "group_all <- bind_rows(group_a, group_b)\n",
    "```\n",
    "\n",
    "\n",
    "\n",
    "\n",
    "### 분석 도전\n",
    "\n",
    "미국 동북중부 437개 지역의 인구통계 정보를 담고 있는 `midwest` 데이터를 사용해 데이터 분석 문제를 해결해 보세요. `midwest`는 `ggplot2` 패키지에 들어 있습니다.\n",
    "\n",
    "- 문제1. `popadults`는 해당 지역의 성인 인구, `poptotal`은 전체 인구를 나타냅니다. `midwest` 데이터에 '전체 인구 대비 미성년 인구 백분율' 변수를 추가하세요.\n",
    "```{r}\n",
    "midwest <- ggplot2::midwest\n",
    "midwest <- midwest %>% \n",
    "              mutate(percent = ((poptotal-popadults)/poptotal)*100)\n",
    "```\n",
    "\n",
    "\n",
    "- 문제2. 미성년 인구 백분율이 가장 높은 상위 5개 `county`(지역)의 미성년 인구 백분율을 출력하세요.\n",
    "```{r}\n",
    "midwest %>% \n",
    "  arrange(desc(percent)) %>% \n",
    "  select(county, percent) %>% \n",
    "  head(5)\n",
    "```\n",
    "\n",
    "\n",
    "- 문제3. 분류표의 기준에 따라 미성년 비율 등급 변수를 추가하고, 각 등급에 몇 개의 지역이 있는지 알아보세요.\n",
    "\n",
    "분류  |기준\n",
    "------|----\n",
    "large |40% 이상\n",
    "middle|30% ~ 40% 미만\n",
    "small |30% 미만\n",
    "```{r}\n",
    "midwest %>% \n",
    "  mutate(level = ifelse(percent >= 40, \"large\",\n",
    "                        ifelse(percent >= 30, \"middle\", \"small\"))) %>% \n",
    "  group_by(level) %>% \n",
    "  summarise(count = n())\n",
    "```\n",
    "\n",
    "\n",
    "- 문제4. `popasian`은 해당 지역의 아시아인 인구를 나타냅니다. '전체 인구 대비 아시아인 인구 백분율' 변수를 추가하고, 하위 10개 지역의 `state`(주), `county`(지역명), 아시아인 인구 백분율을 출력하세요.\n",
    "```{r}\n",
    "midwest %>% \n",
    "  mutate(asian_percent = (popasian/poptotal) * 100) %>% \n",
    "  arrange(asian_percent) %>% \n",
    "  select(state, county, asian_percent)\n",
    "```\n",
    "\n",
    "\n",
    "\n",
    "### 정답\n",
    "\n",
    "문제1. `popadults`는 해당 지역의 성인 인구, `poptotal`은 전체 인구를 나타냅니다. `midwest` 데이터에 '전체 인구 대비 미성년 인구 백분율' 변수를 추가하세요.\n",
    "```{r}\n",
    "# midwest 불러오기\n",
    "midwest <- as.data.frame(ggplot2::midwest)\n",
    "\n",
    "# midwest에 백분율 변수 추가\n",
    "midwest <- midwest %>%\n",
    "  mutate(ratio_child = (poptotal-popadults)/poptotal*100)\n",
    "```\n",
    "\n",
    "\n",
    "\n",
    "문제2. 미성년 인구 백분율이 가장 높은 상위 5개 `county`(지역)의 미성년 인구 백분율을 출력하세요.\n",
    "```{r}\n",
    "midwest %>%\n",
    "  arrange(desc(ratio_child)) %>%   # ratio_child 내림차순 정렬\n",
    "  select(county, ratio_child) %>%  # county, ratio_child 추출\n",
    "  head(5)                          # 상위 5행 출력\n",
    "```\n",
    "\n",
    "\n",
    "\n",
    "문제3. 분류표의 기준에 따라 미성년 비율 등급 변수를 추가하고, 각 등급에 몇 개의 지역이 있는지 알아보세요.\n",
    "```{r}\n",
    "# midwest에 grade 변수 추가\n",
    "midwest <- midwest %>%\n",
    "  mutate(grade = ifelse(ratio_child >= 40, \"large\",\n",
    "                        ifelse(ratio_child >= 30, \"middle\", \"small\")))\n",
    "  \n",
    "# 미성년 비율 등급 빈도표\n",
    "table(midwest$grade)  \n",
    "```\n",
    "\n",
    "\n",
    "\n",
    "문제4. `popasian`은 해당 지역의 아시아인 인구를 나타냅니다. '전체 인구 대비 아시아인 인구 백분율' 변수를 추가하고, 하위 10개 지역의 `state`(주), `county`(지역명), 아시아인 인구 백분율을 출력하세요.\n",
    "```{r}\n",
    "midwest %>%\n",
    "  mutate(ratio_asian = (popasian/poptotal)*100) %>%  # 백분율 변수 추가\n",
    "  arrange(ratio_asian) %>%                           # 내림차순 정렬\n",
    "  select(state, county, ratio_asian) %>%             # 변수 추출\n",
    "  head(10)                                           # 상위 10행 출력 \n",
    "```"
   ]
  }
 ],
 "metadata": {
  "kernelspec": {
   "display_name": "R",
   "language": "R",
   "name": "ir"
  },
  "language_info": {
   "codemirror_mode": "r",
   "file_extension": ".r",
   "mimetype": "text/x-r-source",
   "name": "R",
   "pygments_lexer": "r",
   "version": "3.5.1"
  }
 },
 "nbformat": 4,
 "nbformat_minor": 2
}
